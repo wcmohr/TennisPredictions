{
 "cells": [
  {
   "cell_type": "markdown",
   "id": "ee36794d-7a06-4442-a62d-a1f2a685cc16",
   "metadata": {
    "jp-MarkdownHeadingCollapsed": true,
    "tags": []
   },
   "source": [
    "[elo-from-scratch-source-Matt_Mazzola](https://mattmazzola.medium.com/implementing-the-elo-rating-system-a085f178e065)"
   ]
  },
  {
   "cell_type": "code",
   "execution_count": null,
   "id": "f9f9d964-23d1-4091-988b-0617172174b7",
   "metadata": {},
   "outputs": [],
   "source": []
  }
 ],
 "metadata": {
  "kernelspec": {
   "display_name": "Python 3 (ipykernel)",
   "language": "python",
   "name": "python3"
  },
  "language_info": {
   "codemirror_mode": {
    "name": "ipython",
    "version": 3
   },
   "file_extension": ".py",
   "mimetype": "text/x-python",
   "name": "python",
   "nbconvert_exporter": "python",
   "pygments_lexer": "ipython3",
   "version": "3.9.13"
  }
 },
 "nbformat": 4,
 "nbformat_minor": 5
}
