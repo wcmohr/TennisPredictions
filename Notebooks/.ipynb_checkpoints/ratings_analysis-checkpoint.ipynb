{
 "cells": [
  {
   "cell_type": "code",
   "execution_count": 13,
   "id": "cf4b92fa-d27b-47e2-b481-ee6467d87a22",
   "metadata": {},
   "outputs": [],
   "source": [
    "import pandas as pd\n",
    "from functions import epoch, epochs, cutDf\n",
    "from datetime import datetime, timedelta\n",
    "import sys\n",
    "import numpy as np\n",
    "sys.path.append('..')\n",
    "from pyglicko2.glicko2_tests import exampleCase\n",
    "from pyglicko2.glicko2 import Player\n",
    "import glicko2\n"
   ]
  },
  {
   "cell_type": "code",
   "execution_count": 2,
   "id": "b2967aa4-0a53-4720-9eee-272a296b5dd1",
   "metadata": {},
   "outputs": [],
   "source": [
    "matches = pd.read_csv('../Data/matches_glicko2.csv')"
   ]
  },
  {
   "cell_type": "code",
   "execution_count": 3,
   "id": "c6334c00-ddf9-4e36-ad6a-349462753801",
   "metadata": {
    "tags": []
   },
   "outputs": [],
   "source": [
    "matches['tourney_date'] = matches['tourney_date'].apply(\n",
    "    lambda x: pd.to_datetime(str(x), format='%Y%m%d')) # convert the tourney_date to datetime"
   ]
  },
  {
   "cell_type": "code",
   "execution_count": 8,
   "id": "89725139-d8b1-4301-8b8d-791aa39d999a",
   "metadata": {},
   "outputs": [
    {
     "data": {
      "text/plain": [
       "6"
      ]
     },
     "execution_count": 8,
     "metadata": {},
     "output_type": "execute_result"
    }
   ],
   "source": [
    "np.sum([1,2,3])"
   ]
  },
  {
   "cell_type": "code",
   "execution_count": 15,
   "id": "70c3b83b-5a93-41c1-a4ca-6550cf2ea387",
   "metadata": {},
   "outputs": [
    {
     "ename": "NameError",
     "evalue": "name 'np' is not defined",
     "output_type": "error",
     "traceback": [
      "\u001b[0;31m---------------------------------------------------------------------------\u001b[0m",
      "\u001b[0;31mNameError\u001b[0m                                 Traceback (most recent call last)",
      "\u001b[0;32m/var/folders/7q/63cgxnn50sl5zwxkchv_j2cr0000gn/T/ipykernel_1564/3374066415.py\u001b[0m in \u001b[0;36m<module>\u001b[0;34m\u001b[0m\n\u001b[0;32m----> 1\u001b[0;31m \u001b[0mepoch\u001b[0m\u001b[0;34m(\u001b[0m\u001b[0mmatches\u001b[0m\u001b[0;34m,\u001b[0m\u001b[0;34m{\u001b[0m\u001b[0;34m}\u001b[0m\u001b[0;34m)\u001b[0m\u001b[0;34m\u001b[0m\u001b[0;34m\u001b[0m\u001b[0m\n\u001b[0m",
      "\u001b[0;32m~/dsir/capstone/Notebooks/functions.py\u001b[0m in \u001b[0;36mepoch\u001b[0;34m(matches, players_dict)\u001b[0m\n\u001b[1;32m     11\u001b[0m     \u001b[0mFuture\u001b[0m \u001b[0miterations\u001b[0m \u001b[0mof\u001b[0m \u001b[0mthis\u001b[0m \u001b[0mfunction\u001b[0m \u001b[0mshould\u001b[0m \u001b[0mdo\u001b[0m \u001b[0maway\u001b[0m \u001b[0;32mwith\u001b[0m \u001b[0mthe\u001b[0m \u001b[0mp_\u001b[0m \u001b[0;34m,\u001b[0m \u001b[0;32mand\u001b[0m \u001b[0monly\u001b[0m \u001b[0mshould\u001b[0m \u001b[0mneed\u001b[0m \u001b[0mthe\u001b[0m\u001b[0;34m\u001b[0m\u001b[0;34m\u001b[0m\u001b[0m\n\u001b[1;32m     12\u001b[0m     \u001b[0mplayers_dict\u001b[0m \u001b[0;32mwith\u001b[0m \u001b[0mthe\u001b[0m \u001b[0mkeys\u001b[0m \u001b[0;32mas\u001b[0m \u001b[0mintegers\u001b[0m \u001b[0mindicating\u001b[0m \u001b[0mthe\u001b[0m \u001b[0mplayer\u001b[0m \u001b[0mid\u001b[0m\u001b[0;34m.\u001b[0m\u001b[0;34m\u001b[0m\u001b[0;34m\u001b[0m\u001b[0m\n\u001b[0;32m---> 13\u001b[0;31m     '''\n\u001b[0m\u001b[1;32m     14\u001b[0m     \u001b[0mplayers_list\u001b[0m \u001b[0;34m=\u001b[0m \u001b[0mlist\u001b[0m\u001b[0;34m(\u001b[0m\u001b[0mplayers_dict\u001b[0m\u001b[0;34m.\u001b[0m\u001b[0mkeys\u001b[0m\u001b[0;34m(\u001b[0m\u001b[0;34m)\u001b[0m\u001b[0;34m)\u001b[0m\u001b[0;34m\u001b[0m\u001b[0;34m\u001b[0m\u001b[0m\n\u001b[1;32m     15\u001b[0m     players = [p for p in np.append(matches['winner_id'].unique(),\\\n",
      "\u001b[0;31mNameError\u001b[0m: name 'np' is not defined"
     ]
    }
   ],
   "source": [
    "epoch(matches,{})"
   ]
  },
  {
   "cell_type": "code",
   "execution_count": 4,
   "id": "1441c8d2-ca95-4b41-8403-4164d27554e8",
   "metadata": {},
   "outputs": [
    {
     "data": {
      "text/plain": [
       "[(1, 2), (2, 3), (3, 4)]"
      ]
     },
     "execution_count": 4,
     "metadata": {},
     "output_type": "execute_result"
    }
   ],
   "source": [
    "[x for x in zip([1,2,3],[2,3,4])]"
   ]
  },
  {
   "cell_type": "code",
   "execution_count": 5,
   "id": "3c0db333-ae3b-4ce2-9b62-b6e28b89b30f",
   "metadata": {},
   "outputs": [],
   "source": [
    "def epochs(match_history, interval_length = 365):\n",
    "    '''Calculate the ending rating for each player with the lengh of each epoch being\n",
    "    a funtion of the interval_length\n",
    "    \n",
    "    Next iterations: generate a rating history indicating the rating of each player each time that\n",
    "    the rating updates.\n",
    "    '''\n",
    "    # check if the match_history is empty, as if it is the function call will not complete.\n",
    "    if match_history.empty:\n",
    "        return \"Try again with a non-empty match history!\"\n",
    "    max_date = max(match_history['tourney_date']) # maximum date in the records\n",
    "    min_date = min(match_history['tourney_date']) # minimum date in the records\n",
    "    date_range = range(0,(max_date-min_date).days + 1,interval_length) # days from date of first\n",
    "    # match in increments of the interval (default 365).  This is the length of each epoch. \n",
    "    epoch_cutoffs = [min_date + timedelta(days = x) for x in date_range] # The times that\n",
    "    # divide the matches into each epoch.\n",
    "    epoch_ranges = zip(epoch_cutoffs[0:-2],epoch_cutoffs[1:-1]) # each epoch will include matches\n",
    "    # greater than or equal to the first element, less than the second element for the zip\n",
    "    # generator's respective item.\n",
    "    print([r for r in epoch_ranges])\n",
    "    players_dict = {} # instantiate the dictionary that will hold a Player() class for each player.\n",
    "\n",
    "    # iteratively re-update for each epoch\n",
    "    for period in epoch_ranges:\n",
    "        # rating_ period is the df of matches that fall within a given epoch\n",
    "        rating_period = match_history[(match_history['tourney_date']>=period[0])&(match_history['tourney_date']<period[1])]\n",
    "        # If the rating period is empty, then adjust the rating deviation of the players.\n",
    "        if not rating_period.empty:\n",
    "            players_dict = epoch(rating_period,players_dict)\n",
    "        else:\n",
    "            for player in players_dict:\n",
    "                players_dict[player].did_not_compete()\n",
    "    # get the final rating period updates (for matches in the final 365 to 729 days).\n",
    "    rating_period = match_history[match_history['tourney_date']>=epoch_cutoffs[-1]]\n",
    "    players_dict = epoch(rating_period,players_dict)\n",
    "    return players_dict"
   ]
  },
  {
   "cell_type": "code",
   "execution_count": 6,
   "id": "10e3f908-7ad8-48b2-ad13-7c191039afd4",
   "metadata": {},
   "outputs": [
    {
     "data": {
      "text/plain": [
       "pandas._libs.tslibs.timestamps.Timestamp"
      ]
     },
     "execution_count": 6,
     "metadata": {},
     "output_type": "execute_result"
    }
   ],
   "source": [
    "type(matches['tourney_date'][0])"
   ]
  },
  {
   "cell_type": "code",
   "execution_count": 11,
   "id": "0ee45ede-cd9c-4e90-b97d-b5091f5dcf4b",
   "metadata": {},
   "outputs": [
    {
     "ename": "NameError",
     "evalue": "name 'np' is not defined",
     "output_type": "error",
     "traceback": [
      "\u001b[0;31m---------------------------------------------------------------------------\u001b[0m",
      "\u001b[0;31mNameError\u001b[0m                                 Traceback (most recent call last)",
      "\u001b[0;32m/var/folders/7q/63cgxnn50sl5zwxkchv_j2cr0000gn/T/ipykernel_1564/1981644859.py\u001b[0m in \u001b[0;36m<module>\u001b[0;34m\u001b[0m\n\u001b[0;32m----> 1\u001b[0;31m \u001b[0mepoch\u001b[0m\u001b[0;34m(\u001b[0m\u001b[0mmatches\u001b[0m\u001b[0;34m[\u001b[0m\u001b[0mmatches\u001b[0m\u001b[0;34m[\u001b[0m\u001b[0;34m'tourney_date'\u001b[0m\u001b[0;34m]\u001b[0m \u001b[0;34m<=\u001b[0m \u001b[0;34m\"1879-07-09\"\u001b[0m\u001b[0;34m]\u001b[0m\u001b[0;34m,\u001b[0m\u001b[0;34m{\u001b[0m\u001b[0;34m}\u001b[0m\u001b[0;34m)\u001b[0m\u001b[0;34m\u001b[0m\u001b[0;34m\u001b[0m\u001b[0m\n\u001b[0m",
      "\u001b[0;32m~/dsir/capstone/Notebooks/functions.py\u001b[0m in \u001b[0;36mepoch\u001b[0;34m(matches, players_dict)\u001b[0m\n\u001b[1;32m     11\u001b[0m     \u001b[0mFuture\u001b[0m \u001b[0miterations\u001b[0m \u001b[0mof\u001b[0m \u001b[0mthis\u001b[0m \u001b[0mfunction\u001b[0m \u001b[0mshould\u001b[0m \u001b[0mdo\u001b[0m \u001b[0maway\u001b[0m \u001b[0;32mwith\u001b[0m \u001b[0mthe\u001b[0m \u001b[0mp_\u001b[0m \u001b[0;34m,\u001b[0m \u001b[0;32mand\u001b[0m \u001b[0monly\u001b[0m \u001b[0mshould\u001b[0m \u001b[0mneed\u001b[0m \u001b[0mthe\u001b[0m\u001b[0;34m\u001b[0m\u001b[0;34m\u001b[0m\u001b[0m\n\u001b[1;32m     12\u001b[0m     \u001b[0mplayers_dict\u001b[0m \u001b[0;32mwith\u001b[0m \u001b[0mthe\u001b[0m \u001b[0mkeys\u001b[0m \u001b[0;32mas\u001b[0m \u001b[0mintegers\u001b[0m \u001b[0mindicating\u001b[0m \u001b[0mthe\u001b[0m \u001b[0mplayer\u001b[0m \u001b[0mid\u001b[0m\u001b[0;34m.\u001b[0m\u001b[0;34m\u001b[0m\u001b[0;34m\u001b[0m\u001b[0m\n\u001b[0;32m---> 13\u001b[0;31m     '''\n\u001b[0m\u001b[1;32m     14\u001b[0m     \u001b[0mplayers_list\u001b[0m \u001b[0;34m=\u001b[0m \u001b[0mlist\u001b[0m\u001b[0;34m(\u001b[0m\u001b[0mplayers_dict\u001b[0m\u001b[0;34m.\u001b[0m\u001b[0mkeys\u001b[0m\u001b[0;34m(\u001b[0m\u001b[0;34m)\u001b[0m\u001b[0;34m)\u001b[0m\u001b[0;34m\u001b[0m\u001b[0;34m\u001b[0m\u001b[0m\n\u001b[1;32m     15\u001b[0m     players = [p for p in np.append(matches['winner_id'].unique(),\\\n",
      "\u001b[0;31mNameError\u001b[0m: name 'np' is not defined"
     ]
    }
   ],
   "source": [
    "epoch(matches[matches['tourney_date'] <= \"1879-07-09\"],{})"
   ]
  },
  {
   "cell_type": "code",
   "execution_count": null,
   "id": "75610bf4-c79e-4cc4-bbd4-b43171fdb25e",
   "metadata": {},
   "outputs": [],
   "source": [
    "matches[matches['tourney_date'] <= \"1879-07-09\"]"
   ]
  },
  {
   "cell_type": "code",
   "execution_count": null,
   "id": "a85ee25a-927b-406e-8bad-b8cf9627d29a",
   "metadata": {},
   "outputs": [],
   "source": []
  }
 ],
 "metadata": {
  "kernelspec": {
   "display_name": "Python 3 (ipykernel)",
   "language": "python",
   "name": "python3"
  },
  "language_info": {
   "codemirror_mode": {
    "name": "ipython",
    "version": 3
   },
   "file_extension": ".py",
   "mimetype": "text/x-python",
   "name": "python",
   "nbconvert_exporter": "python",
   "pygments_lexer": "ipython3",
   "version": "3.9.13"
  }
 },
 "nbformat": 4,
 "nbformat_minor": 5
}
