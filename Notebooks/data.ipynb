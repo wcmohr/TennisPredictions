{
 "cells": [
  {
   "cell_type": "markdown",
   "id": "c21f4a58-767c-4b09-baf5-fe65e18d998d",
   "metadata": {},
   "source": [
    "###### Imports"
   ]
  },
  {
   "cell_type": "code",
   "execution_count": 1,
   "id": "d6622edb-0f32-47a8-baa9-ea67b42d21b2",
   "metadata": {
    "tags": []
   },
   "outputs": [],
   "source": [
    "import time\n",
    "from datetime import datetime, timedelta\n",
    "import pandas as pd\n",
    "import glob\n",
    "import sys\n",
    "import numpy as np\n",
    "sys.path.append('..')\n",
    "from pyglicko2.glicko2_tests import exampleCase\n",
    "from pyglicko2.glicko2 import Player\n",
    "import glicko2"
   ]
  },
  {
   "cell_type": "markdown",
   "id": "eb53e13f-d7ed-4632-8233-787db2d6c28c",
   "metadata": {},
   "source": [
    "[data source](<a rel=\"license\" href=\"http://creativecommons.org/licenses/by-nc-sa/4.0/\"><img alt=\"Creative Commons License\" style=\"border-width:0\" src=\"https://i.creativecommons.org/l/by-nc-sa/4.0/88x31.png\" /></a><br /><span xmlns:dct=\"http://purl.org/dc/terms/\" href=\"http://purl.org/dc/dcmitype/Dataset\" property=\"dct:title\" rel=\"dct:type\">Tennis databases, files, and algorithms</span> by <a xmlns:cc=\"http://creativecommons.org/ns#\" href=\"http://www.tennisabstract.com/\" property=\"cc:attributionName\" rel=\"cc:attributionURL\">Jeff Sackmann / Tennis Abstract</a> is licensed under a <a rel=\"license\" href=\"http://creativecommons.org/licenses/by-nc-sa/4.0/\">Creative Commons Attribution-NonCommercial-ShareAlike 4.0 International License</a>.<br />Based on a work at <a xmlns:dct=\"http://purl.org/dc/terms/\" href=\"https://github.com/JeffSackmann\" rel=\"dct:source\">https://github.com/JeffSackmann</a>)"
   ]
  },
  {
   "cell_type": "markdown",
   "id": "6a774b3b-d3b8-4614-8af3-3933c4a4fab6",
   "metadata": {},
   "source": [
    "Since the data license is non-commercial, this is a proof-of-concept project and cannot be immediately applied to commercial use."
   ]
  },
  {
   "cell_type": "code",
   "execution_count": 149,
   "id": "8b035db5-2d2f-4f6f-8fa7-907064121b1a",
   "metadata": {
    "tags": []
   },
   "outputs": [
    {
     "name": "stderr",
     "output_type": "stream",
     "text": [
      "/var/folders/7q/63cgxnn50sl5zwxkchv_j2cr0000gn/T/ipykernel_8779/3051551006.py:16: DtypeWarning: Columns (3) have mixed types. Specify dtype option on import or set low_memory=False.\n",
      "  singles_matches_df = pd.concat((pd.read_csv(f) for f in singles_matches), ignore_index=True)\n",
      "/var/folders/7q/63cgxnn50sl5zwxkchv_j2cr0000gn/T/ipykernel_8779/3051551006.py:24: DtypeWarning: Columns (3) have mixed types. Specify dtype option on import or set low_memory=False.\n",
      "  matches_amateur_df = pd.read_csv(matches_amateur[0])\n"
     ]
    }
   ],
   "source": [
    "# read in data\n",
    "atp_matches = glob.glob('../tennis_atp/atp_matches*.csv')\n",
    "\n",
    "# separate out by match category\n",
    "matches_tour = [file for file in atp_matches if \n",
    "                       len(file) == len('../tennis_atp/atp_matches_2019.csv')]\n",
    "matches_qual_chall = glob.glob('../tennis_atp/atp_matches_qual_chall_*.csv')\n",
    "matches_futures = glob.glob('../tennis_atp/atp_matches_futures_*.csv')\n",
    "rankings = glob.glob('../tennis_atp/atp_rankings_*.csv')\n",
    "players = glob.glob('../tennis_atp/atp_players.csv')\n",
    "matches_amateur = glob.glob('../tennis_atp/atp_matches_amateur.csv')\n",
    "\n",
    "# singles matches file list\n",
    "singles_matches = matches_qual_chall + matches_futures + matches_tour + matches_amateur\n",
    "# Combined DataFrames\n",
    "singles_matches_df = pd.concat((pd.read_csv(f) for f in singles_matches), ignore_index=True)\n",
    "matches_glicko2 = singles_matches_df[['tourney_date','winner_id','loser_id','tourney_id']]\n",
    "# Separate Dataframes\n",
    "players_df = pd.read_csv(players[0]) \n",
    "rankings_df = pd.concat((pd.read_csv(ranks) for ranks in rankings))\n",
    "matches_qual_chall_df = pd.concat((pd.read_csv(matches) for matches in matches_qual_chall))\n",
    "matches_futures_df = pd.concat((pd.read_csv(matches) for matches in matches_futures))\n",
    "matches_tour_df = pd.concat((pd.read_csv(matches) for matches in matches_tour))\n",
    "matches_amateur_df = pd.read_csv(matches_amateur[0])"
   ]
  },
  {
   "cell_type": "markdown",
   "id": "1530bf56-c1e0-4542-830a-cc9b78e3a119",
   "metadata": {},
   "source": [
    "Date formatting [source]('https://stackoverflow.com/questions/9750330/how-to-convert-integer-into-date-object-python')"
   ]
  },
  {
   "cell_type": "code",
   "execution_count": 152,
   "id": "a4a7fd33-5030-43b5-a523-85c6c9f6429b",
   "metadata": {
    "collapsed": true,
    "jupyter": {
     "outputs_hidden": true
    },
    "tags": []
   },
   "outputs": [
    {
     "name": "stderr",
     "output_type": "stream",
     "text": [
      "/var/folders/7q/63cgxnn50sl5zwxkchv_j2cr0000gn/T/ipykernel_8779/2062871912.py:1: SettingWithCopyWarning: \n",
      "A value is trying to be set on a copy of a slice from a DataFrame.\n",
      "Try using .loc[row_indexer,col_indexer] = value instead\n",
      "\n",
      "See the caveats in the documentation: https://pandas.pydata.org/pandas-docs/stable/user_guide/indexing.html#returning-a-view-versus-a-copy\n",
      "  matches_glicko2['tourney_date'] = matches_glicko2['tourney_date'].apply(lambda x: pd.to_datetime(str(x), format='%Y%m%d'))\n"
     ]
    }
   ],
   "source": [
    "matches_glicko2['tourney_date'] = matches_glicko2['tourney_date'].apply(lambda x: pd.to_datetime(str(x), format='%Y%m%d'))"
   ]
  },
  {
   "cell_type": "code",
   "execution_count": 162,
   "id": "c9d10dc6-6f78-494d-b5fa-68800ee5eacb",
   "metadata": {},
   "outputs": [
    {
     "name": "stderr",
     "output_type": "stream",
     "text": [
      "/var/folders/7q/63cgxnn50sl5zwxkchv_j2cr0000gn/T/ipykernel_8779/4114524296.py:1: SettingWithCopyWarning: \n",
      "A value is trying to be set on a copy of a slice from a DataFrame\n",
      "\n",
      "See the caveats in the documentation: https://pandas.pydata.org/pandas-docs/stable/user_guide/indexing.html#returning-a-view-versus-a-copy\n",
      "  matches_glicko2.sort_values(by = 'tourney_date', inplace = True)\n"
     ]
    }
   ],
   "source": [
    "matches_glicko2.sort_values(by = 'tourney_date', inplace = True)"
   ]
  },
  {
   "cell_type": "markdown",
   "id": "e4adcc28-46f7-41a8-84eb-f84f24956d86",
   "metadata": {},
   "source": [
    "All matches have a winner and loser id, which indicates that all the datapoints can be used for determining the elo ranking.  There is a good amount of standing rank data, suggesting that this data can be used for testing the relative strength of standard ranking vs elo rating in predicting outcomes."
   ]
  },
  {
   "cell_type": "markdown",
   "id": "4a3568d1-cd0c-4735-80b6-b098e09cf68c",
   "metadata": {},
   "source": [
    "Idea: map real rankings to expected elo"
   ]
  },
  {
   "cell_type": "code",
   "execution_count": 4,
   "id": "4bf41c68-39ea-4a00-a050-6d5f49821853",
   "metadata": {},
   "outputs": [],
   "source": [
    "def pct_nan(df):\n",
    "    '''take in a dataframe, compute the percentage of values that are not \n",
    "    missing for each column, and return as a series'''\n",
    "    pct_nan = pd.Series(df.shape[0] - df.isna().sum().values)/(df.shape[0])\n",
    "    pct_nan.index = df.isna().sum().index\n",
    "    return pct_nan.sort_values(ascending = False)"
   ]
  },
  {
   "cell_type": "code",
   "execution_count": 5,
   "id": "3208b31f-3446-4fc2-bc6f-f4d84e16535f",
   "metadata": {
    "tags": []
   },
   "outputs": [],
   "source": [
    "pct_nan(singles_matches_df);"
   ]
  },
  {
   "cell_type": "code",
   "execution_count": null,
   "id": "827ea42b-e949-47e2-ad0b-fad68d522d85",
   "metadata": {},
   "outputs": [],
   "source": [
    "players_to_instantiate = list(set(players) - set(players_list))"
   ]
  },
  {
   "cell_type": "code",
   "execution_count": 158,
   "id": "8950909a-cdfc-45b0-9009-48ceecc8b7d0",
   "metadata": {
    "tags": []
   },
   "outputs": [],
   "source": [
    "# concept for generating player ids as strings \n",
    "# [f'p_{str(player)}' for player in list(m_1900['loser_id'].values)]"
   ]
  },
  {
   "cell_type": "code",
   "execution_count": null,
   "id": "5dc72acb-fe6e-493a-82e3-f29bdf4cae28",
   "metadata": {},
   "outputs": [],
   "source": []
  },
  {
   "cell_type": "code",
   "execution_count": 157,
   "id": "c70cfdf5-d4c0-47e7-8f31-a91f8d543998",
   "metadata": {
    "tags": []
   },
   "outputs": [],
   "source": [
    "# concept for class instantiation\n",
    "# {player: Player() for player in [f'p_{str(player)}' for player in list(m_1900['loser_id'].values)]}\n"
   ]
  },
  {
   "cell_type": "code",
   "execution_count": 161,
   "id": "1c0b7947-714c-4f88-ba5b-d7e6e881f877",
   "metadata": {
    "tags": []
   },
   "outputs": [
    {
     "name": "stderr",
     "output_type": "stream",
     "text": [
      "/var/folders/7q/63cgxnn50sl5zwxkchv_j2cr0000gn/T/ipykernel_8779/4114524296.py:1: SettingWithCopyWarning: \n",
      "A value is trying to be set on a copy of a slice from a DataFrame\n",
      "\n",
      "See the caveats in the documentation: https://pandas.pydata.org/pandas-docs/stable/user_guide/indexing.html#returning-a-view-versus-a-copy\n",
      "  matches_glicko2.sort_values(by = 'tourney_date', inplace = True)\n"
     ]
    }
   ],
   "source": []
  },
  {
   "cell_type": "code",
   "execution_count": 92,
   "id": "9d5abf47-355f-4409-b35f-0cb678e019bf",
   "metadata": {},
   "outputs": [],
   "source": [
    "def epoch(matches, players_list, players_dict):\n",
    "    '''Take in a dataframe with matches, a list of players, a dictionary of players with the elements\n",
    "    of player list as keys and an instance of the glicko2 class Player() as the value.\n",
    "    This function wll return the updated players_list and players_dict.\n",
    "    \n",
    "    Future iterations of this function should do away with the p_ , and only should need the \n",
    "    players_dict with the keys as integers indicating the player id.\n",
    "    '''\n",
    "\n",
    "    players = ['p_' + str(p) for p in np.append(matches['winner_id'].unique(),\\\n",
    "                                                matches['loser_id'].unique())]\n",
    "    # instantiate player class for players not yet instantiated\n",
    "    players_to_instantiate = list(set(players) - set(players_list))\n",
    "    new_players = {player: Player() for player in players_to_instantiate}\n",
    "    # print(type(new_players))\n",
    "\n",
    "    # update list of instantiated players\n",
    "    players_list = list(set(players).union(set(players_list)))\n",
    "    # update dictionary of instantiated players\n",
    "    players_dict.update(new_players)\n",
    "    # print(type(players_dict))\n",
    "    # determine who competed and who didn't\n",
    "    players_dnc = list(set(players_list) - set(players))\n",
    "    players_compete = list(set(players_list)-set(players_dnc))\n",
    "    # print(f'{players_compete=}')\n",
    "    # update attributes for players who didn't compete\n",
    "    for player in players_dnc:\n",
    "        players_dict[player].did_not_compete()\n",
    "    # fill dictionary with (wins,losses), a tuple of list of opponents in wins and losses for each match\n",
    "    results = {}\n",
    "    for player in players_compete:\n",
    "        wins = ['p_' + str(winner) for winner in matches[matches['winner_id']==int(player[2:])]['loser_id']]\n",
    "        losses = ['p_' + str(winner) for winner in matches[matches['loser_id']==int(player[2:])]['winner_id']]\n",
    "        # get opponents' rating and rd\n",
    "        # print(f'{wins=}')\n",
    "        losses_rating = [players_dict[loss].getRating() for loss in losses ]\n",
    "        losses_rd = [players_dict[loss].getRd() for loss in losses ]\n",
    "        wins_rating = [players_dict[win].getRating() for win in wins ]\n",
    "        wins_rd = [players_dict[win].getRd() for win in wins ]\n",
    "        outcomes = np.append(np.ones(len(wins)),np.zeros(len(losses)))\n",
    "        opponent_rating = wins_rating + losses_rating\n",
    "        # print(f'{opponent_rating=}')\n",
    "        opponent_rd = wins_rd + losses_rd\n",
    "        results[player] = (opponent_rating, opponent_rd, outcomes)\n",
    "        \n",
    "    # update players\n",
    "    for player in list(results.keys()):\n",
    "        (rating_list, RD_list, outcome_list) = results[player]\n",
    "        # print(f'{rating_list=}, {RD_list=}, {outcome_list=}')\n",
    "        players_dict[player].update_player(rating_list, RD_list, outcome_list)\n",
    "\n",
    "    return (players_list,players_dict)\n",
    "    # opponent_indices = matches[matches['loser_id'].str==player '']"
   ]
  },
  {
   "cell_type": "code",
   "execution_count": 211,
   "id": "2d9909e5-aef1-49b0-a835-35c93574d5b2",
   "metadata": {},
   "outputs": [],
   "source": [
    "def epochs(match_history,interval_length):\n",
    "    max_date = max(match_history['tourney_date'])\n",
    "    min_date = min(match_history['tourney_date'])\n",
    "    date_range = range(0,(max_date-min_date).days + 1,365)\n",
    "    players_list = []\n",
    "    players_dict = {}\n",
    "    epoch_cutoffs = [min_date + timedelta(days = x) for x in date_range][1:]\n",
    "    # iteratively re-update for each epoch\n",
    "    for cutoff_date in epoch_cutoffs:\n",
    "        rating_period = match_history[match_history['tourney_date']<=cutoff_date]\n",
    "        (players_list,players_dict) = epoch(rating_period,players_list,players_dict)\n",
    "    return (players_list,players_dict)\n",
    "    "
   ]
  },
  {
   "cell_type": "code",
   "execution_count": 217,
   "id": "54579e15-33a3-4e09-98d8-9c23b238d7e3",
   "metadata": {},
   "outputs": [
    {
     "data": {
      "text/plain": [
       "852976"
      ]
     },
     "execution_count": 217,
     "metadata": {},
     "output_type": "execute_result"
    }
   ],
   "source": [
    "matches_glicko2.tourney_date.index[1000]"
   ]
  },
  {
   "cell_type": "code",
   "execution_count": 219,
   "id": "9ab7e1e0-873e-4c35-82bf-8ec0286f7e7b",
   "metadata": {
    "tags": []
   },
   "outputs": [
    {
     "data": {
      "text/html": [
       "<div>\n",
       "<style scoped>\n",
       "    .dataframe tbody tr th:only-of-type {\n",
       "        vertical-align: middle;\n",
       "    }\n",
       "\n",
       "    .dataframe tbody tr th {\n",
       "        vertical-align: top;\n",
       "    }\n",
       "\n",
       "    .dataframe thead th {\n",
       "        text-align: right;\n",
       "    }\n",
       "</style>\n",
       "<table border=\"1\" class=\"dataframe\">\n",
       "  <thead>\n",
       "    <tr style=\"text-align: right;\">\n",
       "      <th></th>\n",
       "      <th>tourney_date</th>\n",
       "      <th>winner_id</th>\n",
       "      <th>loser_id</th>\n",
       "      <th>tourney_id</th>\n",
       "    </tr>\n",
       "  </thead>\n",
       "  <tbody>\n",
       "    <tr>\n",
       "      <th>851995</th>\n",
       "      <td>1877-07-09</td>\n",
       "      <td>113987</td>\n",
       "      <td>114149</td>\n",
       "      <td>1877-540</td>\n",
       "    </tr>\n",
       "    <tr>\n",
       "      <th>851977</th>\n",
       "      <td>1877-07-09</td>\n",
       "      <td>113987</td>\n",
       "      <td>114009</td>\n",
       "      <td>1877-540</td>\n",
       "    </tr>\n",
       "    <tr>\n",
       "      <th>851978</th>\n",
       "      <td>1877-07-09</td>\n",
       "      <td>114146</td>\n",
       "      <td>113977</td>\n",
       "      <td>1877-540</td>\n",
       "    </tr>\n",
       "    <tr>\n",
       "      <th>851979</th>\n",
       "      <td>1877-07-09</td>\n",
       "      <td>114147</td>\n",
       "      <td>114148</td>\n",
       "      <td>1877-540</td>\n",
       "    </tr>\n",
       "    <tr>\n",
       "      <th>851980</th>\n",
       "      <td>1877-07-09</td>\n",
       "      <td>114149</td>\n",
       "      <td>114150</td>\n",
       "      <td>1877-540</td>\n",
       "    </tr>\n",
       "    <tr>\n",
       "      <th>...</th>\n",
       "      <td>...</td>\n",
       "      <td>...</td>\n",
       "      <td>...</td>\n",
       "      <td>...</td>\n",
       "    </tr>\n",
       "    <tr>\n",
       "      <th>852943</th>\n",
       "      <td>1893-07-10</td>\n",
       "      <td>114562</td>\n",
       "      <td>114307</td>\n",
       "      <td>1893-540</td>\n",
       "    </tr>\n",
       "    <tr>\n",
       "      <th>852944</th>\n",
       "      <td>1893-07-10</td>\n",
       "      <td>114562</td>\n",
       "      <td>114560</td>\n",
       "      <td>1893-540</td>\n",
       "    </tr>\n",
       "    <tr>\n",
       "      <th>852933</th>\n",
       "      <td>1893-07-10</td>\n",
       "      <td>114307</td>\n",
       "      <td>113992</td>\n",
       "      <td>1893-540</td>\n",
       "    </tr>\n",
       "    <tr>\n",
       "      <th>852939</th>\n",
       "      <td>1893-07-10</td>\n",
       "      <td>114307</td>\n",
       "      <td>114196</td>\n",
       "      <td>1893-540</td>\n",
       "    </tr>\n",
       "    <tr>\n",
       "      <th>852940</th>\n",
       "      <td>1893-07-10</td>\n",
       "      <td>114286</td>\n",
       "      <td>114297</td>\n",
       "      <td>1893-540</td>\n",
       "    </tr>\n",
       "  </tbody>\n",
       "</table>\n",
       "<p>968 rows × 4 columns</p>\n",
       "</div>"
      ],
      "text/plain": [
       "       tourney_date  winner_id  loser_id tourney_id\n",
       "851995   1877-07-09     113987    114149   1877-540\n",
       "851977   1877-07-09     113987    114009   1877-540\n",
       "851978   1877-07-09     114146    113977   1877-540\n",
       "851979   1877-07-09     114147    114148   1877-540\n",
       "851980   1877-07-09     114149    114150   1877-540\n",
       "...             ...        ...       ...        ...\n",
       "852943   1893-07-10     114562    114307   1893-540\n",
       "852944   1893-07-10     114562    114560   1893-540\n",
       "852933   1893-07-10     114307    113992   1893-540\n",
       "852939   1893-07-10     114307    114196   1893-540\n",
       "852940   1893-07-10     114286    114297   1893-540\n",
       "\n",
       "[968 rows x 4 columns]"
      ]
     },
     "execution_count": 219,
     "metadata": {},
     "output_type": "execute_result"
    }
   ],
   "source": [
    "matches_glicko2[matches_glicko2.tourney_date < \n",
    "                matches_glicko2.tourney_date\n",
    "                [matches_glicko2.tourney_date.index[1000]]]"
   ]
  },
  {
   "cell_type": "code",
   "execution_count": 244,
   "id": "ce485d66-fe40-48ae-b450-8067aa6fb476",
   "metadata": {},
   "outputs": [],
   "source": [
    "def cutDf(df,start,end,column):\n",
    "    return df[(df[column]>=df[column][df[column].index[start]])&\n",
    "              (df[column]<=df[column][df[column].index[end]])]\n"
   ]
  },
  {
   "cell_type": "code",
   "execution_count": 230,
   "id": "d296b3ab-45ee-4c47-b587-a224f8da2312",
   "metadata": {},
   "outputs": [
    {
     "data": {
      "text/plain": [
       "Timestamp('1893-08-22 00:00:00')"
      ]
     },
     "execution_count": 230,
     "metadata": {},
     "output_type": "execute_result"
    }
   ],
   "source": [
    "matches_glicko2['tourney_date'][matches_glicko2['tourney_date'].index[1000]]"
   ]
  },
  {
   "cell_type": "code",
   "execution_count": 230,
   "id": "86010288-849d-4921-8a92-b427d573ef44",
   "metadata": {},
   "outputs": [
    {
     "data": {
      "text/plain": [
       "Timestamp('1893-08-22 00:00:00')"
      ]
     },
     "execution_count": 230,
     "metadata": {},
     "output_type": "execute_result"
    }
   ],
   "source": [
    "matches_glicko2['tourney_date'][matches_glicko2['tourney_date'].index[1000]]"
   ]
  },
  {
   "cell_type": "code",
   "execution_count": null,
   "id": "609734b9-6c0b-4a39-a2dc-206682e72604",
   "metadata": {},
   "outputs": [],
   "source": [
    "epochs(cutDf(matches_glicko2,100,208,'tourney_date'),365)"
   ]
  },
  {
   "cell_type": "code",
   "execution_count": null,
   "id": "2d285cc3-a832-40d1-94b0-882bb92c72d3",
   "metadata": {},
   "outputs": [],
   "source": [
    "start = time.time()\n",
    "epochs(matches_glicko2[matches_glicko2.tourney_date<\n",
    "                matches_glicko2.tourney_date\n",
    "                [matches_glicko2.tourney_date.index[100]]],365)\n",
    "compute_time = time.time()-start\n",
    "print(compute_time)"
   ]
  },
  {
   "cell_type": "code",
   "execution_count": null,
   "id": "a9597b1d-d4e1-486f-8dcb-9909abb79143",
   "metadata": {},
   "outputs": [],
   "source": [
    "# 23 seconds for first 10_000 matches"
   ]
  },
  {
   "cell_type": "markdown",
   "id": "70883928-d1ae-4785-a41e-47d0a9fed135",
   "metadata": {},
   "source": [
    "The above will updating the ratings and rating deviations for all players "
   ]
  },
  {
   "cell_type": "code",
   "execution_count": null,
   "id": "28b82078-93ed-4cbf-9678-b3514098dda0",
   "metadata": {},
   "outputs": [],
   "source": []
  },
  {
   "cell_type": "code",
   "execution_count": null,
   "id": "b12fba57-9e5a-46c4-af5c-3f0391ceedc8",
   "metadata": {},
   "outputs": [],
   "source": [
    "list({'a':([1],[2],[1])}.keys())"
   ]
  },
  {
   "cell_type": "code",
   "execution_count": null,
   "id": "4fbec257-b82e-4196-85f0-3f6a3ef3968f",
   "metadata": {},
   "outputs": [],
   "source": []
  },
  {
   "cell_type": "code",
   "execution_count": 40,
   "id": "d5ed2b33-70ce-412c-8240-4180672580de",
   "metadata": {
    "tags": []
   },
   "outputs": [],
   "source": [
    "singles_matches_df = singles_matches_df.sort_values(by = 'tourney_date', ascending = True)\n",
    "\n",
    "m_1900 = singles_matches_df[singles_matches_df['tourney_date'] <= 19000709]\n",
    "\n",
    "example_epoch = m_1900\n",
    "# example_epoch\n",
    "\n",
    "# example_player = m_1900.loc[m_1900.index[0],'winner_id']\n",
    "# example_player = eval(f'p_{example_player}')"
   ]
  },
  {
   "cell_type": "code",
   "execution_count": 86,
   "id": "f3cbc75c-f27e-4029-97bb-dc395482171d",
   "metadata": {
    "tags": []
   },
   "outputs": [],
   "source": [
    "(updated_list,updated_dict) = epoch(m_1900,[],{})"
   ]
  },
  {
   "cell_type": "code",
   "execution_count": 91,
   "id": "88b6a53d-6c2a-490b-a49d-07f86e82a49f",
   "metadata": {},
   "outputs": [
    {
     "data": {
      "text/plain": [
       "290.31896467295957"
      ]
     },
     "execution_count": 91,
     "metadata": {},
     "output_type": "execute_result"
    }
   ],
   "source": [
    "updated_dict['p_116928'].getRd()"
   ]
  },
  {
   "cell_type": "code",
   "execution_count": null,
   "id": "47c69145-1294-49f2-9fbe-940a200de744",
   "metadata": {
    "tags": []
   },
   "outputs": [],
   "source": [
    "matches_glicko = singles_matches_df[['tourney_date','winner_id','loser_id']]"
   ]
  },
  {
   "cell_type": "code",
   "execution_count": null,
   "id": "41fdcfc5-e714-4ac4-adbd-f684c2b500f3",
   "metadata": {},
   "outputs": [],
   "source": []
  },
  {
   "cell_type": "code",
   "execution_count": null,
   "id": "cd5bdf5d-88b5-4fa8-a579-e94d08513839",
   "metadata": {},
   "outputs": [],
   "source": [
    "example_player.update_player()"
   ]
  },
  {
   "cell_type": "code",
   "execution_count": null,
   "id": "fc029243-09d4-4e59-b8aa-3af6be426db2",
   "metadata": {},
   "outputs": [],
   "source": [
    "epoch(matches, players_list)"
   ]
  },
  {
   "cell_type": "code",
   "execution_count": null,
   "id": "2c486aec-d0f9-4223-92b6-bd30e1fe1257",
   "metadata": {
    "tags": []
   },
   "outputs": [],
   "source": []
  },
  {
   "cell_type": "code",
   "execution_count": null,
   "id": "dff097da-0893-4fa2-b7a9-d1f917cd1ba8",
   "metadata": {
    "tags": []
   },
   "outputs": [],
   "source": [
    "player_ids"
   ]
  },
  {
   "cell_type": "code",
   "execution_count": null,
   "id": "ec611540-9a3c-42c5-a764-6f0c127ab240",
   "metadata": {},
   "outputs": [],
   "source": [
    "p_100051.update_player([0],[0],[0])"
   ]
  },
  {
   "cell_type": "code",
   "execution_count": null,
   "id": "8c645eaf-cee3-4aa2-847d-1ae8dbce7123",
   "metadata": {},
   "outputs": [],
   "source": [
    "p_100051.rating"
   ]
  },
  {
   "cell_type": "code",
   "execution_count": null,
   "id": "89beb66b-5689-459e-a258-d3c0e0f862e5",
   "metadata": {},
   "outputs": [],
   "source": [
    "p_100051.update_player([0],[0],[0])\n",
    "p_100051.rating"
   ]
  },
  {
   "cell_type": "code",
   "execution_count": null,
   "id": "930405e0-51e5-46cb-b703-069b080ac9fa",
   "metadata": {
    "collapsed": true,
    "jupyter": {
     "outputs_hidden": true
    }
   },
   "outputs": [],
   "source": []
  },
  {
   "cell_type": "code",
   "execution_count": null,
   "id": "3951a1e9-547b-4e8d-bd7c-72bc348c1474",
   "metadata": {},
   "outputs": [],
   "source": [
    "def resetPlayer(player):\n",
    "    exec(f'{player} = Player()')"
   ]
  },
  {
   "cell_type": "code",
   "execution_count": null,
   "id": "85968fd3-5e6b-409f-a07e-bdb4d3b5a8be",
   "metadata": {},
   "outputs": [],
   "source": [
    "resetPlayer('p_100051')"
   ]
  },
  {
   "cell_type": "code",
   "execution_count": null,
   "id": "dd881dc7-66c2-48b8-9b68-27b7c0c6bf5c",
   "metadata": {
    "tags": []
   },
   "outputs": [],
   "source": []
  },
  {
   "cell_type": "code",
   "execution_count": null,
   "id": "fb002ceb-b104-4f09-9626-fdeb7e1c7afd",
   "metadata": {},
   "outputs": [],
   "source": [
    "print(p_100051.rating)\n",
    "p_100051.update_player([0],[0],[0])\n",
    "print(p_100051.rating)\n",
    "resetPlayer('p_100051')\n",
    "print(p_100051.rating)\n",
    "p_100051 = Player()\n",
    "print(p_100051.rating)\n"
   ]
  },
  {
   "cell_type": "code",
   "execution_count": null,
   "id": "3676e4c2-0d95-4556-a672-5882b5f286d7",
   "metadata": {},
   "outputs": [],
   "source": [
    "ex"
   ]
  },
  {
   "cell_type": "code",
   "execution_count": null,
   "id": "d3cc385b-076f-4de8-8d7c-363082b6bf10",
   "metadata": {},
   "outputs": [],
   "source": [
    "p_100051.update_player([0],[0],[0])"
   ]
  },
  {
   "cell_type": "code",
   "execution_count": null,
   "id": "90f8792d-f519-4282-a895-c055cbdb2125",
   "metadata": {},
   "outputs": [],
   "source": [
    "p_100051 = Player()"
   ]
  },
  {
   "cell_type": "code",
   "execution_count": null,
   "id": "2ddfbae8-f280-4586-8944-9d33bc5175d3",
   "metadata": {},
   "outputs": [],
   "source": [
    "p_100051.rating"
   ]
  },
  {
   "cell_type": "code",
   "execution_count": null,
   "id": "bfa3a058-839f-41c0-a731-46c73e340586",
   "metadata": {},
   "outputs": [],
   "source": [
    "m_1900 = "
   ]
  },
  {
   "cell_type": "code",
   "execution_count": null,
   "id": "f653e9de-8617-478e-8da5-86fca37b68d1",
   "metadata": {},
   "outputs": [],
   "source": [
    "for player in "
   ]
  },
  {
   "cell_type": "code",
   "execution_count": null,
   "id": "e3568512-94e2-41e5-a542-a5f883654ee8",
   "metadata": {},
   "outputs": [],
   "source": [
    "def epoch()"
   ]
  },
  {
   "cell_type": "code",
   "execution_count": null,
   "id": "b76199fe-e2d8-40a2-8308-8eac0814b494",
   "metadata": {},
   "outputs": [],
   "source": [
    "for "
   ]
  },
  {
   "cell_type": "code",
   "execution_count": null,
   "id": "a0f6d264-a4bb-4ba0-9428-10cb8d1b0fb0",
   "metadata": {},
   "outputs": [],
   "source": [
    "player_ids[1]"
   ]
  },
  {
   "cell_type": "code",
   "execution_count": null,
   "id": "8052bc70-47f4-4275-a0be-08614976ca71",
   "metadata": {},
   "outputs": [],
   "source": [
    "np.unique()"
   ]
  },
  {
   "cell_type": "code",
   "execution_count": null,
   "id": "d05f5156-b10f-4694-94e6-022545918f7f",
   "metadata": {
    "collapsed": true,
    "jupyter": {
     "outputs_hidden": true
    }
   },
   "outputs": [],
   "source": []
  },
  {
   "cell_type": "code",
   "execution_count": null,
   "id": "9a445230-576a-4d12-9c27-4938ddf7c380",
   "metadata": {},
   "outputs": [],
   "source": [
    "player_class[len(player_ids)-3]"
   ]
  },
  {
   "cell_type": "code",
   "execution_count": null,
   "id": "cfaf23ed-2043-4029-a5b5-3940d382d418",
   "metadata": {},
   "outputs": [],
   "source": [
    "player_ids[0]"
   ]
  },
  {
   "cell_type": "code",
   "execution_count": null,
   "id": "00e20c67-30b3-48df-bbdd-bad9cf1a0887",
   "metadata": {},
   "outputs": [],
   "source": [
    "p_100001"
   ]
  },
  {
   "cell_type": "code",
   "execution_count": null,
   "id": "ee5f1ce6-353e-4d5c-8168-ba0a8a486b6f",
   "metadata": {
    "tags": []
   },
   "outputs": [],
   "source": [
    "players_rated = []\n",
    "for player in players_df['player_id'].unique():\n",
    "    exec(f'p_{player} = Player()')"
   ]
  },
  {
   "cell_type": "code",
   "execution_count": null,
   "id": "df55d253-b37b-48a4-a55b-d10e65774a94",
   "metadata": {
    "collapsed": true,
    "jupyter": {
     "outputs_hidden": true
    }
   },
   "outputs": [],
   "source": []
  },
  {
   "cell_type": "code",
   "execution_count": null,
   "id": "03727673-d9f3-444c-844d-44a63c53dbc7",
   "metadata": {},
   "outputs": [],
   "source": [
    "for player in players_df['player_id'].unique():\n",
    "    exec(f'p_{str(player)} = Player()')"
   ]
  },
  {
   "cell_type": "code",
   "execution_count": null,
   "id": "9b0634f4-5c27-4ee7-a86b-323cf566cbe9",
   "metadata": {},
   "outputs": [],
   "source": [
    "exec(f'p_{player} = Player()')"
   ]
  },
  {
   "cell_type": "code",
   "execution_count": null,
   "id": "8ead2df0-02e8-4ce0-a065-69b748c6873b",
   "metadata": {},
   "outputs": [],
   "source": [
    "players_df['player_id'].unique()"
   ]
  },
  {
   "cell_type": "code",
   "execution_count": null,
   "id": "44050f42-5597-44ce-8b77-d552ef1838e0",
   "metadata": {},
   "outputs": [],
   "source": [
    "players_rated"
   ]
  },
  {
   "cell_type": "code",
   "execution_count": null,
   "id": "192466b9-1331-45fe-ac00-c83e8ec9b2e2",
   "metadata": {
    "tags": []
   },
   "outputs": [],
   "source": [
    "pct_nan(singles_matches_df)[0:25]"
   ]
  },
  {
   "cell_type": "markdown",
   "id": "5a7fe062-8d5f-4ead-9021-741ce46e5281",
   "metadata": {},
   "source": [
    "efficient solution to creating one df from multiple files is from [Sid](https://stackoverflow.com/questions/20906474/import-multiple-csv-files-into-pandas-and-concatenate-into-one-dataframe) "
   ]
  },
  {
   "cell_type": "code",
   "execution_count": null,
   "id": "2ff18484-8f6e-4c6b-8de0-03d935e010c9",
   "metadata": {
    "tags": []
   },
   "outputs": [],
   "source": [
    "singles_matches_df"
   ]
  },
  {
   "cell_type": "code",
   "execution_count": null,
   "id": "210d8f13-3ab3-4e88-8eb7-45f4e2f6dc04",
   "metadata": {
    "collapsed": true,
    "jupyter": {
     "outputs_hidden": true
    }
   },
   "outputs": [],
   "source": []
  },
  {
   "cell_type": "code",
   "execution_count": null,
   "id": "6921b972-2eae-49bc-b87e-fbaad9a0bb8f",
   "metadata": {
    "collapsed": true,
    "jupyter": {
     "outputs_hidden": true
    }
   },
   "outputs": [],
   "source": []
  },
  {
   "cell_type": "code",
   "execution_count": null,
   "id": "02ee1237-9d6f-42df-b0de-d8bb555166dc",
   "metadata": {
    "collapsed": true,
    "jupyter": {
     "outputs_hidden": true
    }
   },
   "outputs": [],
   "source": []
  },
  {
   "cell_type": "code",
   "execution_count": null,
   "id": "e1b29a6a-f3fb-4dcf-9f30-7925f37c2101",
   "metadata": {
    "tags": []
   },
   "outputs": [],
   "source": [
    "players_rated"
   ]
  },
  {
   "cell_type": "code",
   "execution_count": null,
   "id": "9f198f30-6595-4a15-9762-03bb38d77c03",
   "metadata": {},
   "outputs": [],
   "source": [
    "def epoch(matches):\n",
    "    for match in matches:\n",
    "        ou\n",
    "    "
   ]
  },
  {
   "cell_type": "code",
   "execution_count": null,
   "id": "13f4409f-0e0a-4fd3-824c-20d36fa01962",
   "metadata": {},
   "outputs": [],
   "source": [
    "ex"
   ]
  },
  {
   "cell_type": "code",
   "execution_count": null,
   "id": "d553b857-a7d8-4a58-a12e-fa9e8c9768f6",
   "metadata": {
    "collapsed": true,
    "jupyter": {
     "outputs_hidden": true
    }
   },
   "outputs": [],
   "source": []
  },
  {
   "cell_type": "code",
   "execution_count": null,
   "id": "8cf92935-03c7-4e50-8b8e-13fa9713679e",
   "metadata": {
    "collapsed": true,
    "jupyter": {
     "outputs_hidden": true
    }
   },
   "outputs": [],
   "source": []
  },
  {
   "cell_type": "code",
   "execution_count": null,
   "id": "56e7301e-6f69-4f27-bc5d-454eec5bede6",
   "metadata": {},
   "outputs": [],
   "source": [
    "example_player_wins = example_epoch[example_epoch['winner_id'] == example_player]['loser_id']\n",
    "example_player_losses = example_epoch[example_epoch['loser_id'] == example_player]['winner_id']\n",
    "example_player_wins = ['p_' + str(player_id) for player_id in example_player_wins]\n",
    "example_player_losses = ['p_' + str(player_id) for player_id in example_player_losses]\n",
    "example_match_ratings = [eval(player).getRating() for player in example_player_wins + example_player_losses]\n",
    "example_match_rd = [eval(player).rd for player in example_player_wins + example_player_losses]\n",
    "example_match_outcome = [1 for _ in example_player_wins] + [0 for _ in example_player_losses]"
   ]
  },
  {
   "cell_type": "code",
   "execution_count": null,
   "id": "1fe6ce2e-aa22-4758-8671-fe07cd23b528",
   "metadata": {},
   "outputs": [],
   "source": [
    "for "
   ]
  },
  {
   "cell_type": "code",
   "execution_count": null,
   "id": "91076635-1a5a-4f52-a032-fb05ae1ae807",
   "metadata": {},
   "outputs": [],
   "source": [
    "example_match_outcome"
   ]
  },
  {
   "cell_type": "code",
   "execution_count": null,
   "id": "e23768c4-48b1-4444-aaa4-d3247bc6420d",
   "metadata": {},
   "outputs": [],
   "source": [
    "example_player.update_player(example_match_ratings,example_match_rd,example_match_outcome)"
   ]
  },
  {
   "cell_type": "code",
   "execution_count": null,
   "id": "36eb6366-1001-460e-a26a-471b54633d65",
   "metadata": {},
   "outputs": [],
   "source": [
    "example_player.rd"
   ]
  },
  {
   "cell_type": "code",
   "execution_count": null,
   "id": "79ec475e-3806-464c-a273-a5d3108b0ebc",
   "metadata": {},
   "outputs": [],
   "source": [
    "example_match_outcome"
   ]
  },
  {
   "cell_type": "code",
   "execution_count": null,
   "id": "d6db62e5-e7c8-4479-8075-3185868cc4d8",
   "metadata": {},
   "outputs": [],
   "source": [
    "example_match_ratings"
   ]
  },
  {
   "cell_type": "code",
   "execution_count": null,
   "id": "f9501f34-d6f4-46f0-af13-feb7078c543c",
   "metadata": {},
   "outputs": [],
   "source": [
    "example_player_wins\n",
    "example_player_losses"
   ]
  },
  {
   "cell_type": "code",
   "execution_count": null,
   "id": "acfbbb2e-c915-45e0-af92-b889a4ab5c92",
   "metadata": {},
   "outputs": [],
   "source": [
    "[]"
   ]
  },
  {
   "cell_type": "code",
   "execution_count": null,
   "id": "a7dea158-96a8-44d9-8446-186ae1325c87",
   "metadata": {
    "collapsed": true,
    "jupyter": {
     "outputs_hidden": true
    }
   },
   "outputs": [],
   "source": []
  },
  {
   "cell_type": "code",
   "execution_count": null,
   "id": "5f6e5321-b3a8-4a6c-8066-075c95c3acd7",
   "metadata": {},
   "outputs": [],
   "source": [
    "m_1900"
   ]
  },
  {
   "cell_type": "code",
   "execution_count": null,
   "id": "f3fb0a7a-51dc-4862-83ad-d6c31cda5cb7",
   "metadata": {},
   "outputs": [],
   "source": [
    "singles_matches_df['tourney_date'] = pd.to_datetime(singles_matches_df['tourney_date'], format='%Y%m%d')"
   ]
  },
  {
   "cell_type": "code",
   "execution_count": null,
   "id": "96b7f467-d04d-4f2a-bacb-06f055bb9c9b",
   "metadata": {
    "tags": []
   },
   "outputs": [],
   "source": [
    "singles_matches_df = singles_matches_df.sort_values(by = 'tourney_date', ascending = True)\n",
    "singles_matches_df"
   ]
  },
  {
   "cell_type": "code",
   "execution_count": null,
   "id": "7a1bf8c3-1730-4bda-b238-4b45c4183870",
   "metadata": {
    "tags": []
   },
   "outputs": [],
   "source": [
    "pct_nan(singles_matches_df)"
   ]
  },
  {
   "cell_type": "code",
   "execution_count": null,
   "id": "80bb9400-cde6-44d9-b9b0-10d59644d453",
   "metadata": {
    "tags": []
   },
   "outputs": [],
   "source": [
    "players"
   ]
  }
 ],
 "metadata": {
  "kernelspec": {
   "display_name": "Python 3 (ipykernel)",
   "language": "python",
   "name": "python3"
  },
  "language_info": {
   "codemirror_mode": {
    "name": "ipython",
    "version": 3
   },
   "file_extension": ".py",
   "mimetype": "text/x-python",
   "name": "python",
   "nbconvert_exporter": "python",
   "pygments_lexer": "ipython3",
   "version": "3.9.13"
  }
 },
 "nbformat": 4,
 "nbformat_minor": 5
}
