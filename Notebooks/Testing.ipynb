{
 "cells": [
  {
   "cell_type": "code",
   "execution_count": 3,
   "id": "c980de3b-642c-4c43-a8e6-08fe2c524a68",
   "metadata": {},
   "outputs": [],
   "source": [
    "import pandas as pd\n",
    "from functions import assembleDf, epochElo, epochsElo, epochG, epochsG,PlayerElo\n",
    "from datetime import datetime, timedelta\n",
    "import numpy as np\n",
    "import sys\n",
    "sys.path.append('..')\n",
    "from pyglicko2.glicko2_tests import exampleCase\n",
    "from pyglicko2.glicko2 import Player\n",
    "import glicko2\n",
    "import time"
   ]
  },
  {
   "cell_type": "code",
   "execution_count": 4,
   "id": "ac0ad5db-6c40-4fdd-a0c8-b03d8d36ebb6",
   "metadata": {},
   "outputs": [],
   "source": [
    "matches = pd.read_csv('../Data/matches_glicko2.csv',parse_dates = ['tourney_date'], \n",
    "                      infer_datetime_format = True)"
   ]
  },
  {
   "cell_type": "code",
   "execution_count": 5,
   "id": "eb5f67f5-231e-4a9b-9017-f70520e11b66",
   "metadata": {},
   "outputs": [
    {
     "name": "stderr",
     "output_type": "stream",
     "text": [
      "/var/folders/7q/63cgxnn50sl5zwxkchv_j2cr0000gn/T/ipykernel_4546/3293468424.py:1: DtypeWarning: Columns (3,9,17) have mixed types. Specify dtype option on import or set low_memory=False.\n",
      "  singles_matches = pd.read_csv('../Data/singles_matches_df.csv',parse_dates = ['tourney_date'],\n"
     ]
    }
   ],
   "source": [
    "singles_matches = pd.read_csv('../Data/singles_matches_df.csv',parse_dates = ['tourney_date'], \n",
    "                      infer_datetime_format = True)"
   ]
  },
  {
   "cell_type": "code",
   "execution_count": 6,
   "id": "22e0b931-629c-4ae6-8614-e076eb771960",
   "metadata": {},
   "outputs": [],
   "source": [
    "playerClasses, ratingsHistory = epochsElo(matches)"
   ]
  },
  {
   "cell_type": "code",
   "execution_count": null,
   "id": "11fb2a38-7455-47cc-95bd-4022da3265de",
   "metadata": {},
   "outputs": [],
   "source": []
  },
  {
   "cell_type": "code",
   "execution_count": 7,
   "id": "7d1d68e8-b267-47a5-976e-4fd5c22aaa61",
   "metadata": {},
   "outputs": [],
   "source": [
    "ratingsHistory_df = assembleDf(ratingsHistory)"
   ]
  },
  {
   "cell_type": "code",
   "execution_count": 8,
   "id": "fc753866-49c7-4c93-a1fa-53ea8d99f79d",
   "metadata": {
    "tags": []
   },
   "outputs": [
    {
     "data": {
      "text/html": [
       "<div>\n",
       "<style scoped>\n",
       "    .dataframe tbody tr th:only-of-type {\n",
       "        vertical-align: middle;\n",
       "    }\n",
       "\n",
       "    .dataframe tbody tr th {\n",
       "        vertical-align: top;\n",
       "    }\n",
       "\n",
       "    .dataframe thead th {\n",
       "        text-align: right;\n",
       "    }\n",
       "</style>\n",
       "<table border=\"1\" class=\"dataframe\">\n",
       "  <thead>\n",
       "    <tr style=\"text-align: right;\">\n",
       "      <th></th>\n",
       "      <th>tourney_id</th>\n",
       "      <th>tourney_name</th>\n",
       "      <th>surface</th>\n",
       "      <th>draw_size</th>\n",
       "      <th>tourney_level</th>\n",
       "      <th>tourney_date</th>\n",
       "      <th>match_num</th>\n",
       "      <th>winner_id</th>\n",
       "      <th>winner_seed</th>\n",
       "      <th>winner_entry</th>\n",
       "      <th>...</th>\n",
       "      <th>l_1stIn</th>\n",
       "      <th>l_1stWon</th>\n",
       "      <th>l_2ndWon</th>\n",
       "      <th>l_SvGms</th>\n",
       "      <th>l_bpSaved</th>\n",
       "      <th>l_bpFaced</th>\n",
       "      <th>winner_rank</th>\n",
       "      <th>winner_rank_points</th>\n",
       "      <th>loser_rank</th>\n",
       "      <th>loser_rank_points</th>\n",
       "    </tr>\n",
       "  </thead>\n",
       "  <tbody>\n",
       "    <tr>\n",
       "      <th>0</th>\n",
       "      <td>1877-540</td>\n",
       "      <td>Wimbledon</td>\n",
       "      <td>Grass</td>\n",
       "      <td>32</td>\n",
       "      <td>G</td>\n",
       "      <td>1877-07-09</td>\n",
       "      <td>19</td>\n",
       "      <td>113987</td>\n",
       "      <td>NaN</td>\n",
       "      <td>NaN</td>\n",
       "      <td>...</td>\n",
       "      <td>NaN</td>\n",
       "      <td>NaN</td>\n",
       "      <td>NaN</td>\n",
       "      <td>NaN</td>\n",
       "      <td>NaN</td>\n",
       "      <td>NaN</td>\n",
       "      <td>NaN</td>\n",
       "      <td>NaN</td>\n",
       "      <td>NaN</td>\n",
       "      <td>NaN</td>\n",
       "    </tr>\n",
       "    <tr>\n",
       "      <th>1</th>\n",
       "      <td>1877-540</td>\n",
       "      <td>Wimbledon</td>\n",
       "      <td>Grass</td>\n",
       "      <td>32</td>\n",
       "      <td>G</td>\n",
       "      <td>1877-07-09</td>\n",
       "      <td>21</td>\n",
       "      <td>113987</td>\n",
       "      <td>NaN</td>\n",
       "      <td>NaN</td>\n",
       "      <td>...</td>\n",
       "      <td>NaN</td>\n",
       "      <td>NaN</td>\n",
       "      <td>NaN</td>\n",
       "      <td>NaN</td>\n",
       "      <td>NaN</td>\n",
       "      <td>NaN</td>\n",
       "      <td>NaN</td>\n",
       "      <td>NaN</td>\n",
       "      <td>NaN</td>\n",
       "      <td>NaN</td>\n",
       "    </tr>\n",
       "    <tr>\n",
       "      <th>2</th>\n",
       "      <td>1877-540</td>\n",
       "      <td>Wimbledon</td>\n",
       "      <td>Grass</td>\n",
       "      <td>32</td>\n",
       "      <td>G</td>\n",
       "      <td>1877-07-09</td>\n",
       "      <td>20</td>\n",
       "      <td>113987</td>\n",
       "      <td>NaN</td>\n",
       "      <td>NaN</td>\n",
       "      <td>...</td>\n",
       "      <td>NaN</td>\n",
       "      <td>NaN</td>\n",
       "      <td>NaN</td>\n",
       "      <td>NaN</td>\n",
       "      <td>NaN</td>\n",
       "      <td>NaN</td>\n",
       "      <td>NaN</td>\n",
       "      <td>NaN</td>\n",
       "      <td>NaN</td>\n",
       "      <td>NaN</td>\n",
       "    </tr>\n",
       "    <tr>\n",
       "      <th>3</th>\n",
       "      <td>1877-540</td>\n",
       "      <td>Wimbledon</td>\n",
       "      <td>Grass</td>\n",
       "      <td>32</td>\n",
       "      <td>G</td>\n",
       "      <td>1877-07-09</td>\n",
       "      <td>18</td>\n",
       "      <td>113963</td>\n",
       "      <td>NaN</td>\n",
       "      <td>NaN</td>\n",
       "      <td>...</td>\n",
       "      <td>NaN</td>\n",
       "      <td>NaN</td>\n",
       "      <td>NaN</td>\n",
       "      <td>NaN</td>\n",
       "      <td>NaN</td>\n",
       "      <td>NaN</td>\n",
       "      <td>NaN</td>\n",
       "      <td>NaN</td>\n",
       "      <td>NaN</td>\n",
       "      <td>NaN</td>\n",
       "    </tr>\n",
       "    <tr>\n",
       "      <th>4</th>\n",
       "      <td>1877-540</td>\n",
       "      <td>Wimbledon</td>\n",
       "      <td>Grass</td>\n",
       "      <td>32</td>\n",
       "      <td>G</td>\n",
       "      <td>1877-07-09</td>\n",
       "      <td>17</td>\n",
       "      <td>113999</td>\n",
       "      <td>NaN</td>\n",
       "      <td>NaN</td>\n",
       "      <td>...</td>\n",
       "      <td>NaN</td>\n",
       "      <td>NaN</td>\n",
       "      <td>NaN</td>\n",
       "      <td>NaN</td>\n",
       "      <td>NaN</td>\n",
       "      <td>NaN</td>\n",
       "      <td>NaN</td>\n",
       "      <td>NaN</td>\n",
       "      <td>NaN</td>\n",
       "      <td>NaN</td>\n",
       "    </tr>\n",
       "    <tr>\n",
       "      <th>...</th>\n",
       "      <td>...</td>\n",
       "      <td>...</td>\n",
       "      <td>...</td>\n",
       "      <td>...</td>\n",
       "      <td>...</td>\n",
       "      <td>...</td>\n",
       "      <td>...</td>\n",
       "      <td>...</td>\n",
       "      <td>...</td>\n",
       "      <td>...</td>\n",
       "      <td>...</td>\n",
       "      <td>...</td>\n",
       "      <td>...</td>\n",
       "      <td>...</td>\n",
       "      <td>...</td>\n",
       "      <td>...</td>\n",
       "      <td>...</td>\n",
       "      <td>...</td>\n",
       "      <td>...</td>\n",
       "      <td>...</td>\n",
       "      <td>...</td>\n",
       "    </tr>\n",
       "    <tr>\n",
       "      <th>876973</th>\n",
       "      <td>2022-M-ITF-TUN-63A-2022</td>\n",
       "      <td>M15 Monastir</td>\n",
       "      <td>Hard</td>\n",
       "      <td>32</td>\n",
       "      <td>15</td>\n",
       "      <td>2022-12-26</td>\n",
       "      <td>104</td>\n",
       "      <td>207987</td>\n",
       "      <td>6.0</td>\n",
       "      <td>NaN</td>\n",
       "      <td>...</td>\n",
       "      <td>NaN</td>\n",
       "      <td>NaN</td>\n",
       "      <td>NaN</td>\n",
       "      <td>NaN</td>\n",
       "      <td>NaN</td>\n",
       "      <td>NaN</td>\n",
       "      <td>716.0</td>\n",
       "      <td>31.0</td>\n",
       "      <td>966.0</td>\n",
       "      <td>12.0</td>\n",
       "    </tr>\n",
       "    <tr>\n",
       "      <th>876974</th>\n",
       "      <td>2022-M-ITF-TUN-63A-2022</td>\n",
       "      <td>M15 Monastir</td>\n",
       "      <td>Hard</td>\n",
       "      <td>32</td>\n",
       "      <td>15</td>\n",
       "      <td>2022-12-26</td>\n",
       "      <td>103</td>\n",
       "      <td>144932</td>\n",
       "      <td>NaN</td>\n",
       "      <td>NaN</td>\n",
       "      <td>...</td>\n",
       "      <td>NaN</td>\n",
       "      <td>NaN</td>\n",
       "      <td>NaN</td>\n",
       "      <td>NaN</td>\n",
       "      <td>NaN</td>\n",
       "      <td>NaN</td>\n",
       "      <td>799.0</td>\n",
       "      <td>23.0</td>\n",
       "      <td>1117.0</td>\n",
       "      <td>8.0</td>\n",
       "    </tr>\n",
       "    <tr>\n",
       "      <th>876975</th>\n",
       "      <td>2022-M-ITF-TUN-63A-2022</td>\n",
       "      <td>M15 Monastir</td>\n",
       "      <td>Hard</td>\n",
       "      <td>32</td>\n",
       "      <td>15</td>\n",
       "      <td>2022-12-26</td>\n",
       "      <td>102</td>\n",
       "      <td>209955</td>\n",
       "      <td>NaN</td>\n",
       "      <td>Q</td>\n",
       "      <td>...</td>\n",
       "      <td>NaN</td>\n",
       "      <td>NaN</td>\n",
       "      <td>NaN</td>\n",
       "      <td>NaN</td>\n",
       "      <td>NaN</td>\n",
       "      <td>NaN</td>\n",
       "      <td>NaN</td>\n",
       "      <td>NaN</td>\n",
       "      <td>NaN</td>\n",
       "      <td>NaN</td>\n",
       "    </tr>\n",
       "    <tr>\n",
       "      <th>876976</th>\n",
       "      <td>2022-M-ITF-TUN-63A-2022</td>\n",
       "      <td>M15 Monastir</td>\n",
       "      <td>Hard</td>\n",
       "      <td>32</td>\n",
       "      <td>15</td>\n",
       "      <td>2022-12-26</td>\n",
       "      <td>205</td>\n",
       "      <td>209079</td>\n",
       "      <td>NaN</td>\n",
       "      <td>JE</td>\n",
       "      <td>...</td>\n",
       "      <td>NaN</td>\n",
       "      <td>NaN</td>\n",
       "      <td>NaN</td>\n",
       "      <td>NaN</td>\n",
       "      <td>NaN</td>\n",
       "      <td>NaN</td>\n",
       "      <td>1125.0</td>\n",
       "      <td>7.0</td>\n",
       "      <td>1548.0</td>\n",
       "      <td>2.0</td>\n",
       "    </tr>\n",
       "    <tr>\n",
       "      <th>876977</th>\n",
       "      <td>2022-M-ITF-TUN-63A-2022</td>\n",
       "      <td>M15 Monastir</td>\n",
       "      <td>Hard</td>\n",
       "      <td>32</td>\n",
       "      <td>15</td>\n",
       "      <td>2022-12-26</td>\n",
       "      <td>204</td>\n",
       "      <td>200289</td>\n",
       "      <td>8.0</td>\n",
       "      <td>NaN</td>\n",
       "      <td>...</td>\n",
       "      <td>NaN</td>\n",
       "      <td>NaN</td>\n",
       "      <td>NaN</td>\n",
       "      <td>NaN</td>\n",
       "      <td>NaN</td>\n",
       "      <td>NaN</td>\n",
       "      <td>768.0</td>\n",
       "      <td>26.0</td>\n",
       "      <td>1202.0</td>\n",
       "      <td>6.0</td>\n",
       "    </tr>\n",
       "  </tbody>\n",
       "</table>\n",
       "<p>876978 rows × 49 columns</p>\n",
       "</div>"
      ],
      "text/plain": [
       "                     tourney_id  tourney_name surface draw_size tourney_level  \\\n",
       "0                      1877-540     Wimbledon   Grass        32             G   \n",
       "1                      1877-540     Wimbledon   Grass        32             G   \n",
       "2                      1877-540     Wimbledon   Grass        32             G   \n",
       "3                      1877-540     Wimbledon   Grass        32             G   \n",
       "4                      1877-540     Wimbledon   Grass        32             G   \n",
       "...                         ...           ...     ...       ...           ...   \n",
       "876973  2022-M-ITF-TUN-63A-2022  M15 Monastir    Hard        32            15   \n",
       "876974  2022-M-ITF-TUN-63A-2022  M15 Monastir    Hard        32            15   \n",
       "876975  2022-M-ITF-TUN-63A-2022  M15 Monastir    Hard        32            15   \n",
       "876976  2022-M-ITF-TUN-63A-2022  M15 Monastir    Hard        32            15   \n",
       "876977  2022-M-ITF-TUN-63A-2022  M15 Monastir    Hard        32            15   \n",
       "\n",
       "       tourney_date  match_num  winner_id  winner_seed winner_entry  ...  \\\n",
       "0        1877-07-09         19     113987          NaN          NaN  ...   \n",
       "1        1877-07-09         21     113987          NaN          NaN  ...   \n",
       "2        1877-07-09         20     113987          NaN          NaN  ...   \n",
       "3        1877-07-09         18     113963          NaN          NaN  ...   \n",
       "4        1877-07-09         17     113999          NaN          NaN  ...   \n",
       "...             ...        ...        ...          ...          ...  ...   \n",
       "876973   2022-12-26        104     207987          6.0          NaN  ...   \n",
       "876974   2022-12-26        103     144932          NaN          NaN  ...   \n",
       "876975   2022-12-26        102     209955          NaN            Q  ...   \n",
       "876976   2022-12-26        205     209079          NaN           JE  ...   \n",
       "876977   2022-12-26        204     200289          8.0          NaN  ...   \n",
       "\n",
       "       l_1stIn l_1stWon  l_2ndWon l_SvGms  l_bpSaved  l_bpFaced  winner_rank  \\\n",
       "0          NaN      NaN       NaN     NaN        NaN        NaN          NaN   \n",
       "1          NaN      NaN       NaN     NaN        NaN        NaN          NaN   \n",
       "2          NaN      NaN       NaN     NaN        NaN        NaN          NaN   \n",
       "3          NaN      NaN       NaN     NaN        NaN        NaN          NaN   \n",
       "4          NaN      NaN       NaN     NaN        NaN        NaN          NaN   \n",
       "...        ...      ...       ...     ...        ...        ...          ...   \n",
       "876973     NaN      NaN       NaN     NaN        NaN        NaN        716.0   \n",
       "876974     NaN      NaN       NaN     NaN        NaN        NaN        799.0   \n",
       "876975     NaN      NaN       NaN     NaN        NaN        NaN          NaN   \n",
       "876976     NaN      NaN       NaN     NaN        NaN        NaN       1125.0   \n",
       "876977     NaN      NaN       NaN     NaN        NaN        NaN        768.0   \n",
       "\n",
       "       winner_rank_points loser_rank loser_rank_points  \n",
       "0                     NaN        NaN               NaN  \n",
       "1                     NaN        NaN               NaN  \n",
       "2                     NaN        NaN               NaN  \n",
       "3                     NaN        NaN               NaN  \n",
       "4                     NaN        NaN               NaN  \n",
       "...                   ...        ...               ...  \n",
       "876973               31.0      966.0              12.0  \n",
       "876974               23.0     1117.0               8.0  \n",
       "876975                NaN        NaN               NaN  \n",
       "876976                7.0     1548.0               2.0  \n",
       "876977               26.0     1202.0               6.0  \n",
       "\n",
       "[876978 rows x 49 columns]"
      ]
     },
     "execution_count": 8,
     "metadata": {},
     "output_type": "execute_result"
    }
   ],
   "source": [
    "singles_matches"
   ]
  },
  {
   "cell_type": "code",
   "execution_count": 9,
   "id": "4b900fa6-7fbe-4dc9-b6af-fc66595d4fff",
   "metadata": {},
   "outputs": [],
   "source": [
    "# fill in missing values with last seen rating.  \n",
    "ratingsHistory_df = ratingsHistory_df.ffill(axis=0).fillna(1500)"
   ]
  },
  {
   "cell_type": "code",
   "execution_count": 10,
   "id": "819945dd-e817-486f-9b1f-b1a2c08e33c0",
   "metadata": {
    "tags": []
   },
   "outputs": [
    {
     "data": {
      "text/plain": [
       "Timestamp('1879-07-09 00:00:00')"
      ]
     },
     "execution_count": 10,
     "metadata": {},
     "output_type": "execute_result"
    }
   ],
   "source": [
    "max(ratingsHistory_df.index[ratingsHistory_df.index<'1880-07-08'])"
   ]
  },
  {
   "cell_type": "code",
   "execution_count": 11,
   "id": "9cc22182-57a4-42c6-837a-586202b933f8",
   "metadata": {},
   "outputs": [
    {
     "ename": "SyntaxError",
     "evalue": "invalid syntax (372932685.py, line 1)",
     "output_type": "error",
     "traceback": [
      "\u001b[0;36m  File \u001b[0;32m\"/var/folders/7q/63cgxnn50sl5zwxkchv_j2cr0000gn/T/ipykernel_4546/372932685.py\"\u001b[0;36m, line \u001b[0;32m1\u001b[0m\n\u001b[0;31m    def winProb(winner_id,loser_id,tourney_date)\u001b[0m\n\u001b[0m                                                ^\u001b[0m\n\u001b[0;31mSyntaxError\u001b[0m\u001b[0;31m:\u001b[0m invalid syntax\n"
     ]
    }
   ],
   "source": [
    "# def winProb(winner_id,loser_id,tourney_date)"
   ]
  },
  {
   "cell_type": "code",
   "execution_count": 12,
   "id": "e63e438d-ade7-4673-b955-bd5ef9ed57e1",
   "metadata": {},
   "outputs": [
    {
     "data": {
      "text/plain": [
       "pandas._libs.tslibs.timestamps.Timestamp"
      ]
     },
     "execution_count": 12,
     "metadata": {},
     "output_type": "execute_result"
    }
   ],
   "source": [
    "type(ratingsHistory_df.index[10])"
   ]
  },
  {
   "cell_type": "code",
   "execution_count": 20,
   "id": "cce440f0-febe-4cdf-9e26-7facf73f476a",
   "metadata": {
    "tags": []
   },
   "outputs": [
    {
     "data": {
      "text/plain": [
       "Timestamp('2020-06-04 00:00:00')"
      ]
     },
     "execution_count": 20,
     "metadata": {},
     "output_type": "execute_result"
    }
   ],
   "source": [
    "max(ratingsHistory_df.index[ratingsHistory_df.index<='2020-08-09'])"
   ]
  },
  {
   "cell_type": "code",
   "execution_count": 27,
   "id": "e14a24bb-3d8a-4702-91df-1f557e462243",
   "metadata": {},
   "outputs": [],
   "source": [
    "def get_recent_rating_wp(ratingsHistory_df,tourney_date,winner_id,loser_id):\n",
    "    # if not type(tourney_date) == pandas._libs.tslibs.timestamps.Timestamp:\n",
    "    #     tourney_date = datetime.strptime(tourney_date, '%Y-%m-%d').date()\n",
    "\n",
    "    timestamp = max(ratingsHistory_df.index[ratingsHistory_df.index<=tourney_date])\n",
    "    winner_rating, loser_rating = ratingsHistory_df.loc[timestamp,[winner_id,loser_id]]\n",
    "    wp = 1/(1 + 10**((loser_rating-winner_rating)/400))\n",
    "    return winner_rating, loser_rating, wp"
   ]
  },
  {
   "cell_type": "code",
   "execution_count": null,
   "id": "7c75dd45-f860-4abc-9439-6afe7ba1eaec",
   "metadata": {},
   "outputs": [],
   "source": []
  },
  {
   "cell_type": "code",
   "execution_count": null,
   "id": "a34a38b2-eba2-42e8-b1e9-9e08fde500ce",
   "metadata": {},
   "outputs": [],
   "source": [
    "get_recent_rating_wp(ratingsHistory_df,'1878-07-09',113987,114149)"
   ]
  },
  {
   "cell_type": "code",
   "execution_count": 28,
   "id": "6aa02ff9-d014-4cee-a215-f229be150c3f",
   "metadata": {},
   "outputs": [
    {
     "data": {
      "text/plain": [
       "(1532.0, 1508.0, 0.5344839447268315)"
      ]
     },
     "execution_count": 28,
     "metadata": {},
     "output_type": "execute_result"
    }
   ],
   "source": [
    "get_recent_rating_wp(ratingsHistory_df,'1878-07-09',113987,114149)"
   ]
  },
  {
   "cell_type": "code",
   "execution_count": null,
   "id": "21c8fdcb-3dc3-415a-8143-1867569e50df",
   "metadata": {},
   "outputs": [],
   "source": [
    "matches"
   ]
  },
  {
   "cell_type": "code",
   "execution_count": null,
   "id": "b1694657-eff5-42bc-bef1-1fa6725ac0c9",
   "metadata": {
    "tags": []
   },
   "outputs": [],
   "source": [
    "matches"
   ]
  },
  {
   "cell_type": "code",
   "execution_count": null,
   "id": "d5576075-e4b3-42b3-a316-045334a8b36f",
   "metadata": {},
   "outputs": [],
   "source": [
    "singles_matches.shape,matches.shape"
   ]
  },
  {
   "cell_type": "code",
   "execution_count": null,
   "id": "c752619c-7d5f-49c2-82d0-9d6fa832ecd4",
   "metadata": {
    "tags": []
   },
   "outputs": [],
   "source": [
    "singles_matches[['winner_elo','loser_elo','predicted_wins']] = matches[['tourney_date','winner_id','loser_id']].apply(lambda x: \n",
    "get_recent_rating_wp(ratingsHistory_df, x['tourney_date'], x['winner_id'], x['loser_id']),axis=0)"
   ]
  },
  {
   "cell_type": "code",
   "execution_count": null,
   "id": "492e3d34-fe5d-414f-9365-0b998be6d9fa",
   "metadata": {},
   "outputs": [],
   "source": [
    "ratingsHistory_df"
   ]
  }
 ],
 "metadata": {
  "kernelspec": {
   "display_name": "Python 3 (ipykernel)",
   "language": "python",
   "name": "python3"
  },
  "language_info": {
   "codemirror_mode": {
    "name": "ipython",
    "version": 3
   },
   "file_extension": ".py",
   "mimetype": "text/x-python",
   "name": "python",
   "nbconvert_exporter": "python",
   "pygments_lexer": "ipython3",
   "version": "3.9.13"
  }
 },
 "nbformat": 4,
 "nbformat_minor": 5
}
