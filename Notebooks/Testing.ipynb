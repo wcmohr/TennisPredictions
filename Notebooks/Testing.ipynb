{
 "cells": [
  {
   "cell_type": "markdown",
   "id": "414e1216-693e-4974-a322-c615a13fc1b0",
   "metadata": {
    "tags": []
   },
   "source": [
    "###### Imports"
   ]
  },
  {
   "cell_type": "markdown",
   "id": "aa6cbec9-5376-4c6f-8d97-b0f721eb18be",
   "metadata": {},
   "source": [
    "Packages"
   ]
  },
  {
   "cell_type": "code",
   "execution_count": 1,
   "id": "c980de3b-642c-4c43-a8e6-08fe2c524a68",
   "metadata": {},
   "outputs": [],
   "source": [
    "import pandas as pd\n",
    "from functions import assembleDf, epochElo, epochsElo, epochG, epochsG,\\\n",
    "PlayerElo, winProbG, get_recent_rating_wp, get_recent_rating_rd_wp\n",
    "from datetime import datetime, timedelta\n",
    "import numpy as np\n",
    "import sys\n",
    "sys.path.append('..')\n",
    "from pyglicko2.glicko2_tests import exampleCase\n",
    "from pyglicko2.glicko2 import Player\n",
    "import glicko2\n",
    "import time"
   ]
  },
  {
   "cell_type": "markdown",
   "id": "1090bf9b-b25c-44b2-ba8e-bba0ff493572",
   "metadata": {},
   "source": [
    "Data"
   ]
  },
  {
   "cell_type": "code",
   "execution_count": 2,
   "id": "ac0ad5db-6c40-4fdd-a0c8-b03d8d36ebb6",
   "metadata": {},
   "outputs": [],
   "source": [
    "# read in the data that will be used with the rating systems.\n",
    "matches = pd.read_csv('../Data/matches_glicko2.csv',parse_dates = \n",
    "                      ['tourney_date'], infer_datetime_format = True)"
   ]
  },
  {
   "cell_type": "code",
   "execution_count": 3,
   "id": "eb5f67f5-231e-4a9b-9017-f70520e11b66",
   "metadata": {
    "tags": []
   },
   "outputs": [],
   "source": [
    "# read in the unfiltered data\n",
    "singles_matches = pd.read_csv('../Data/singles_matches_df.csv',parse_dates = ['tourney_date'], \n",
    "                      infer_datetime_format = True, low_memory = False)"
   ]
  },
  {
   "cell_type": "markdown",
   "id": "97d2465b-3c22-4cde-9006-e16e41080eda",
   "metadata": {},
   "source": [
    "###### Rating system application"
   ]
  },
  {
   "cell_type": "markdown",
   "id": "3ca14581-ca2f-4d17-bbd0-1d988b38119a",
   "metadata": {},
   "source": [
    "Get the Elo ratings for the matches."
   ]
  },
  {
   "cell_type": "code",
   "execution_count": 4,
   "id": "22e0b931-629c-4ae6-8614-e076eb771960",
   "metadata": {},
   "outputs": [],
   "source": [
    "playerClasses, eloRatingsHistory = epochsElo(matches)"
   ]
  },
  {
   "cell_type": "code",
   "execution_count": 5,
   "id": "7d1d68e8-b267-47a5-976e-4fd5c22aaa61",
   "metadata": {},
   "outputs": [],
   "source": [
    "ratingsHistory_df = assembleDf(eloRatingsHistory)"
   ]
  },
  {
   "cell_type": "code",
   "execution_count": 6,
   "id": "4b900fa6-7fbe-4dc9-b6af-fc66595d4fff",
   "metadata": {},
   "outputs": [],
   "source": [
    "# fill in missing values with most recent rating.  \n",
    "ratingsHistory_df = ratingsHistory_df.ffill(axis=0).fillna(1500)"
   ]
  },
  {
   "cell_type": "code",
   "execution_count": 7,
   "id": "2d05c7a8-06d1-4be8-8ed7-92acc81bb115",
   "metadata": {
    "tags": []
   },
   "outputs": [],
   "source": [
    "# import glicko2 ratings and rating deviations DataFrames\n",
    "g2_rh = pd.read_csv('./ratings_histories_glicko2.csv', index_col = 0, \n",
    "                   parse_dates=True, dtype=np.float64)\n",
    "g2_rh.columns = g2_rh.columns.astype(int)\n",
    "g2_rdh = pd.read_csv('./rd_histories_glicko2.csv', index_col = 0, \n",
    "                     parse_dates=True, dtype=np.float64)\n",
    "g2_rdh.columns = g2_rdh.columns.astype(int)\n"
   ]
  },
  {
   "cell_type": "code",
   "execution_count": 8,
   "id": "3098e31d-13af-4707-877d-14f343743927",
   "metadata": {},
   "outputs": [],
   "source": [
    "g2_players = set(g2_rdh.columns).union(g2_rh.columns)"
   ]
  },
  {
   "cell_type": "markdown",
   "id": "eb3ae6e3-810b-499e-b620-c774014e5dcf",
   "metadata": {},
   "source": [
    "###### Idea: filter for winner_id and loser_id in ratinghistory pre-glicko2 analysis"
   ]
  },
  {
   "cell_type": "code",
   "execution_count": 9,
   "id": "cd2f4d3c-bad9-410f-bbc4-bd530d58e4aa",
   "metadata": {
    "tags": []
   },
   "outputs": [
    {
     "data": {
      "text/plain": [
       "[False, False]"
      ]
     },
     "execution_count": 9,
     "metadata": {},
     "output_type": "execute_result"
    }
   ],
   "source": [
    "[True if tuple(p_id)[0] and tuple(p_id[1]) in g2_players else False for p_id in \\\n",
    " matches[['winner_id','loser_id']]]"
   ]
  },
  {
   "cell_type": "code",
   "execution_count": null,
   "id": "e3f61d36-14dd-44e8-88cf-498efbb5fce5",
   "metadata": {},
   "outputs": [],
   "source": []
  },
  {
   "cell_type": "code",
   "execution_count": 10,
   "id": "68032518-dae7-4e7c-8cf2-51e3dfa47b8a",
   "metadata": {},
   "outputs": [],
   "source": [
    "in_g2 = [p[0] in g2_players and p[1] in g2_players  for p in zip(matches['winner_id'],matches['loser_id'])]"
   ]
  },
  {
   "cell_type": "code",
   "execution_count": 11,
   "id": "82df4a27-4bd6-434a-85b9-04372d017484",
   "metadata": {},
   "outputs": [
    {
     "data": {
      "text/plain": [
       "0.9528939152407472"
      ]
     },
     "execution_count": 11,
     "metadata": {},
     "output_type": "execute_result"
    }
   ],
   "source": [
    "sum(in_g2)/matches.shape[0]"
   ]
  },
  {
   "cell_type": "markdown",
   "id": "8148a945-d288-428f-8139-44486adfdd30",
   "metadata": {},
   "source": [
    "For 95% of the matches, both players are in the glicko-2 dataframes.  Later iterations on this code will determine why not 100% of the players are getting captured by epochsG."
   ]
  },
  {
   "cell_type": "code",
   "execution_count": 12,
   "id": "5ff8939d-b62d-4b35-846e-426f4d08a608",
   "metadata": {},
   "outputs": [],
   "source": [
    "def get_recent_rating_rd_wp_lambda(tourney_date, winner_id, loser_id,\n",
    "                                   ratingsHistory_df, rdHistory_df):\n",
    "    \"\"\"Return the most recent ratings and rating deviations for the competitors as\n",
    "        well as the a priori win probability for the eventual winner according to \n",
    "        the Glicko-2 rating system. **kwargs : ratingsHistory_df,rdHistory_df\"\"\"\n",
    "    try:\n",
    "        if not type(tourney_date) == pd._libs.tslibs.timestamps.Timestamp:\n",
    "            tourney_date = pd.to_datetime(tourney_date)\n",
    "        # for robustness, assuming that rd and ratings may have different timestamps\n",
    "        timestamp_rh = max(ratingsHistory_df.index[ratingsHistory_df.index<=\n",
    "                                                   tourney_date])\n",
    "        timestamp_rd = max(rdHistory_df.index[rdHistory_df.index<=tourney_date])\n",
    "        winner_rating, loser_rating = ratingsHistory_df.loc[timestamp_rh,\n",
    "                                                        [winner_id,loser_id]]\n",
    "        winner_rd, loser_rd = rdHistory_df.loc[timestamp_rd,\n",
    "                                                [winner_id,loser_id]]\n",
    "        wp = winProbG(winner_rating, winner_rd, loser_rating, loser_rd)\n",
    "        return winner_rating, winner_rd, loser_rating, loser_rd, wp\n",
    "    except KeyError:\n",
    "        return np.nan, np.nan, np.nan, np.nan,np.nan"
   ]
  },
  {
   "cell_type": "code",
   "execution_count": 15,
   "id": "014e136c-8e5e-4f6e-bb07-a759bfd9265f",
   "metadata": {},
   "outputs": [],
   "source": [
    "apply_glicko2 = matches[in_g2][0:100].apply(lambda x: \n",
    "                     get_recent_rating_rd_wp_lambda(x['tourney_date'],\n",
    "                                                   x['winner_id'],\n",
    "                                                   x['loser_id'],\n",
    "                                                   g2_rh, g2_rdh),axis=1)"
   ]
  },
  {
   "cell_type": "code",
   "execution_count": 22,
   "id": "8f182c08-bdab-409e-836c-f4e379e08391",
   "metadata": {},
   "outputs": [
    {
     "name": "stdout",
     "output_type": "stream",
     "text": [
      "CPU times: user 7min 19s, sys: 7.56 s, total: 7min 26s\n",
      "Wall time: 7min 21s\n"
     ]
    }
   ],
   "source": [
    "%%time\n",
    "apply_glicko2 = matches[in_g2].apply(lambda x: \n",
    "                     get_recent_rating_rd_wp_lambda(x['tourney_date'],\n",
    "                                                   x['winner_id'],\n",
    "                                                   x['loser_id'],\n",
    "                                                   g2_rh, g2_rdh),axis=1)"
   ]
  },
  {
   "cell_type": "markdown",
   "id": "4655090b-b833-4daf-9a0a-55eaa75309a4",
   "metadata": {},
   "source": [
    "The above requires 7 minutes to resolve.  I will save into a dataframe for quick access to the results"
   ]
  },
  {
   "cell_type": "code",
   "execution_count": 23,
   "id": "1326fc9f-1c67-43ce-9fe6-b0fe917ceca8",
   "metadata": {},
   "outputs": [
    {
     "data": {
      "text/html": [
       "<div>\n",
       "<style scoped>\n",
       "    .dataframe tbody tr th:only-of-type {\n",
       "        vertical-align: middle;\n",
       "    }\n",
       "\n",
       "    .dataframe tbody tr th {\n",
       "        vertical-align: top;\n",
       "    }\n",
       "\n",
       "    .dataframe thead th {\n",
       "        text-align: right;\n",
       "    }\n",
       "</style>\n",
       "<table border=\"1\" class=\"dataframe\">\n",
       "  <thead>\n",
       "    <tr style=\"text-align: right;\">\n",
       "      <th></th>\n",
       "      <th>tourney_date</th>\n",
       "      <th>winner_id</th>\n",
       "      <th>loser_id</th>\n",
       "      <th>tourney_id</th>\n",
       "    </tr>\n",
       "  </thead>\n",
       "  <tbody>\n",
       "    <tr>\n",
       "      <th>0</th>\n",
       "      <td>1877-07-09</td>\n",
       "      <td>113987</td>\n",
       "      <td>114149</td>\n",
       "      <td>1877-540</td>\n",
       "    </tr>\n",
       "    <tr>\n",
       "      <th>1</th>\n",
       "      <td>1877-07-09</td>\n",
       "      <td>113987</td>\n",
       "      <td>113999</td>\n",
       "      <td>1877-540</td>\n",
       "    </tr>\n",
       "    <tr>\n",
       "      <th>2</th>\n",
       "      <td>1877-07-09</td>\n",
       "      <td>113987</td>\n",
       "      <td>113963</td>\n",
       "      <td>1877-540</td>\n",
       "    </tr>\n",
       "    <tr>\n",
       "      <th>3</th>\n",
       "      <td>1877-07-09</td>\n",
       "      <td>113963</td>\n",
       "      <td>114158</td>\n",
       "      <td>1877-540</td>\n",
       "    </tr>\n",
       "    <tr>\n",
       "      <th>4</th>\n",
       "      <td>1877-07-09</td>\n",
       "      <td>113999</td>\n",
       "      <td>113953</td>\n",
       "      <td>1877-540</td>\n",
       "    </tr>\n",
       "    <tr>\n",
       "      <th>...</th>\n",
       "      <td>...</td>\n",
       "      <td>...</td>\n",
       "      <td>...</td>\n",
       "      <td>...</td>\n",
       "    </tr>\n",
       "    <tr>\n",
       "      <th>876962</th>\n",
       "      <td>2022-12-26</td>\n",
       "      <td>208168</td>\n",
       "      <td>104581</td>\n",
       "      <td>2022-M-ITF-TUN-63A-2022</td>\n",
       "    </tr>\n",
       "    <tr>\n",
       "      <th>876964</th>\n",
       "      <td>2022-12-26</td>\n",
       "      <td>207796</td>\n",
       "      <td>209911</td>\n",
       "      <td>2022-M-ITF-TUN-63A-2022</td>\n",
       "    </tr>\n",
       "    <tr>\n",
       "      <th>876965</th>\n",
       "      <td>2022-12-26</td>\n",
       "      <td>207834</td>\n",
       "      <td>208866</td>\n",
       "      <td>2022-M-ITF-TUN-63A-2022</td>\n",
       "    </tr>\n",
       "    <tr>\n",
       "      <th>876973</th>\n",
       "      <td>2022-12-26</td>\n",
       "      <td>207987</td>\n",
       "      <td>208519</td>\n",
       "      <td>2022-M-ITF-TUN-63A-2022</td>\n",
       "    </tr>\n",
       "    <tr>\n",
       "      <th>876977</th>\n",
       "      <td>2022-12-26</td>\n",
       "      <td>200289</td>\n",
       "      <td>209360</td>\n",
       "      <td>2022-M-ITF-TUN-63A-2022</td>\n",
       "    </tr>\n",
       "  </tbody>\n",
       "</table>\n",
       "<p>835667 rows × 4 columns</p>\n",
       "</div>"
      ],
      "text/plain": [
       "       tourney_date  winner_id  loser_id               tourney_id\n",
       "0        1877-07-09     113987    114149                 1877-540\n",
       "1        1877-07-09     113987    113999                 1877-540\n",
       "2        1877-07-09     113987    113963                 1877-540\n",
       "3        1877-07-09     113963    114158                 1877-540\n",
       "4        1877-07-09     113999    113953                 1877-540\n",
       "...             ...        ...       ...                      ...\n",
       "876962   2022-12-26     208168    104581  2022-M-ITF-TUN-63A-2022\n",
       "876964   2022-12-26     207796    209911  2022-M-ITF-TUN-63A-2022\n",
       "876965   2022-12-26     207834    208866  2022-M-ITF-TUN-63A-2022\n",
       "876973   2022-12-26     207987    208519  2022-M-ITF-TUN-63A-2022\n",
       "876977   2022-12-26     200289    209360  2022-M-ITF-TUN-63A-2022\n",
       "\n",
       "[835667 rows x 4 columns]"
      ]
     },
     "execution_count": 23,
     "metadata": {},
     "output_type": "execute_result"
    }
   ],
   "source": []
  },
  {
   "cell_type": "code",
   "execution_count": 13,
   "id": "958e7d74-6cda-403f-9545-be2594c07b41",
   "metadata": {
    "tags": []
   },
   "outputs": [],
   "source": [
    "# def get_recent_rating_rd_wp(x, ratingsHistory_df, rdHistory_df):\n",
    "#     \"\"\"Return the most recent ratings and rating deviations for the competitors \n",
    "#     as well as the a priori win probability for the eventual winner according to \n",
    "#         the Glicko-2 rating system. **kwargs : ratingsHistory_df,rdHistory_df\"\"\"\n",
    "#     tourney_date = x['tourney_date']\n",
    "#     winner_id = x['winner_id']\n",
    "#     loser_id = x['loser_id']\n",
    "#     try:\n",
    "#         if not type(tourney_date) == pd._libs.tslibs.timestamps.Timestamp:\n",
    "#             tourney_date = pd.to_datetime(tourney_date)\n",
    "#         # for robustness, assuming that rd and ratings may have different timestamps\n",
    "#         timestamp_rh = max(ratingsHistory_df.index[ratingsHistory_df.index<=tourney_date])\n",
    "#         timestamp_rd = max(rdHistory_df.index[rdHistory_df.index<=tourney_date])\n",
    "#         winner_rating, loser_rating = ratingsHistory_df.loc[timestamp_rh,[winner_id,loser_id]]\n",
    "#         winner_rd, loser_rd = rdHistory_df.loc[timestamp_rd,[winner_id,loser_id]]\n",
    "#         wp = winProbG(winner_rating, winner_rd, loser_rating, loser_rd)\n",
    "#         return winner_rating, winner_rd, loser_rating, loser_rd, wp\n",
    "#     except KeyError:\n",
    "#         return np.nan, np.nan, np.nan, np.nan,np.nan"
   ]
  },
  {
   "cell_type": "markdown",
   "id": "52d28aab-f50d-4c31-8a4c-3b3b19b0323b",
   "metadata": {},
   "source": [
    "###### Elo application"
   ]
  },
  {
   "cell_type": "code",
   "execution_count": 24,
   "id": "a83e2d52-9ec8-400d-8b91-9eb8472930be",
   "metadata": {},
   "outputs": [
    {
     "ename": "ValueError",
     "evalue": "max() arg is an empty sequence",
     "output_type": "error",
     "traceback": [
      "\u001b[0;31m---------------------------------------------------------------------------\u001b[0m",
      "\u001b[0;31mValueError\u001b[0m                                Traceback (most recent call last)",
      "\u001b[0;32m/var/folders/7q/63cgxnn50sl5zwxkchv_j2cr0000gn/T/ipykernel_1554/763866628.py\u001b[0m in \u001b[0;36m<module>\u001b[0;34m\u001b[0m\n\u001b[0;32m----> 1\u001b[0;31m we_le_pw = matches.apply(lambda x:\n\u001b[0m\u001b[1;32m      2\u001b[0m                            get_recent_rating_wp(\n\u001b[1;32m      3\u001b[0m                                \u001b[0mratingsHistory_df\u001b[0m\u001b[0;34m,\u001b[0m\u001b[0;34m\u001b[0m\u001b[0;34m\u001b[0m\u001b[0m\n\u001b[1;32m      4\u001b[0m                                \u001b[0mx\u001b[0m\u001b[0;34m[\u001b[0m\u001b[0;34m'tourney_date'\u001b[0m\u001b[0;34m]\u001b[0m\u001b[0;34m,\u001b[0m\u001b[0;34m\u001b[0m\u001b[0;34m\u001b[0m\u001b[0m\n\u001b[1;32m      5\u001b[0m                                \u001b[0mx\u001b[0m\u001b[0;34m[\u001b[0m\u001b[0;34m'winner_id'\u001b[0m\u001b[0;34m]\u001b[0m\u001b[0;34m,\u001b[0m\u001b[0;34m\u001b[0m\u001b[0;34m\u001b[0m\u001b[0m\n",
      "\u001b[0;32m~/opt/anaconda3/lib/python3.9/site-packages/pandas/core/frame.py\u001b[0m in \u001b[0;36mapply\u001b[0;34m(self, func, axis, raw, result_type, args, **kwargs)\u001b[0m\n\u001b[1;32m   8846\u001b[0m             \u001b[0mkwargs\u001b[0m\u001b[0;34m=\u001b[0m\u001b[0mkwargs\u001b[0m\u001b[0;34m,\u001b[0m\u001b[0;34m\u001b[0m\u001b[0;34m\u001b[0m\u001b[0m\n\u001b[1;32m   8847\u001b[0m         )\n\u001b[0;32m-> 8848\u001b[0;31m         \u001b[0;32mreturn\u001b[0m \u001b[0mop\u001b[0m\u001b[0;34m.\u001b[0m\u001b[0mapply\u001b[0m\u001b[0;34m(\u001b[0m\u001b[0;34m)\u001b[0m\u001b[0;34m.\u001b[0m\u001b[0m__finalize__\u001b[0m\u001b[0;34m(\u001b[0m\u001b[0mself\u001b[0m\u001b[0;34m,\u001b[0m \u001b[0mmethod\u001b[0m\u001b[0;34m=\u001b[0m\u001b[0;34m\"apply\"\u001b[0m\u001b[0;34m)\u001b[0m\u001b[0;34m\u001b[0m\u001b[0;34m\u001b[0m\u001b[0m\n\u001b[0m\u001b[1;32m   8849\u001b[0m \u001b[0;34m\u001b[0m\u001b[0m\n\u001b[1;32m   8850\u001b[0m     def applymap(\n",
      "\u001b[0;32m~/opt/anaconda3/lib/python3.9/site-packages/pandas/core/apply.py\u001b[0m in \u001b[0;36mapply\u001b[0;34m(self)\u001b[0m\n\u001b[1;32m    731\u001b[0m             \u001b[0;32mreturn\u001b[0m \u001b[0mself\u001b[0m\u001b[0;34m.\u001b[0m\u001b[0mapply_raw\u001b[0m\u001b[0;34m(\u001b[0m\u001b[0;34m)\u001b[0m\u001b[0;34m\u001b[0m\u001b[0;34m\u001b[0m\u001b[0m\n\u001b[1;32m    732\u001b[0m \u001b[0;34m\u001b[0m\u001b[0m\n\u001b[0;32m--> 733\u001b[0;31m         \u001b[0;32mreturn\u001b[0m \u001b[0mself\u001b[0m\u001b[0;34m.\u001b[0m\u001b[0mapply_standard\u001b[0m\u001b[0;34m(\u001b[0m\u001b[0;34m)\u001b[0m\u001b[0;34m\u001b[0m\u001b[0;34m\u001b[0m\u001b[0m\n\u001b[0m\u001b[1;32m    734\u001b[0m \u001b[0;34m\u001b[0m\u001b[0m\n\u001b[1;32m    735\u001b[0m     \u001b[0;32mdef\u001b[0m \u001b[0magg\u001b[0m\u001b[0;34m(\u001b[0m\u001b[0mself\u001b[0m\u001b[0;34m)\u001b[0m\u001b[0;34m:\u001b[0m\u001b[0;34m\u001b[0m\u001b[0;34m\u001b[0m\u001b[0m\n",
      "\u001b[0;32m~/opt/anaconda3/lib/python3.9/site-packages/pandas/core/apply.py\u001b[0m in \u001b[0;36mapply_standard\u001b[0;34m(self)\u001b[0m\n\u001b[1;32m    855\u001b[0m \u001b[0;34m\u001b[0m\u001b[0m\n\u001b[1;32m    856\u001b[0m     \u001b[0;32mdef\u001b[0m \u001b[0mapply_standard\u001b[0m\u001b[0;34m(\u001b[0m\u001b[0mself\u001b[0m\u001b[0;34m)\u001b[0m\u001b[0;34m:\u001b[0m\u001b[0;34m\u001b[0m\u001b[0;34m\u001b[0m\u001b[0m\n\u001b[0;32m--> 857\u001b[0;31m         \u001b[0mresults\u001b[0m\u001b[0;34m,\u001b[0m \u001b[0mres_index\u001b[0m \u001b[0;34m=\u001b[0m \u001b[0mself\u001b[0m\u001b[0;34m.\u001b[0m\u001b[0mapply_series_generator\u001b[0m\u001b[0;34m(\u001b[0m\u001b[0;34m)\u001b[0m\u001b[0;34m\u001b[0m\u001b[0;34m\u001b[0m\u001b[0m\n\u001b[0m\u001b[1;32m    858\u001b[0m \u001b[0;34m\u001b[0m\u001b[0m\n\u001b[1;32m    859\u001b[0m         \u001b[0;31m# wrap results\u001b[0m\u001b[0;34m\u001b[0m\u001b[0;34m\u001b[0m\u001b[0m\n",
      "\u001b[0;32m~/opt/anaconda3/lib/python3.9/site-packages/pandas/core/apply.py\u001b[0m in \u001b[0;36mapply_series_generator\u001b[0;34m(self)\u001b[0m\n\u001b[1;32m    871\u001b[0m             \u001b[0;32mfor\u001b[0m \u001b[0mi\u001b[0m\u001b[0;34m,\u001b[0m \u001b[0mv\u001b[0m \u001b[0;32min\u001b[0m \u001b[0menumerate\u001b[0m\u001b[0;34m(\u001b[0m\u001b[0mseries_gen\u001b[0m\u001b[0;34m)\u001b[0m\u001b[0;34m:\u001b[0m\u001b[0;34m\u001b[0m\u001b[0;34m\u001b[0m\u001b[0m\n\u001b[1;32m    872\u001b[0m                 \u001b[0;31m# ignore SettingWithCopy here in case the user mutates\u001b[0m\u001b[0;34m\u001b[0m\u001b[0;34m\u001b[0m\u001b[0m\n\u001b[0;32m--> 873\u001b[0;31m                 \u001b[0mresults\u001b[0m\u001b[0;34m[\u001b[0m\u001b[0mi\u001b[0m\u001b[0;34m]\u001b[0m \u001b[0;34m=\u001b[0m \u001b[0mself\u001b[0m\u001b[0;34m.\u001b[0m\u001b[0mf\u001b[0m\u001b[0;34m(\u001b[0m\u001b[0mv\u001b[0m\u001b[0;34m)\u001b[0m\u001b[0;34m\u001b[0m\u001b[0;34m\u001b[0m\u001b[0m\n\u001b[0m\u001b[1;32m    874\u001b[0m                 \u001b[0;32mif\u001b[0m \u001b[0misinstance\u001b[0m\u001b[0;34m(\u001b[0m\u001b[0mresults\u001b[0m\u001b[0;34m[\u001b[0m\u001b[0mi\u001b[0m\u001b[0;34m]\u001b[0m\u001b[0;34m,\u001b[0m \u001b[0mABCSeries\u001b[0m\u001b[0;34m)\u001b[0m\u001b[0;34m:\u001b[0m\u001b[0;34m\u001b[0m\u001b[0;34m\u001b[0m\u001b[0m\n\u001b[1;32m    875\u001b[0m                     \u001b[0;31m# If we have a view on v, we need to make a copy because\u001b[0m\u001b[0;34m\u001b[0m\u001b[0;34m\u001b[0m\u001b[0m\n",
      "\u001b[0;32m/var/folders/7q/63cgxnn50sl5zwxkchv_j2cr0000gn/T/ipykernel_1554/763866628.py\u001b[0m in \u001b[0;36m<lambda>\u001b[0;34m(x)\u001b[0m\n\u001b[1;32m      1\u001b[0m we_le_pw = matches.apply(lambda x:\n\u001b[0;32m----> 2\u001b[0;31m                            get_recent_rating_wp(\n\u001b[0m\u001b[1;32m      3\u001b[0m                                \u001b[0mratingsHistory_df\u001b[0m\u001b[0;34m,\u001b[0m\u001b[0;34m\u001b[0m\u001b[0;34m\u001b[0m\u001b[0m\n\u001b[1;32m      4\u001b[0m                                \u001b[0mx\u001b[0m\u001b[0;34m[\u001b[0m\u001b[0;34m'tourney_date'\u001b[0m\u001b[0;34m]\u001b[0m\u001b[0;34m,\u001b[0m\u001b[0;34m\u001b[0m\u001b[0;34m\u001b[0m\u001b[0m\n\u001b[1;32m      5\u001b[0m                                \u001b[0mx\u001b[0m\u001b[0;34m[\u001b[0m\u001b[0;34m'winner_id'\u001b[0m\u001b[0;34m]\u001b[0m\u001b[0;34m,\u001b[0m\u001b[0;34m\u001b[0m\u001b[0;34m\u001b[0m\u001b[0m\n",
      "\u001b[0;32m~/dsir/capstone/Notebooks/functions.py\u001b[0m in \u001b[0;36mget_recent_rating_wp\u001b[0;34m(ratingsHistory_df, tourney_date, winner_id, loser_id)\u001b[0m\n\u001b[1;32m    254\u001b[0m     \u001b[0;32mif\u001b[0m \u001b[0;32mnot\u001b[0m \u001b[0mtype\u001b[0m\u001b[0;34m(\u001b[0m\u001b[0mtourney_date\u001b[0m\u001b[0;34m)\u001b[0m \u001b[0;34m==\u001b[0m \u001b[0mpd\u001b[0m\u001b[0;34m.\u001b[0m\u001b[0m_libs\u001b[0m\u001b[0;34m.\u001b[0m\u001b[0mtslibs\u001b[0m\u001b[0;34m.\u001b[0m\u001b[0mtimestamps\u001b[0m\u001b[0;34m.\u001b[0m\u001b[0mTimestamp\u001b[0m\u001b[0;34m:\u001b[0m\u001b[0;34m\u001b[0m\u001b[0;34m\u001b[0m\u001b[0m\n\u001b[1;32m    255\u001b[0m         \u001b[0mtourney_date\u001b[0m \u001b[0;34m=\u001b[0m \u001b[0mpd\u001b[0m\u001b[0;34m.\u001b[0m\u001b[0mto_datetime\u001b[0m\u001b[0;34m(\u001b[0m\u001b[0mtourney_date\u001b[0m\u001b[0;34m)\u001b[0m\u001b[0;34m\u001b[0m\u001b[0;34m\u001b[0m\u001b[0m\n\u001b[0;32m--> 256\u001b[0;31m     \u001b[0mtimestamp\u001b[0m \u001b[0;34m=\u001b[0m \u001b[0mmax\u001b[0m\u001b[0;34m(\u001b[0m\u001b[0mratingsHistory_df\u001b[0m\u001b[0;34m.\u001b[0m\u001b[0mindex\u001b[0m\u001b[0;34m[\u001b[0m\u001b[0mratingsHistory_df\u001b[0m\u001b[0;34m.\u001b[0m\u001b[0mindex\u001b[0m\u001b[0;34m<=\u001b[0m\u001b[0mtourney_date\u001b[0m\u001b[0;34m]\u001b[0m\u001b[0;34m)\u001b[0m\u001b[0;34m\u001b[0m\u001b[0;34m\u001b[0m\u001b[0m\n\u001b[0m\u001b[1;32m    257\u001b[0m     \u001b[0mwinner_rating\u001b[0m\u001b[0;34m,\u001b[0m \u001b[0mloser_rating\u001b[0m \u001b[0;34m=\u001b[0m \u001b[0mratingsHistory_df\u001b[0m\u001b[0;34m.\u001b[0m\u001b[0mloc\u001b[0m\u001b[0;34m[\u001b[0m\u001b[0mtimestamp\u001b[0m\u001b[0;34m,\u001b[0m\u001b[0;34m[\u001b[0m\u001b[0mwinner_id\u001b[0m\u001b[0;34m,\u001b[0m\u001b[0mloser_id\u001b[0m\u001b[0;34m]\u001b[0m\u001b[0;34m]\u001b[0m\u001b[0;34m\u001b[0m\u001b[0;34m\u001b[0m\u001b[0m\n\u001b[1;32m    258\u001b[0m     \u001b[0mwp\u001b[0m \u001b[0;34m=\u001b[0m \u001b[0;36m1\u001b[0m\u001b[0;34m/\u001b[0m\u001b[0;34m(\u001b[0m\u001b[0;36m1\u001b[0m \u001b[0;34m+\u001b[0m \u001b[0;36m10\u001b[0m\u001b[0;34m**\u001b[0m\u001b[0;34m(\u001b[0m\u001b[0;34m(\u001b[0m\u001b[0mloser_rating\u001b[0m\u001b[0;34m-\u001b[0m\u001b[0mwinner_rating\u001b[0m\u001b[0;34m)\u001b[0m\u001b[0;34m/\u001b[0m\u001b[0;36m400\u001b[0m\u001b[0;34m)\u001b[0m\u001b[0;34m)\u001b[0m\u001b[0;34m\u001b[0m\u001b[0;34m\u001b[0m\u001b[0m\n",
      "\u001b[0;31mValueError\u001b[0m: max() arg is an empty sequence"
     ]
    }
   ],
   "source": []
  },
  {
   "cell_type": "code",
   "execution_count": 29,
   "id": "157d9b36-60d4-482b-a16c-e73868c5df6e",
   "metadata": {
    "tags": []
   },
   "outputs": [
    {
     "data": {
      "text/html": [
       "<div>\n",
       "<style scoped>\n",
       "    .dataframe tbody tr th:only-of-type {\n",
       "        vertical-align: middle;\n",
       "    }\n",
       "\n",
       "    .dataframe tbody tr th {\n",
       "        vertical-align: top;\n",
       "    }\n",
       "\n",
       "    .dataframe thead th {\n",
       "        text-align: right;\n",
       "    }\n",
       "</style>\n",
       "<table border=\"1\" class=\"dataframe\">\n",
       "  <thead>\n",
       "    <tr style=\"text-align: right;\">\n",
       "      <th></th>\n",
       "      <th>131500</th>\n",
       "      <th>131584</th>\n",
       "      <th>131866</th>\n",
       "      <th>131867</th>\n",
       "      <th>131869</th>\n",
       "      <th>131873</th>\n",
       "      <th>131876</th>\n",
       "      <th>131879</th>\n",
       "      <th>131881</th>\n",
       "      <th>131884</th>\n",
       "      <th>...</th>\n",
       "      <th>130340</th>\n",
       "      <th>130355</th>\n",
       "      <th>130457</th>\n",
       "      <th>130493</th>\n",
       "      <th>130542</th>\n",
       "      <th>130550</th>\n",
       "      <th>130552</th>\n",
       "      <th>130553</th>\n",
       "      <th>130655</th>\n",
       "      <th>130767</th>\n",
       "    </tr>\n",
       "  </thead>\n",
       "  <tbody>\n",
       "    <tr>\n",
       "      <th>1877-07-09</th>\n",
       "      <td>1500.0</td>\n",
       "      <td>1500.0</td>\n",
       "      <td>1500.0</td>\n",
       "      <td>1500.0</td>\n",
       "      <td>1500.0</td>\n",
       "      <td>1500.0</td>\n",
       "      <td>1500.0</td>\n",
       "      <td>1500.0</td>\n",
       "      <td>1500.0</td>\n",
       "      <td>1500.0</td>\n",
       "      <td>...</td>\n",
       "      <td>1500.0</td>\n",
       "      <td>1500.0</td>\n",
       "      <td>1500.0</td>\n",
       "      <td>1500.0</td>\n",
       "      <td>1500.0</td>\n",
       "      <td>1500.0</td>\n",
       "      <td>1500.0</td>\n",
       "      <td>1500.0</td>\n",
       "      <td>1500.0</td>\n",
       "      <td>1500.0</td>\n",
       "    </tr>\n",
       "  </tbody>\n",
       "</table>\n",
       "<p>1 rows × 32577 columns</p>\n",
       "</div>"
      ],
      "text/plain": [
       "            131500  131584  131866  131867  131869  131873  131876  131879  \\\n",
       "1877-07-09  1500.0  1500.0  1500.0  1500.0  1500.0  1500.0  1500.0  1500.0   \n",
       "\n",
       "            131881  131884  ...  130340  130355  130457  130493  130542  \\\n",
       "1877-07-09  1500.0  1500.0  ...  1500.0  1500.0  1500.0  1500.0  1500.0   \n",
       "\n",
       "            130550  130552  130553  130655  130767  \n",
       "1877-07-09  1500.0  1500.0  1500.0  1500.0  1500.0  \n",
       "\n",
       "[1 rows x 32577 columns]"
      ]
     },
     "execution_count": 29,
     "metadata": {},
     "output_type": "execute_result"
    }
   ],
   "source": [
    "padRow = pd.DataFrame({col: 1500.0 for col in ratingsHistory_df.columns}, index = [pd.Timestamp('1877-07-09T00')])\n",
    "padRow"
   ]
  },
  {
   "cell_type": "code",
   "execution_count": 30,
   "id": "9f50164d-2819-4af1-8500-088a0c666e7d",
   "metadata": {
    "tags": []
   },
   "outputs": [],
   "source": [
    "ratingsHistory_df = pd.concat([padRow,ratingsHistory_df],axis=0)"
   ]
  },
  {
   "cell_type": "code",
   "execution_count": null,
   "id": "1cd98b60-78d4-4446-8d91-92603e6bc0e2",
   "metadata": {},
   "outputs": [],
   "source": [
    "we_le_pw = matches.apply(lambda x:\n",
    "                           get_recent_rating_wp(\n",
    "                               ratingsHistory_df, \n",
    "                               x['tourney_date'], \n",
    "                               x['winner_id'], \n",
    "                               x['loser_id']),\n",
    "                            axis=1)"
   ]
  },
  {
   "cell_type": "code",
   "execution_count": null,
   "id": "79fad9b4-508f-4d3a-9f16-c5b66e92bd5b",
   "metadata": {},
   "outputs": [],
   "source": [
    "we_le_pw_df = pd.DataFrame.from_records(we_le_pw, columns = ['winner_elo','loser_elo','win_prob'])"
   ]
  },
  {
   "cell_type": "code",
   "execution_count": null,
   "id": "d0193f57-d749-40b7-9eb5-e4d69c85aa50",
   "metadata": {
    "tags": []
   },
   "outputs": [],
   "source": [
    "we_le_pw_df"
   ]
  },
  {
   "cell_type": "code",
   "execution_count": null,
   "id": "9349bb02-787e-489b-a57d-6e8f5ae8c5fb",
   "metadata": {
    "tags": []
   },
   "outputs": [],
   "source": [
    "singles_r_wp = pd.concat([singles_matches,we_le_pw_df],axis = 1)"
   ]
  },
  {
   "cell_type": "code",
   "execution_count": null,
   "id": "51479e21-9be3-40a5-a04b-d15154173635",
   "metadata": {
    "tags": []
   },
   "outputs": [],
   "source": [
    "singles_r_wp"
   ]
  },
  {
   "cell_type": "markdown",
   "id": "7cb44933-6a18-42c3-a525-0ee439cc9e9c",
   "metadata": {},
   "source": [
    "How well does the elo prediction match with reality?"
   ]
  },
  {
   "cell_type": "code",
   "execution_count": null,
   "id": "fbb4530c-63b6-4652-8900-1a6a5add91dc",
   "metadata": {},
   "outputs": [],
   "source": [
    "singles_r_wp['win_prob'].mean() # the higher elo-rated player wins %56.4 of the time\n"
   ]
  },
  {
   "cell_type": "code",
   "execution_count": null,
   "id": "54c9e7ea-846e-4098-82a7-d22aa66d0f15",
   "metadata": {},
   "outputs": [],
   "source": [
    "singles_r_wp[singles_r_wp['tourney_level']== 'G']['win_prob'].mean() \n",
    "# In grand-slam events, the higher rated player wins 58.1% of the time"
   ]
  },
  {
   "cell_type": "code",
   "execution_count": null,
   "id": "ead32917-15ab-4cdf-b6b9-b6daba686e17",
   "metadata": {},
   "outputs": [],
   "source": [
    "singles_r_wp[singles_r_wp['tourney_level']== 'G']"
   ]
  },
  {
   "cell_type": "code",
   "execution_count": null,
   "id": "c8243fc5-f1d6-483f-bfc3-e73250d1440a",
   "metadata": {},
   "outputs": [],
   "source": [
    "singles_r_wp['tourney_level'].unique()"
   ]
  },
  {
   "cell_type": "code",
   "execution_count": null,
   "id": "bec9b157-e974-4fa7-a1fd-f53d9ae059c8",
   "metadata": {},
   "outputs": [],
   "source": [
    "np.mean(singles_r_wp[(singles_r_wp['winner_rank'].isna() == False) & (singles_r_wp['loser_rank'].isna() == False)]['winner_rank'] <singles_r_wp[(singles_r_wp['winner_rank'].isna() == False) & (singles_r_wp['loser_rank'].isna() == False)]['loser_rank'])"
   ]
  },
  {
   "cell_type": "markdown",
   "id": "609f041c-3f8b-4d68-a357-d5c12ef6fa51",
   "metadata": {},
   "source": [
    "Of the ranked matches (both players have a ranking), 64.8% of the winners have a higher ranking."
   ]
  },
  {
   "cell_type": "code",
   "execution_count": null,
   "id": "0df74064-5d5a-4eda-8ae3-4cdb03baa0ff",
   "metadata": {},
   "outputs": [],
   "source": [
    "np.mean(singles_r_wp[(singles_r_wp['winner_rank'].isna() == False) & (singles_r_wp['loser_rank'].isna() == False)]['loser_elo'] <singles_r_wp[(singles_r_wp['winner_rank'].isna() == False) & (singles_r_wp['loser_rank'].isna() == False)]['winner_elo'])"
   ]
  },
  {
   "cell_type": "code",
   "execution_count": null,
   "id": "c9557367-28f4-4260-82de-1acc9c7f3059",
   "metadata": {},
   "outputs": [],
   "source": [
    "from matplotlib import pyplot as plt\n",
    "import seaborn as sns"
   ]
  },
  {
   "cell_type": "code",
   "execution_count": null,
   "id": "ed2f2675-d1ee-40d0-93d9-d26f3b2a8f43",
   "metadata": {},
   "outputs": [],
   "source": [
    "sns.displot(data = singles_r_wp, x = 'win_prob').set(title = 'Histogram of win_prob')"
   ]
  },
  {
   "cell_type": "code",
   "execution_count": null,
   "id": "de76b569-3a62-46a3-8f48-4d61d249b5c2",
   "metadata": {
    "tags": []
   },
   "outputs": [],
   "source": [
    "sns.displot(data = singles_r_wp, x = 'win_prob').set(\n",
    "    title = 'Histogram of win_prob: elo with 1yr rating periods')\n",
    "plt.axvline(.5,0,17500, c= 'grey', alpha = .5)\n",
    "plt.grid()\n",
    "plt.show()\n",
    "plt.savefig('../Assets/Elo_1yr_hist',bbox_inches = 'tight')"
   ]
  },
  {
   "cell_type": "markdown",
   "id": "42abdba4-7d32-4ad6-a35f-4af6de7dfa35",
   "metadata": {
    "tags": []
   },
   "source": [
    "Above we can see the distribution of win_prob for the winners.  Note the spike at win_prob = .5, which indicates the number of matches between players that had not been rated in the prior epoch and thus have the default rating of 1500.  It is promising that upon visual inspection, the number of wins with win_prob .4 is only slightly above the number of wins with win_prob of .6.  Likewise there are in the ballpark of 25% of the number of wins with a prob of .2 compared to .8.  However, there does appear to be a gradual overestimation of the win probabilities at the extreme ends of the scale.  For instance, at .9 win prob there appears to be only around 3x the number of wins as at .1 win probability.  The model is perhaps not fully picking up the true volatilities in match performance or accounting for the uncertainty of the players' mean ability."
   ]
  },
  {
   "cell_type": "code",
   "execution_count": null,
   "id": "bd916827-d401-41f4-b984-d0e7c6a55692",
   "metadata": {},
   "outputs": [],
   "source": []
  },
  {
   "cell_type": "code",
   "execution_count": null,
   "id": "a31189c0-3348-45f0-8881-35711a9aae38",
   "metadata": {
    "tags": []
   },
   "outputs": [],
   "source": [
    "singles_matches"
   ]
  },
  {
   "cell_type": "code",
   "execution_count": null,
   "id": "a802b0cd-8702-4b9d-ad65-b5a46a8fee5b",
   "metadata": {},
   "outputs": [],
   "source": []
  },
  {
   "cell_type": "code",
   "execution_count": null,
   "id": "2a1bdaa7-6445-468d-b20a-9166df1d6e78",
   "metadata": {},
   "outputs": [],
   "source": [
    "# check that elos are not 1500..."
   ]
  },
  {
   "cell_type": "code",
   "execution_count": null,
   "id": "4b2003bb-5546-4a35-b312-9508ba663360",
   "metadata": {},
   "outputs": [],
   "source": [
    "singles_matches[1:10].shape,matches[1:10].shape"
   ]
  },
  {
   "cell_type": "code",
   "execution_count": null,
   "id": "59e0b096-fe88-4a59-9f54-377fcc43509f",
   "metadata": {},
   "outputs": [],
   "source": [
    "matches.dtypes"
   ]
  },
  {
   "cell_type": "code",
   "execution_count": null,
   "id": "069c44e6-0751-4ad2-884f-bdd24b8ed07e",
   "metadata": {
    "tags": []
   },
   "outputs": [],
   "source": [
    "testDf"
   ]
  },
  {
   "cell_type": "code",
   "execution_count": 26,
   "id": "679f2a9d-4277-47a0-b508-f80eaddcbe68",
   "metadata": {
    "collapsed": true,
    "jupyter": {
     "outputs_hidden": true
    },
    "tags": []
   },
   "outputs": [
    {
     "ename": "ValueError",
     "evalue": "max() arg is an empty sequence",
     "output_type": "error",
     "traceback": [
      "\u001b[0;31m---------------------------------------------------------------------------\u001b[0m",
      "\u001b[0;31mValueError\u001b[0m                                Traceback (most recent call last)",
      "\u001b[0;32m/var/folders/7q/63cgxnn50sl5zwxkchv_j2cr0000gn/T/ipykernel_1554/867015293.py\u001b[0m in \u001b[0;36m<module>\u001b[0;34m\u001b[0m\n\u001b[0;32m----> 1\u001b[0;31m matches[1:10].apply(\n\u001b[0m\u001b[1;32m      2\u001b[0m     lambda x: get_recent_rating_wp(ratingsHistory_df, x['tourney_date'], \n\u001b[1;32m      3\u001b[0m                                    x['winner_id'], x['loser_id']),axis=1)\n",
      "\u001b[0;32m~/opt/anaconda3/lib/python3.9/site-packages/pandas/core/frame.py\u001b[0m in \u001b[0;36mapply\u001b[0;34m(self, func, axis, raw, result_type, args, **kwargs)\u001b[0m\n\u001b[1;32m   8846\u001b[0m             \u001b[0mkwargs\u001b[0m\u001b[0;34m=\u001b[0m\u001b[0mkwargs\u001b[0m\u001b[0;34m,\u001b[0m\u001b[0;34m\u001b[0m\u001b[0;34m\u001b[0m\u001b[0m\n\u001b[1;32m   8847\u001b[0m         )\n\u001b[0;32m-> 8848\u001b[0;31m         \u001b[0;32mreturn\u001b[0m \u001b[0mop\u001b[0m\u001b[0;34m.\u001b[0m\u001b[0mapply\u001b[0m\u001b[0;34m(\u001b[0m\u001b[0;34m)\u001b[0m\u001b[0;34m.\u001b[0m\u001b[0m__finalize__\u001b[0m\u001b[0;34m(\u001b[0m\u001b[0mself\u001b[0m\u001b[0;34m,\u001b[0m \u001b[0mmethod\u001b[0m\u001b[0;34m=\u001b[0m\u001b[0;34m\"apply\"\u001b[0m\u001b[0;34m)\u001b[0m\u001b[0;34m\u001b[0m\u001b[0;34m\u001b[0m\u001b[0m\n\u001b[0m\u001b[1;32m   8849\u001b[0m \u001b[0;34m\u001b[0m\u001b[0m\n\u001b[1;32m   8850\u001b[0m     def applymap(\n",
      "\u001b[0;32m~/opt/anaconda3/lib/python3.9/site-packages/pandas/core/apply.py\u001b[0m in \u001b[0;36mapply\u001b[0;34m(self)\u001b[0m\n\u001b[1;32m    731\u001b[0m             \u001b[0;32mreturn\u001b[0m \u001b[0mself\u001b[0m\u001b[0;34m.\u001b[0m\u001b[0mapply_raw\u001b[0m\u001b[0;34m(\u001b[0m\u001b[0;34m)\u001b[0m\u001b[0;34m\u001b[0m\u001b[0;34m\u001b[0m\u001b[0m\n\u001b[1;32m    732\u001b[0m \u001b[0;34m\u001b[0m\u001b[0m\n\u001b[0;32m--> 733\u001b[0;31m         \u001b[0;32mreturn\u001b[0m \u001b[0mself\u001b[0m\u001b[0;34m.\u001b[0m\u001b[0mapply_standard\u001b[0m\u001b[0;34m(\u001b[0m\u001b[0;34m)\u001b[0m\u001b[0;34m\u001b[0m\u001b[0;34m\u001b[0m\u001b[0m\n\u001b[0m\u001b[1;32m    734\u001b[0m \u001b[0;34m\u001b[0m\u001b[0m\n\u001b[1;32m    735\u001b[0m     \u001b[0;32mdef\u001b[0m \u001b[0magg\u001b[0m\u001b[0;34m(\u001b[0m\u001b[0mself\u001b[0m\u001b[0;34m)\u001b[0m\u001b[0;34m:\u001b[0m\u001b[0;34m\u001b[0m\u001b[0;34m\u001b[0m\u001b[0m\n",
      "\u001b[0;32m~/opt/anaconda3/lib/python3.9/site-packages/pandas/core/apply.py\u001b[0m in \u001b[0;36mapply_standard\u001b[0;34m(self)\u001b[0m\n\u001b[1;32m    855\u001b[0m \u001b[0;34m\u001b[0m\u001b[0m\n\u001b[1;32m    856\u001b[0m     \u001b[0;32mdef\u001b[0m \u001b[0mapply_standard\u001b[0m\u001b[0;34m(\u001b[0m\u001b[0mself\u001b[0m\u001b[0;34m)\u001b[0m\u001b[0;34m:\u001b[0m\u001b[0;34m\u001b[0m\u001b[0;34m\u001b[0m\u001b[0m\n\u001b[0;32m--> 857\u001b[0;31m         \u001b[0mresults\u001b[0m\u001b[0;34m,\u001b[0m \u001b[0mres_index\u001b[0m \u001b[0;34m=\u001b[0m \u001b[0mself\u001b[0m\u001b[0;34m.\u001b[0m\u001b[0mapply_series_generator\u001b[0m\u001b[0;34m(\u001b[0m\u001b[0;34m)\u001b[0m\u001b[0;34m\u001b[0m\u001b[0;34m\u001b[0m\u001b[0m\n\u001b[0m\u001b[1;32m    858\u001b[0m \u001b[0;34m\u001b[0m\u001b[0m\n\u001b[1;32m    859\u001b[0m         \u001b[0;31m# wrap results\u001b[0m\u001b[0;34m\u001b[0m\u001b[0;34m\u001b[0m\u001b[0m\n",
      "\u001b[0;32m~/opt/anaconda3/lib/python3.9/site-packages/pandas/core/apply.py\u001b[0m in \u001b[0;36mapply_series_generator\u001b[0;34m(self)\u001b[0m\n\u001b[1;32m    871\u001b[0m             \u001b[0;32mfor\u001b[0m \u001b[0mi\u001b[0m\u001b[0;34m,\u001b[0m \u001b[0mv\u001b[0m \u001b[0;32min\u001b[0m \u001b[0menumerate\u001b[0m\u001b[0;34m(\u001b[0m\u001b[0mseries_gen\u001b[0m\u001b[0;34m)\u001b[0m\u001b[0;34m:\u001b[0m\u001b[0;34m\u001b[0m\u001b[0;34m\u001b[0m\u001b[0m\n\u001b[1;32m    872\u001b[0m                 \u001b[0;31m# ignore SettingWithCopy here in case the user mutates\u001b[0m\u001b[0;34m\u001b[0m\u001b[0;34m\u001b[0m\u001b[0m\n\u001b[0;32m--> 873\u001b[0;31m                 \u001b[0mresults\u001b[0m\u001b[0;34m[\u001b[0m\u001b[0mi\u001b[0m\u001b[0;34m]\u001b[0m \u001b[0;34m=\u001b[0m \u001b[0mself\u001b[0m\u001b[0;34m.\u001b[0m\u001b[0mf\u001b[0m\u001b[0;34m(\u001b[0m\u001b[0mv\u001b[0m\u001b[0;34m)\u001b[0m\u001b[0;34m\u001b[0m\u001b[0;34m\u001b[0m\u001b[0m\n\u001b[0m\u001b[1;32m    874\u001b[0m                 \u001b[0;32mif\u001b[0m \u001b[0misinstance\u001b[0m\u001b[0;34m(\u001b[0m\u001b[0mresults\u001b[0m\u001b[0;34m[\u001b[0m\u001b[0mi\u001b[0m\u001b[0;34m]\u001b[0m\u001b[0;34m,\u001b[0m \u001b[0mABCSeries\u001b[0m\u001b[0;34m)\u001b[0m\u001b[0;34m:\u001b[0m\u001b[0;34m\u001b[0m\u001b[0;34m\u001b[0m\u001b[0m\n\u001b[1;32m    875\u001b[0m                     \u001b[0;31m# If we have a view on v, we need to make a copy because\u001b[0m\u001b[0;34m\u001b[0m\u001b[0;34m\u001b[0m\u001b[0m\n",
      "\u001b[0;32m/var/folders/7q/63cgxnn50sl5zwxkchv_j2cr0000gn/T/ipykernel_1554/867015293.py\u001b[0m in \u001b[0;36m<lambda>\u001b[0;34m(x)\u001b[0m\n\u001b[1;32m      1\u001b[0m matches[1:10].apply(\n\u001b[0;32m----> 2\u001b[0;31m     lambda x: get_recent_rating_wp(ratingsHistory_df, x['tourney_date'], \n\u001b[0m\u001b[1;32m      3\u001b[0m                                    x['winner_id'], x['loser_id']),axis=1)\n",
      "\u001b[0;32m~/dsir/capstone/Notebooks/functions.py\u001b[0m in \u001b[0;36mget_recent_rating_wp\u001b[0;34m(ratingsHistory_df, tourney_date, winner_id, loser_id)\u001b[0m\n\u001b[1;32m    254\u001b[0m     \u001b[0;32mif\u001b[0m \u001b[0;32mnot\u001b[0m \u001b[0mtype\u001b[0m\u001b[0;34m(\u001b[0m\u001b[0mtourney_date\u001b[0m\u001b[0;34m)\u001b[0m \u001b[0;34m==\u001b[0m \u001b[0mpd\u001b[0m\u001b[0;34m.\u001b[0m\u001b[0m_libs\u001b[0m\u001b[0;34m.\u001b[0m\u001b[0mtslibs\u001b[0m\u001b[0;34m.\u001b[0m\u001b[0mtimestamps\u001b[0m\u001b[0;34m.\u001b[0m\u001b[0mTimestamp\u001b[0m\u001b[0;34m:\u001b[0m\u001b[0;34m\u001b[0m\u001b[0;34m\u001b[0m\u001b[0m\n\u001b[1;32m    255\u001b[0m         \u001b[0mtourney_date\u001b[0m \u001b[0;34m=\u001b[0m \u001b[0mpd\u001b[0m\u001b[0;34m.\u001b[0m\u001b[0mto_datetime\u001b[0m\u001b[0;34m(\u001b[0m\u001b[0mtourney_date\u001b[0m\u001b[0;34m)\u001b[0m\u001b[0;34m\u001b[0m\u001b[0;34m\u001b[0m\u001b[0m\n\u001b[0;32m--> 256\u001b[0;31m     \u001b[0mtimestamp\u001b[0m \u001b[0;34m=\u001b[0m \u001b[0mmax\u001b[0m\u001b[0;34m(\u001b[0m\u001b[0mratingsHistory_df\u001b[0m\u001b[0;34m.\u001b[0m\u001b[0mindex\u001b[0m\u001b[0;34m[\u001b[0m\u001b[0mratingsHistory_df\u001b[0m\u001b[0;34m.\u001b[0m\u001b[0mindex\u001b[0m\u001b[0;34m<=\u001b[0m\u001b[0mtourney_date\u001b[0m\u001b[0;34m]\u001b[0m\u001b[0;34m)\u001b[0m\u001b[0;34m\u001b[0m\u001b[0;34m\u001b[0m\u001b[0m\n\u001b[0m\u001b[1;32m    257\u001b[0m     \u001b[0mwinner_rating\u001b[0m\u001b[0;34m,\u001b[0m \u001b[0mloser_rating\u001b[0m \u001b[0;34m=\u001b[0m \u001b[0mratingsHistory_df\u001b[0m\u001b[0;34m.\u001b[0m\u001b[0mloc\u001b[0m\u001b[0;34m[\u001b[0m\u001b[0mtimestamp\u001b[0m\u001b[0;34m,\u001b[0m\u001b[0;34m[\u001b[0m\u001b[0mwinner_id\u001b[0m\u001b[0;34m,\u001b[0m\u001b[0mloser_id\u001b[0m\u001b[0;34m]\u001b[0m\u001b[0;34m]\u001b[0m\u001b[0;34m\u001b[0m\u001b[0;34m\u001b[0m\u001b[0m\n\u001b[1;32m    258\u001b[0m     \u001b[0mwp\u001b[0m \u001b[0;34m=\u001b[0m \u001b[0;36m1\u001b[0m\u001b[0;34m/\u001b[0m\u001b[0;34m(\u001b[0m\u001b[0;36m1\u001b[0m \u001b[0;34m+\u001b[0m \u001b[0;36m10\u001b[0m\u001b[0;34m**\u001b[0m\u001b[0;34m(\u001b[0m\u001b[0;34m(\u001b[0m\u001b[0mloser_rating\u001b[0m\u001b[0;34m-\u001b[0m\u001b[0mwinner_rating\u001b[0m\u001b[0;34m)\u001b[0m\u001b[0;34m/\u001b[0m\u001b[0;36m400\u001b[0m\u001b[0;34m)\u001b[0m\u001b[0;34m)\u001b[0m\u001b[0;34m\u001b[0m\u001b[0;34m\u001b[0m\u001b[0m\n",
      "\u001b[0;31mValueError\u001b[0m: max() arg is an empty sequence"
     ]
    }
   ],
   "source": [
    "matches[1:10].apply(\n",
    "    lambda x: get_recent_rating_wp(ratingsHistory_df, x['tourney_date'], \n",
    "                                   x['winner_id'], x['loser_id']),axis=1)"
   ]
  },
  {
   "cell_type": "code",
   "execution_count": null,
   "id": "f2bb4dfa-f0ab-4594-90f0-223d66acbd16",
   "metadata": {},
   "outputs": [],
   "source": [
    "matches[1:10]"
   ]
  },
  {
   "cell_type": "code",
   "execution_count": 28,
   "id": "0b8175da-6795-4ebe-b749-b9611cf24807",
   "metadata": {
    "collapsed": true,
    "jupyter": {
     "outputs_hidden": true
    },
    "tags": []
   },
   "outputs": [
    {
     "data": {
      "text/html": [
       "<div>\n",
       "<style scoped>\n",
       "    .dataframe tbody tr th:only-of-type {\n",
       "        vertical-align: middle;\n",
       "    }\n",
       "\n",
       "    .dataframe tbody tr th {\n",
       "        vertical-align: top;\n",
       "    }\n",
       "\n",
       "    .dataframe thead th {\n",
       "        text-align: right;\n",
       "    }\n",
       "</style>\n",
       "<table border=\"1\" class=\"dataframe\">\n",
       "  <thead>\n",
       "    <tr style=\"text-align: right;\">\n",
       "      <th></th>\n",
       "      <th>131500</th>\n",
       "      <th>131584</th>\n",
       "      <th>131866</th>\n",
       "      <th>131867</th>\n",
       "      <th>131869</th>\n",
       "      <th>131873</th>\n",
       "      <th>131876</th>\n",
       "      <th>131879</th>\n",
       "      <th>131881</th>\n",
       "      <th>131884</th>\n",
       "      <th>...</th>\n",
       "      <th>130340</th>\n",
       "      <th>130355</th>\n",
       "      <th>130457</th>\n",
       "      <th>130493</th>\n",
       "      <th>130542</th>\n",
       "      <th>130550</th>\n",
       "      <th>130552</th>\n",
       "      <th>130553</th>\n",
       "      <th>130655</th>\n",
       "      <th>130767</th>\n",
       "    </tr>\n",
       "  </thead>\n",
       "  <tbody>\n",
       "    <tr>\n",
       "      <th>1878-07-09</th>\n",
       "      <td>1500.000000</td>\n",
       "      <td>1500.000000</td>\n",
       "      <td>1500.000000</td>\n",
       "      <td>1500.000000</td>\n",
       "      <td>1500.000000</td>\n",
       "      <td>1500.000000</td>\n",
       "      <td>1500.000000</td>\n",
       "      <td>1500.000000</td>\n",
       "      <td>1500.000000</td>\n",
       "      <td>1500.000000</td>\n",
       "      <td>...</td>\n",
       "      <td>1500.000000</td>\n",
       "      <td>1500.000000</td>\n",
       "      <td>1500.000000</td>\n",
       "      <td>1500.000000</td>\n",
       "      <td>1500.000000</td>\n",
       "      <td>1500.000000</td>\n",
       "      <td>1500.000000</td>\n",
       "      <td>1500.000000</td>\n",
       "      <td>1500.000000</td>\n",
       "      <td>1500.000000</td>\n",
       "    </tr>\n",
       "    <tr>\n",
       "      <th>1879-07-09</th>\n",
       "      <td>1500.000000</td>\n",
       "      <td>1500.000000</td>\n",
       "      <td>1500.000000</td>\n",
       "      <td>1500.000000</td>\n",
       "      <td>1500.000000</td>\n",
       "      <td>1500.000000</td>\n",
       "      <td>1500.000000</td>\n",
       "      <td>1500.000000</td>\n",
       "      <td>1500.000000</td>\n",
       "      <td>1500.000000</td>\n",
       "      <td>...</td>\n",
       "      <td>1500.000000</td>\n",
       "      <td>1500.000000</td>\n",
       "      <td>1500.000000</td>\n",
       "      <td>1500.000000</td>\n",
       "      <td>1500.000000</td>\n",
       "      <td>1500.000000</td>\n",
       "      <td>1500.000000</td>\n",
       "      <td>1500.000000</td>\n",
       "      <td>1500.000000</td>\n",
       "      <td>1500.000000</td>\n",
       "    </tr>\n",
       "    <tr>\n",
       "      <th>1880-07-08</th>\n",
       "      <td>1500.000000</td>\n",
       "      <td>1500.000000</td>\n",
       "      <td>1500.000000</td>\n",
       "      <td>1500.000000</td>\n",
       "      <td>1500.000000</td>\n",
       "      <td>1500.000000</td>\n",
       "      <td>1500.000000</td>\n",
       "      <td>1500.000000</td>\n",
       "      <td>1500.000000</td>\n",
       "      <td>1500.000000</td>\n",
       "      <td>...</td>\n",
       "      <td>1500.000000</td>\n",
       "      <td>1500.000000</td>\n",
       "      <td>1500.000000</td>\n",
       "      <td>1500.000000</td>\n",
       "      <td>1500.000000</td>\n",
       "      <td>1500.000000</td>\n",
       "      <td>1500.000000</td>\n",
       "      <td>1500.000000</td>\n",
       "      <td>1500.000000</td>\n",
       "      <td>1500.000000</td>\n",
       "    </tr>\n",
       "    <tr>\n",
       "      <th>1881-07-08</th>\n",
       "      <td>1500.000000</td>\n",
       "      <td>1500.000000</td>\n",
       "      <td>1500.000000</td>\n",
       "      <td>1500.000000</td>\n",
       "      <td>1500.000000</td>\n",
       "      <td>1500.000000</td>\n",
       "      <td>1500.000000</td>\n",
       "      <td>1500.000000</td>\n",
       "      <td>1500.000000</td>\n",
       "      <td>1500.000000</td>\n",
       "      <td>...</td>\n",
       "      <td>1500.000000</td>\n",
       "      <td>1500.000000</td>\n",
       "      <td>1500.000000</td>\n",
       "      <td>1500.000000</td>\n",
       "      <td>1500.000000</td>\n",
       "      <td>1500.000000</td>\n",
       "      <td>1500.000000</td>\n",
       "      <td>1500.000000</td>\n",
       "      <td>1500.000000</td>\n",
       "      <td>1500.000000</td>\n",
       "    </tr>\n",
       "    <tr>\n",
       "      <th>1882-07-08</th>\n",
       "      <td>1500.000000</td>\n",
       "      <td>1500.000000</td>\n",
       "      <td>1500.000000</td>\n",
       "      <td>1500.000000</td>\n",
       "      <td>1500.000000</td>\n",
       "      <td>1500.000000</td>\n",
       "      <td>1500.000000</td>\n",
       "      <td>1500.000000</td>\n",
       "      <td>1500.000000</td>\n",
       "      <td>1500.000000</td>\n",
       "      <td>...</td>\n",
       "      <td>1500.000000</td>\n",
       "      <td>1500.000000</td>\n",
       "      <td>1500.000000</td>\n",
       "      <td>1500.000000</td>\n",
       "      <td>1500.000000</td>\n",
       "      <td>1500.000000</td>\n",
       "      <td>1500.000000</td>\n",
       "      <td>1500.000000</td>\n",
       "      <td>1500.000000</td>\n",
       "      <td>1500.000000</td>\n",
       "    </tr>\n",
       "    <tr>\n",
       "      <th>...</th>\n",
       "      <td>...</td>\n",
       "      <td>...</td>\n",
       "      <td>...</td>\n",
       "      <td>...</td>\n",
       "      <td>...</td>\n",
       "      <td>...</td>\n",
       "      <td>...</td>\n",
       "      <td>...</td>\n",
       "      <td>...</td>\n",
       "      <td>...</td>\n",
       "      <td>...</td>\n",
       "      <td>...</td>\n",
       "      <td>...</td>\n",
       "      <td>...</td>\n",
       "      <td>...</td>\n",
       "      <td>...</td>\n",
       "      <td>...</td>\n",
       "      <td>...</td>\n",
       "      <td>...</td>\n",
       "      <td>...</td>\n",
       "      <td>...</td>\n",
       "    </tr>\n",
       "    <tr>\n",
       "      <th>2019-06-05</th>\n",
       "      <td>1500.000000</td>\n",
       "      <td>1502.609587</td>\n",
       "      <td>1473.301284</td>\n",
       "      <td>1580.784232</td>\n",
       "      <td>1503.281009</td>\n",
       "      <td>1467.575422</td>\n",
       "      <td>1491.136469</td>\n",
       "      <td>1442.915338</td>\n",
       "      <td>1481.686142</td>\n",
       "      <td>1485.277608</td>\n",
       "      <td>...</td>\n",
       "      <td>1490.231718</td>\n",
       "      <td>1446.916587</td>\n",
       "      <td>1491.681934</td>\n",
       "      <td>1500.000000</td>\n",
       "      <td>1491.945372</td>\n",
       "      <td>1443.751284</td>\n",
       "      <td>1475.091242</td>\n",
       "      <td>1497.078707</td>\n",
       "      <td>1490.832406</td>\n",
       "      <td>1450.854843</td>\n",
       "    </tr>\n",
       "    <tr>\n",
       "      <th>2020-06-04</th>\n",
       "      <td>1500.000000</td>\n",
       "      <td>1502.609587</td>\n",
       "      <td>1489.892882</td>\n",
       "      <td>1574.674949</td>\n",
       "      <td>1503.281009</td>\n",
       "      <td>1467.575422</td>\n",
       "      <td>1491.136469</td>\n",
       "      <td>1442.915338</td>\n",
       "      <td>1481.686142</td>\n",
       "      <td>1485.277608</td>\n",
       "      <td>...</td>\n",
       "      <td>1490.231718</td>\n",
       "      <td>1446.916587</td>\n",
       "      <td>1491.681934</td>\n",
       "      <td>1500.000000</td>\n",
       "      <td>1491.945372</td>\n",
       "      <td>1443.751284</td>\n",
       "      <td>1466.854386</td>\n",
       "      <td>1497.078707</td>\n",
       "      <td>1490.832406</td>\n",
       "      <td>1430.651881</td>\n",
       "    </tr>\n",
       "    <tr>\n",
       "      <th>2021-06-04</th>\n",
       "      <td>1500.000000</td>\n",
       "      <td>1502.609587</td>\n",
       "      <td>1482.284277</td>\n",
       "      <td>1564.924107</td>\n",
       "      <td>1503.281009</td>\n",
       "      <td>1467.575422</td>\n",
       "      <td>1491.136469</td>\n",
       "      <td>1442.915338</td>\n",
       "      <td>1481.686142</td>\n",
       "      <td>1485.277608</td>\n",
       "      <td>...</td>\n",
       "      <td>1490.231718</td>\n",
       "      <td>1446.916587</td>\n",
       "      <td>1491.681934</td>\n",
       "      <td>1500.000000</td>\n",
       "      <td>1491.945372</td>\n",
       "      <td>1443.751284</td>\n",
       "      <td>1466.854386</td>\n",
       "      <td>1497.078707</td>\n",
       "      <td>1490.832406</td>\n",
       "      <td>1430.651881</td>\n",
       "    </tr>\n",
       "    <tr>\n",
       "      <th>2022-06-04</th>\n",
       "      <td>1486.770029</td>\n",
       "      <td>1502.609587</td>\n",
       "      <td>1457.902794</td>\n",
       "      <td>1578.157808</td>\n",
       "      <td>1503.281009</td>\n",
       "      <td>1467.575422</td>\n",
       "      <td>1491.136469</td>\n",
       "      <td>1442.915338</td>\n",
       "      <td>1481.686142</td>\n",
       "      <td>1485.277608</td>\n",
       "      <td>...</td>\n",
       "      <td>1490.231718</td>\n",
       "      <td>1446.916587</td>\n",
       "      <td>1491.681934</td>\n",
       "      <td>1493.325776</td>\n",
       "      <td>1491.945372</td>\n",
       "      <td>1443.751284</td>\n",
       "      <td>1466.854386</td>\n",
       "      <td>1497.078707</td>\n",
       "      <td>1490.832406</td>\n",
       "      <td>1430.651881</td>\n",
       "    </tr>\n",
       "    <tr>\n",
       "      <th>2022-12-26</th>\n",
       "      <td>1465.641470</td>\n",
       "      <td>1502.609587</td>\n",
       "      <td>1462.438678</td>\n",
       "      <td>1604.306236</td>\n",
       "      <td>1503.281009</td>\n",
       "      <td>1467.575422</td>\n",
       "      <td>1491.136469</td>\n",
       "      <td>1442.915338</td>\n",
       "      <td>1481.686142</td>\n",
       "      <td>1485.277608</td>\n",
       "      <td>...</td>\n",
       "      <td>1490.231718</td>\n",
       "      <td>1446.916587</td>\n",
       "      <td>1491.681934</td>\n",
       "      <td>1464.070606</td>\n",
       "      <td>1491.945372</td>\n",
       "      <td>1443.751284</td>\n",
       "      <td>1466.854386</td>\n",
       "      <td>1497.078707</td>\n",
       "      <td>1490.832406</td>\n",
       "      <td>1430.651881</td>\n",
       "    </tr>\n",
       "  </tbody>\n",
       "</table>\n",
       "<p>146 rows × 32577 columns</p>\n",
       "</div>"
      ],
      "text/plain": [
       "                 131500       131584       131866       131867       131869  \\\n",
       "1878-07-09  1500.000000  1500.000000  1500.000000  1500.000000  1500.000000   \n",
       "1879-07-09  1500.000000  1500.000000  1500.000000  1500.000000  1500.000000   \n",
       "1880-07-08  1500.000000  1500.000000  1500.000000  1500.000000  1500.000000   \n",
       "1881-07-08  1500.000000  1500.000000  1500.000000  1500.000000  1500.000000   \n",
       "1882-07-08  1500.000000  1500.000000  1500.000000  1500.000000  1500.000000   \n",
       "...                 ...          ...          ...          ...          ...   \n",
       "2019-06-05  1500.000000  1502.609587  1473.301284  1580.784232  1503.281009   \n",
       "2020-06-04  1500.000000  1502.609587  1489.892882  1574.674949  1503.281009   \n",
       "2021-06-04  1500.000000  1502.609587  1482.284277  1564.924107  1503.281009   \n",
       "2022-06-04  1486.770029  1502.609587  1457.902794  1578.157808  1503.281009   \n",
       "2022-12-26  1465.641470  1502.609587  1462.438678  1604.306236  1503.281009   \n",
       "\n",
       "                 131873       131876       131879       131881       131884  \\\n",
       "1878-07-09  1500.000000  1500.000000  1500.000000  1500.000000  1500.000000   \n",
       "1879-07-09  1500.000000  1500.000000  1500.000000  1500.000000  1500.000000   \n",
       "1880-07-08  1500.000000  1500.000000  1500.000000  1500.000000  1500.000000   \n",
       "1881-07-08  1500.000000  1500.000000  1500.000000  1500.000000  1500.000000   \n",
       "1882-07-08  1500.000000  1500.000000  1500.000000  1500.000000  1500.000000   \n",
       "...                 ...          ...          ...          ...          ...   \n",
       "2019-06-05  1467.575422  1491.136469  1442.915338  1481.686142  1485.277608   \n",
       "2020-06-04  1467.575422  1491.136469  1442.915338  1481.686142  1485.277608   \n",
       "2021-06-04  1467.575422  1491.136469  1442.915338  1481.686142  1485.277608   \n",
       "2022-06-04  1467.575422  1491.136469  1442.915338  1481.686142  1485.277608   \n",
       "2022-12-26  1467.575422  1491.136469  1442.915338  1481.686142  1485.277608   \n",
       "\n",
       "            ...       130340       130355       130457       130493  \\\n",
       "1878-07-09  ...  1500.000000  1500.000000  1500.000000  1500.000000   \n",
       "1879-07-09  ...  1500.000000  1500.000000  1500.000000  1500.000000   \n",
       "1880-07-08  ...  1500.000000  1500.000000  1500.000000  1500.000000   \n",
       "1881-07-08  ...  1500.000000  1500.000000  1500.000000  1500.000000   \n",
       "1882-07-08  ...  1500.000000  1500.000000  1500.000000  1500.000000   \n",
       "...         ...          ...          ...          ...          ...   \n",
       "2019-06-05  ...  1490.231718  1446.916587  1491.681934  1500.000000   \n",
       "2020-06-04  ...  1490.231718  1446.916587  1491.681934  1500.000000   \n",
       "2021-06-04  ...  1490.231718  1446.916587  1491.681934  1500.000000   \n",
       "2022-06-04  ...  1490.231718  1446.916587  1491.681934  1493.325776   \n",
       "2022-12-26  ...  1490.231718  1446.916587  1491.681934  1464.070606   \n",
       "\n",
       "                 130542       130550       130552       130553       130655  \\\n",
       "1878-07-09  1500.000000  1500.000000  1500.000000  1500.000000  1500.000000   \n",
       "1879-07-09  1500.000000  1500.000000  1500.000000  1500.000000  1500.000000   \n",
       "1880-07-08  1500.000000  1500.000000  1500.000000  1500.000000  1500.000000   \n",
       "1881-07-08  1500.000000  1500.000000  1500.000000  1500.000000  1500.000000   \n",
       "1882-07-08  1500.000000  1500.000000  1500.000000  1500.000000  1500.000000   \n",
       "...                 ...          ...          ...          ...          ...   \n",
       "2019-06-05  1491.945372  1443.751284  1475.091242  1497.078707  1490.832406   \n",
       "2020-06-04  1491.945372  1443.751284  1466.854386  1497.078707  1490.832406   \n",
       "2021-06-04  1491.945372  1443.751284  1466.854386  1497.078707  1490.832406   \n",
       "2022-06-04  1491.945372  1443.751284  1466.854386  1497.078707  1490.832406   \n",
       "2022-12-26  1491.945372  1443.751284  1466.854386  1497.078707  1490.832406   \n",
       "\n",
       "                 130767  \n",
       "1878-07-09  1500.000000  \n",
       "1879-07-09  1500.000000  \n",
       "1880-07-08  1500.000000  \n",
       "1881-07-08  1500.000000  \n",
       "1882-07-08  1500.000000  \n",
       "...                 ...  \n",
       "2019-06-05  1450.854843  \n",
       "2020-06-04  1430.651881  \n",
       "2021-06-04  1430.651881  \n",
       "2022-06-04  1430.651881  \n",
       "2022-12-26  1430.651881  \n",
       "\n",
       "[146 rows x 32577 columns]"
      ]
     },
     "execution_count": 28,
     "metadata": {},
     "output_type": "execute_result"
    }
   ],
   "source": [
    "ratingsHistory_df"
   ]
  },
  {
   "cell_type": "code",
   "execution_count": 27,
   "id": "756cf3d3-70b2-4034-9422-79b9f2ae3a29",
   "metadata": {},
   "outputs": [
    {
     "ename": "ValueError",
     "evalue": "max() arg is an empty sequence",
     "output_type": "error",
     "traceback": [
      "\u001b[0;31m---------------------------------------------------------------------------\u001b[0m",
      "\u001b[0;31mValueError\u001b[0m                                Traceback (most recent call last)",
      "\u001b[0;32m/var/folders/7q/63cgxnn50sl5zwxkchv_j2cr0000gn/T/ipykernel_1554/1939029816.py\u001b[0m in \u001b[0;36m<module>\u001b[0;34m\u001b[0m\n\u001b[0;32m----> 1\u001b[0;31m testDf['winner_elo','loser_elo','predicted_wins'] = matches[1:10].apply(\n\u001b[0m\u001b[1;32m      2\u001b[0m     lambda x: get_recent_rating_wp(ratingsHistory_df, x['tourney_date'], \n\u001b[1;32m      3\u001b[0m                                    x['winner_id'], x['loser_id']),axis=1)\n",
      "\u001b[0;32m~/opt/anaconda3/lib/python3.9/site-packages/pandas/core/frame.py\u001b[0m in \u001b[0;36mapply\u001b[0;34m(self, func, axis, raw, result_type, args, **kwargs)\u001b[0m\n\u001b[1;32m   8846\u001b[0m             \u001b[0mkwargs\u001b[0m\u001b[0;34m=\u001b[0m\u001b[0mkwargs\u001b[0m\u001b[0;34m,\u001b[0m\u001b[0;34m\u001b[0m\u001b[0;34m\u001b[0m\u001b[0m\n\u001b[1;32m   8847\u001b[0m         )\n\u001b[0;32m-> 8848\u001b[0;31m         \u001b[0;32mreturn\u001b[0m \u001b[0mop\u001b[0m\u001b[0;34m.\u001b[0m\u001b[0mapply\u001b[0m\u001b[0;34m(\u001b[0m\u001b[0;34m)\u001b[0m\u001b[0;34m.\u001b[0m\u001b[0m__finalize__\u001b[0m\u001b[0;34m(\u001b[0m\u001b[0mself\u001b[0m\u001b[0;34m,\u001b[0m \u001b[0mmethod\u001b[0m\u001b[0;34m=\u001b[0m\u001b[0;34m\"apply\"\u001b[0m\u001b[0;34m)\u001b[0m\u001b[0;34m\u001b[0m\u001b[0;34m\u001b[0m\u001b[0m\n\u001b[0m\u001b[1;32m   8849\u001b[0m \u001b[0;34m\u001b[0m\u001b[0m\n\u001b[1;32m   8850\u001b[0m     def applymap(\n",
      "\u001b[0;32m~/opt/anaconda3/lib/python3.9/site-packages/pandas/core/apply.py\u001b[0m in \u001b[0;36mapply\u001b[0;34m(self)\u001b[0m\n\u001b[1;32m    731\u001b[0m             \u001b[0;32mreturn\u001b[0m \u001b[0mself\u001b[0m\u001b[0;34m.\u001b[0m\u001b[0mapply_raw\u001b[0m\u001b[0;34m(\u001b[0m\u001b[0;34m)\u001b[0m\u001b[0;34m\u001b[0m\u001b[0;34m\u001b[0m\u001b[0m\n\u001b[1;32m    732\u001b[0m \u001b[0;34m\u001b[0m\u001b[0m\n\u001b[0;32m--> 733\u001b[0;31m         \u001b[0;32mreturn\u001b[0m \u001b[0mself\u001b[0m\u001b[0;34m.\u001b[0m\u001b[0mapply_standard\u001b[0m\u001b[0;34m(\u001b[0m\u001b[0;34m)\u001b[0m\u001b[0;34m\u001b[0m\u001b[0;34m\u001b[0m\u001b[0m\n\u001b[0m\u001b[1;32m    734\u001b[0m \u001b[0;34m\u001b[0m\u001b[0m\n\u001b[1;32m    735\u001b[0m     \u001b[0;32mdef\u001b[0m \u001b[0magg\u001b[0m\u001b[0;34m(\u001b[0m\u001b[0mself\u001b[0m\u001b[0;34m)\u001b[0m\u001b[0;34m:\u001b[0m\u001b[0;34m\u001b[0m\u001b[0;34m\u001b[0m\u001b[0m\n",
      "\u001b[0;32m~/opt/anaconda3/lib/python3.9/site-packages/pandas/core/apply.py\u001b[0m in \u001b[0;36mapply_standard\u001b[0;34m(self)\u001b[0m\n\u001b[1;32m    855\u001b[0m \u001b[0;34m\u001b[0m\u001b[0m\n\u001b[1;32m    856\u001b[0m     \u001b[0;32mdef\u001b[0m \u001b[0mapply_standard\u001b[0m\u001b[0;34m(\u001b[0m\u001b[0mself\u001b[0m\u001b[0;34m)\u001b[0m\u001b[0;34m:\u001b[0m\u001b[0;34m\u001b[0m\u001b[0;34m\u001b[0m\u001b[0m\n\u001b[0;32m--> 857\u001b[0;31m         \u001b[0mresults\u001b[0m\u001b[0;34m,\u001b[0m \u001b[0mres_index\u001b[0m \u001b[0;34m=\u001b[0m \u001b[0mself\u001b[0m\u001b[0;34m.\u001b[0m\u001b[0mapply_series_generator\u001b[0m\u001b[0;34m(\u001b[0m\u001b[0;34m)\u001b[0m\u001b[0;34m\u001b[0m\u001b[0;34m\u001b[0m\u001b[0m\n\u001b[0m\u001b[1;32m    858\u001b[0m \u001b[0;34m\u001b[0m\u001b[0m\n\u001b[1;32m    859\u001b[0m         \u001b[0;31m# wrap results\u001b[0m\u001b[0;34m\u001b[0m\u001b[0;34m\u001b[0m\u001b[0m\n",
      "\u001b[0;32m~/opt/anaconda3/lib/python3.9/site-packages/pandas/core/apply.py\u001b[0m in \u001b[0;36mapply_series_generator\u001b[0;34m(self)\u001b[0m\n\u001b[1;32m    871\u001b[0m             \u001b[0;32mfor\u001b[0m \u001b[0mi\u001b[0m\u001b[0;34m,\u001b[0m \u001b[0mv\u001b[0m \u001b[0;32min\u001b[0m \u001b[0menumerate\u001b[0m\u001b[0;34m(\u001b[0m\u001b[0mseries_gen\u001b[0m\u001b[0;34m)\u001b[0m\u001b[0;34m:\u001b[0m\u001b[0;34m\u001b[0m\u001b[0;34m\u001b[0m\u001b[0m\n\u001b[1;32m    872\u001b[0m                 \u001b[0;31m# ignore SettingWithCopy here in case the user mutates\u001b[0m\u001b[0;34m\u001b[0m\u001b[0;34m\u001b[0m\u001b[0m\n\u001b[0;32m--> 873\u001b[0;31m                 \u001b[0mresults\u001b[0m\u001b[0;34m[\u001b[0m\u001b[0mi\u001b[0m\u001b[0;34m]\u001b[0m \u001b[0;34m=\u001b[0m \u001b[0mself\u001b[0m\u001b[0;34m.\u001b[0m\u001b[0mf\u001b[0m\u001b[0;34m(\u001b[0m\u001b[0mv\u001b[0m\u001b[0;34m)\u001b[0m\u001b[0;34m\u001b[0m\u001b[0;34m\u001b[0m\u001b[0m\n\u001b[0m\u001b[1;32m    874\u001b[0m                 \u001b[0;32mif\u001b[0m \u001b[0misinstance\u001b[0m\u001b[0;34m(\u001b[0m\u001b[0mresults\u001b[0m\u001b[0;34m[\u001b[0m\u001b[0mi\u001b[0m\u001b[0;34m]\u001b[0m\u001b[0;34m,\u001b[0m \u001b[0mABCSeries\u001b[0m\u001b[0;34m)\u001b[0m\u001b[0;34m:\u001b[0m\u001b[0;34m\u001b[0m\u001b[0;34m\u001b[0m\u001b[0m\n\u001b[1;32m    875\u001b[0m                     \u001b[0;31m# If we have a view on v, we need to make a copy because\u001b[0m\u001b[0;34m\u001b[0m\u001b[0;34m\u001b[0m\u001b[0m\n",
      "\u001b[0;32m/var/folders/7q/63cgxnn50sl5zwxkchv_j2cr0000gn/T/ipykernel_1554/1939029816.py\u001b[0m in \u001b[0;36m<lambda>\u001b[0;34m(x)\u001b[0m\n\u001b[1;32m      1\u001b[0m testDf['winner_elo','loser_elo','predicted_wins'] = matches[1:10].apply(\n\u001b[0;32m----> 2\u001b[0;31m     lambda x: get_recent_rating_wp(ratingsHistory_df, x['tourney_date'], \n\u001b[0m\u001b[1;32m      3\u001b[0m                                    x['winner_id'], x['loser_id']),axis=1)\n",
      "\u001b[0;32m~/dsir/capstone/Notebooks/functions.py\u001b[0m in \u001b[0;36mget_recent_rating_wp\u001b[0;34m(ratingsHistory_df, tourney_date, winner_id, loser_id)\u001b[0m\n\u001b[1;32m    254\u001b[0m     \u001b[0;32mif\u001b[0m \u001b[0;32mnot\u001b[0m \u001b[0mtype\u001b[0m\u001b[0;34m(\u001b[0m\u001b[0mtourney_date\u001b[0m\u001b[0;34m)\u001b[0m \u001b[0;34m==\u001b[0m \u001b[0mpd\u001b[0m\u001b[0;34m.\u001b[0m\u001b[0m_libs\u001b[0m\u001b[0;34m.\u001b[0m\u001b[0mtslibs\u001b[0m\u001b[0;34m.\u001b[0m\u001b[0mtimestamps\u001b[0m\u001b[0;34m.\u001b[0m\u001b[0mTimestamp\u001b[0m\u001b[0;34m:\u001b[0m\u001b[0;34m\u001b[0m\u001b[0;34m\u001b[0m\u001b[0m\n\u001b[1;32m    255\u001b[0m         \u001b[0mtourney_date\u001b[0m \u001b[0;34m=\u001b[0m \u001b[0mpd\u001b[0m\u001b[0;34m.\u001b[0m\u001b[0mto_datetime\u001b[0m\u001b[0;34m(\u001b[0m\u001b[0mtourney_date\u001b[0m\u001b[0;34m)\u001b[0m\u001b[0;34m\u001b[0m\u001b[0;34m\u001b[0m\u001b[0m\n\u001b[0;32m--> 256\u001b[0;31m     \u001b[0mtimestamp\u001b[0m \u001b[0;34m=\u001b[0m \u001b[0mmax\u001b[0m\u001b[0;34m(\u001b[0m\u001b[0mratingsHistory_df\u001b[0m\u001b[0;34m.\u001b[0m\u001b[0mindex\u001b[0m\u001b[0;34m[\u001b[0m\u001b[0mratingsHistory_df\u001b[0m\u001b[0;34m.\u001b[0m\u001b[0mindex\u001b[0m\u001b[0;34m<=\u001b[0m\u001b[0mtourney_date\u001b[0m\u001b[0;34m]\u001b[0m\u001b[0;34m)\u001b[0m\u001b[0;34m\u001b[0m\u001b[0;34m\u001b[0m\u001b[0m\n\u001b[0m\u001b[1;32m    257\u001b[0m     \u001b[0mwinner_rating\u001b[0m\u001b[0;34m,\u001b[0m \u001b[0mloser_rating\u001b[0m \u001b[0;34m=\u001b[0m \u001b[0mratingsHistory_df\u001b[0m\u001b[0;34m.\u001b[0m\u001b[0mloc\u001b[0m\u001b[0;34m[\u001b[0m\u001b[0mtimestamp\u001b[0m\u001b[0;34m,\u001b[0m\u001b[0;34m[\u001b[0m\u001b[0mwinner_id\u001b[0m\u001b[0;34m,\u001b[0m\u001b[0mloser_id\u001b[0m\u001b[0;34m]\u001b[0m\u001b[0;34m]\u001b[0m\u001b[0;34m\u001b[0m\u001b[0;34m\u001b[0m\u001b[0m\n\u001b[1;32m    258\u001b[0m     \u001b[0mwp\u001b[0m \u001b[0;34m=\u001b[0m \u001b[0;36m1\u001b[0m\u001b[0;34m/\u001b[0m\u001b[0;34m(\u001b[0m\u001b[0;36m1\u001b[0m \u001b[0;34m+\u001b[0m \u001b[0;36m10\u001b[0m\u001b[0;34m**\u001b[0m\u001b[0;34m(\u001b[0m\u001b[0;34m(\u001b[0m\u001b[0mloser_rating\u001b[0m\u001b[0;34m-\u001b[0m\u001b[0mwinner_rating\u001b[0m\u001b[0;34m)\u001b[0m\u001b[0;34m/\u001b[0m\u001b[0;36m400\u001b[0m\u001b[0;34m)\u001b[0m\u001b[0;34m)\u001b[0m\u001b[0;34m\u001b[0m\u001b[0;34m\u001b[0m\u001b[0m\n",
      "\u001b[0;31mValueError\u001b[0m: max() arg is an empty sequence"
     ]
    }
   ],
   "source": [
    "testDf['winner_elo','loser_elo','predicted_wins'] = matches[1:10].apply(\n",
    "    lambda x: get_recent_rating_wp(ratingsHistory_df, x['tourney_date'], \n",
    "                                   x['winner_id'], x['loser_id']),axis=1)"
   ]
  },
  {
   "cell_type": "code",
   "execution_count": null,
   "id": "54efd4d5-b49e-497d-b54e-ac72898bf980",
   "metadata": {},
   "outputs": [],
   "source": []
  },
  {
   "cell_type": "code",
   "execution_count": null,
   "id": "f70d9dc9-607a-48f5-a987-324bcf8dce32",
   "metadata": {},
   "outputs": [],
   "source": [
    "testDf = singles_matches[1:10]\n",
    "testDf['winner_elo','loser_elo','predicted_wins'] = matches[1:10].apply(\n",
    "    lambda x: get_recent_rating_wp(ratingsHistory_df, x['tourney_date'], \n",
    "                                   x['winner_id'], x['loser_id']),axis=1)\n"
   ]
  },
  {
   "cell_type": "code",
   "execution_count": null,
   "id": "eac65a41-1ac7-41f8-850d-797ab9878a34",
   "metadata": {},
   "outputs": [],
   "source": [
    "[1,2,3][0:-1]"
   ]
  },
  {
   "cell_type": "code",
   "execution_count": null,
   "id": "469a9a3f-2944-40aa-a08d-591614a07a19",
   "metadata": {},
   "outputs": [],
   "source": [
    "ratingsHistory_df"
   ]
  },
  {
   "cell_type": "code",
   "execution_count": null,
   "id": "11632ab9-3f03-4554-b4f3-479e92264f47",
   "metadata": {},
   "outputs": [],
   "source": [
    "singles_matches"
   ]
  },
  {
   "cell_type": "code",
   "execution_count": null,
   "id": "36259d00-ca82-40bd-a4b1-e7306cb68407",
   "metadata": {},
   "outputs": [],
   "source": [
    "ratingsHistory_df.columns"
   ]
  },
  {
   "cell_type": "code",
   "execution_count": null,
   "id": "72a0a251-8fbb-4e39-8f4b-0d0e612ddf85",
   "metadata": {},
   "outputs": [],
   "source": [
    "set(list(matches['winner_id'].unique()) + list(matches['loser_id'].unique()))"
   ]
  },
  {
   "cell_type": "code",
   "execution_count": null,
   "id": "e7e6da59-2a95-412b-86b7-8bf690fc3c1e",
   "metadata": {
    "tags": []
   },
   "outputs": [],
   "source": [
    "set(ratingsHistory_df) - "
   ]
  },
  {
   "cell_type": "code",
   "execution_count": null,
   "id": "c752619c-7d5f-49c2-82d0-9d6fa832ecd4",
   "metadata": {
    "tags": []
   },
   "outputs": [],
   "source": [
    "singles_matches[['winner_elo','loser_elo','predicted_wins']] = matches[['tourney_date','winner_id','loser_id']].apply(lambda x: \n",
    "get_recent_rating_wp(ratingsHistory_df, x['tourney_date'], x['winner_id'], x['loser_id']),axis=1)"
   ]
  },
  {
   "cell_type": "code",
   "execution_count": null,
   "id": "492e3d34-fe5d-414f-9365-0b998be6d9fa",
   "metadata": {},
   "outputs": [],
   "source": [
    "ratingsHistory_df"
   ]
  }
 ],
 "metadata": {
  "kernelspec": {
   "display_name": "Python 3 (ipykernel)",
   "language": "python",
   "name": "python3"
  },
  "language_info": {
   "codemirror_mode": {
    "name": "ipython",
    "version": 3
   },
   "file_extension": ".py",
   "mimetype": "text/x-python",
   "name": "python",
   "nbconvert_exporter": "python",
   "pygments_lexer": "ipython3",
   "version": "3.9.13"
  }
 },
 "nbformat": 4,
 "nbformat_minor": 5
}
