{
 "cells": [
  {
   "cell_type": "code",
   "execution_count": 1,
   "id": "c980de3b-642c-4c43-a8e6-08fe2c524a68",
   "metadata": {},
   "outputs": [],
   "source": [
    "import pandas as pd\n",
    "from functions import assembleDf, epochElo, epochsElo, epochG, epochsG,PlayerElo\n",
    "from datetime import datetime, timedelta\n",
    "import numpy as np\n",
    "import sys\n",
    "sys.path.append('..')\n",
    "from pyglicko2.glicko2_tests import exampleCase\n",
    "from pyglicko2.glicko2 import Player\n",
    "import glicko2\n",
    "import time"
   ]
  },
  {
   "cell_type": "code",
   "execution_count": 2,
   "id": "ac0ad5db-6c40-4fdd-a0c8-b03d8d36ebb6",
   "metadata": {},
   "outputs": [],
   "source": [
    "matches = pd.read_csv('../Data/matches_glicko2.csv',parse_dates = ['tourney_date'], \n",
    "                      infer_datetime_format = True)"
   ]
  },
  {
   "cell_type": "code",
   "execution_count": 3,
   "id": "eb5f67f5-231e-4a9b-9017-f70520e11b66",
   "metadata": {},
   "outputs": [
    {
     "name": "stderr",
     "output_type": "stream",
     "text": [
      "/var/folders/7q/63cgxnn50sl5zwxkchv_j2cr0000gn/T/ipykernel_11425/3293468424.py:1: DtypeWarning: Columns (3,9,17) have mixed types. Specify dtype option on import or set low_memory=False.\n",
      "  singles_matches = pd.read_csv('../Data/singles_matches_df.csv',parse_dates = ['tourney_date'],\n"
     ]
    }
   ],
   "source": [
    "singles_matches = pd.read_csv('../Data/singles_matches_df.csv',parse_dates = ['tourney_date'], \n",
    "                      infer_datetime_format = True)"
   ]
  },
  {
   "cell_type": "code",
   "execution_count": 4,
   "id": "22e0b931-629c-4ae6-8614-e076eb771960",
   "metadata": {},
   "outputs": [],
   "source": [
    "playerClasses, ratingsHistory = epochsElo(matches)"
   ]
  },
  {
   "cell_type": "code",
   "execution_count": 6,
   "id": "7d1d68e8-b267-47a5-976e-4fd5c22aaa61",
   "metadata": {},
   "outputs": [],
   "source": [
    "ratingsHistory_df = assembleDf(ratingsHistory)"
   ]
  },
  {
   "cell_type": "code",
   "execution_count": 7,
   "id": "4b900fa6-7fbe-4dc9-b6af-fc66595d4fff",
   "metadata": {},
   "outputs": [],
   "source": [
    "# fill in missing values with last seen rating.  \n",
    "ratingsHistory_df = ratingsHistory_df.ffill(axis=0).fillna(1500)"
   ]
  },
  {
   "cell_type": "code",
   "execution_count": 14,
   "id": "e14a24bb-3d8a-4702-91df-1f557e462243",
   "metadata": {},
   "outputs": [],
   "source": [
    "def get_recent_rating_wp(ratingsHistory_df,tourney_date,winner_id,loser_id):\n",
    "    if not type(tourney_date) == pd._libs.tslibs.timestamps.Timestamp:\n",
    "        tourney_date = pd.to_datetime(tourney_date)\n",
    "    timestamp = max(ratingsHistory_df.index[ratingsHistory_df.index<=tourney_date])\n",
    "    winner_rating, loser_rating = ratingsHistory_df.loc[timestamp,[winner_id,loser_id]]\n",
    "    wp = 1/(1 + 10**((loser_rating-winner_rating)/400))\n",
    "    return winner_rating, loser_rating, wp"
   ]
  },
  {
   "cell_type": "code",
   "execution_count": 15,
   "id": "cc9c743c-9143-4f70-af85-e0ca6e3c393b",
   "metadata": {},
   "outputs": [
    {
     "data": {
      "text/plain": [
       "(1500.0, 1500.0, 0.5)"
      ]
     },
     "execution_count": 15,
     "metadata": {},
     "output_type": "execute_result"
    }
   ],
   "source": [
    "get_recent_rating_wp(ratingsHistory_df,pd.Timestamp('1877-07-09T00'),131867,131879)"
   ]
  },
  {
   "cell_type": "code",
   "execution_count": 9,
   "id": "157d9b36-60d4-482b-a16c-e73868c5df6e",
   "metadata": {
    "tags": []
   },
   "outputs": [
    {
     "data": {
      "text/html": [
       "<div>\n",
       "<style scoped>\n",
       "    .dataframe tbody tr th:only-of-type {\n",
       "        vertical-align: middle;\n",
       "    }\n",
       "\n",
       "    .dataframe tbody tr th {\n",
       "        vertical-align: top;\n",
       "    }\n",
       "\n",
       "    .dataframe thead th {\n",
       "        text-align: right;\n",
       "    }\n",
       "</style>\n",
       "<table border=\"1\" class=\"dataframe\">\n",
       "  <thead>\n",
       "    <tr style=\"text-align: right;\">\n",
       "      <th></th>\n",
       "      <th>131500</th>\n",
       "      <th>131584</th>\n",
       "      <th>131866</th>\n",
       "      <th>131867</th>\n",
       "      <th>131869</th>\n",
       "      <th>131873</th>\n",
       "      <th>131876</th>\n",
       "      <th>131879</th>\n",
       "      <th>131881</th>\n",
       "      <th>131884</th>\n",
       "      <th>...</th>\n",
       "      <th>130340</th>\n",
       "      <th>130355</th>\n",
       "      <th>130457</th>\n",
       "      <th>130493</th>\n",
       "      <th>130542</th>\n",
       "      <th>130550</th>\n",
       "      <th>130552</th>\n",
       "      <th>130553</th>\n",
       "      <th>130655</th>\n",
       "      <th>130767</th>\n",
       "    </tr>\n",
       "  </thead>\n",
       "  <tbody>\n",
       "    <tr>\n",
       "      <th>1877-07-09</th>\n",
       "      <td>1500.0</td>\n",
       "      <td>1500.0</td>\n",
       "      <td>1500.0</td>\n",
       "      <td>1500.0</td>\n",
       "      <td>1500.0</td>\n",
       "      <td>1500.0</td>\n",
       "      <td>1500.0</td>\n",
       "      <td>1500.0</td>\n",
       "      <td>1500.0</td>\n",
       "      <td>1500.0</td>\n",
       "      <td>...</td>\n",
       "      <td>1500.0</td>\n",
       "      <td>1500.0</td>\n",
       "      <td>1500.0</td>\n",
       "      <td>1500.0</td>\n",
       "      <td>1500.0</td>\n",
       "      <td>1500.0</td>\n",
       "      <td>1500.0</td>\n",
       "      <td>1500.0</td>\n",
       "      <td>1500.0</td>\n",
       "      <td>1500.0</td>\n",
       "    </tr>\n",
       "  </tbody>\n",
       "</table>\n",
       "<p>1 rows × 32577 columns</p>\n",
       "</div>"
      ],
      "text/plain": [
       "            131500  131584  131866  131867  131869  131873  131876  131879  \\\n",
       "1877-07-09  1500.0  1500.0  1500.0  1500.0  1500.0  1500.0  1500.0  1500.0   \n",
       "\n",
       "            131881  131884  ...  130340  130355  130457  130493  130542  \\\n",
       "1877-07-09  1500.0  1500.0  ...  1500.0  1500.0  1500.0  1500.0  1500.0   \n",
       "\n",
       "            130550  130552  130553  130655  130767  \n",
       "1877-07-09  1500.0  1500.0  1500.0  1500.0  1500.0  \n",
       "\n",
       "[1 rows x 32577 columns]"
      ]
     },
     "execution_count": 9,
     "metadata": {},
     "output_type": "execute_result"
    }
   ],
   "source": [
    "padRow = pd.DataFrame({col: 1500.0 for col in ratingsHistory_df.columns}, index = [pd.Timestamp('1877-07-09T00')])\n",
    "padRow"
   ]
  },
  {
   "cell_type": "code",
   "execution_count": 10,
   "id": "9f50164d-2819-4af1-8500-088a0c666e7d",
   "metadata": {
    "tags": []
   },
   "outputs": [],
   "source": [
    "ratingsHistory_df = pd.concat([padRow,ratingsHistory_df],axis=0)"
   ]
  },
  {
   "cell_type": "code",
   "execution_count": 20,
   "id": "71e0f8e6-1d3f-455b-b9ba-e1b165834ba2",
   "metadata": {
    "tags": []
   },
   "outputs": [],
   "source": [
    "we_le_pw = matches.apply(lambda x:\n",
    "                           get_recent_rating_wp(\n",
    "                               ratingsHistory_df, \n",
    "                               x['tourney_date'], \n",
    "                               x['winner_id'], \n",
    "                               x['loser_id']),\n",
    "                            axis=1)"
   ]
  },
  {
   "cell_type": "code",
   "execution_count": 23,
   "id": "79fad9b4-508f-4d3a-9f16-c5b66e92bd5b",
   "metadata": {},
   "outputs": [],
   "source": [
    "we_le_pw_df = pd.DataFrame.from_records(we_le_pw, columns = ['winner_elo','loser_elo','win_prob'])"
   ]
  },
  {
   "cell_type": "code",
   "execution_count": 24,
   "id": "d0193f57-d749-40b7-9eb5-e4d69c85aa50",
   "metadata": {
    "collapsed": true,
    "jupyter": {
     "outputs_hidden": true
    },
    "tags": []
   },
   "outputs": [
    {
     "data": {
      "text/html": [
       "<div>\n",
       "<style scoped>\n",
       "    .dataframe tbody tr th:only-of-type {\n",
       "        vertical-align: middle;\n",
       "    }\n",
       "\n",
       "    .dataframe tbody tr th {\n",
       "        vertical-align: top;\n",
       "    }\n",
       "\n",
       "    .dataframe thead th {\n",
       "        text-align: right;\n",
       "    }\n",
       "</style>\n",
       "<table border=\"1\" class=\"dataframe\">\n",
       "  <thead>\n",
       "    <tr style=\"text-align: right;\">\n",
       "      <th></th>\n",
       "      <th>winner_elo</th>\n",
       "      <th>loser_elo</th>\n",
       "      <th>win_prob</th>\n",
       "    </tr>\n",
       "  </thead>\n",
       "  <tbody>\n",
       "    <tr>\n",
       "      <th>0</th>\n",
       "      <td>1500.000000</td>\n",
       "      <td>1500.000000</td>\n",
       "      <td>0.500000</td>\n",
       "    </tr>\n",
       "    <tr>\n",
       "      <th>1</th>\n",
       "      <td>1500.000000</td>\n",
       "      <td>1500.000000</td>\n",
       "      <td>0.500000</td>\n",
       "    </tr>\n",
       "    <tr>\n",
       "      <th>2</th>\n",
       "      <td>1500.000000</td>\n",
       "      <td>1500.000000</td>\n",
       "      <td>0.500000</td>\n",
       "    </tr>\n",
       "    <tr>\n",
       "      <th>3</th>\n",
       "      <td>1500.000000</td>\n",
       "      <td>1500.000000</td>\n",
       "      <td>0.500000</td>\n",
       "    </tr>\n",
       "    <tr>\n",
       "      <th>4</th>\n",
       "      <td>1500.000000</td>\n",
       "      <td>1500.000000</td>\n",
       "      <td>0.500000</td>\n",
       "    </tr>\n",
       "    <tr>\n",
       "      <th>...</th>\n",
       "      <td>...</td>\n",
       "      <td>...</td>\n",
       "      <td>...</td>\n",
       "    </tr>\n",
       "    <tr>\n",
       "      <th>876973</th>\n",
       "      <td>1520.131858</td>\n",
       "      <td>1489.986127</td>\n",
       "      <td>0.543275</td>\n",
       "    </tr>\n",
       "    <tr>\n",
       "      <th>876974</th>\n",
       "      <td>1510.276246</td>\n",
       "      <td>1353.839307</td>\n",
       "      <td>0.711057</td>\n",
       "    </tr>\n",
       "    <tr>\n",
       "      <th>876975</th>\n",
       "      <td>1416.488987</td>\n",
       "      <td>1456.834926</td>\n",
       "      <td>0.442197</td>\n",
       "    </tr>\n",
       "    <tr>\n",
       "      <th>876976</th>\n",
       "      <td>1522.338970</td>\n",
       "      <td>1495.882160</td>\n",
       "      <td>0.538001</td>\n",
       "    </tr>\n",
       "    <tr>\n",
       "      <th>876977</th>\n",
       "      <td>1541.264597</td>\n",
       "      <td>1436.502251</td>\n",
       "      <td>0.646356</td>\n",
       "    </tr>\n",
       "  </tbody>\n",
       "</table>\n",
       "<p>876978 rows × 3 columns</p>\n",
       "</div>"
      ],
      "text/plain": [
       "         winner_elo    loser_elo  win_prob\n",
       "0       1500.000000  1500.000000  0.500000\n",
       "1       1500.000000  1500.000000  0.500000\n",
       "2       1500.000000  1500.000000  0.500000\n",
       "3       1500.000000  1500.000000  0.500000\n",
       "4       1500.000000  1500.000000  0.500000\n",
       "...             ...          ...       ...\n",
       "876973  1520.131858  1489.986127  0.543275\n",
       "876974  1510.276246  1353.839307  0.711057\n",
       "876975  1416.488987  1456.834926  0.442197\n",
       "876976  1522.338970  1495.882160  0.538001\n",
       "876977  1541.264597  1436.502251  0.646356\n",
       "\n",
       "[876978 rows x 3 columns]"
      ]
     },
     "execution_count": 24,
     "metadata": {},
     "output_type": "execute_result"
    }
   ],
   "source": [
    "we_le_pw_df"
   ]
  },
  {
   "cell_type": "code",
   "execution_count": 25,
   "id": "9349bb02-787e-489b-a57d-6e8f5ae8c5fb",
   "metadata": {
    "tags": []
   },
   "outputs": [],
   "source": [
    "singles_r_wp = pd.concat([singles_matches,we_le_pw_df],axis = 1)"
   ]
  },
  {
   "cell_type": "code",
   "execution_count": 26,
   "id": "51479e21-9be3-40a5-a04b-d15154173635",
   "metadata": {
    "tags": []
   },
   "outputs": [
    {
     "data": {
      "text/html": [
       "<div>\n",
       "<style scoped>\n",
       "    .dataframe tbody tr th:only-of-type {\n",
       "        vertical-align: middle;\n",
       "    }\n",
       "\n",
       "    .dataframe tbody tr th {\n",
       "        vertical-align: top;\n",
       "    }\n",
       "\n",
       "    .dataframe thead th {\n",
       "        text-align: right;\n",
       "    }\n",
       "</style>\n",
       "<table border=\"1\" class=\"dataframe\">\n",
       "  <thead>\n",
       "    <tr style=\"text-align: right;\">\n",
       "      <th></th>\n",
       "      <th>tourney_id</th>\n",
       "      <th>tourney_name</th>\n",
       "      <th>surface</th>\n",
       "      <th>draw_size</th>\n",
       "      <th>tourney_level</th>\n",
       "      <th>tourney_date</th>\n",
       "      <th>match_num</th>\n",
       "      <th>winner_id</th>\n",
       "      <th>winner_seed</th>\n",
       "      <th>winner_entry</th>\n",
       "      <th>...</th>\n",
       "      <th>l_SvGms</th>\n",
       "      <th>l_bpSaved</th>\n",
       "      <th>l_bpFaced</th>\n",
       "      <th>winner_rank</th>\n",
       "      <th>winner_rank_points</th>\n",
       "      <th>loser_rank</th>\n",
       "      <th>loser_rank_points</th>\n",
       "      <th>winner_elo</th>\n",
       "      <th>loser_elo</th>\n",
       "      <th>win_prob</th>\n",
       "    </tr>\n",
       "  </thead>\n",
       "  <tbody>\n",
       "    <tr>\n",
       "      <th>0</th>\n",
       "      <td>1877-540</td>\n",
       "      <td>Wimbledon</td>\n",
       "      <td>Grass</td>\n",
       "      <td>32</td>\n",
       "      <td>G</td>\n",
       "      <td>1877-07-09</td>\n",
       "      <td>19</td>\n",
       "      <td>113987</td>\n",
       "      <td>NaN</td>\n",
       "      <td>NaN</td>\n",
       "      <td>...</td>\n",
       "      <td>NaN</td>\n",
       "      <td>NaN</td>\n",
       "      <td>NaN</td>\n",
       "      <td>NaN</td>\n",
       "      <td>NaN</td>\n",
       "      <td>NaN</td>\n",
       "      <td>NaN</td>\n",
       "      <td>1500.000000</td>\n",
       "      <td>1500.000000</td>\n",
       "      <td>0.500000</td>\n",
       "    </tr>\n",
       "    <tr>\n",
       "      <th>1</th>\n",
       "      <td>1877-540</td>\n",
       "      <td>Wimbledon</td>\n",
       "      <td>Grass</td>\n",
       "      <td>32</td>\n",
       "      <td>G</td>\n",
       "      <td>1877-07-09</td>\n",
       "      <td>21</td>\n",
       "      <td>113987</td>\n",
       "      <td>NaN</td>\n",
       "      <td>NaN</td>\n",
       "      <td>...</td>\n",
       "      <td>NaN</td>\n",
       "      <td>NaN</td>\n",
       "      <td>NaN</td>\n",
       "      <td>NaN</td>\n",
       "      <td>NaN</td>\n",
       "      <td>NaN</td>\n",
       "      <td>NaN</td>\n",
       "      <td>1500.000000</td>\n",
       "      <td>1500.000000</td>\n",
       "      <td>0.500000</td>\n",
       "    </tr>\n",
       "    <tr>\n",
       "      <th>2</th>\n",
       "      <td>1877-540</td>\n",
       "      <td>Wimbledon</td>\n",
       "      <td>Grass</td>\n",
       "      <td>32</td>\n",
       "      <td>G</td>\n",
       "      <td>1877-07-09</td>\n",
       "      <td>20</td>\n",
       "      <td>113987</td>\n",
       "      <td>NaN</td>\n",
       "      <td>NaN</td>\n",
       "      <td>...</td>\n",
       "      <td>NaN</td>\n",
       "      <td>NaN</td>\n",
       "      <td>NaN</td>\n",
       "      <td>NaN</td>\n",
       "      <td>NaN</td>\n",
       "      <td>NaN</td>\n",
       "      <td>NaN</td>\n",
       "      <td>1500.000000</td>\n",
       "      <td>1500.000000</td>\n",
       "      <td>0.500000</td>\n",
       "    </tr>\n",
       "    <tr>\n",
       "      <th>3</th>\n",
       "      <td>1877-540</td>\n",
       "      <td>Wimbledon</td>\n",
       "      <td>Grass</td>\n",
       "      <td>32</td>\n",
       "      <td>G</td>\n",
       "      <td>1877-07-09</td>\n",
       "      <td>18</td>\n",
       "      <td>113963</td>\n",
       "      <td>NaN</td>\n",
       "      <td>NaN</td>\n",
       "      <td>...</td>\n",
       "      <td>NaN</td>\n",
       "      <td>NaN</td>\n",
       "      <td>NaN</td>\n",
       "      <td>NaN</td>\n",
       "      <td>NaN</td>\n",
       "      <td>NaN</td>\n",
       "      <td>NaN</td>\n",
       "      <td>1500.000000</td>\n",
       "      <td>1500.000000</td>\n",
       "      <td>0.500000</td>\n",
       "    </tr>\n",
       "    <tr>\n",
       "      <th>4</th>\n",
       "      <td>1877-540</td>\n",
       "      <td>Wimbledon</td>\n",
       "      <td>Grass</td>\n",
       "      <td>32</td>\n",
       "      <td>G</td>\n",
       "      <td>1877-07-09</td>\n",
       "      <td>17</td>\n",
       "      <td>113999</td>\n",
       "      <td>NaN</td>\n",
       "      <td>NaN</td>\n",
       "      <td>...</td>\n",
       "      <td>NaN</td>\n",
       "      <td>NaN</td>\n",
       "      <td>NaN</td>\n",
       "      <td>NaN</td>\n",
       "      <td>NaN</td>\n",
       "      <td>NaN</td>\n",
       "      <td>NaN</td>\n",
       "      <td>1500.000000</td>\n",
       "      <td>1500.000000</td>\n",
       "      <td>0.500000</td>\n",
       "    </tr>\n",
       "    <tr>\n",
       "      <th>...</th>\n",
       "      <td>...</td>\n",
       "      <td>...</td>\n",
       "      <td>...</td>\n",
       "      <td>...</td>\n",
       "      <td>...</td>\n",
       "      <td>...</td>\n",
       "      <td>...</td>\n",
       "      <td>...</td>\n",
       "      <td>...</td>\n",
       "      <td>...</td>\n",
       "      <td>...</td>\n",
       "      <td>...</td>\n",
       "      <td>...</td>\n",
       "      <td>...</td>\n",
       "      <td>...</td>\n",
       "      <td>...</td>\n",
       "      <td>...</td>\n",
       "      <td>...</td>\n",
       "      <td>...</td>\n",
       "      <td>...</td>\n",
       "      <td>...</td>\n",
       "    </tr>\n",
       "    <tr>\n",
       "      <th>876973</th>\n",
       "      <td>2022-M-ITF-TUN-63A-2022</td>\n",
       "      <td>M15 Monastir</td>\n",
       "      <td>Hard</td>\n",
       "      <td>32</td>\n",
       "      <td>15</td>\n",
       "      <td>2022-12-26</td>\n",
       "      <td>104</td>\n",
       "      <td>207987</td>\n",
       "      <td>6.0</td>\n",
       "      <td>NaN</td>\n",
       "      <td>...</td>\n",
       "      <td>NaN</td>\n",
       "      <td>NaN</td>\n",
       "      <td>NaN</td>\n",
       "      <td>716.0</td>\n",
       "      <td>31.0</td>\n",
       "      <td>966.0</td>\n",
       "      <td>12.0</td>\n",
       "      <td>1520.131858</td>\n",
       "      <td>1489.986127</td>\n",
       "      <td>0.543275</td>\n",
       "    </tr>\n",
       "    <tr>\n",
       "      <th>876974</th>\n",
       "      <td>2022-M-ITF-TUN-63A-2022</td>\n",
       "      <td>M15 Monastir</td>\n",
       "      <td>Hard</td>\n",
       "      <td>32</td>\n",
       "      <td>15</td>\n",
       "      <td>2022-12-26</td>\n",
       "      <td>103</td>\n",
       "      <td>144932</td>\n",
       "      <td>NaN</td>\n",
       "      <td>NaN</td>\n",
       "      <td>...</td>\n",
       "      <td>NaN</td>\n",
       "      <td>NaN</td>\n",
       "      <td>NaN</td>\n",
       "      <td>799.0</td>\n",
       "      <td>23.0</td>\n",
       "      <td>1117.0</td>\n",
       "      <td>8.0</td>\n",
       "      <td>1510.276246</td>\n",
       "      <td>1353.839307</td>\n",
       "      <td>0.711057</td>\n",
       "    </tr>\n",
       "    <tr>\n",
       "      <th>876975</th>\n",
       "      <td>2022-M-ITF-TUN-63A-2022</td>\n",
       "      <td>M15 Monastir</td>\n",
       "      <td>Hard</td>\n",
       "      <td>32</td>\n",
       "      <td>15</td>\n",
       "      <td>2022-12-26</td>\n",
       "      <td>102</td>\n",
       "      <td>209955</td>\n",
       "      <td>NaN</td>\n",
       "      <td>Q</td>\n",
       "      <td>...</td>\n",
       "      <td>NaN</td>\n",
       "      <td>NaN</td>\n",
       "      <td>NaN</td>\n",
       "      <td>NaN</td>\n",
       "      <td>NaN</td>\n",
       "      <td>NaN</td>\n",
       "      <td>NaN</td>\n",
       "      <td>1416.488987</td>\n",
       "      <td>1456.834926</td>\n",
       "      <td>0.442197</td>\n",
       "    </tr>\n",
       "    <tr>\n",
       "      <th>876976</th>\n",
       "      <td>2022-M-ITF-TUN-63A-2022</td>\n",
       "      <td>M15 Monastir</td>\n",
       "      <td>Hard</td>\n",
       "      <td>32</td>\n",
       "      <td>15</td>\n",
       "      <td>2022-12-26</td>\n",
       "      <td>205</td>\n",
       "      <td>209079</td>\n",
       "      <td>NaN</td>\n",
       "      <td>JE</td>\n",
       "      <td>...</td>\n",
       "      <td>NaN</td>\n",
       "      <td>NaN</td>\n",
       "      <td>NaN</td>\n",
       "      <td>1125.0</td>\n",
       "      <td>7.0</td>\n",
       "      <td>1548.0</td>\n",
       "      <td>2.0</td>\n",
       "      <td>1522.338970</td>\n",
       "      <td>1495.882160</td>\n",
       "      <td>0.538001</td>\n",
       "    </tr>\n",
       "    <tr>\n",
       "      <th>876977</th>\n",
       "      <td>2022-M-ITF-TUN-63A-2022</td>\n",
       "      <td>M15 Monastir</td>\n",
       "      <td>Hard</td>\n",
       "      <td>32</td>\n",
       "      <td>15</td>\n",
       "      <td>2022-12-26</td>\n",
       "      <td>204</td>\n",
       "      <td>200289</td>\n",
       "      <td>8.0</td>\n",
       "      <td>NaN</td>\n",
       "      <td>...</td>\n",
       "      <td>NaN</td>\n",
       "      <td>NaN</td>\n",
       "      <td>NaN</td>\n",
       "      <td>768.0</td>\n",
       "      <td>26.0</td>\n",
       "      <td>1202.0</td>\n",
       "      <td>6.0</td>\n",
       "      <td>1541.264597</td>\n",
       "      <td>1436.502251</td>\n",
       "      <td>0.646356</td>\n",
       "    </tr>\n",
       "  </tbody>\n",
       "</table>\n",
       "<p>876978 rows × 52 columns</p>\n",
       "</div>"
      ],
      "text/plain": [
       "                     tourney_id  tourney_name surface draw_size tourney_level  \\\n",
       "0                      1877-540     Wimbledon   Grass        32             G   \n",
       "1                      1877-540     Wimbledon   Grass        32             G   \n",
       "2                      1877-540     Wimbledon   Grass        32             G   \n",
       "3                      1877-540     Wimbledon   Grass        32             G   \n",
       "4                      1877-540     Wimbledon   Grass        32             G   \n",
       "...                         ...           ...     ...       ...           ...   \n",
       "876973  2022-M-ITF-TUN-63A-2022  M15 Monastir    Hard        32            15   \n",
       "876974  2022-M-ITF-TUN-63A-2022  M15 Monastir    Hard        32            15   \n",
       "876975  2022-M-ITF-TUN-63A-2022  M15 Monastir    Hard        32            15   \n",
       "876976  2022-M-ITF-TUN-63A-2022  M15 Monastir    Hard        32            15   \n",
       "876977  2022-M-ITF-TUN-63A-2022  M15 Monastir    Hard        32            15   \n",
       "\n",
       "       tourney_date  match_num  winner_id  winner_seed winner_entry  ...  \\\n",
       "0        1877-07-09         19     113987          NaN          NaN  ...   \n",
       "1        1877-07-09         21     113987          NaN          NaN  ...   \n",
       "2        1877-07-09         20     113987          NaN          NaN  ...   \n",
       "3        1877-07-09         18     113963          NaN          NaN  ...   \n",
       "4        1877-07-09         17     113999          NaN          NaN  ...   \n",
       "...             ...        ...        ...          ...          ...  ...   \n",
       "876973   2022-12-26        104     207987          6.0          NaN  ...   \n",
       "876974   2022-12-26        103     144932          NaN          NaN  ...   \n",
       "876975   2022-12-26        102     209955          NaN            Q  ...   \n",
       "876976   2022-12-26        205     209079          NaN           JE  ...   \n",
       "876977   2022-12-26        204     200289          8.0          NaN  ...   \n",
       "\n",
       "       l_SvGms l_bpSaved  l_bpFaced winner_rank  winner_rank_points  \\\n",
       "0          NaN       NaN        NaN         NaN                 NaN   \n",
       "1          NaN       NaN        NaN         NaN                 NaN   \n",
       "2          NaN       NaN        NaN         NaN                 NaN   \n",
       "3          NaN       NaN        NaN         NaN                 NaN   \n",
       "4          NaN       NaN        NaN         NaN                 NaN   \n",
       "...        ...       ...        ...         ...                 ...   \n",
       "876973     NaN       NaN        NaN       716.0                31.0   \n",
       "876974     NaN       NaN        NaN       799.0                23.0   \n",
       "876975     NaN       NaN        NaN         NaN                 NaN   \n",
       "876976     NaN       NaN        NaN      1125.0                 7.0   \n",
       "876977     NaN       NaN        NaN       768.0                26.0   \n",
       "\n",
       "        loser_rank  loser_rank_points   winner_elo    loser_elo  win_prob  \n",
       "0              NaN                NaN  1500.000000  1500.000000  0.500000  \n",
       "1              NaN                NaN  1500.000000  1500.000000  0.500000  \n",
       "2              NaN                NaN  1500.000000  1500.000000  0.500000  \n",
       "3              NaN                NaN  1500.000000  1500.000000  0.500000  \n",
       "4              NaN                NaN  1500.000000  1500.000000  0.500000  \n",
       "...            ...                ...          ...          ...       ...  \n",
       "876973       966.0               12.0  1520.131858  1489.986127  0.543275  \n",
       "876974      1117.0                8.0  1510.276246  1353.839307  0.711057  \n",
       "876975         NaN                NaN  1416.488987  1456.834926  0.442197  \n",
       "876976      1548.0                2.0  1522.338970  1495.882160  0.538001  \n",
       "876977      1202.0                6.0  1541.264597  1436.502251  0.646356  \n",
       "\n",
       "[876978 rows x 52 columns]"
      ]
     },
     "execution_count": 26,
     "metadata": {},
     "output_type": "execute_result"
    }
   ],
   "source": [
    "singles_r_wp"
   ]
  },
  {
   "cell_type": "markdown",
   "id": "7cb44933-6a18-42c3-a525-0ee439cc9e9c",
   "metadata": {},
   "source": [
    "How well does the elo prediction match with reality?"
   ]
  },
  {
   "cell_type": "code",
   "execution_count": 29,
   "id": "fbb4530c-63b6-4652-8900-1a6a5add91dc",
   "metadata": {},
   "outputs": [
    {
     "data": {
      "text/plain": [
       "0.5641973656273931"
      ]
     },
     "execution_count": 29,
     "metadata": {},
     "output_type": "execute_result"
    }
   ],
   "source": [
    "singles_r_wp['win_prob'].mean() # the higher elo-rated player wins %56.4 of the time\n"
   ]
  },
  {
   "cell_type": "code",
   "execution_count": 38,
   "id": "54c9e7ea-846e-4098-82a7-d22aa66d0f15",
   "metadata": {},
   "outputs": [
    {
     "data": {
      "text/plain": [
       "0.5808836943239509"
      ]
     },
     "execution_count": 38,
     "metadata": {},
     "output_type": "execute_result"
    }
   ],
   "source": [
    "singles_r_wp[singles_r_wp['tourney_level']== 'G']['win_prob'].mean() \n",
    "# In grand-slam events, the higher rated player wins 58.1% of the time"
   ]
  },
  {
   "cell_type": "code",
   "execution_count": null,
   "id": "ead32917-15ab-4cdf-b6b9-b6daba686e17",
   "metadata": {},
   "outputs": [],
   "source": [
    "singles_r_wp[singles_r_wp['tourney_level']== 'G']"
   ]
  },
  {
   "cell_type": "code",
   "execution_count": 33,
   "id": "c8243fc5-f1d6-483f-bfc3-e73250d1440a",
   "metadata": {},
   "outputs": [
    {
     "data": {
      "text/plain": [
       "array(['G', 'D', 'A', 'M', 'C', 'F', 'S', '15', '25'], dtype=object)"
      ]
     },
     "execution_count": 33,
     "metadata": {},
     "output_type": "execute_result"
    }
   ],
   "source": [
    "singles_r_wp['tourney_level'].unique()"
   ]
  },
  {
   "cell_type": "code",
   "execution_count": 51,
   "id": "bec9b157-e974-4fa7-a1fd-f53d9ae059c8",
   "metadata": {},
   "outputs": [
    {
     "data": {
      "text/plain": [
       "0.64775167086075"
      ]
     },
     "execution_count": 51,
     "metadata": {},
     "output_type": "execute_result"
    }
   ],
   "source": [
    "np.mean(singles_r_wp[(singles_r_wp['winner_rank'].isna() == False) & (singles_r_wp['loser_rank'].isna() == False)]['winner_rank'] <singles_r_wp[(singles_r_wp['winner_rank'].isna() == False) & (singles_r_wp['loser_rank'].isna() == False)]['loser_rank'])"
   ]
  },
  {
   "cell_type": "markdown",
   "id": "609f041c-3f8b-4d68-a357-d5c12ef6fa51",
   "metadata": {},
   "source": [
    "Of the ranked matches (both players have a ranking), 64.8% of the winners have a higher ranking."
   ]
  },
  {
   "cell_type": "code",
   "execution_count": 52,
   "id": "0df74064-5d5a-4eda-8ae3-4cdb03baa0ff",
   "metadata": {},
   "outputs": [
    {
     "data": {
      "text/plain": [
       "0.6332248240479825"
      ]
     },
     "execution_count": 52,
     "metadata": {},
     "output_type": "execute_result"
    }
   ],
   "source": [
    "np.mean(singles_r_wp[(singles_r_wp['winner_rank'].isna() == False) & (singles_r_wp['loser_rank'].isna() == False)]['loser_elo'] <singles_r_wp[(singles_r_wp['winner_rank'].isna() == False) & (singles_r_wp['loser_rank'].isna() == False)]['winner_elo'])"
   ]
  },
  {
   "cell_type": "code",
   "execution_count": 53,
   "id": "2a1bdaa7-6445-468d-b20a-9166df1d6e78",
   "metadata": {},
   "outputs": [],
   "source": [
    "# check that elos are not 1500..."
   ]
  },
  {
   "cell_type": "code",
   "execution_count": null,
   "id": "4b2003bb-5546-4a35-b312-9508ba663360",
   "metadata": {},
   "outputs": [],
   "source": [
    "singles_matches[1:10].shape,matches[1:10].shape"
   ]
  },
  {
   "cell_type": "code",
   "execution_count": null,
   "id": "59e0b096-fe88-4a59-9f54-377fcc43509f",
   "metadata": {},
   "outputs": [],
   "source": [
    "matches.dtypes"
   ]
  },
  {
   "cell_type": "code",
   "execution_count": null,
   "id": "069c44e6-0751-4ad2-884f-bdd24b8ed07e",
   "metadata": {
    "tags": []
   },
   "outputs": [],
   "source": [
    "testDf"
   ]
  },
  {
   "cell_type": "code",
   "execution_count": null,
   "id": "679f2a9d-4277-47a0-b508-f80eaddcbe68",
   "metadata": {},
   "outputs": [],
   "source": [
    "matches[1:10].apply(\n",
    "    lambda x: get_recent_rating_wp(ratingsHistory_df, x['tourney_date'], \n",
    "                                   x['winner_id'], x['loser_id']),axis=1)"
   ]
  },
  {
   "cell_type": "code",
   "execution_count": null,
   "id": "756cf3d3-70b2-4034-9422-79b9f2ae3a29",
   "metadata": {},
   "outputs": [],
   "source": [
    "testDf['winner_elo','loser_elo','predicted_wins'] = matches[1:10].apply(\n",
    "    lambda x: get_recent_rating_wp(ratingsHistory_df, x['tourney_date'], \n",
    "                                   x['winner_id'], x['loser_id']),axis=1)"
   ]
  },
  {
   "cell_type": "code",
   "execution_count": null,
   "id": "54efd4d5-b49e-497d-b54e-ac72898bf980",
   "metadata": {},
   "outputs": [],
   "source": []
  },
  {
   "cell_type": "code",
   "execution_count": null,
   "id": "f70d9dc9-607a-48f5-a987-324bcf8dce32",
   "metadata": {},
   "outputs": [],
   "source": [
    "testDf = singles_matches[1:10]\n",
    "testDf['winner_elo','loser_elo','predicted_wins'] = matches[1:10].apply(\n",
    "    lambda x: get_recent_rating_wp(ratingsHistory_df, x['tourney_date'], \n",
    "                                   x['winner_id'], x['loser_id']),axis=1)\n"
   ]
  },
  {
   "cell_type": "code",
   "execution_count": null,
   "id": "eac65a41-1ac7-41f8-850d-797ab9878a34",
   "metadata": {},
   "outputs": [],
   "source": [
    "[1,2,3][0:-1]"
   ]
  },
  {
   "cell_type": "code",
   "execution_count": null,
   "id": "469a9a3f-2944-40aa-a08d-591614a07a19",
   "metadata": {},
   "outputs": [],
   "source": [
    "ratingsHistory_df"
   ]
  },
  {
   "cell_type": "code",
   "execution_count": null,
   "id": "11632ab9-3f03-4554-b4f3-479e92264f47",
   "metadata": {},
   "outputs": [],
   "source": [
    "singles_matches"
   ]
  },
  {
   "cell_type": "code",
   "execution_count": null,
   "id": "36259d00-ca82-40bd-a4b1-e7306cb68407",
   "metadata": {},
   "outputs": [],
   "source": [
    "ratingsHistory_df.columns"
   ]
  },
  {
   "cell_type": "code",
   "execution_count": null,
   "id": "72a0a251-8fbb-4e39-8f4b-0d0e612ddf85",
   "metadata": {},
   "outputs": [],
   "source": [
    "set(list(matches['winner_id'].unique()) + list(matches['loser_id'].unique()))"
   ]
  },
  {
   "cell_type": "code",
   "execution_count": null,
   "id": "e7e6da59-2a95-412b-86b7-8bf690fc3c1e",
   "metadata": {
    "tags": []
   },
   "outputs": [],
   "source": [
    "set(ratingsHistory_df) - "
   ]
  },
  {
   "cell_type": "code",
   "execution_count": null,
   "id": "c752619c-7d5f-49c2-82d0-9d6fa832ecd4",
   "metadata": {
    "tags": []
   },
   "outputs": [],
   "source": [
    "singles_matches[['winner_elo','loser_elo','predicted_wins']] = matches[['tourney_date','winner_id','loser_id']].apply(lambda x: \n",
    "get_recent_rating_wp(ratingsHistory_df, x['tourney_date'], x['winner_id'], x['loser_id']),axis=1)"
   ]
  },
  {
   "cell_type": "code",
   "execution_count": null,
   "id": "492e3d34-fe5d-414f-9365-0b998be6d9fa",
   "metadata": {},
   "outputs": [],
   "source": [
    "ratingsHistory_df"
   ]
  }
 ],
 "metadata": {
  "kernelspec": {
   "display_name": "Python 3 (ipykernel)",
   "language": "python",
   "name": "python3"
  },
  "language_info": {
   "codemirror_mode": {
    "name": "ipython",
    "version": 3
   },
   "file_extension": ".py",
   "mimetype": "text/x-python",
   "name": "python",
   "nbconvert_exporter": "python",
   "pygments_lexer": "ipython3",
   "version": "3.9.13"
  }
 },
 "nbformat": 4,
 "nbformat_minor": 5
}
