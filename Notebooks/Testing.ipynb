{
 "cells": [
  {
   "cell_type": "code",
   "execution_count": 1,
   "id": "c980de3b-642c-4c43-a8e6-08fe2c524a68",
   "metadata": {},
   "outputs": [],
   "source": [
    "import pandas as pd\n",
    "from functions import assembleDf, epochElo, epochsElo, epochG, epochsG,PlayerElo\n",
    "from datetime import datetime, timedelta\n",
    "import numpy as np\n",
    "import sys\n",
    "sys.path.append('..')\n",
    "from pyglicko2.glicko2_tests import exampleCase\n",
    "from pyglicko2.glicko2 import Player\n",
    "import glicko2\n",
    "import time"
   ]
  },
  {
   "cell_type": "code",
   "execution_count": 2,
   "id": "ac0ad5db-6c40-4fdd-a0c8-b03d8d36ebb6",
   "metadata": {},
   "outputs": [],
   "source": [
    "matches = pd.read_csv('../Data/matches_glicko2.csv',parse_dates = ['tourney_date'], \n",
    "                      infer_datetime_format = True)"
   ]
  },
  {
   "cell_type": "code",
   "execution_count": 3,
   "id": "eb5f67f5-231e-4a9b-9017-f70520e11b66",
   "metadata": {},
   "outputs": [
    {
     "name": "stderr",
     "output_type": "stream",
     "text": [
      "/var/folders/7q/63cgxnn50sl5zwxkchv_j2cr0000gn/T/ipykernel_11425/3293468424.py:1: DtypeWarning: Columns (3,9,17) have mixed types. Specify dtype option on import or set low_memory=False.\n",
      "  singles_matches = pd.read_csv('../Data/singles_matches_df.csv',parse_dates = ['tourney_date'],\n"
     ]
    }
   ],
   "source": [
    "singles_matches = pd.read_csv('../Data/singles_matches_df.csv',parse_dates = ['tourney_date'], \n",
    "                      infer_datetime_format = True)"
   ]
  },
  {
   "cell_type": "code",
   "execution_count": 4,
   "id": "22e0b931-629c-4ae6-8614-e076eb771960",
   "metadata": {},
   "outputs": [],
   "source": [
    "playerClasses, ratingsHistory = epochsElo(matches)"
   ]
  },
  {
   "cell_type": "code",
   "execution_count": 6,
   "id": "7d1d68e8-b267-47a5-976e-4fd5c22aaa61",
   "metadata": {},
   "outputs": [],
   "source": [
    "ratingsHistory_df = assembleDf(ratingsHistory)"
   ]
  },
  {
   "cell_type": "code",
   "execution_count": 7,
   "id": "4b900fa6-7fbe-4dc9-b6af-fc66595d4fff",
   "metadata": {},
   "outputs": [],
   "source": [
    "# fill in missing values with last seen rating.  \n",
    "ratingsHistory_df = ratingsHistory_df.ffill(axis=0).fillna(1500)"
   ]
  },
  {
   "cell_type": "code",
   "execution_count": 14,
   "id": "e14a24bb-3d8a-4702-91df-1f557e462243",
   "metadata": {},
   "outputs": [],
   "source": [
    "def get_recent_rating_wp(ratingsHistory_df,tourney_date,winner_id,loser_id):\n",
    "    if not type(tourney_date) == pd._libs.tslibs.timestamps.Timestamp:\n",
    "        tourney_date = pd.to_datetime(tourney_date)\n",
    "    timestamp = max(ratingsHistory_df.index[ratingsHistory_df.index<=tourney_date])\n",
    "    winner_rating, loser_rating = ratingsHistory_df.loc[timestamp,[winner_id,loser_id]]\n",
    "    wp = 1/(1 + 10**((loser_rating-winner_rating)/400))\n",
    "    return winner_rating, loser_rating, wp"
   ]
  },
  {
   "cell_type": "code",
   "execution_count": 15,
   "id": "cc9c743c-9143-4f70-af85-e0ca6e3c393b",
   "metadata": {},
   "outputs": [
    {
     "data": {
      "text/plain": [
       "(1500.0, 1500.0, 0.5)"
      ]
     },
     "execution_count": 15,
     "metadata": {},
     "output_type": "execute_result"
    }
   ],
   "source": [
    "get_recent_rating_wp(ratingsHistory_df,pd.Timestamp('1877-07-09T00'),131867,131879)"
   ]
  },
  {
   "cell_type": "code",
   "execution_count": 9,
   "id": "157d9b36-60d4-482b-a16c-e73868c5df6e",
   "metadata": {
    "tags": []
   },
   "outputs": [
    {
     "data": {
      "text/html": [
       "<div>\n",
       "<style scoped>\n",
       "    .dataframe tbody tr th:only-of-type {\n",
       "        vertical-align: middle;\n",
       "    }\n",
       "\n",
       "    .dataframe tbody tr th {\n",
       "        vertical-align: top;\n",
       "    }\n",
       "\n",
       "    .dataframe thead th {\n",
       "        text-align: right;\n",
       "    }\n",
       "</style>\n",
       "<table border=\"1\" class=\"dataframe\">\n",
       "  <thead>\n",
       "    <tr style=\"text-align: right;\">\n",
       "      <th></th>\n",
       "      <th>131500</th>\n",
       "      <th>131584</th>\n",
       "      <th>131866</th>\n",
       "      <th>131867</th>\n",
       "      <th>131869</th>\n",
       "      <th>131873</th>\n",
       "      <th>131876</th>\n",
       "      <th>131879</th>\n",
       "      <th>131881</th>\n",
       "      <th>131884</th>\n",
       "      <th>...</th>\n",
       "      <th>130340</th>\n",
       "      <th>130355</th>\n",
       "      <th>130457</th>\n",
       "      <th>130493</th>\n",
       "      <th>130542</th>\n",
       "      <th>130550</th>\n",
       "      <th>130552</th>\n",
       "      <th>130553</th>\n",
       "      <th>130655</th>\n",
       "      <th>130767</th>\n",
       "    </tr>\n",
       "  </thead>\n",
       "  <tbody>\n",
       "    <tr>\n",
       "      <th>1877-07-09</th>\n",
       "      <td>1500.0</td>\n",
       "      <td>1500.0</td>\n",
       "      <td>1500.0</td>\n",
       "      <td>1500.0</td>\n",
       "      <td>1500.0</td>\n",
       "      <td>1500.0</td>\n",
       "      <td>1500.0</td>\n",
       "      <td>1500.0</td>\n",
       "      <td>1500.0</td>\n",
       "      <td>1500.0</td>\n",
       "      <td>...</td>\n",
       "      <td>1500.0</td>\n",
       "      <td>1500.0</td>\n",
       "      <td>1500.0</td>\n",
       "      <td>1500.0</td>\n",
       "      <td>1500.0</td>\n",
       "      <td>1500.0</td>\n",
       "      <td>1500.0</td>\n",
       "      <td>1500.0</td>\n",
       "      <td>1500.0</td>\n",
       "      <td>1500.0</td>\n",
       "    </tr>\n",
       "  </tbody>\n",
       "</table>\n",
       "<p>1 rows × 32577 columns</p>\n",
       "</div>"
      ],
      "text/plain": [
       "            131500  131584  131866  131867  131869  131873  131876  131879  \\\n",
       "1877-07-09  1500.0  1500.0  1500.0  1500.0  1500.0  1500.0  1500.0  1500.0   \n",
       "\n",
       "            131881  131884  ...  130340  130355  130457  130493  130542  \\\n",
       "1877-07-09  1500.0  1500.0  ...  1500.0  1500.0  1500.0  1500.0  1500.0   \n",
       "\n",
       "            130550  130552  130553  130655  130767  \n",
       "1877-07-09  1500.0  1500.0  1500.0  1500.0  1500.0  \n",
       "\n",
       "[1 rows x 32577 columns]"
      ]
     },
     "execution_count": 9,
     "metadata": {},
     "output_type": "execute_result"
    }
   ],
   "source": [
    "padRow = pd.DataFrame({col: 1500.0 for col in ratingsHistory_df.columns}, index = [pd.Timestamp('1877-07-09T00')])\n",
    "padRow"
   ]
  },
  {
   "cell_type": "code",
   "execution_count": 10,
   "id": "9f50164d-2819-4af1-8500-088a0c666e7d",
   "metadata": {
    "tags": []
   },
   "outputs": [],
   "source": [
    "ratingsHistory_df = pd.concat([padRow,ratingsHistory_df],axis=0)"
   ]
  },
  {
   "cell_type": "code",
   "execution_count": 20,
   "id": "71e0f8e6-1d3f-455b-b9ba-e1b165834ba2",
   "metadata": {
    "tags": []
   },
   "outputs": [],
   "source": [
    "we_le_pw = matches.apply(lambda x:\n",
    "                           get_recent_rating_wp(\n",
    "                               ratingsHistory_df, \n",
    "                               x['tourney_date'], \n",
    "                               x['winner_id'], \n",
    "                               x['loser_id']),\n",
    "                            axis=1)"
   ]
  },
  {
   "cell_type": "code",
   "execution_count": null,
   "id": "9349bb02-787e-489b-a57d-6e8f5ae8c5fb",
   "metadata": {
    "tags": []
   },
   "outputs": [],
   "source": [
    "singles_r_wp = pd.concat(we_le_pw_df,pd.DataFrame(matches.apply(lambda x: \n",
    "                           get_recent_rating_wp(\n",
    "                               ratingsHistory_df, \n",
    "                               x['tourney_date'], \n",
    "                               x['winner_id'], \n",
    "                               x['loser_id']),\n",
    "                            axis=1),columns = ['winner_elo','loser_elo','predicted_wins'])])"
   ]
  },
  {
   "cell_type": "code",
   "execution_count": null,
   "id": "4b2003bb-5546-4a35-b312-9508ba663360",
   "metadata": {},
   "outputs": [],
   "source": [
    "singles_matches[1:10].shape,matches[1:10].shape"
   ]
  },
  {
   "cell_type": "code",
   "execution_count": null,
   "id": "59e0b096-fe88-4a59-9f54-377fcc43509f",
   "metadata": {},
   "outputs": [],
   "source": [
    "matches.dtypes"
   ]
  },
  {
   "cell_type": "code",
   "execution_count": null,
   "id": "069c44e6-0751-4ad2-884f-bdd24b8ed07e",
   "metadata": {
    "tags": []
   },
   "outputs": [],
   "source": [
    "testDf"
   ]
  },
  {
   "cell_type": "code",
   "execution_count": null,
   "id": "679f2a9d-4277-47a0-b508-f80eaddcbe68",
   "metadata": {},
   "outputs": [],
   "source": [
    "matches[1:10].apply(\n",
    "    lambda x: get_recent_rating_wp(ratingsHistory_df, x['tourney_date'], \n",
    "                                   x['winner_id'], x['loser_id']),axis=1)"
   ]
  },
  {
   "cell_type": "code",
   "execution_count": null,
   "id": "756cf3d3-70b2-4034-9422-79b9f2ae3a29",
   "metadata": {},
   "outputs": [],
   "source": [
    "testDf['winner_elo','loser_elo','predicted_wins'] = matches[1:10].apply(\n",
    "    lambda x: get_recent_rating_wp(ratingsHistory_df, x['tourney_date'], \n",
    "                                   x['winner_id'], x['loser_id']),axis=1)"
   ]
  },
  {
   "cell_type": "code",
   "execution_count": null,
   "id": "54efd4d5-b49e-497d-b54e-ac72898bf980",
   "metadata": {},
   "outputs": [],
   "source": []
  },
  {
   "cell_type": "code",
   "execution_count": null,
   "id": "f70d9dc9-607a-48f5-a987-324bcf8dce32",
   "metadata": {},
   "outputs": [],
   "source": [
    "testDf = singles_matches[1:10]\n",
    "testDf['winner_elo','loser_elo','predicted_wins'] = matches[1:10].apply(\n",
    "    lambda x: get_recent_rating_wp(ratingsHistory_df, x['tourney_date'], \n",
    "                                   x['winner_id'], x['loser_id']),axis=1)\n"
   ]
  },
  {
   "cell_type": "code",
   "execution_count": null,
   "id": "eac65a41-1ac7-41f8-850d-797ab9878a34",
   "metadata": {},
   "outputs": [],
   "source": [
    "[1,2,3][0:-1]"
   ]
  },
  {
   "cell_type": "code",
   "execution_count": null,
   "id": "469a9a3f-2944-40aa-a08d-591614a07a19",
   "metadata": {},
   "outputs": [],
   "source": [
    "ratingsHistory_df"
   ]
  },
  {
   "cell_type": "code",
   "execution_count": null,
   "id": "11632ab9-3f03-4554-b4f3-479e92264f47",
   "metadata": {},
   "outputs": [],
   "source": [
    "singles_matches"
   ]
  },
  {
   "cell_type": "code",
   "execution_count": null,
   "id": "36259d00-ca82-40bd-a4b1-e7306cb68407",
   "metadata": {},
   "outputs": [],
   "source": [
    "ratingsHistory_df.columns"
   ]
  },
  {
   "cell_type": "code",
   "execution_count": null,
   "id": "72a0a251-8fbb-4e39-8f4b-0d0e612ddf85",
   "metadata": {},
   "outputs": [],
   "source": [
    "set(list(matches['winner_id'].unique()) + list(matches['loser_id'].unique()))"
   ]
  },
  {
   "cell_type": "code",
   "execution_count": null,
   "id": "e7e6da59-2a95-412b-86b7-8bf690fc3c1e",
   "metadata": {
    "tags": []
   },
   "outputs": [],
   "source": [
    "set(ratingsHistory_df) - "
   ]
  },
  {
   "cell_type": "code",
   "execution_count": null,
   "id": "c752619c-7d5f-49c2-82d0-9d6fa832ecd4",
   "metadata": {
    "tags": []
   },
   "outputs": [],
   "source": [
    "singles_matches[['winner_elo','loser_elo','predicted_wins']] = matches[['tourney_date','winner_id','loser_id']].apply(lambda x: \n",
    "get_recent_rating_wp(ratingsHistory_df, x['tourney_date'], x['winner_id'], x['loser_id']),axis=1)"
   ]
  },
  {
   "cell_type": "code",
   "execution_count": null,
   "id": "492e3d34-fe5d-414f-9365-0b998be6d9fa",
   "metadata": {},
   "outputs": [],
   "source": [
    "ratingsHistory_df"
   ]
  }
 ],
 "metadata": {
  "kernelspec": {
   "display_name": "Python 3 (ipykernel)",
   "language": "python",
   "name": "python3"
  },
  "language_info": {
   "codemirror_mode": {
    "name": "ipython",
    "version": 3
   },
   "file_extension": ".py",
   "mimetype": "text/x-python",
   "name": "python",
   "nbconvert_exporter": "python",
   "pygments_lexer": "ipython3",
   "version": "3.9.13"
  }
 },
 "nbformat": 4,
 "nbformat_minor": 5
}
