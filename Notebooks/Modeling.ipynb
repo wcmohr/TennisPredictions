{
 "cells": [
  {
   "cell_type": "markdown",
   "id": "955c0008-933b-4de6-be5e-129ae6aba3ff",
   "metadata": {},
   "source": [
    "###### Modeling Notebook Overview"
   ]
  },
  {
   "cell_type": "markdown",
   "id": "7a40f5fd-fa27-48f2-b114-2c2053056dce",
   "metadata": {},
   "source": [
    "In this modeling notebook I will predict the outcomes of tennis matches separately with Elo, Glicko-2, and ranking points."
   ]
  },
  {
   "cell_type": "markdown",
   "id": "36ad201f-2315-4be3-81df-cd2e29892630",
   "metadata": {},
   "source": [
    "###### Imports"
   ]
  },
  {
   "cell_type": "code",
   "execution_count": 1,
   "id": "feadb4e5-c5e6-45be-bb47-575682fbcd69",
   "metadata": {},
   "outputs": [],
   "source": [
    "import pandas as pd\n",
    "import glob\n",
    "from functions import assembleDf, epochElo, epochsElo, epochG, epochsG,\\\n",
    "PlayerElo, winProbG, get_recent_rating_wp, get_recent_rating_rd_wp_lambda\n",
    "from datetime import datetime, timedelta\n",
    "import numpy as np\n",
    "import sys\n",
    "sys.path.append('..')\n",
    "from pyglicko2.glicko2_tests import exampleCase\n",
    "from pyglicko2.glicko2 import Player\n",
    "import glicko2\n",
    "import time\n",
    "import random\n",
    "import pprint\n",
    "from sklearn.linear_model import LogisticRegressionCV\n",
    "from sklearn.model_selection import train_test_split\n",
    "from sklearn.metrics import confusion_matrix, ConfusionMatrixDisplay,\\\n",
    "classification_report\n",
    "from sklearn.metrics import mean_squared_error\n",
    "import seaborn as sns\n",
    "import matplotlib.pyplot as plt"
   ]
  },
  {
   "cell_type": "markdown",
   "id": "d842a69f-2d5a-48dc-9e3e-71adb4aeb6e0",
   "metadata": {},
   "source": [
    "###### Read in and randomize data"
   ]
  },
  {
   "cell_type": "code",
   "execution_count": 2,
   "id": "4935a292-6550-4247-b28a-cbe33f89f51e",
   "metadata": {},
   "outputs": [],
   "source": [
    "# read in the combined data and re-assemble.\n",
    "data_files = glob.glob('../Data/combined_df_*.csv')\n",
    "data = pd.concat([pd.read_csv(f, low_memory=False,parse_dates = \n",
    "                                            ['tourney_date'], \n",
    "                                            infer_datetime_format=True,\n",
    "                                           index_col=[0]) \n",
    "                                for f in data_files]) "
   ]
  },
  {
   "cell_type": "code",
   "execution_count": 3,
   "id": "951f5c35-bd35-4efb-8b14-84d244f9e28e",
   "metadata": {},
   "outputs": [],
   "source": [
    "# (876978, 57) is the initial size of the data\n",
    "data.shape;"
   ]
  },
  {
   "cell_type": "code",
   "execution_count": 4,
   "id": "6f867c67-d2fd-4d22-89bd-ae3d867012c5",
   "metadata": {
    "tags": []
   },
   "outputs": [],
   "source": [
    "# identify columns to be used in the present analysis\n",
    "columns = ['winner_id','loser_id','winner_rank_points','loser_rank_points',\n",
    "          'winner_elo', 'loser_elo', 'win_prob', 'winner_gr', 'winner_grd',\n",
    "       'loser_gr', 'loser_grd', 'wp_g']\n",
    "data = data[columns]\n",
    "data = data.rename(columns={'win_prob':'wp_elo'})"
   ]
  },
  {
   "cell_type": "markdown",
   "id": "b7925e85-e7b9-4f73-b376-40877d5fa78b",
   "metadata": {},
   "source": [
    "###### Filtering"
   ]
  },
  {
   "cell_type": "markdown",
   "id": "4d17e633-7b93-4a7e-988f-e732d5fac08a",
   "metadata": {},
   "source": [
    "All rows used in the analyses should be non-null and have non-zer rank points so that the different prediction methods are trained and tested on the same data."
   ]
  },
  {
   "cell_type": "code",
   "execution_count": 5,
   "id": "73321880-2b3f-4860-8346-391a56a325e9",
   "metadata": {},
   "outputs": [],
   "source": [
    "# select non-null rows\n",
    "data = data[data['winner_rank_points'].notnull() & \n",
    "            data['loser_rank_points'].notnull() &\n",
    "            data['winner_elo'].notnull() &\n",
    "            data['loser_elo'].notnull() &\n",
    "            data['wp_elo'].notnull() &\n",
    "            data['winner_gr'].notnull() &\n",
    "            data['winner_grd'].notnull() &\n",
    "            data['loser_gr'].notnull() &\n",
    "            data['loser_grd'].notnull() &\n",
    "            data['wp_g'].notnull() &\n",
    "            (data['loser_rank_points'] > 0) &\n",
    "            (data['winner_rank_points'] > 0)]\n",
    "# reset the index\n",
    "data.index = [inx for inx in range(0,data.shape[0])]"
   ]
  },
  {
   "cell_type": "code",
   "execution_count": 6,
   "id": "bb9f8746-ab63-4dd1-97b4-38fbd55cb65d",
   "metadata": {},
   "outputs": [
    {
     "data": {
      "text/plain": [
       "(600797, 12)"
      ]
     },
     "execution_count": 6,
     "metadata": {},
     "output_type": "execute_result"
    }
   ],
   "source": [
    "data.shape"
   ]
  },
  {
   "cell_type": "code",
   "execution_count": 7,
   "id": "563db7a8-84e7-4a85-921c-0e2beca06e76",
   "metadata": {},
   "outputs": [
    {
     "data": {
      "text/plain": [
       "0.6850764785433614"
      ]
     },
     "execution_count": 7,
     "metadata": {},
     "output_type": "execute_result"
    }
   ],
   "source": [
    "600797/ 876978 # 600_797 rows or 68.5% of the data remains after filtering"
   ]
  },
  {
   "cell_type": "markdown",
   "id": "8018acd7-42a1-4bb3-8113-52f0502d9da9",
   "metadata": {},
   "source": [
    "###### Visualizations"
   ]
  },
  {
   "cell_type": "markdown",
   "id": "dcf8302f-088c-4cfd-9d1f-caf308e42908",
   "metadata": {},
   "source": [
    "To guide the modeling process it can often be helpful to have an idea of the relevant distributions."
   ]
  },
  {
   "cell_type": "markdown",
   "id": "8dfb4890-6cf2-449e-9cf5-f23861466ed6",
   "metadata": {},
   "source": [
    "Here we see the distribution of Elo's win probability for the actual winner of each match."
   ]
  },
  {
   "cell_type": "code",
   "execution_count": 8,
   "id": "98607e37-baa1-4c6a-903c-a7651206f669",
   "metadata": {
    "tags": []
   },
   "outputs": [
    {
     "data": {
      "image/png": "[encoded data removed]",
      "text/plain": [
       "<Figure size 500x500 with 1 Axes>"
      ]
     },
     "metadata": {},
     "output_type": "display_data"
    },
    {
     "data": {
      "text/plain": [
       "<Figure size 640x480 with 0 Axes>"
      ]
     },
     "metadata": {},
     "output_type": "display_data"
    }
   ],
   "source": [
    "sns.displot(data = data, x = 'wp_elo').set(\n",
    "    title = 'Histogram of win_prob: elo with 1yr rating periods')\n",
    "plt.axvline(.5,0,17500, c= 'grey', alpha = .5)\n",
    "plt.grid()\n",
    "plt.show()\n",
    "plt.savefig('../Assets/Elo_1yr_hist',bbox_inches = 'tight')"
   ]
  },
  {
   "cell_type": "markdown",
   "id": "c64f2ed9-b2c2-47de-80e6-dc55ad08ac45",
   "metadata": {
    "tags": []
   },
   "source": [
    "Note the spike at win_prob = .5, which indicates the number of matches between players that had not been rated in the prior epoch and thus have the default rating of 1500.  It is promising that upon visual inspection, the number of wins with win_prob .4 is only slightly above the number of wins with win_prob of .6.  Likewise there are in the ballpark of 25% of the number of wins with a prob of .2 compared to .8.  However, there does appear to be a gradual overestimation of the win probabilities at the extreme ends of the scale.  For instance, at .9 win prob there appears to be only around 3x the number of wins as at .1 win probability.  The model is perhaps not fully picking up the true volatilities in match performance or accounting for the uncertainty of the players' mean ability.  It is also of note that the mode of the min probability even after accounting for newly seen players is around .5, which suggests that the most common pairing is between similarly rated players."
   ]
  },
  {
   "cell_type": "markdown",
   "id": "df675ea5-3936-40fc-bd40-252f2b51f29c",
   "metadata": {},
   "source": [
    "Next we have a look at the distribution of win probabilities according to the Glicko-2 system."
   ]
  },
  {
   "cell_type": "code",
   "execution_count": 9,
   "id": "0816672a-2adc-4059-a4b0-d3f66734bb59",
   "metadata": {},
   "outputs": [
    {
     "data": {
      "image/png": "[encoded data removed]",
      "text/plain": [
       "<Figure size 500x500 with 1 Axes>"
      ]
     },
     "metadata": {},
     "output_type": "display_data"
    },
    {
     "data": {
      "text/plain": [
       "<Figure size 640x480 with 0 Axes>"
      ]
     },
     "metadata": {},
     "output_type": "display_data"
    }
   ],
   "source": [
    "sns.displot(data = data, x = 'wp_g').set(\n",
    "    title = 'Histogram of win_prob: Glicko-2')\n",
    "plt.axvline(.5,0,17500, c= 'grey', alpha = .5)\n",
    "plt.grid()\n",
    "plt.show()\n",
    "plt.savefig('../Assets/Elo_1yr_hist',bbox_inches = 'tight')"
   ]
  },
  {
   "cell_type": "markdown",
   "id": "cbc5c84a-0ae5-45bf-871b-efda1f47a02b",
   "metadata": {},
   "source": [
    "Glicko-2's win probability estimates are more rounded and have a larger number of matches between 'unrated' players or players not yet seen before.  The discrepancy here with the elo rating system can be attributed to as-yet unidentified quirks in the Glicko-2 deployment that were sidestepped through try-except clauses as well as filtering.  After accounting for matches between unrated players, the mode is around .58, while there is a smoother transition in the shape of the distribution when comparing the left of the mode to the right of the mode than there was with the elo rating."
   ]
  },
  {
   "cell_type": "markdown",
   "id": "6c77aa5f-3cc2-4f65-9792-8e805db19a18",
   "metadata": {},
   "source": [
    "Now we will look at the distribution of the rank points differential between the eventual winner and the loser."
   ]
  },
  {
   "cell_type": "code",
   "execution_count": 10,
   "id": "b8764634-f3e2-4887-9de2-f234a07e6486",
   "metadata": {},
   "outputs": [],
   "source": [
    "rankpoints_diff = data['winner_rank_points'] - data['loser_rank_points']"
   ]
  },
  {
   "cell_type": "code",
   "execution_count": 11,
   "id": "692d201e-3e64-4af5-b4ec-50b3ea7843ce",
   "metadata": {},
   "outputs": [
    {
     "data": {
      "text/plain": [
       "0    -5.0\n",
       "1   -27.0\n",
       "2     7.0\n",
       "3    81.0\n",
       "4    63.0\n",
       "dtype: float64"
      ]
     },
     "execution_count": 11,
     "metadata": {},
     "output_type": "execute_result"
    }
   ],
   "source": [
    "rankpoints_diff.head()"
   ]
  },
  {
   "cell_type": "code",
   "execution_count": 12,
   "id": "465f9ec6-0701-4b35-82bb-5f5aeed55db1",
   "metadata": {},
   "outputs": [
    {
     "data": {
      "text/plain": [
       "119.29144952454823"
      ]
     },
     "execution_count": 12,
     "metadata": {},
     "output_type": "execute_result"
    }
   ],
   "source": [
    "# The winner has on average 120 more rank points than the loser.\n",
    "np.mean(rankpoints_diff.values)"
   ]
  },
  {
   "cell_type": "code",
   "execution_count": 13,
   "id": "1563d6ed-8336-44dd-9027-a1bdccc9ea7d",
   "metadata": {},
   "outputs": [
    {
     "data": {
      "image/png": "[encoded data removed]",
      "text/plain": [
       "<Figure size 500x500 with 1 Axes>"
      ]
     },
     "metadata": {},
     "output_type": "display_data"
    },
    {
     "data": {
      "text/plain": [
       "<Figure size 640x480 with 0 Axes>"
      ]
     },
     "metadata": {},
     "output_type": "display_data"
    }
   ],
   "source": [
    "sns.displot(data = rankpoints_diff).set(\n",
    "    title = 'Rank points difference between winner and loser', \n",
    "    xlim = [-1000,1000], xlabel = 'Rank points differential')\n",
    "plt.axvline(.5,0,17500, c= 'grey', alpha = .5)\n",
    "plt.grid()\n",
    "plt.show()\n",
    "plt.savefig('../Assets/Rank_points_differential_winner_loser',bbox_inches = 'tight')"
   ]
  },
  {
   "cell_type": "markdown",
   "id": "3b6eccd0-c92e-4f59-8c6d-1903e28965da",
   "metadata": {},
   "source": [
    "Above we see that the mode is very close to if not exactly zero.  This is plausible as we would expect similarly rated players to compete with each other most regularly.  Also, we can see that the center of mass is right of zero, which is to be expected since the mean is positive at 120."
   ]
  },
  {
   "cell_type": "markdown",
   "id": "bd3e289e-9a74-4d17-a5ac-feb597a1d19b",
   "metadata": {
    "tags": []
   },
   "source": [
    "###### Randomization"
   ]
  },
  {
   "cell_type": "markdown",
   "id": "5cad24cc-8967-44cd-afee-b9499613d2c4",
   "metadata": {},
   "source": [
    "Randomizing the 'winner' and 'loser' to players a and b is necessary to remove outcome information from the predictive variables."
   ]
  },
  {
   "cell_type": "code",
   "execution_count": 14,
   "id": "dcd750c5-141f-40ed-bb79-81f33a9c5ba6",
   "metadata": {},
   "outputs": [
    {
     "data": {
      "text/plain": [
       "600797"
      ]
     },
     "execution_count": 14,
     "metadata": {},
     "output_type": "execute_result"
    }
   ],
   "source": [
    "# a random choice of will will assign the winner to player class A\n",
    "random.seed(1)\n",
    "player_indicators = random.choices([0,1],k = data.shape[0])\n",
    "len(player_indicators)"
   ]
  },
  {
   "cell_type": "code",
   "execution_count": 15,
   "id": "b862485e-2046-49d6-afe4-f7fbce41dcec",
   "metadata": {},
   "outputs": [
    {
     "data": {
      "text/plain": [
       "0           1.0\n",
       "1          48.0\n",
       "2          26.0\n",
       "3          96.0\n",
       "4         100.0\n",
       "          ...  \n",
       "600792     82.0\n",
       "600793     16.0\n",
       "600794      5.0\n",
       "600795     65.0\n",
       "600796     61.0\n",
       "Name: winner_rank_points, Length: 600797, dtype: float64"
      ]
     },
     "execution_count": 15,
     "metadata": {},
     "output_type": "execute_result"
    }
   ],
   "source": [
    "data['winner_rank_points']"
   ]
  },
  {
   "cell_type": "code",
   "execution_count": 16,
   "id": "c9b44e6e-d847-4fdf-a7db-2ea074a233f0",
   "metadata": {},
   "outputs": [],
   "source": [
    "# player a is assigned the  winner's info if indicator is 1, otherwise \n",
    "# player a gets the loser's info\n",
    "data.loc[:,'pa_id'] = player_indicators * data['winner_id'] + \\\n",
    "                    abs(np.array(player_indicators)-1) * data['loser_id']\n",
    "data.loc[:,'pa_pts'] = player_indicators * data['winner_rank_points'] + \\\n",
    "                abs(np.array(player_indicators)-1) * data['loser_rank_points']\n",
    "data.loc[:,'pa_elo'] = player_indicators * data['winner_elo'] + \\\n",
    "                    abs(np.array(player_indicators)-1) * data['loser_elo']\n",
    "data.loc[:,'pa_wp_elo'] = (player_indicators * data['wp_elo']) + \\\n",
    "                    abs(np.array(player_indicators)-1) * data['loser_elo']\n",
    "data.loc[:,'pa_wp_elo'] = player_indicators * data['wp_elo'] + \\\n",
    "                    abs(np.array(player_indicators)-1) * (1-data['wp_elo'])\n",
    "data.loc[:,'pa_gr'] = player_indicators*data['winner_gr'] + \\\n",
    "                    abs(np.array(player_indicators)-1) * data['loser_gr']\n",
    "data.loc[:,'pa_grd'] = player_indicators* data['winner_grd'] + \\\n",
    "                     abs(np.array(player_indicators)-1) * data['loser_grd']\n",
    "data.loc[:,'pa_wp_g'] = player_indicators*data['wp_g'] + \\\n",
    "                        abs(np.array(player_indicators)-1)*(1-data['wp_g'])\n",
    "\n",
    "# player b initialization\n",
    "data.loc[:,'pb_id'] = player_indicators * data['loser_id'] + \\\n",
    "                        abs(np.array(player_indicators)-1) * data['winner_id']\n",
    "data.loc[:,'pb_pts'] = player_indicators * data['loser_rank_points'] + \\\n",
    "               abs(np.array(player_indicators)-1) * data['winner_rank_points']\n",
    "data.loc[:,'pb_elo'] = player_indicators * data['loser_elo'] + \\\n",
    "                    abs(np.array(player_indicators)-1)*data['winner_elo']\n",
    "data.loc[:,'pb_wp_elo'] = player_indicators * (1-data['wp_elo'])+ \\\n",
    "                          abs(np.array(player_indicators)-1) * data['wp_elo']\n",
    "data.loc[:,'pb_gr'] = player_indicators * data['winner_gr'] + \\\n",
    "                    abs(np.array(player_indicators)-1) * data['loser_gr']\n",
    "data.loc[:,'pb_grd'] = player_indicators * data['winner_grd'] + \\\n",
    "                    abs(np.array(player_indicators)-1) * data['loser_grd']\n",
    "data.loc[:,'pb_wp_g'] = player_indicators * data['wp_g'] + \\\n",
    "                    abs(np.array(player_indicators)-1) * data['loser_grd']\n",
    "\n",
    "# player a wins if outcome is 1, otherwise if outcome is 0 player b wins\n",
    "data.loc[:,'outcome'] = player_indicators\n",
    "\n",
    "# select randomized data for modeling\n",
    "\n"
   ]
  },
  {
   "cell_type": "code",
   "execution_count": 17,
   "id": "9f38d190-2ba2-4288-9323-8f0f807a2ca6",
   "metadata": {
    "tags": []
   },
   "outputs": [],
   "source": [
    "# select randomized data for modeling.\n",
    "d_r = data.iloc[:,-15:]"
   ]
  },
  {
   "cell_type": "markdown",
   "id": "48d31acf-d2dd-464b-91e3-d41f547885ff",
   "metadata": {
    "tags": []
   },
   "source": [
    "###### Feature engineering"
   ]
  },
  {
   "cell_type": "markdown",
   "id": "a1e17357-2daf-4ae5-99b9-8b21ee66008d",
   "metadata": {},
   "source": [
    "I'll next create the two predictors of the victor: differential in rank points and weighted differential in rank points.  \n",
    "\n",
    "For the highest ranked players, say in the top ten, raw ranking point differential may understate the closeness in ability, while for the lower ranked players with very few ranking points the raw ranking point differential may not identify the full extent of ability differentials."
   ]
  },
  {
   "cell_type": "code",
   "execution_count": 18,
   "id": "b8b8c89a-2865-4b64-ab6c-e2475d2c1d5f",
   "metadata": {
    "tags": []
   },
   "outputs": [],
   "source": [
    "# raw differential in rank points between players \n",
    "d_r['rp_diff'] = d_r['pa_pts'] - d_r['pb_pts']\n",
    "\n",
    "# differential weighted by the inverse of the sum of both players' rank points\n",
    "d_r['rp_wt_diff'] = d_r['rp_diff']/ (d_r['pa_pts'] + d_r['pb_pts'])"
   ]
  },
  {
   "cell_type": "markdown",
   "id": "1b44ead3-0cf1-4506-817d-fc80ceb62b90",
   "metadata": {},
   "source": [
    "###### Train Test Split"
   ]
  },
  {
   "cell_type": "markdown",
   "id": "ba6b77f3-487a-403e-ac34-18f44e21ac9c",
   "metadata": {},
   "source": [
    "Here I split the data into train and test sets so that the same split can be used for the different models."
   ]
  },
  {
   "cell_type": "code",
   "execution_count": 19,
   "id": "b0250941-b77a-421f-9154-800113750834",
   "metadata": {},
   "outputs": [
    {
     "data": {
      "text/plain": [
       "Index(['pa_id', 'pa_pts', 'pa_elo', 'pa_wp_elo', 'pa_gr', 'pa_grd', 'pa_wp_g',\n",
       "       'pb_id', 'pb_pts', 'pb_elo', 'pb_wp_elo', 'pb_gr', 'pb_grd', 'pb_wp_g',\n",
       "       'outcome', 'rp_diff', 'rp_wt_diff'],\n",
       "      dtype='object')"
      ]
     },
     "execution_count": 19,
     "metadata": {},
     "output_type": "execute_result"
    }
   ],
   "source": [
    "d_r.columns"
   ]
  },
  {
   "cell_type": "code",
   "execution_count": 20,
   "id": "ba963a79-8021-4ee0-982a-3ede114d174a",
   "metadata": {
    "tags": []
   },
   "outputs": [],
   "source": [
    "X  = d_r.drop('outcome', axis = 1)"
   ]
  },
  {
   "cell_type": "code",
   "execution_count": 21,
   "id": "de01b8fd-962a-4cda-bed3-2c7a5574ffe1",
   "metadata": {},
   "outputs": [],
   "source": [
    "X  = d_r.drop('outcome', axis = 1)\n",
    "y = d_r['outcome']\n",
    "X_train, X_test, y_train, y_test = train_test_split(X,y,stratify=y, \n",
    "                                                    random_state= 1)"
   ]
  },
  {
   "cell_type": "markdown",
   "id": "e1f21e99-c59d-41ab-ae16-56106024033e",
   "metadata": {
    "tags": []
   },
   "source": [
    "#### Rank points model"
   ]
  },
  {
   "cell_type": "markdown",
   "id": "9c3e6d0f-4eac-4c0f-ae42-59b5bde742e2",
   "metadata": {},
   "source": [
    "In this first modeling effort I will see how well ranking points predict the outcomes of matches."
   ]
  },
  {
   "cell_type": "markdown",
   "id": "2ef1987c-e1b7-4eef-804f-279e52560641",
   "metadata": {
    "tags": []
   },
   "source": [
    "###### Baseline model"
   ]
  },
  {
   "cell_type": "markdown",
   "id": "9980c1c1-b9ae-4114-946e-884121839d6d",
   "metadata": {},
   "source": [
    "The baseline model will predict the winner based on simply who has more rating points."
   ]
  },
  {
   "cell_type": "code",
   "execution_count": 22,
   "id": "bcd6053f-7968-42fc-8f95-3c4d97393330",
   "metadata": {},
   "outputs": [
    {
     "data": {
      "text/plain": [
       "0.6428828229027963"
      ]
     },
     "execution_count": 22,
     "metadata": {},
     "output_type": "execute_result"
    }
   ],
   "source": [
    "# since outcome = 1 if Player A wins, if pa_pts > pb_pts when the outcome is\n",
    "# one that means that this baseline model predicts correctly.\n",
    "baseline_preds = np.greater(X_test['pa_pts'],np.array(X_test['pb_pts']))\n",
    "np.equal(baseline_preds, np.array(y_test)).sum()/y_test.shape[0]"
   ]
  },
  {
   "cell_type": "markdown",
   "id": "bc20e545-e0fa-44dc-a459-550a65b56558",
   "metadata": {},
   "source": [
    "Above we see that the ranking points comparison predicts the winner accurately 64.3% of the time on the test set."
   ]
  },
  {
   "cell_type": "markdown",
   "id": "c7cf4574-1bdd-4173-a414-eea420dd2868",
   "metadata": {},
   "source": [
    "###### Logistic Regression"
   ]
  },
  {
   "cell_type": "markdown",
   "id": "ed9a72d9-15ce-4943-b01e-11d74c124972",
   "metadata": {},
   "source": [
    "Since this is a classification problem I will see how logistic regression performs.  I will include regularization to ensure that all predictors are useful."
   ]
  },
  {
   "cell_type": "code",
   "execution_count": 23,
   "id": "d23cb850-157c-4945-8ba3-eebc2467d0fb",
   "metadata": {},
   "outputs": [],
   "source": [
    "# I will initialize with regularizations between 1.e-01 and 1.e+03\n",
    "logreg = LogisticRegressionCV(Cs = np.logspace(-1,3,5),fit_intercept = False)"
   ]
  },
  {
   "cell_type": "markdown",
   "id": "ce23c895-c15a-4bd3-970e-e06bff1bbcb6",
   "metadata": {},
   "source": [
    "First I will perform the baseline estimation based on raking differential with logistic regression so that a comparison can be made in terms of the probability estimates of the victor."
   ]
  },
  {
   "cell_type": "code",
   "execution_count": 24,
   "id": "6a59d73b-3013-4ac8-93b2-39395ffcb45e",
   "metadata": {
    "tags": []
   },
   "outputs": [],
   "source": [
    "# generate a dataframe for use in the baseline prediction.  Value true if player A has more points\n",
    "X_train_b = np.greater(X_train['pa_pts'],np.array(X_train['pb_pts'])).to_frame()\n",
    "X_test_b = np.greater(X_test['pa_pts'],np.array(X_test['pb_pts'])).to_frame()"
   ]
  },
  {
   "cell_type": "code",
   "execution_count": 25,
   "id": "4a80d1a6-8308-4b2a-9f53-15fd165dc3f3",
   "metadata": {},
   "outputs": [
    {
     "data": {
      "text/plain": [
       "LogisticRegressionCV(Cs=array([1.e-01, 1.e+00, 1.e+01, 1.e+02, 1.e+03]),\n",
       "                     fit_intercept=False)"
      ]
     },
     "execution_count": 25,
     "metadata": {},
     "output_type": "execute_result"
    }
   ],
   "source": [
    "logreg.fit(X_train_b,y_train)"
   ]
  },
  {
   "cell_type": "code",
   "execution_count": 26,
   "id": "f0a5a95e-d3a2-493a-8390-e2c7cdec53c6",
   "metadata": {},
   "outputs": [
    {
     "data": {
      "text/plain": [
       "(0.6445093953133287, 0.6428828229027963)"
      ]
     },
     "execution_count": 26,
     "metadata": {},
     "output_type": "execute_result"
    }
   ],
   "source": [
    "logreg.score(X_train_b,y_train), logreg.score(X_test_b,y_test)"
   ]
  },
  {
   "cell_type": "markdown",
   "id": "ff0eda13-8a1c-4704-a086-e49f443a6543",
   "metadata": {},
   "source": [
    "Above we can see that the the test score is exactly when the baseline prediction is run through logistic regression.  "
   ]
  },
  {
   "cell_type": "code",
   "execution_count": 27,
   "id": "48027974-bc8d-4605-b178-49bfab9bd3ee",
   "metadata": {},
   "outputs": [
    {
     "data": {
      "text/html": [
       "<div>\n",
       "<style scoped>\n",
       "    .dataframe tbody tr th:only-of-type {\n",
       "        vertical-align: middle;\n",
       "    }\n",
       "\n",
       "    .dataframe tbody tr th {\n",
       "        vertical-align: top;\n",
       "    }\n",
       "\n",
       "    .dataframe thead th {\n",
       "        text-align: right;\n",
       "    }\n",
       "</style>\n",
       "<table border=\"1\" class=\"dataframe\">\n",
       "  <thead>\n",
       "    <tr style=\"text-align: right;\">\n",
       "      <th></th>\n",
       "      <th>pa_pts</th>\n",
       "    </tr>\n",
       "  </thead>\n",
       "  <tbody>\n",
       "    <tr>\n",
       "      <th>15677</th>\n",
       "      <td>True</td>\n",
       "    </tr>\n",
       "    <tr>\n",
       "      <th>77556</th>\n",
       "      <td>True</td>\n",
       "    </tr>\n",
       "    <tr>\n",
       "      <th>135675</th>\n",
       "      <td>True</td>\n",
       "    </tr>\n",
       "    <tr>\n",
       "      <th>275192</th>\n",
       "      <td>False</td>\n",
       "    </tr>\n",
       "    <tr>\n",
       "      <th>263943</th>\n",
       "      <td>True</td>\n",
       "    </tr>\n",
       "  </tbody>\n",
       "</table>\n",
       "</div>"
      ],
      "text/plain": [
       "        pa_pts\n",
       "15677     True\n",
       "77556     True\n",
       "135675    True\n",
       "275192   False\n",
       "263943    True"
      ]
     },
     "execution_count": 27,
     "metadata": {},
     "output_type": "execute_result"
    }
   ],
   "source": [
    "X_test_b.head()"
   ]
  },
  {
   "cell_type": "code",
   "execution_count": 28,
   "id": "91cf6734-0f92-4ac1-ad98-d2e2ff286b9c",
   "metadata": {},
   "outputs": [
    {
     "data": {
      "text/plain": [
       "array([[0.35382253, 0.64617747],\n",
       "       [0.35382253, 0.64617747],\n",
       "       [0.35382253, 0.64617747],\n",
       "       [0.5       , 0.5       ],\n",
       "       [0.35382253, 0.64617747]])"
      ]
     },
     "execution_count": 28,
     "metadata": {},
     "output_type": "execute_result"
    }
   ],
   "source": [
    "logreg.predict_proba(X_test_b)[0:5]"
   ]
  },
  {
   "cell_type": "code",
   "execution_count": 29,
   "id": "30b36eef-adea-48fb-9e33-90d433fc9a2a",
   "metadata": {},
   "outputs": [
    {
     "data": {
      "text/plain": [
       "array([1, 1, 1, 0, 1])"
      ]
     },
     "execution_count": 29,
     "metadata": {},
     "output_type": "execute_result"
    }
   ],
   "source": [
    "logreg.predict(X_test_b)[0:5]"
   ]
  },
  {
   "cell_type": "markdown",
   "id": "cf7a9ea1-d660-4360-8591-3aa034521af2",
   "metadata": {},
   "source": [
    "Interestingly, logistic regression assigns a probability of 50% to a Player B victory while it assigns a probability of 64.62% to the chance of a Player A victory when Player A has more points."
   ]
  },
  {
   "cell_type": "markdown",
   "id": "6f1f9126-744d-468b-b660-90e7276410ea",
   "metadata": {},
   "source": [
    "I will now look at the result of including more rank points features in the regression."
   ]
  },
  {
   "cell_type": "code",
   "execution_count": 30,
   "id": "5b4fccbf-b5c1-43e7-acbb-86062a5c18b0",
   "metadata": {},
   "outputs": [],
   "source": [
    "cols_lr = ['pa_pts','pb_pts', 'rp_diff','rp_wt_diff']"
   ]
  },
  {
   "cell_type": "code",
   "execution_count": 31,
   "id": "e5ce00b2-e4c9-4113-8e6f-1733563ed386",
   "metadata": {},
   "outputs": [
    {
     "data": {
      "text/plain": [
       "LogisticRegressionCV(Cs=array([1.e-01, 1.e+00, 1.e+01, 1.e+02, 1.e+03]),\n",
       "                     fit_intercept=False)"
      ]
     },
     "execution_count": 31,
     "metadata": {},
     "output_type": "execute_result"
    }
   ],
   "source": [
    "logreg.fit(X_train[cols_lr], y_train)"
   ]
  },
  {
   "cell_type": "code",
   "execution_count": 32,
   "id": "879f9266-5488-4eef-9e7e-ad47ba3856c1",
   "metadata": {
    "tags": []
   },
   "outputs": [
    {
     "name": "stdout",
     "output_type": "stream",
     "text": [
      "0.6445271495371696\n",
      "0.6428828229027963\n"
     ]
    }
   ],
   "source": [
    "print(logreg.score(X_train[cols_lr], y_train))\n",
    "print(logreg.score(X_test[cols_lr], y_test))"
   ]
  },
  {
   "cell_type": "markdown",
   "id": "6d6a08c0-c35a-42d2-99b3-68083b41e830",
   "metadata": {},
   "source": [
    "With 64.45 (train) and 64.29 (test) percent accuracy in predicting the winner, the rating points data does a reasonable job of predicting the outcome.  There is no improvement however over the baseline model.  "
   ]
  },
  {
   "cell_type": "code",
   "execution_count": 33,
   "id": "39f58630-de36-45a1-a3b5-4ce12353daca",
   "metadata": {},
   "outputs": [
    {
     "data": {
      "text/plain": [
       "(array([[ 6.00682396e-05, -6.40390282e-05,  1.24107268e-04,\n",
       "          1.31938158e+00]]),\n",
       " array([0.]),\n",
       " array([0.1]))"
      ]
     },
     "execution_count": 33,
     "metadata": {},
     "output_type": "execute_result"
    }
   ],
   "source": [
    "logreg.coef_, logreg.intercept_, logreg.C_"
   ]
  },
  {
   "cell_type": "markdown",
   "id": "3668346a-0ea1-4d0f-96f9-4e4dc60de3d7",
   "metadata": {},
   "source": [
    "The above confirms that there is significant regularization, with the only parameter maintaining a meaningful significance being the weighted points differential.  However, the nearly identical accuracy score confirms that there is nearly perfect correlation between the two predictors."
   ]
  },
  {
   "cell_type": "code",
   "execution_count": 34,
   "id": "3537d2af-ca84-4967-8732-ae592fd29d53",
   "metadata": {
    "tags": []
   },
   "outputs": [
    {
     "data": {
      "text/plain": [
       "array([[0.33035294, 0.66964706],\n",
       "       [0.23293562, 0.76706438],\n",
       "       [0.29058808, 0.70941192],\n",
       "       [0.65003814, 0.34996186],\n",
       "       [0.22341947, 0.77658053]])"
      ]
     },
     "execution_count": 34,
     "metadata": {},
     "output_type": "execute_result"
    }
   ],
   "source": [
    "logreg.predict_proba(X_test[cols_lr])[0:5]"
   ]
  },
  {
   "cell_type": "markdown",
   "id": "8dfd2c2f-7d3d-4516-85f7-cc0d2f8ec56c",
   "metadata": {},
   "source": [
    "The weighted rank points differential generates a much more nuanced prediction probability."
   ]
  },
  {
   "cell_type": "code",
   "execution_count": 35,
   "id": "c2b9caaf-6288-4ef9-83dc-09ebce1ea870",
   "metadata": {},
   "outputs": [
    {
     "data": {
      "text/plain": [
       "0.9998002663115846"
      ]
     },
     "execution_count": 35,
     "metadata": {},
     "output_type": "execute_result"
    }
   ],
   "source": [
    "np.mean(logreg.predict(X_test[cols_lr]) == baseline_preds)"
   ]
  },
  {
   "cell_type": "markdown",
   "id": "6d6d7fdb-7038-4a1b-ae2a-d8e9ed5ee196",
   "metadata": {},
   "source": [
    "The predictions are almost always the same."
   ]
  },
  {
   "cell_type": "code",
   "execution_count": 36,
   "id": "eef09dfa-b305-474b-ae90-b5653a0275fa",
   "metadata": {},
   "outputs": [
    {
     "data": {
      "text/html": [
       "<div>\n",
       "<style scoped>\n",
       "    .dataframe tbody tr th:only-of-type {\n",
       "        vertical-align: middle;\n",
       "    }\n",
       "\n",
       "    .dataframe tbody tr th {\n",
       "        vertical-align: top;\n",
       "    }\n",
       "\n",
       "    .dataframe thead th {\n",
       "        text-align: right;\n",
       "    }\n",
       "</style>\n",
       "<table border=\"1\" class=\"dataframe\">\n",
       "  <thead>\n",
       "    <tr style=\"text-align: right;\">\n",
       "      <th></th>\n",
       "      <th>pa_pts</th>\n",
       "      <th>pb_pts</th>\n",
       "    </tr>\n",
       "  </thead>\n",
       "  <tbody>\n",
       "    <tr>\n",
       "      <th>333241</th>\n",
       "      <td>2517.0</td>\n",
       "      <td>2511.0</td>\n",
       "    </tr>\n",
       "    <tr>\n",
       "      <th>550039</th>\n",
       "      <td>2625.0</td>\n",
       "      <td>2610.0</td>\n",
       "    </tr>\n",
       "    <tr>\n",
       "      <th>381717</th>\n",
       "      <td>1175.0</td>\n",
       "      <td>1170.0</td>\n",
       "    </tr>\n",
       "    <tr>\n",
       "      <th>386758</th>\n",
       "      <td>1185.0</td>\n",
       "      <td>1180.0</td>\n",
       "    </tr>\n",
       "    <tr>\n",
       "      <th>197581</th>\n",
       "      <td>1011.0</td>\n",
       "      <td>1009.0</td>\n",
       "    </tr>\n",
       "  </tbody>\n",
       "</table>\n",
       "</div>"
      ],
      "text/plain": [
       "        pa_pts  pb_pts\n",
       "333241  2517.0  2511.0\n",
       "550039  2625.0  2610.0\n",
       "381717  1175.0  1170.0\n",
       "386758  1185.0  1180.0\n",
       "197581  1011.0  1009.0"
      ]
     },
     "execution_count": 36,
     "metadata": {},
     "output_type": "execute_result"
    }
   ],
   "source": [
    "X_test[logreg.predict(X_test[cols_lr]) != baseline_preds][['pa_pts','pb_pts']].head()"
   ]
  },
  {
   "cell_type": "markdown",
   "id": "d82f1606-726d-457d-8f86-0c09e8a47927",
   "metadata": {},
   "source": [
    "Above we can see that this logreg model that includes the raw player a and player b ranking points is producting some undesirable results when the two players have very similar ratings.  I will now use only the weighted rank differential and see if the results are as expected."
   ]
  },
  {
   "cell_type": "code",
   "execution_count": 37,
   "id": "a76a3ecd-eb6a-4818-8562-289a99124f73",
   "metadata": {},
   "outputs": [],
   "source": [
    "cols_lr = ['rp_wt_diff']"
   ]
  },
  {
   "cell_type": "code",
   "execution_count": 38,
   "id": "e3d49c9a-f191-44eb-bc41-daccbabe981e",
   "metadata": {},
   "outputs": [
    {
     "data": {
      "text/plain": [
       "LogisticRegressionCV(Cs=array([1.e-01, 1.e+00, 1.e+01, 1.e+02, 1.e+03]),\n",
       "                     fit_intercept=False)"
      ]
     },
     "execution_count": 38,
     "metadata": {},
     "output_type": "execute_result"
    }
   ],
   "source": [
    "logreg.fit(X_train[cols_lr], y_train)"
   ]
  },
  {
   "cell_type": "code",
   "execution_count": 39,
   "id": "9643e3f7-76c6-4ce0-8ef0-5adf9aa54b81",
   "metadata": {},
   "outputs": [
    {
     "data": {
      "text/plain": [
       "(array([[1.40460712]]), array([0.]), array([0.1]))"
      ]
     },
     "execution_count": 39,
     "metadata": {},
     "output_type": "execute_result"
    }
   ],
   "source": [
    "logreg.coef_, logreg.intercept_, logreg.C_"
   ]
  },
  {
   "cell_type": "code",
   "execution_count": 40,
   "id": "c5062c50-f4e5-4a74-9b22-49103e549190",
   "metadata": {
    "tags": []
   },
   "outputs": [
    {
     "data": {
      "text/plain": [
       "array([[0.32101225, 0.67898775],\n",
       "       [0.26574559, 0.73425441],\n",
       "       [0.28401323, 0.71598677],\n",
       "       [0.65036417, 0.34963583],\n",
       "       [0.28958525, 0.71041475]])"
      ]
     },
     "execution_count": 40,
     "metadata": {},
     "output_type": "execute_result"
    }
   ],
   "source": [
    "logreg.predict_proba(X_test[cols_lr])[0:5]"
   ]
  },
  {
   "cell_type": "code",
   "execution_count": 41,
   "id": "35e9a560-816d-4d11-90e2-0065ad993d83",
   "metadata": {},
   "outputs": [
    {
     "data": {
      "text/plain": [
       "1.0"
      ]
     },
     "execution_count": 41,
     "metadata": {},
     "output_type": "execute_result"
    }
   ],
   "source": [
    "np.mean(logreg.predict(X_test[cols_lr]) == baseline_preds)"
   ]
  },
  {
   "cell_type": "markdown",
   "id": "6a3bb649-c2c2-4279-9f90-c8b299e18a6d",
   "metadata": {},
   "source": [
    "This issue is now fixed and the higher rated player is always predicted to win."
   ]
  },
  {
   "cell_type": "markdown",
   "id": "234eed64-a511-42d6-a12d-7b83666c0bf5",
   "metadata": {
    "tags": []
   },
   "source": [
    "##### Model Evaluation"
   ]
  },
  {
   "cell_type": "code",
   "execution_count": 42,
   "id": "601e88bd-2de6-4a6d-ac51-9bc505681b9a",
   "metadata": {},
   "outputs": [
    {
     "name": "stdout",
     "output_type": "stream",
     "text": [
      "0.6445093953133287\n",
      "0.6428828229027963\n"
     ]
    }
   ],
   "source": [
    "print(logreg.score(X_train[cols_lr], y_train))\n",
    "print(logreg.score(X_test[cols_lr], y_test))"
   ]
  },
  {
   "cell_type": "markdown",
   "id": "8614c7df-7e75-4b02-8bf6-1513771ff70f",
   "metadata": {},
   "source": [
    "The accuracy of this model is 64.29% for the test set and so we can say that the model predicts on unseen data correctly 64.29% of the time."
   ]
  },
  {
   "cell_type": "code",
   "execution_count": 43,
   "id": "635bb0dd-df66-41d4-9f8e-3bf01608ef93",
   "metadata": {
    "tags": []
   },
   "outputs": [
    {
     "name": "stdout",
     "output_type": "stream",
     "text": [
      "{'0': {'f1-score': 0.64386208361828,\n",
      "     'precision': 0.6413709176047302,\n",
      "     'recall': 0.6463726771002746,\n",
      "     'support': 75014},\n",
      "'1': {'f1-score': 0.6418981620567873,\n",
      "     'precision': 0.6444149542231338,\n",
      "     'recall': 0.6394009523049504,\n",
      "     'support': 75186},\n",
      "'accuracy': 0.6428828229027963,\n",
      "'macro avg': {'f1-score': 0.6428801228375336,\n",
      "             'precision': 0.6428929359139319,\n",
      "             'recall': 0.6428868147026126,\n",
      "             'support': 150200},\n",
      "'weighted avg': {'f1-score': 0.6428789983551482,\n",
      "                'precision': 0.6428946788376949,\n",
      "                'recall': 0.6428828229027963,\n",
      "                'support': 150200}}\n"
     ]
    }
   ],
   "source": [
    "preds = logreg.predict(X_test[cols_lr])\n",
    "pp = pprint.PrettyPrinter(indent = 0)\n",
    "pp.pprint(classification_report(y_test,preds,output_dict=True))"
   ]
  },
  {
   "cell_type": "markdown",
   "id": "097e218e-d816-4d8a-9b58-5bd07a673fa8",
   "metadata": {
    "tags": []
   },
   "source": [
    "From the classification report all of the output dictionaries give the same practical insight into the performance of the model, but the macro weighted avg gives the theoretically most sound analysis as distinguishing between the player classes A and B is not meaningful as the players are arbitrarily assigned to each class.\n",
    "\n",
    "We can see that with the weighted average, the precision, recall, and f1-scores are all around .6429.  The precision is the number of true positives divided by the number of predicted positives and so a precision of .6429 means that of all the predicted wins, 64.29% are actual wins.  Likewise for recall, of all the actual wins, 64.29% were predicted to be wins.  Since the f1-score is the harmonic mean between these two metrics, or 2*(precision*recall)/(precision + recall), it is to be expected that this metric is also .6429."
   ]
  },
  {
   "cell_type": "code",
   "execution_count": 44,
   "id": "beb802da-2139-439d-acf7-7b147112123b",
   "metadata": {},
   "outputs": [
    {
     "data": {
      "image/png": "[encoded data removed]",
      "text/plain": [
       "<Figure size 640x480 with 2 Axes>"
      ]
     },
     "metadata": {},
     "output_type": "display_data"
    }
   ],
   "source": [
    "cm_disp = ConfusionMatrixDisplay.from_estimator(logreg, \n",
    "                X_test[cols_lr], y_test, cmap=\"Greens\",\n",
    "                display_labels=['Player B','Player A'], \n",
    "                normalize='true').ax_.set_title('True and Predicted Winner')"
   ]
  },
  {
   "cell_type": "markdown",
   "id": "5398772c-77a5-46d6-a156-50fedc7e57be",
   "metadata": {},
   "source": [
    "From the above we see as expected very balanced output, with Player B being predicted to win 65% of the time when Player B did actually win, while Player A was predicted to win 64% of the time when Player A did actually win.  Since players were randomly assigned labels A and B, this symmetry is to be expected and any differences can be attributed to randomness."
   ]
  },
  {
   "cell_type": "markdown",
   "id": "3b32d8d9-c455-4e58-b209-32891633672a",
   "metadata": {},
   "source": [
    "##### Elo Analysis"
   ]
  },
  {
   "cell_type": "markdown",
   "id": "fb309ce9-bcbe-4d1a-8679-4edda08b90eb",
   "metadata": {},
   "source": [
    "I will next investigate the predictive power of elo ratings.  The initial analysis will not include any filtering."
   ]
  },
  {
   "cell_type": "code",
   "execution_count": 45,
   "id": "c7223fc0-ff4a-45bc-94f2-b68852e064ce",
   "metadata": {},
   "outputs": [
    {
     "data": {
      "text/plain": [
       "(0.631974913281713, 0.6302063914780293)"
      ]
     },
     "execution_count": 45,
     "metadata": {},
     "output_type": "execute_result"
    }
   ],
   "source": [
    "np.equal((X_train['pa_wp_elo']>.5),y_train).mean(),\\\n",
    "np.equal((X_test['pa_wp_elo']>.5),y_test).mean()"
   ]
  },
  {
   "cell_type": "markdown",
   "id": "f7bd3bb2-a6cf-452a-8a6c-99527a6bf462",
   "metadata": {},
   "source": [
    "Above we see that with the test set 63% of the elo predictions are on the mark.  This is ~ 1.3% less than what we saw with logistic regression.  Since the first time a player features in the dataset they will not have any elo information but will have the default elo rating of 1500, I will next filter out matches for which both players have a rating of 1500.  I will also return to using the full player class randomized dataset without the train and test split since no parameters are being fit."
   ]
  },
  {
   "cell_type": "code",
   "execution_count": 46,
   "id": "3376ce2d-e8e6-4c1b-b3e5-ddc1fd77bb93",
   "metadata": {},
   "outputs": [
    {
     "name": "stdout",
     "output_type": "stream",
     "text": [
      "0.9766293773104726\n"
     ]
    }
   ],
   "source": [
    "print(d_r.query('pa_elo != 1500 and pb_elo != 1500').shape[0]/d_r.shape[0])\n",
    "d_elo = d_r.query('pa_elo != 1500 and pb_elo != 1500')"
   ]
  },
  {
   "cell_type": "markdown",
   "id": "aa76718a-a177-4504-9ef2-ea0b61e884ba",
   "metadata": {},
   "source": [
    "This filtering maintains 97.66% of the data.  Lets see if there is a change in the predictive power. "
   ]
  },
  {
   "cell_type": "code",
   "execution_count": 47,
   "id": "5b77bb46-79e9-436b-84d3-05bcf78999a5",
   "metadata": {},
   "outputs": [
    {
     "data": {
      "text/plain": [
       "0.6324775545541929"
      ]
     },
     "execution_count": 47,
     "metadata": {},
     "output_type": "execute_result"
    }
   ],
   "source": [
    "np.equal((d_elo['pa_wp_elo']>.5),d_elo['outcome']).mean()"
   ]
  },
  {
   "cell_type": "markdown",
   "id": "b1052e6d-dff4-4f3a-a48f-63177b8c93b0",
   "metadata": {},
   "source": [
    "The predictive accuracy has improved to 63.25%, which is a noticable but still a marginal improvement.  Next steps could include counting the number of matches that are in the elo rating and get a look at how many it takes to get good confidence in the rating."
   ]
  },
  {
   "cell_type": "markdown",
   "id": "a2582190-7735-4216-ab9c-58dd7a53a294",
   "metadata": {},
   "source": [
    "###### Glicko-2 Analysis"
   ]
  },
  {
   "cell_type": "markdown",
   "id": "681de12d-2e2c-4227-8f7f-359a4d51746e",
   "metadata": {},
   "source": [
    "I will next investigate the predictive power of Glicko-2 ratings.  The initial analysis will not include any filtering."
   ]
  },
  {
   "cell_type": "code",
   "execution_count": 48,
   "id": "74c5df49-2c88-49d1-aee6-5c97a5f5365b",
   "metadata": {},
   "outputs": [
    {
     "data": {
      "text/plain": [
       "(0.6079756412048904, 0.6082223701731025, 0.6080373237549456)"
      ]
     },
     "execution_count": 48,
     "metadata": {},
     "output_type": "execute_result"
    }
   ],
   "source": [
    "# lets look at accuracies on the train, test, and full dataset.  \n",
    "np.equal((X_train['pa_wp_g']>.5),y_train).mean(),\\\n",
    "np.equal((X_test['pa_wp_g']>.5),y_test).mean(),\\\n",
    "np.equal((d_r['pa_wp_g']>.5),d_r['outcome']).mean()"
   ]
  },
  {
   "cell_type": "markdown",
   "id": "f116b839-c34c-4e5b-b007-370e2efe26b5",
   "metadata": {},
   "source": [
    "Surprisingly, there is a large decrease in the predictive power of Glicko-2 ratings compared to both elo and ranking points.  The accuracy 60.8% is quite a bit lower than the 64.29% accuracy of the rating point data and the 63.25% accuracy of the elo ratings.  Lets next see if there is anything to be gained by filtering for matches where the players don't both have ratings of 1500, which suggest the rating system has not yet seen the players."
   ]
  },
  {
   "cell_type": "code",
   "execution_count": 49,
   "id": "1a6c4f2e-83ea-4858-b731-100681035678",
   "metadata": {},
   "outputs": [
    {
     "name": "stdout",
     "output_type": "stream",
     "text": [
      "0.9499431588373444\n"
     ]
    }
   ],
   "source": [
    "print(d_r.query('pa_gr != 1500 and pb_gr != 1500').shape[0]/d_r.shape[0])\n",
    "d_g = d_r.query('pa_gr != 1500 and pb_gr != 1500')"
   ]
  },
  {
   "cell_type": "markdown",
   "id": "b897ad5f-612e-4c7b-b0a1-2d36f06c1d66",
   "metadata": {},
   "source": [
    "95% of the data is still available for prediction after this filter."
   ]
  },
  {
   "cell_type": "code",
   "execution_count": 50,
   "id": "ce776a11-f19c-473e-9897-fe0c73fb04d2",
   "metadata": {},
   "outputs": [
    {
     "data": {
      "text/plain": [
       "0.617746262197248"
      ]
     },
     "execution_count": 50,
     "metadata": {},
     "output_type": "execute_result"
    }
   ],
   "source": [
    "np.equal((d_g['pa_wp_g']>.5),d_g['outcome']).mean()"
   ]
  },
  {
   "cell_type": "markdown",
   "id": "2ac62f54-11b5-4125-9d47-6923f6db64c4",
   "metadata": {},
   "source": [
    "After this filter, the predictive accuracy is up to 61.77% which is still around 1.5% less than the elo rating system.  Lets now look to see how the prediction probabilities compare with MSE as the evaluation metric."
   ]
  },
  {
   "cell_type": "code",
   "execution_count": 51,
   "id": "7206859d-8268-4491-844e-5ebe8fdde741",
   "metadata": {},
   "outputs": [
    {
     "data": {
      "text/plain": [
       "(0.23188927537780168, 0.22539623891552873, 0.35711717709720375)"
      ]
     },
     "execution_count": 51,
     "metadata": {},
     "output_type": "execute_result"
    }
   ],
   "source": [
    "mean_squared_error(d_g['outcome'],d_g['pa_wp_g']),\\\n",
    "mean_squared_error(d_g['outcome'],d_g['pa_wp_elo']),\\\n",
    "mean_squared_error(y_test, preds)"
   ]
  },
  {
   "cell_type": "markdown",
   "id": "9b1d0681-69f2-4e5c-87d4-8f8e44639863",
   "metadata": {},
   "source": [
    "Above we see that while ratings did the best job of predicting the outcome of the match, the lowest mean_squared_error is seen with Elo followed by Glicko-2.  Thus, the Elo and Glicko-2 rating systems are better at estimating the percentage of time one player should win against another."
   ]
  }
 ],
 "metadata": {
  "kernelspec": {
   "display_name": "Python 3 (ipykernel)",
   "language": "python",
   "name": "python3"
  },
  "language_info": {
   "codemirror_mode": {
    "name": "ipython",
    "version": 3
   },
   "file_extension": ".py",
   "mimetype": "text/x-python",
   "name": "python",
   "nbconvert_exporter": "python",
   "pygments_lexer": "ipython3",
   "version": "3.9.13"
  }
 },
 "nbformat": 4,
 "nbformat_minor": 5
}
