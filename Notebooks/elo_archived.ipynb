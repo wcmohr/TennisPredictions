{
 "cells": [
  {
   "cell_type": "markdown",
   "id": "7bb8b4b7-a5c1-4857-adca-327bb3604b90",
   "metadata": {},
   "source": [
    "[player class source](https://towardsdatascience.com/rating-sports-teams-elo-vs-win-loss-d46ee57c1314)"
   ]
  },
  {
   "cell_type": "markdown",
   "id": "d9859f2c-2804-4fea-b2cd-7d0d795e1d4c",
   "metadata": {},
   "source": [
    "elements of elo:\n",
    "\n",
    "update rate - K, spread - "
   ]
  },
  {
   "cell_type": "code",
   "execution_count": null,
   "id": "f9f9d964-23d1-4091-988b-0617172174b7",
   "metadata": {},
   "outputs": [],
   "source": []
  }
 ],
 "metadata": {
  "kernelspec": {
   "display_name": "Python 3 (ipykernel)",
   "language": "python",
   "name": "python3"
  },
  "language_info": {
   "codemirror_mode": {
    "name": "ipython",
    "version": 3
   },
   "file_extension": ".py",
   "mimetype": "text/x-python",
   "name": "python",
   "nbconvert_exporter": "python",
   "pygments_lexer": "ipython3",
   "version": "3.9.13"
  }
 },
 "nbformat": 4,
 "nbformat_minor": 5
}
