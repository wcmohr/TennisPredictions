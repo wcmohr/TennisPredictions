{
 "cells": [
  {
   "cell_type": "markdown",
   "id": "cc30d421-67f7-4c4a-8c0a-829c43b3d148",
   "metadata": {},
   "source": [
    "##### RatingPoints notebook overview"
   ]
  },
  {
   "cell_type": "markdown",
   "id": "7b1d4e18-2695-4bb1-b6fa-cd8d29a31541",
   "metadata": {},
   "source": [
    "In this notebook I will investigate the predictive value of rating points data with logistic regression."
   ]
  },
  {
   "cell_type": "markdown",
   "id": "3dd314a5-aa7b-4d56-99a2-8790877f8824",
   "metadata": {},
   "source": [
    "##### Attributions"
   ]
  },
  {
   "cell_type": "markdown",
   "id": "0faee978-95fe-4c18-8f5b-ecd3cac77da6",
   "metadata": {},
   "source": [
    "###### Heatmap"
   ]
  },
  {
   "cell_type": "markdown",
   "id": "0fffe5e6-02c8-47b4-83ac-b4e42c4c05aa",
   "metadata": {},
   "source": [
    "[seaborn heatmap as confusion matrix from akilat90 -- this was not used in the end](https://stackoverflow.com/questions/19233771/sklearn-plot-confusion-matrix-with-labels)"
   ]
  },
  {
   "cell_type": "markdown",
   "id": "045ff45d-1a17-4683-bffe-7fc5bf508497",
   "metadata": {},
   "source": [
    "##### Imports"
   ]
  },
  {
   "cell_type": "markdown",
   "id": "19529f5e-8252-476b-ac23-4fc3333d0ddf",
   "metadata": {},
   "source": [
    "###### Packages"
   ]
  },
  {
   "cell_type": "code",
   "execution_count": 118,
   "id": "5c89160a-a263-495c-85de-a1b695d3710f",
   "metadata": {},
   "outputs": [],
   "source": [
    "import pandas as pd\n",
    "import numpy as np\n",
    "import random\n",
    "import time\n",
    "import pprint\n",
    "from sklearn.linear_model import LogisticRegressionCV\n",
    "from sklearn.model_selection import train_test_split\n",
    "from sklearn.metrics import confusion_matrix, ConfusionMatrixDisplay, classification_report"
   ]
  },
  {
   "cell_type": "markdown",
   "id": "eb9c30b9-c41a-4fb1-8906-a0824e141770",
   "metadata": {},
   "source": [
    "###### Data"
   ]
  },
  {
   "cell_type": "code",
   "execution_count": 42,
   "id": "af0f6941-dea1-4f75-bba1-f4c8a033c502",
   "metadata": {
    "tags": []
   },
   "outputs": [],
   "source": [
    "# read in all singles matches\n",
    "s_matches = pd.read_csv('../Data/singles_matches_df.csv',parse_dates = ['tourney_date'], \n",
    "                      infer_datetime_format = True, low_memory=False)"
   ]
  },
  {
   "cell_type": "markdown",
   "id": "7b184c45-a34f-4aca-90c2-0850eb2ab6b5",
   "metadata": {},
   "source": [
    "##### Data filtering, randomization and feature engineering"
   ]
  },
  {
   "cell_type": "markdown",
   "id": "b60ed22e-afc6-4e3a-8ca9-89532a434405",
   "metadata": {},
   "source": [
    "###### Filtering"
   ]
  },
  {
   "cell_type": "code",
   "execution_count": 19,
   "id": "08e36c71-257c-436a-a6f0-240155e7421d",
   "metadata": {
    "tags": []
   },
   "outputs": [],
   "source": [
    "# select non null ranking points ['tourney_date','winner_id','loser_id','winner_rank_points', 'loser_rank_points']\n",
    "lr_matches = s_matches[s_matches['loser_rank_points'].notnull() & \n",
    "          s_matches['winner_rank_points'].notnull()]\n",
    "lr_matches = lr_matches[\n",
    "    ['tourney_date','winner_id','loser_id','winner_rank_points', \n",
    "     'loser_rank_points', 'winner_rank', 'loser_rank']]\n",
    "# get rid of matches in which participants have zero ranking points\n",
    "lr_matches = lr_matches.query('winner_rank_points != 0 and \\\n",
    "                              loser_rank_points != 0')\n",
    "lr_matches.index = [inx for inx in range(0,lr_matches.shape[0])]"
   ]
  },
  {
   "cell_type": "markdown",
   "id": "4921e7e0-9234-4ee1-8dbe-99095e4d1e86",
   "metadata": {},
   "source": [
    "I'll randomly assign winner and loser rank points to players a and b so that there is no win info in the predictive variables."
   ]
  },
  {
   "cell_type": "markdown",
   "id": "611f05d5-bb2f-4711-a04b-dde585177057",
   "metadata": {},
   "source": [
    "###### Randomization"
   ]
  },
  {
   "cell_type": "markdown",
   "id": "0dc05a09-1521-4b17-9401-8667ef136a9e",
   "metadata": {},
   "source": [
    "Randomizing the 'winner' and 'loser' to players a and b is necessary to remove outcome information from the predictive variables."
   ]
  },
  {
   "cell_type": "code",
   "execution_count": 53,
   "id": "b6994063-854b-4942-894a-291c31a086e6",
   "metadata": {},
   "outputs": [],
   "source": [
    "random.seed(1)\n",
    "player_indicators = random.choices([0,1],k = lr_matches.shape[0],)\n",
    "\n",
    "# player a rank gets winner's rank points if indicator is 1, otherwise \n",
    "# player a gets the loser's rank points if indicator is 0\n",
    "\n",
    "lr_matches['pa_pts'] = (player_indicators* \\\n",
    "                            lr_matches['winner_rank_points']) + \\\n",
    "                          abs((np.array(player_indicators)-1)* \\\n",
    "                           lr_matches['loser_rank_points'])\n",
    "\n",
    "# player a rank gets loser's rank points if indicator is 1, otherwise \n",
    "# player a gets the winner's rank points if indicator is 0\n",
    "\n",
    "lr_matches['pb_pts'] = (player_indicators * \\\n",
    "                            lr_matches['loser_rank_points']) + \\\n",
    "                          abs((np.array(player_indicators)-1)* \\\n",
    "                           lr_matches['winner_rank_points'])\n",
    "\n",
    "# player a wins if outcome is 1, otherwise if outcome is 0 player b wins\n",
    "lr_matches['outcome'] = player_indicators"
   ]
  },
  {
   "cell_type": "markdown",
   "id": "b2f2aac1-a949-47d0-a22c-5a910dd24154",
   "metadata": {},
   "source": [
    "###### Feature engineering"
   ]
  },
  {
   "cell_type": "markdown",
   "id": "6475d8b6-5045-4097-b91e-222a6444a85b",
   "metadata": {},
   "source": [
    "I'll next create the two predictors of the victor: differential in rank points and weighted differential in rank points.  \n",
    "\n",
    "For the highest ranked players, say in the top ten, raw ranking point differential may understate the closeness in ability, while for the lower ranked players with very few ranking points the raw ranking point differential may not identify the full extent of ability differentials."
   ]
  },
  {
   "cell_type": "code",
   "execution_count": 43,
   "id": "0ebe5333-2d91-497a-8125-a6d11a0423b4",
   "metadata": {
    "collapsed": true,
    "jupyter": {
     "outputs_hidden": true
    },
    "tags": []
   },
   "outputs": [
    {
     "data": {
      "text/html": [
       "<div>\n",
       "<style scoped>\n",
       "    .dataframe tbody tr th:only-of-type {\n",
       "        vertical-align: middle;\n",
       "    }\n",
       "\n",
       "    .dataframe tbody tr th {\n",
       "        vertical-align: top;\n",
       "    }\n",
       "\n",
       "    .dataframe thead th {\n",
       "        text-align: right;\n",
       "    }\n",
       "</style>\n",
       "<table border=\"1\" class=\"dataframe\">\n",
       "  <thead>\n",
       "    <tr style=\"text-align: right;\">\n",
       "      <th></th>\n",
       "      <th>tourney_date</th>\n",
       "      <th>winner_id</th>\n",
       "      <th>loser_id</th>\n",
       "      <th>winner_rank_points</th>\n",
       "      <th>loser_rank_points</th>\n",
       "      <th>winner_rank</th>\n",
       "      <th>loser_rank</th>\n",
       "      <th>player_indicators</th>\n",
       "      <th>pa_rk_pts</th>\n",
       "      <th>pb_rk_pts</th>\n",
       "      <th>outcome</th>\n",
       "      <th>pa_pts</th>\n",
       "      <th>pb_pts</th>\n",
       "      <th>rp_diff</th>\n",
       "      <th>rp_wt_diff</th>\n",
       "    </tr>\n",
       "  </thead>\n",
       "  <tbody>\n",
       "    <tr>\n",
       "      <th>0</th>\n",
       "      <td>1990-01-01</td>\n",
       "      <td>101971</td>\n",
       "      <td>101439</td>\n",
       "      <td>213.0</td>\n",
       "      <td>421.0</td>\n",
       "      <td>114.0</td>\n",
       "      <td>45.0</td>\n",
       "      <td>1</td>\n",
       "      <td>634.0</td>\n",
       "      <td>634.0</td>\n",
       "      <td>1</td>\n",
       "      <td>213.0</td>\n",
       "      <td>421.0</td>\n",
       "      <td>-208.0</td>\n",
       "      <td>-0.328076</td>\n",
       "    </tr>\n",
       "    <tr>\n",
       "      <th>1</th>\n",
       "      <td>1990-01-01</td>\n",
       "      <td>101124</td>\n",
       "      <td>100752</td>\n",
       "      <td>437.0</td>\n",
       "      <td>313.0</td>\n",
       "      <td>42.0</td>\n",
       "      <td>62.0</td>\n",
       "      <td>1</td>\n",
       "      <td>750.0</td>\n",
       "      <td>750.0</td>\n",
       "      <td>0</td>\n",
       "      <td>313.0</td>\n",
       "      <td>437.0</td>\n",
       "      <td>-124.0</td>\n",
       "      <td>-0.165333</td>\n",
       "    </tr>\n",
       "    <tr>\n",
       "      <th>2</th>\n",
       "      <td>1990-01-01</td>\n",
       "      <td>100790</td>\n",
       "      <td>102000</td>\n",
       "      <td>88.0</td>\n",
       "      <td>133.0</td>\n",
       "      <td>239.0</td>\n",
       "      <td>168.0</td>\n",
       "      <td>0</td>\n",
       "      <td>0.0</td>\n",
       "      <td>0.0</td>\n",
       "      <td>0</td>\n",
       "      <td>133.0</td>\n",
       "      <td>88.0</td>\n",
       "      <td>45.0</td>\n",
       "      <td>0.203620</td>\n",
       "    </tr>\n",
       "    <tr>\n",
       "      <th>3</th>\n",
       "      <td>1990-01-01</td>\n",
       "      <td>101421</td>\n",
       "      <td>101482</td>\n",
       "      <td>218.0</td>\n",
       "      <td>168.0</td>\n",
       "      <td>105.0</td>\n",
       "      <td>134.0</td>\n",
       "      <td>0</td>\n",
       "      <td>386.0</td>\n",
       "      <td>386.0</td>\n",
       "      <td>1</td>\n",
       "      <td>218.0</td>\n",
       "      <td>168.0</td>\n",
       "      <td>50.0</td>\n",
       "      <td>0.129534</td>\n",
       "    </tr>\n",
       "    <tr>\n",
       "      <th>4</th>\n",
       "      <td>1990-01-01</td>\n",
       "      <td>101332</td>\n",
       "      <td>101320</td>\n",
       "      <td>197.0</td>\n",
       "      <td>505.0</td>\n",
       "      <td>122.0</td>\n",
       "      <td>32.0</td>\n",
       "      <td>0</td>\n",
       "      <td>0.0</td>\n",
       "      <td>0.0</td>\n",
       "      <td>1</td>\n",
       "      <td>197.0</td>\n",
       "      <td>505.0</td>\n",
       "      <td>-308.0</td>\n",
       "      <td>-0.438746</td>\n",
       "    </tr>\n",
       "    <tr>\n",
       "      <th>...</th>\n",
       "      <td>...</td>\n",
       "      <td>...</td>\n",
       "      <td>...</td>\n",
       "      <td>...</td>\n",
       "      <td>...</td>\n",
       "      <td>...</td>\n",
       "      <td>...</td>\n",
       "      <td>...</td>\n",
       "      <td>...</td>\n",
       "      <td>...</td>\n",
       "      <td>...</td>\n",
       "      <td>...</td>\n",
       "      <td>...</td>\n",
       "      <td>...</td>\n",
       "      <td>...</td>\n",
       "    </tr>\n",
       "    <tr>\n",
       "      <th>618161</th>\n",
       "      <td>2022-12-26</td>\n",
       "      <td>207134</td>\n",
       "      <td>208892</td>\n",
       "      <td>6.0</td>\n",
       "      <td>3.0</td>\n",
       "      <td>1178.0</td>\n",
       "      <td>1461.0</td>\n",
       "      <td>0</td>\n",
       "      <td>0.0</td>\n",
       "      <td>0.0</td>\n",
       "      <td>1</td>\n",
       "      <td>6.0</td>\n",
       "      <td>3.0</td>\n",
       "      <td>3.0</td>\n",
       "      <td>0.333333</td>\n",
       "    </tr>\n",
       "    <tr>\n",
       "      <th>618162</th>\n",
       "      <td>2022-12-26</td>\n",
       "      <td>207987</td>\n",
       "      <td>208519</td>\n",
       "      <td>31.0</td>\n",
       "      <td>12.0</td>\n",
       "      <td>716.0</td>\n",
       "      <td>966.0</td>\n",
       "      <td>1</td>\n",
       "      <td>43.0</td>\n",
       "      <td>43.0</td>\n",
       "      <td>1</td>\n",
       "      <td>31.0</td>\n",
       "      <td>12.0</td>\n",
       "      <td>19.0</td>\n",
       "      <td>0.441860</td>\n",
       "    </tr>\n",
       "    <tr>\n",
       "      <th>618163</th>\n",
       "      <td>2022-12-26</td>\n",
       "      <td>144932</td>\n",
       "      <td>209977</td>\n",
       "      <td>23.0</td>\n",
       "      <td>8.0</td>\n",
       "      <td>799.0</td>\n",
       "      <td>1117.0</td>\n",
       "      <td>0</td>\n",
       "      <td>0.0</td>\n",
       "      <td>0.0</td>\n",
       "      <td>0</td>\n",
       "      <td>8.0</td>\n",
       "      <td>23.0</td>\n",
       "      <td>-15.0</td>\n",
       "      <td>-0.483871</td>\n",
       "    </tr>\n",
       "    <tr>\n",
       "      <th>618164</th>\n",
       "      <td>2022-12-26</td>\n",
       "      <td>209079</td>\n",
       "      <td>210696</td>\n",
       "      <td>7.0</td>\n",
       "      <td>2.0</td>\n",
       "      <td>1125.0</td>\n",
       "      <td>1548.0</td>\n",
       "      <td>0</td>\n",
       "      <td>0.0</td>\n",
       "      <td>0.0</td>\n",
       "      <td>0</td>\n",
       "      <td>2.0</td>\n",
       "      <td>7.0</td>\n",
       "      <td>-5.0</td>\n",
       "      <td>-0.555556</td>\n",
       "    </tr>\n",
       "    <tr>\n",
       "      <th>618165</th>\n",
       "      <td>2022-12-26</td>\n",
       "      <td>200289</td>\n",
       "      <td>209360</td>\n",
       "      <td>26.0</td>\n",
       "      <td>6.0</td>\n",
       "      <td>768.0</td>\n",
       "      <td>1202.0</td>\n",
       "      <td>0</td>\n",
       "      <td>0.0</td>\n",
       "      <td>0.0</td>\n",
       "      <td>0</td>\n",
       "      <td>6.0</td>\n",
       "      <td>26.0</td>\n",
       "      <td>-20.0</td>\n",
       "      <td>-0.625000</td>\n",
       "    </tr>\n",
       "  </tbody>\n",
       "</table>\n",
       "<p>618166 rows × 15 columns</p>\n",
       "</div>"
      ],
      "text/plain": [
       "       tourney_date  winner_id  loser_id  winner_rank_points  \\\n",
       "0        1990-01-01     101971    101439               213.0   \n",
       "1        1990-01-01     101124    100752               437.0   \n",
       "2        1990-01-01     100790    102000                88.0   \n",
       "3        1990-01-01     101421    101482               218.0   \n",
       "4        1990-01-01     101332    101320               197.0   \n",
       "...             ...        ...       ...                 ...   \n",
       "618161   2022-12-26     207134    208892                 6.0   \n",
       "618162   2022-12-26     207987    208519                31.0   \n",
       "618163   2022-12-26     144932    209977                23.0   \n",
       "618164   2022-12-26     209079    210696                 7.0   \n",
       "618165   2022-12-26     200289    209360                26.0   \n",
       "\n",
       "        loser_rank_points  winner_rank  loser_rank  player_indicators  \\\n",
       "0                   421.0        114.0        45.0                  1   \n",
       "1                   313.0         42.0        62.0                  1   \n",
       "2                   133.0        239.0       168.0                  0   \n",
       "3                   168.0        105.0       134.0                  0   \n",
       "4                   505.0        122.0        32.0                  0   \n",
       "...                   ...          ...         ...                ...   \n",
       "618161                3.0       1178.0      1461.0                  0   \n",
       "618162               12.0        716.0       966.0                  1   \n",
       "618163                8.0        799.0      1117.0                  0   \n",
       "618164                2.0       1125.0      1548.0                  0   \n",
       "618165                6.0        768.0      1202.0                  0   \n",
       "\n",
       "        pa_rk_pts  pb_rk_pts  outcome  pa_pts  pb_pts  rp_diff  rp_wt_diff  \n",
       "0           634.0      634.0        1   213.0   421.0   -208.0   -0.328076  \n",
       "1           750.0      750.0        0   313.0   437.0   -124.0   -0.165333  \n",
       "2             0.0        0.0        0   133.0    88.0     45.0    0.203620  \n",
       "3           386.0      386.0        1   218.0   168.0     50.0    0.129534  \n",
       "4             0.0        0.0        1   197.0   505.0   -308.0   -0.438746  \n",
       "...           ...        ...      ...     ...     ...      ...         ...  \n",
       "618161        0.0        0.0        1     6.0     3.0      3.0    0.333333  \n",
       "618162       43.0       43.0        1    31.0    12.0     19.0    0.441860  \n",
       "618163        0.0        0.0        0     8.0    23.0    -15.0   -0.483871  \n",
       "618164        0.0        0.0        0     2.0     7.0     -5.0   -0.555556  \n",
       "618165        0.0        0.0        0     6.0    26.0    -20.0   -0.625000  \n",
       "\n",
       "[618166 rows x 15 columns]"
      ]
     },
     "execution_count": 43,
     "metadata": {},
     "output_type": "execute_result"
    }
   ],
   "source": [
    "# raw differential in rank points between player \n",
    "lr_matches['rp_diff'] = lr_matches['pa_pts'] - \\\n",
    "                                lr_matches['pb_pts']\n",
    "\n",
    "# differential weighted by the inverse of the sum of both players' rank points\n",
    "lr_matches['rp_wt_diff'] = lr_matches['rp_diff']/ \\\n",
    "                                            (lr_matches['pa_pts'] + \n",
    "                                            lr_matches['pb_pts'])\n",
    "\n",
    "lr_matches"
   ]
  },
  {
   "cell_type": "markdown",
   "id": "fb1e55f6-e7c9-4ac1-84ec-a1344500dd0e",
   "metadata": {
    "tags": []
   },
   "source": [
    "##### Modeling"
   ]
  },
  {
   "cell_type": "markdown",
   "id": "0a6d42e7-f509-40d7-82c8-209dea41951e",
   "metadata": {},
   "source": [
    "Since this is a classification problem I will use logistic regression.  I will include regularization to ensure that all predictors are useful."
   ]
  },
  {
   "cell_type": "code",
   "execution_count": 54,
   "id": "5c8c7a6d-012a-487b-91d4-4ae94578bd17",
   "metadata": {},
   "outputs": [],
   "source": [
    "# Select the predictive and the target columns and split into train and test\n",
    "X  = lr_matches[['rp_diff','rp_wt_diff',\n",
    "                 'pa_pts','pb_pts']]\n",
    "y = lr_matches['outcome']\n",
    "X_train, X_test, y_train, y_test = train_test_split(X,y) "
   ]
  },
  {
   "cell_type": "code",
   "execution_count": 48,
   "id": "9f5d42c1-b208-4d52-ba2b-5673932d2a1e",
   "metadata": {},
   "outputs": [],
   "source": [
    "# I will initialize with regularizations between 1.e-01 and 1.e+03\n",
    "logreg = LogisticRegressionCV(Cs = np.logspace(-1,3,5))"
   ]
  },
  {
   "cell_type": "code",
   "execution_count": 55,
   "id": "67e43ccf-4e92-411d-b78f-629449dcad97",
   "metadata": {},
   "outputs": [
    {
     "data": {
      "text/plain": [
       "LogisticRegressionCV(Cs=array([1.e-01, 1.e+00, 1.e+01, 1.e+02, 1.e+03]))"
      ]
     },
     "execution_count": 55,
     "metadata": {},
     "output_type": "execute_result"
    }
   ],
   "source": [
    "logreg.fit(X_train, y_train)"
   ]
  },
  {
   "cell_type": "code",
   "execution_count": 56,
   "id": "78ecc23c-ee45-4097-bdbd-46f0ddf61785",
   "metadata": {},
   "outputs": [
    {
     "data": {
      "text/plain": [
       "(0.6475915828343658, 0.6472997631711768)"
      ]
     },
     "execution_count": 56,
     "metadata": {},
     "output_type": "execute_result"
    }
   ],
   "source": [
    "logreg.score(X_train, y_train), logreg.score(X_test, y_test)"
   ]
  },
  {
   "cell_type": "code",
   "execution_count": 61,
   "id": "af38336a-1c52-404d-9d6a-2292274488d3",
   "metadata": {},
   "outputs": [
    {
     "data": {
      "text/plain": [
       "array([0, 0, 1, ..., 1, 1, 1])"
      ]
     },
     "execution_count": 61,
     "metadata": {},
     "output_type": "execute_result"
    }
   ],
   "source": []
  },
  {
   "cell_type": "markdown",
   "id": "2ef3f354-7575-4705-af16-c563e61c0c9f",
   "metadata": {},
   "source": [
    "With 64.75 and 64.73 percent accuracy in predicting the winner, the rating points data does a reasonable job of predicting the outcome."
   ]
  },
  {
   "cell_type": "markdown",
   "id": "c1d33380-0111-49b9-b28d-188cb716af62",
   "metadata": {},
   "source": [
    "##### Model Evaluation"
   ]
  },
  {
   "cell_type": "code",
   "execution_count": 77,
   "id": "27a55112-92f7-4e6c-b9d1-ca1fe3bf49c6",
   "metadata": {},
   "outputs": [],
   "source": []
  },
  {
   "cell_type": "code",
   "execution_count": 62,
   "id": "dc4e1673-69f5-4afe-9205-5ce9c6a86ebc",
   "metadata": {},
   "outputs": [],
   "source": [
    "test_preds = logreg.predict(X_test)"
   ]
  },
  {
   "cell_type": "code",
   "execution_count": 109,
   "id": "2ea302b1-1b07-44fc-9964-c90d5a6921e8",
   "metadata": {},
   "outputs": [],
   "source": []
  },
  {
   "cell_type": "code",
   "execution_count": 117,
   "id": "ed28ca24-9ee7-4ca1-9b48-7ea6eaff38ab",
   "metadata": {
    "tags": []
   },
   "outputs": [
    {
     "name": "stdout",
     "output_type": "stream",
     "text": [
      "{'0': {'f1-score': 0.6478534741738541,\n",
      "     'precision': 0.6450820199421036,\n",
      "     'recall': 0.6506488450558007,\n",
      "     'support': 77060},\n",
      "'1': {'f1-score': 0.6467443081290223,\n",
      "     'precision': 0.6495437207909708,\n",
      "     'recall': 0.6439689218140987,\n",
      "     'support': 77482},\n",
      "'accuracy': 0.6472997631711768,\n",
      "'macro avg': {'f1-score': 0.6472988911514381,\n",
      "             'precision': 0.6473128703665372,\n",
      "             'recall': 0.6473088834349496,\n",
      "             'support': 154542},\n",
      "'weighted avg': {'f1-score': 0.647297376779711,\n",
      "                'precision': 0.6473189620366276,\n",
      "                'recall': 0.6472997631711768,\n",
      "                'support': 154542}}\n"
     ]
    }
   ],
   "source": [
    "pp = pprint.PrettyPrinter(indent = 0)\n",
    "pp.pprint(classification_report(y_test,test_preds,output_dict=True))"
   ]
  },
  {
   "cell_type": "markdown",
   "id": "40418ce4-91ee-455c-a995-1c18943b57f2",
   "metadata": {},
   "source": [
    "From the classification report all of the output dictionaries give the same practical insight into the performance of the model, but the macro weighted avg gives the theoretically most sound analysis as distinguishing between the player classes A and B is not meaningful as the players are arbitrarily assigned to each class.\n",
    "\n",
    "We can see that with the weighted average, the precision, recall, and f1-scores are all around .6473.  The precision is the number of true positives divided by the number of predicted positives and so a precision of .6473 means that of the "
   ]
  },
  {
   "cell_type": "code",
   "execution_count": 91,
   "id": "1ac62403-dc64-4a2f-8d1d-5287d131b347",
   "metadata": {},
   "outputs": [],
   "source": [
    "import matplotlib.pyplot as plt"
   ]
  },
  {
   "cell_type": "code",
   "execution_count": 92,
   "id": "1594f3c3-b607-412a-9b72-df2afcee667e",
   "metadata": {
    "collapsed": true,
    "jupyter": {
     "outputs_hidden": true
    },
    "tags": []
   },
   "outputs": [
    {
     "data": {
      "image/png": "[encoded data removed]",
      "text/plain": [
       "<Figure size 640x480 with 1 Axes>"
      ]
     },
     "metadata": {},
     "output_type": "display_data"
    }
   ],
   "source": []
  },
  {
   "cell_type": "code",
   "execution_count": 107,
   "id": "52d20e8a-3baf-4e8f-9cb5-6df2457778ba",
   "metadata": {},
   "outputs": [
    {
     "data": {
      "image/png": "[encoded data removed]",
      "text/plain": [
       "<Figure size 640x480 with 2 Axes>"
      ]
     },
     "metadata": {},
     "output_type": "display_data"
    }
   ],
   "source": [
    "import seaborn as sns\n",
    "import matplotlib.pyplot as plt     \n",
    "\n",
    "cm_disp = ConfusionMatrixDisplay.from_estimator(logreg, \n",
    "                X_test, y_test, cmap=\"Greens\",\n",
    "                display_labels=['Player B','Player A'], \n",
    "                normalize='true').ax_.set_title('True and Predicted Winner')"
   ]
  },
  {
   "cell_type": "markdown",
   "id": "2665beaa-6c14-4fd7-bdd9-da9eb36550a4",
   "metadata": {},
   "source": [
    "From the above we see as expected very balanced output, with Player B being predicted to win 65% of the time when Player B did actually win, while Player A was predicted to win 64% of the time when Player A did actually win.  Since player's were randomly assigned labels A and B, this symmetry is to be expected and any differences can be attributed to randomness. "
   ]
  }
 ],
 "metadata": {
  "kernelspec": {
   "display_name": "Python 3 (ipykernel)",
   "language": "python",
   "name": "python3"
  },
  "language_info": {
   "codemirror_mode": {
    "name": "ipython",
    "version": 3
   },
   "file_extension": ".py",
   "mimetype": "text/x-python",
   "name": "python",
   "nbconvert_exporter": "python",
   "pygments_lexer": "ipython3",
   "version": "3.9.13"
  }
 },
 "nbformat": 4,
 "nbformat_minor": 5
}
