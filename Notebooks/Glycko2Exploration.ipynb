{
 "cells": [
  {
   "cell_type": "code",
   "execution_count": 1,
   "id": "cf4b92fa-d27b-47e2-b481-ee6467d87a22",
   "metadata": {},
   "outputs": [],
   "source": [
    "import pandas as pd\n",
    "from functions import assembleDf, epochG, epochsG\n",
    "from datetime import datetime, timedelta\n",
    "import numpy as np\n",
    "import sys\n",
    "sys.path.append('..')\n",
    "from pyglicko2.glicko2_tests import exampleCase\n",
    "from pyglicko2.glicko2 import Player\n",
    "import glicko2\n",
    "import time\n"
   ]
  },
  {
   "cell_type": "code",
   "execution_count": 2,
   "id": "b2967aa4-0a53-4720-9eee-272a296b5dd1",
   "metadata": {},
   "outputs": [],
   "source": [
    "matches = pd.read_csv('../Data/matches_glicko2.csv',parse_dates = ['tourney_date'], \n",
    "                      infer_datetime_format = True)"
   ]
  },
  {
   "cell_type": "markdown",
   "id": "631737b6-19e6-4df2-a533-428a43a2a03c",
   "metadata": {},
   "source": [
    "Because memory constraints limit the batch size in epochsG, I will need to process incrementally."
   ]
  },
  {
   "cell_type": "code",
   "execution_count": 3,
   "id": "fffeba42-98f8-42fb-b272-7c02e748852b",
   "metadata": {},
   "outputs": [],
   "source": [
    "# base batches.  can be further broken up by splitBatch\n",
    "eg_batches_50 = [(s,f) for s,f in zip(range(0, 876_978-50_000,50_000),\n",
    "                      range(50_000, 876978,50_000))] + [(850_000,876979)]\n",
    "eg_batches_100 = [(s,f) for s,f in zip(range(0, 876_978-100_000,100_000),\n",
    "                      range(100_000, 876978,100_000))] + [(800_000,876979)]\n",
    "\n",
    "ratings_histories = []\n",
    "players_dict = {}"
   ]
  },
  {
   "cell_type": "code",
   "execution_count": 4,
   "id": "e198bcc1-c413-49de-bfe2-69690dc13beb",
   "metadata": {
    "tags": []
   },
   "outputs": [],
   "source": [
    "def splitBatch(atuple, divisions):\n",
    "    '''Break up batches into smaller pieces to allow epochsG to run.'''\n",
    "    batch_size = (atuple[1] - atuple[0])//divisions\n",
    "    if batch_size < (atuple[1] - atuple[0]):\n",
    "        batches = [b for b in zip(range(atuple[0],atuple[1]-batch_size,batch_size),\n",
    "             range(atuple[0]+batch_size,atuple[1],batch_size))]\n",
    "        extra = [(batches[-1][1],atuple[1])]\n",
    "        return batches + extra\n",
    "    else:\n",
    "        return atuple"
   ]
  },
  {
   "cell_type": "code",
   "execution_count": 5,
   "id": "af20da6a-1b3e-450d-a2ad-5ca55b5b747b",
   "metadata": {},
   "outputs": [
    {
     "name": "stdout",
     "output_type": "stream",
     "text": [
      "CPU times: user 10.8 s, sys: 42.9 ms, total: 10.9 s\n",
      "Wall time: 10.8 s\n"
     ]
    }
   ],
   "source": [
    "%%time\n",
    "for batch in eg_batches_50[0:1]:\n",
    "    players_dict,rh = epochsG(matches[batch[0]:batch[1]],players_dict,365)\n",
    "    ratings_histories += [rh]"
   ]
  },
  {
   "cell_type": "code",
   "execution_count": 6,
   "id": "f1208104-05f2-4cfe-99a3-75a8d1fdb67c",
   "metadata": {
    "tags": []
   },
   "outputs": [
    {
     "name": "stdout",
     "output_type": "stream",
     "text": [
      "CPU times: user 4.08 s, sys: 15.8 ms, total: 4.1 s\n",
      "Wall time: 4.09 s\n"
     ]
    }
   ],
   "source": [
    "%%time\n",
    "\n",
    "for batch in eg_batches_50[1:2]:\n",
    "    players_dict,rh = epochsG(matches[batch[0]:batch[1]],players_dict,365)\n",
    "    ratings_histories += [rh]"
   ]
  },
  {
   "cell_type": "code",
   "execution_count": 7,
   "id": "610e790e-7921-4f03-8f24-f30e38fdac09",
   "metadata": {},
   "outputs": [
    {
     "name": "stdout",
     "output_type": "stream",
     "text": [
      "CPU times: user 4.21 s, sys: 15.7 ms, total: 4.23 s\n",
      "Wall time: 4.22 s\n"
     ]
    }
   ],
   "source": [
    "%%time\n",
    "\n",
    "for batch in eg_batches_50[2:3]:\n",
    "    players_dict,rh = epochsG(matches[batch[0]:batch[1]],players_dict,365)\n",
    "    ratings_histories += [rh]"
   ]
  },
  {
   "cell_type": "code",
   "execution_count": 8,
   "id": "e3bfedcd-5c11-421f-9077-135f4afaf71e",
   "metadata": {},
   "outputs": [
    {
     "data": {
      "text/plain": [
       "(150000, 200000)"
      ]
     },
     "execution_count": 8,
     "metadata": {},
     "output_type": "execute_result"
    }
   ],
   "source": [
    "eg_batches_50[3]"
   ]
  },
  {
   "cell_type": "code",
   "execution_count": 9,
   "id": "2230a32e-5541-4fef-ab44-0d686cc928a1",
   "metadata": {},
   "outputs": [
    {
     "data": {
      "text/plain": [
       "[(150000, 175000), (175000, 200000)]"
      ]
     },
     "execution_count": 9,
     "metadata": {},
     "output_type": "execute_result"
    }
   ],
   "source": [
    "b = splitBatch(eg_batches_50[3],2); b0 = b[0]; b1 = b[1]\n",
    "b"
   ]
  },
  {
   "cell_type": "code",
   "execution_count": 10,
   "id": "6fcbf7e1-42c3-4c41-aadc-cb2812ea7bca",
   "metadata": {},
   "outputs": [
    {
     "name": "stdout",
     "output_type": "stream",
     "text": [
      "CPU times: user 2.03 s, sys: 8.96 ms, total: 2.03 s\n",
      "Wall time: 2.03 s\n"
     ]
    }
   ],
   "source": [
    "%%time\n",
    "players_dict,rh = epochsG(matches[b0[0]:b0[1]],players_dict,365)\n",
    "ratings_histories += [rh]"
   ]
  },
  {
   "cell_type": "code",
   "execution_count": 11,
   "id": "19bca57a-1a8f-4a12-9904-3389c83f7e2e",
   "metadata": {},
   "outputs": [
    {
     "name": "stdout",
     "output_type": "stream",
     "text": [
      "CPU times: user 1.99 s, sys: 6 ms, total: 1.99 s\n",
      "Wall time: 1.99 s\n"
     ]
    }
   ],
   "source": [
    "%%time\n",
    "players_dict,rh = epochsG(matches[b1[0]:b1[1]],players_dict,365)\n",
    "ratings_histories += [rh]"
   ]
  },
  {
   "cell_type": "code",
   "execution_count": 26,
   "id": "050ad11e-03ca-48db-9074-be7b0d026045",
   "metadata": {},
   "outputs": [
    {
     "data": {
      "text/plain": [
       "[(200000, 216666), (216666, 233332), (233332, 249998), (249998, 250000)]"
      ]
     },
     "execution_count": 26,
     "metadata": {},
     "output_type": "execute_result"
    }
   ],
   "source": [
    "splitBatch(eg_batches_50[4],3)"
   ]
  },
  {
   "cell_type": "code",
   "execution_count": 12,
   "id": "59bde9da-8f6b-45ca-9eda-f72e5331df66",
   "metadata": {},
   "outputs": [
    {
     "data": {
      "text/plain": [
       "[(200000, 216666), 233332, (233332, 249998), (249998, 250000)]"
      ]
     },
     "execution_count": 12,
     "metadata": {},
     "output_type": "execute_result"
    }
   ],
   "source": [
    "b = splitBatch(eg_batches_50[4],3); b0 = b[0]; b1 = b[1], b2 = b[2]\n",
    "b"
   ]
  },
  {
   "cell_type": "code",
   "execution_count": 13,
   "id": "cfb0c928-c9de-4784-b281-64f95ea60431",
   "metadata": {},
   "outputs": [
    {
     "name": "stdout",
     "output_type": "stream",
     "text": [
      "CPU times: user 1.25 s, sys: 6.49 ms, total: 1.26 s\n",
      "Wall time: 1.25 s\n"
     ]
    }
   ],
   "source": [
    "%%time\n",
    "players_dict,rh = epochsG(matches[b0[0]:b0[1]],players_dict,365)\n",
    "ratings_histories += [rh]"
   ]
  },
  {
   "cell_type": "code",
   "execution_count": 14,
   "id": "230a9d81-edf0-41f8-9e29-c81b230d8c0c",
   "metadata": {},
   "outputs": [
    {
     "name": "stdout",
     "output_type": "stream",
     "text": [
      "CPU times: user 1.3 s, sys: 5.23 ms, total: 1.3 s\n",
      "Wall time: 1.3 s\n"
     ]
    }
   ],
   "source": [
    "%%time\n",
    "players_dict,rh = epochsG(matches[b1[0]:b1[1]],players_dict,365)\n",
    "ratings_histories += [rh]"
   ]
  },
  {
   "cell_type": "code",
   "execution_count": 15,
   "id": "983574f2-d9ab-4c07-bc36-5980c16c014e",
   "metadata": {},
   "outputs": [
    {
     "ename": "TypeError",
     "evalue": "'int' object is not subscriptable",
     "output_type": "error",
     "traceback": [
      "\u001b[0;31m---------------------------------------------------------------------------\u001b[0m",
      "\u001b[0;31mTypeError\u001b[0m                                 Traceback (most recent call last)",
      "\u001b[0;32m<timed exec>\u001b[0m in \u001b[0;36m<module>\u001b[0;34m\u001b[0m\n",
      "\u001b[0;31mTypeError\u001b[0m: 'int' object is not subscriptable"
     ]
    }
   ],
   "source": [
    "%%time\n",
    "players_dict,rh = epochsG(matches[b2[0]:b2[1]],players_dict,365)\n",
    "ratings_histories += [rh]"
   ]
  },
  {
   "cell_type": "code",
   "execution_count": null,
   "id": "a4660da4-f06e-4192-90bc-30f105e6b5f8",
   "metadata": {},
   "outputs": [],
   "source": []
  },
  {
   "cell_type": "code",
   "execution_count": 16,
   "id": "ba29ceee-6153-4739-bd22-e86418db5ba3",
   "metadata": {},
   "outputs": [
    {
     "name": "stdout",
     "output_type": "stream",
     "text": [
      "CPU times: user 3.81 s, sys: 11.9 ms, total: 3.82 s\n",
      "Wall time: 3.82 s\n"
     ]
    }
   ],
   "source": [
    "%%time\n",
    "players_dict,rh = epochsG(matches[eg_batches_50[5][0]:eg_batches_50[5][1]],players_dict,365)\n",
    "ratings_histories += [rh]"
   ]
  },
  {
   "cell_type": "code",
   "execution_count": 17,
   "id": "c6c3c100-30f0-494f-81dd-af5c87166820",
   "metadata": {},
   "outputs": [
    {
     "name": "stdout",
     "output_type": "stream",
     "text": [
      "CPU times: user 3.81 s, sys: 9.71 ms, total: 3.82 s\n",
      "Wall time: 3.82 s\n"
     ]
    }
   ],
   "source": [
    "%%time\n",
    "players_dict,rh = epochsG(matches[eg_batches_50[5][0]:eg_batches_50[5][1]],players_dict,365)\n",
    "ratings_histories += [rh]"
   ]
  },
  {
   "cell_type": "code",
   "execution_count": 18,
   "id": "8beafa3f-9f27-49b2-8aff-c1ae46c137f6",
   "metadata": {},
   "outputs": [
    {
     "name": "stdout",
     "output_type": "stream",
     "text": [
      "CPU times: user 3.93 s, sys: 15.2 ms, total: 3.94 s\n",
      "Wall time: 3.94 s\n"
     ]
    }
   ],
   "source": [
    "%%time\n",
    "players_dict,rh = epochsG(matches[eg_batches_50[6][0]:eg_batches_50[6][1]],players_dict,365)\n",
    "ratings_histories += [rh]"
   ]
  },
  {
   "cell_type": "code",
   "execution_count": 19,
   "id": "d70598a6-b1ae-4521-9259-342db22b0b2b",
   "metadata": {},
   "outputs": [
    {
     "name": "stdout",
     "output_type": "stream",
     "text": [
      "CPU times: user 3.88 s, sys: 22.1 ms, total: 3.91 s\n",
      "Wall time: 3.9 s\n"
     ]
    }
   ],
   "source": [
    "%%time\n",
    "players_dict,rh = epochsG(matches[eg_batches_50[6][0]:eg_batches_50[6][1]],players_dict,365)\n",
    "ratings_histories += [rh]"
   ]
  },
  {
   "cell_type": "code",
   "execution_count": 20,
   "id": "b0ff078b-5534-4fd9-a27f-3dfdf9a0b53e",
   "metadata": {},
   "outputs": [
    {
     "ename": "KeyboardInterrupt",
     "evalue": "",
     "output_type": "error",
     "traceback": [
      "\u001b[0;31m---------------------------------------------------------------------------\u001b[0m",
      "\u001b[0;31mKeyboardInterrupt\u001b[0m                         Traceback (most recent call last)",
      "\u001b[0;32m<timed exec>\u001b[0m in \u001b[0;36m<module>\u001b[0;34m\u001b[0m\n",
      "\u001b[0;32m~/dsir/capstone/Notebooks/functions.py\u001b[0m in \u001b[0;36mepochsG\u001b[0;34m(match_history, players_dict, interval_length)\u001b[0m\n\u001b[1;32m    190\u001b[0m         \u001b[0;31m# If the rating period is empty, then adjust the rating deviation of the players.\u001b[0m\u001b[0;34m\u001b[0m\u001b[0;34m\u001b[0m\u001b[0m\n\u001b[1;32m    191\u001b[0m         \u001b[0;32mif\u001b[0m \u001b[0;32mnot\u001b[0m \u001b[0mrating_period\u001b[0m\u001b[0;34m.\u001b[0m\u001b[0mempty\u001b[0m\u001b[0;34m:\u001b[0m\u001b[0;34m\u001b[0m\u001b[0;34m\u001b[0m\u001b[0m\n\u001b[0;32m--> 192\u001b[0;31m             \u001b[0mplayers_dict\u001b[0m\u001b[0;34m,\u001b[0m\u001b[0mratings_timestamp\u001b[0m \u001b[0;34m=\u001b[0m \u001b[0mepochG\u001b[0m\u001b[0;34m(\u001b[0m\u001b[0mrating_period\u001b[0m\u001b[0;34m,\u001b[0m\u001b[0mplayers_dict\u001b[0m\u001b[0;34m,\u001b[0m\u001b[0mperiod\u001b[0m\u001b[0;34m[\u001b[0m\u001b[0;36m1\u001b[0m\u001b[0;34m]\u001b[0m\u001b[0;34m)\u001b[0m\u001b[0;34m\u001b[0m\u001b[0;34m\u001b[0m\u001b[0m\n\u001b[0m\u001b[1;32m    193\u001b[0m             \u001b[0mratings_history\u001b[0m\u001b[0;34m.\u001b[0m\u001b[0mupdate\u001b[0m\u001b[0;34m(\u001b[0m\u001b[0mratings_timestamp\u001b[0m\u001b[0;34m)\u001b[0m\u001b[0;34m\u001b[0m\u001b[0;34m\u001b[0m\u001b[0m\n\u001b[1;32m    194\u001b[0m         \u001b[0;32melse\u001b[0m\u001b[0;34m:\u001b[0m\u001b[0;34m\u001b[0m\u001b[0;34m\u001b[0m\u001b[0m\n",
      "\u001b[0;32m~/dsir/capstone/Notebooks/functions.py\u001b[0m in \u001b[0;36mepochG\u001b[0;34m(matches, players_dict, cutoff_date)\u001b[0m\n\u001b[1;32m    156\u001b[0m     \u001b[0;32mfor\u001b[0m \u001b[0mplayer\u001b[0m \u001b[0;32min\u001b[0m \u001b[0mlist\u001b[0m\u001b[0;34m(\u001b[0m\u001b[0mresults\u001b[0m\u001b[0;34m.\u001b[0m\u001b[0mkeys\u001b[0m\u001b[0;34m(\u001b[0m\u001b[0;34m)\u001b[0m\u001b[0;34m)\u001b[0m\u001b[0;34m:\u001b[0m\u001b[0;34m\u001b[0m\u001b[0;34m\u001b[0m\u001b[0m\n\u001b[1;32m    157\u001b[0m         \u001b[0;34m(\u001b[0m\u001b[0mrating_list\u001b[0m\u001b[0;34m,\u001b[0m \u001b[0mRD_list\u001b[0m\u001b[0;34m,\u001b[0m \u001b[0moutcome_list\u001b[0m\u001b[0;34m)\u001b[0m \u001b[0;34m=\u001b[0m \u001b[0mresults\u001b[0m\u001b[0;34m[\u001b[0m\u001b[0mplayer\u001b[0m\u001b[0;34m]\u001b[0m\u001b[0;34m\u001b[0m\u001b[0;34m\u001b[0m\u001b[0m\n\u001b[0;32m--> 158\u001b[0;31m         \u001b[0mplayers_dict\u001b[0m\u001b[0;34m[\u001b[0m\u001b[0mplayer\u001b[0m\u001b[0;34m]\u001b[0m\u001b[0;34m.\u001b[0m\u001b[0mupdate_player\u001b[0m\u001b[0;34m(\u001b[0m\u001b[0mrating_list\u001b[0m\u001b[0;34m,\u001b[0m \u001b[0mRD_list\u001b[0m\u001b[0;34m,\u001b[0m \u001b[0moutcome_list\u001b[0m\u001b[0;34m)\u001b[0m\u001b[0;34m\u001b[0m\u001b[0;34m\u001b[0m\u001b[0m\n\u001b[0m\u001b[1;32m    159\u001b[0m         \u001b[0mratings_timestamp\u001b[0m\u001b[0;34m[\u001b[0m\u001b[0;34m(\u001b[0m\u001b[0mplayer\u001b[0m\u001b[0;34m,\u001b[0m\u001b[0mcutoff_date\u001b[0m\u001b[0;34m)\u001b[0m\u001b[0;34m]\u001b[0m \u001b[0;34m=\u001b[0m \u001b[0;34m(\u001b[0m\u001b[0mplayers_dict\u001b[0m\u001b[0;34m[\u001b[0m\u001b[0mplayer\u001b[0m\u001b[0;34m]\u001b[0m\u001b[0;34m.\u001b[0m\u001b[0mgetRating\u001b[0m\u001b[0;34m(\u001b[0m\u001b[0;34m)\u001b[0m\u001b[0;34m,\u001b[0m \u001b[0mplayers_dict\u001b[0m\u001b[0;34m[\u001b[0m\u001b[0mplayer\u001b[0m\u001b[0;34m]\u001b[0m\u001b[0;34m.\u001b[0m\u001b[0mgetRd\u001b[0m\u001b[0;34m(\u001b[0m\u001b[0;34m)\u001b[0m\u001b[0;34m)\u001b[0m\u001b[0;34m\u001b[0m\u001b[0;34m\u001b[0m\u001b[0m\n\u001b[1;32m    160\u001b[0m \u001b[0;34m\u001b[0m\u001b[0m\n",
      "\u001b[0;32m~/dsir/capstone/Notebooks/../pyglicko2/glicko2.py\u001b[0m in \u001b[0;36mupdate_player\u001b[0;34m(self, rating_list, RD_list, outcome_list)\u001b[0m\n\u001b[1;32m     75\u001b[0m \u001b[0;34m\u001b[0m\u001b[0m\n\u001b[1;32m     76\u001b[0m         \u001b[0mv\u001b[0m \u001b[0;34m=\u001b[0m \u001b[0mself\u001b[0m\u001b[0;34m.\u001b[0m\u001b[0m_v\u001b[0m\u001b[0;34m(\u001b[0m\u001b[0mrating_list\u001b[0m\u001b[0;34m,\u001b[0m \u001b[0mRD_list\u001b[0m\u001b[0;34m)\u001b[0m\u001b[0;34m\u001b[0m\u001b[0;34m\u001b[0m\u001b[0m\n\u001b[0;32m---> 77\u001b[0;31m         \u001b[0mself\u001b[0m\u001b[0;34m.\u001b[0m\u001b[0mvol\u001b[0m \u001b[0;34m=\u001b[0m \u001b[0mself\u001b[0m\u001b[0;34m.\u001b[0m\u001b[0m_newVol\u001b[0m\u001b[0;34m(\u001b[0m\u001b[0mrating_list\u001b[0m\u001b[0;34m,\u001b[0m \u001b[0mRD_list\u001b[0m\u001b[0;34m,\u001b[0m \u001b[0moutcome_list\u001b[0m\u001b[0;34m,\u001b[0m \u001b[0mv\u001b[0m\u001b[0;34m)\u001b[0m\u001b[0;34m\u001b[0m\u001b[0;34m\u001b[0m\u001b[0m\n\u001b[0m\u001b[1;32m     78\u001b[0m         \u001b[0mself\u001b[0m\u001b[0;34m.\u001b[0m\u001b[0m_preRatingRD\u001b[0m\u001b[0;34m(\u001b[0m\u001b[0;34m)\u001b[0m\u001b[0;34m\u001b[0m\u001b[0;34m\u001b[0m\u001b[0m\n\u001b[1;32m     79\u001b[0m \u001b[0;34m\u001b[0m\u001b[0m\n",
      "\u001b[0;32m~/dsir/capstone/Notebooks/../pyglicko2/glicko2.py\u001b[0m in \u001b[0;36m_newVol\u001b[0;34m(self, rating_list, RD_list, outcome_list, v)\u001b[0m\n\u001b[1;32m    103\u001b[0m             \u001b[0;31m# New iteration, so x(i) becomes x(i-1)\u001b[0m\u001b[0;34m\u001b[0m\u001b[0;34m\u001b[0m\u001b[0m\n\u001b[1;32m    104\u001b[0m             \u001b[0mx0\u001b[0m \u001b[0;34m=\u001b[0m \u001b[0mx1\u001b[0m\u001b[0;34m\u001b[0m\u001b[0;34m\u001b[0m\u001b[0m\n\u001b[0;32m--> 105\u001b[0;31m             \u001b[0md\u001b[0m \u001b[0;34m=\u001b[0m \u001b[0mmath\u001b[0m\u001b[0;34m.\u001b[0m\u001b[0mpow\u001b[0m\u001b[0;34m(\u001b[0m\u001b[0mself\u001b[0m\u001b[0;34m.\u001b[0m\u001b[0m__rating\u001b[0m\u001b[0;34m,\u001b[0m \u001b[0;36m2\u001b[0m\u001b[0;34m)\u001b[0m \u001b[0;34m+\u001b[0m \u001b[0mv\u001b[0m \u001b[0;34m+\u001b[0m \u001b[0mmath\u001b[0m\u001b[0;34m.\u001b[0m\u001b[0mexp\u001b[0m\u001b[0;34m(\u001b[0m\u001b[0mx0\u001b[0m\u001b[0;34m)\u001b[0m\u001b[0;34m\u001b[0m\u001b[0;34m\u001b[0m\u001b[0m\n\u001b[0m\u001b[1;32m    106\u001b[0m             \u001b[0mh1\u001b[0m \u001b[0;34m=\u001b[0m \u001b[0;34m-\u001b[0m\u001b[0;34m(\u001b[0m\u001b[0mx0\u001b[0m \u001b[0;34m-\u001b[0m \u001b[0ma\u001b[0m\u001b[0;34m)\u001b[0m \u001b[0;34m/\u001b[0m \u001b[0mmath\u001b[0m\u001b[0;34m.\u001b[0m\u001b[0mpow\u001b[0m\u001b[0;34m(\u001b[0m\u001b[0mtau\u001b[0m\u001b[0;34m,\u001b[0m \u001b[0;36m2\u001b[0m\u001b[0;34m)\u001b[0m \u001b[0;34m-\u001b[0m \u001b[0;36m0.5\u001b[0m \u001b[0;34m*\u001b[0m \u001b[0mmath\u001b[0m\u001b[0;34m.\u001b[0m\u001b[0mexp\u001b[0m\u001b[0;34m(\u001b[0m\u001b[0mx0\u001b[0m\u001b[0;34m)\u001b[0m\u001b[0;31m \u001b[0m\u001b[0;31m\\\u001b[0m\u001b[0;34m\u001b[0m\u001b[0;34m\u001b[0m\u001b[0m\n\u001b[1;32m    107\u001b[0m             \u001b[0;34m/\u001b[0m \u001b[0md\u001b[0m \u001b[0;34m+\u001b[0m \u001b[0;36m0.5\u001b[0m \u001b[0;34m*\u001b[0m \u001b[0mmath\u001b[0m\u001b[0;34m.\u001b[0m\u001b[0mexp\u001b[0m\u001b[0;34m(\u001b[0m\u001b[0mx0\u001b[0m\u001b[0;34m)\u001b[0m \u001b[0;34m*\u001b[0m \u001b[0mmath\u001b[0m\u001b[0;34m.\u001b[0m\u001b[0mpow\u001b[0m\u001b[0;34m(\u001b[0m\u001b[0mdelta\u001b[0m \u001b[0;34m/\u001b[0m \u001b[0md\u001b[0m\u001b[0;34m,\u001b[0m \u001b[0;36m2\u001b[0m\u001b[0;34m)\u001b[0m\u001b[0;34m\u001b[0m\u001b[0;34m\u001b[0m\u001b[0m\n",
      "\u001b[0;31mKeyboardInterrupt\u001b[0m: "
     ]
    }
   ],
   "source": [
    "%%time\n",
    "players_dict,rh = epochsG(matches[eg_batches_50[7][0]:eg_batches_50[7][1]],players_dict,365)\n",
    "ratings_histories += [rh]"
   ]
  },
  {
   "cell_type": "code",
   "execution_count": 21,
   "id": "0e73704b-08db-4d7e-8053-badeea09f1cd",
   "metadata": {},
   "outputs": [
    {
     "data": {
      "text/plain": [
       "[(400000, 425000), (425000, 450000)]"
      ]
     },
     "execution_count": 21,
     "metadata": {},
     "output_type": "execute_result"
    }
   ],
   "source": [
    "b = splitBatch(eg_batches_50[8],2); b0 = b[0]; b1 = b[1]\n",
    "b"
   ]
  },
  {
   "cell_type": "code",
   "execution_count": 22,
   "id": "f5337919-fab7-4187-9265-03e48bf1695c",
   "metadata": {},
   "outputs": [
    {
     "name": "stdout",
     "output_type": "stream",
     "text": [
      "CPU times: user 2.05 s, sys: 8.84 ms, total: 2.06 s\n",
      "Wall time: 2.06 s\n"
     ]
    }
   ],
   "source": [
    "%%time\n",
    "players_dict,rh = epochsG(matches[b0[0]:b0[1]],players_dict,365)\n",
    "ratings_histories += [rh]"
   ]
  },
  {
   "cell_type": "code",
   "execution_count": 23,
   "id": "57823a6e-68ac-4c3e-8bfb-a7414c7120db",
   "metadata": {},
   "outputs": [
    {
     "ename": "KeyboardInterrupt",
     "evalue": "",
     "output_type": "error",
     "traceback": [
      "\u001b[0;31m---------------------------------------------------------------------------\u001b[0m",
      "\u001b[0;31mKeyboardInterrupt\u001b[0m                         Traceback (most recent call last)",
      "\u001b[0;32m<timed exec>\u001b[0m in \u001b[0;36m<module>\u001b[0;34m\u001b[0m\n",
      "\u001b[0;32m~/dsir/capstone/Notebooks/functions.py\u001b[0m in \u001b[0;36mepochsG\u001b[0;34m(match_history, players_dict, interval_length)\u001b[0m\n\u001b[1;32m    190\u001b[0m         \u001b[0;31m# If the rating period is empty, then adjust the rating deviation of the players.\u001b[0m\u001b[0;34m\u001b[0m\u001b[0;34m\u001b[0m\u001b[0m\n\u001b[1;32m    191\u001b[0m         \u001b[0;32mif\u001b[0m \u001b[0;32mnot\u001b[0m \u001b[0mrating_period\u001b[0m\u001b[0;34m.\u001b[0m\u001b[0mempty\u001b[0m\u001b[0;34m:\u001b[0m\u001b[0;34m\u001b[0m\u001b[0;34m\u001b[0m\u001b[0m\n\u001b[0;32m--> 192\u001b[0;31m             \u001b[0mplayers_dict\u001b[0m\u001b[0;34m,\u001b[0m\u001b[0mratings_timestamp\u001b[0m \u001b[0;34m=\u001b[0m \u001b[0mepochG\u001b[0m\u001b[0;34m(\u001b[0m\u001b[0mrating_period\u001b[0m\u001b[0;34m,\u001b[0m\u001b[0mplayers_dict\u001b[0m\u001b[0;34m,\u001b[0m\u001b[0mperiod\u001b[0m\u001b[0;34m[\u001b[0m\u001b[0;36m1\u001b[0m\u001b[0;34m]\u001b[0m\u001b[0;34m)\u001b[0m\u001b[0;34m\u001b[0m\u001b[0;34m\u001b[0m\u001b[0m\n\u001b[0m\u001b[1;32m    193\u001b[0m             \u001b[0mratings_history\u001b[0m\u001b[0;34m.\u001b[0m\u001b[0mupdate\u001b[0m\u001b[0;34m(\u001b[0m\u001b[0mratings_timestamp\u001b[0m\u001b[0;34m)\u001b[0m\u001b[0;34m\u001b[0m\u001b[0;34m\u001b[0m\u001b[0m\n\u001b[1;32m    194\u001b[0m         \u001b[0;32melse\u001b[0m\u001b[0;34m:\u001b[0m\u001b[0;34m\u001b[0m\u001b[0;34m\u001b[0m\u001b[0m\n",
      "\u001b[0;32m~/dsir/capstone/Notebooks/functions.py\u001b[0m in \u001b[0;36mepochG\u001b[0;34m(matches, players_dict, cutoff_date)\u001b[0m\n\u001b[1;32m    140\u001b[0m         \u001b[0mwins\u001b[0m \u001b[0;34m=\u001b[0m \u001b[0;34m[\u001b[0m\u001b[0mwinner\u001b[0m \u001b[0;32mfor\u001b[0m \u001b[0mwinner\u001b[0m \u001b[0;32min\u001b[0m \u001b[0mmatches\u001b[0m\u001b[0;34m[\u001b[0m\u001b[0mmatches\u001b[0m\u001b[0;34m[\u001b[0m\u001b[0;34m'winner_id'\u001b[0m\u001b[0;34m]\u001b[0m\u001b[0;34m==\u001b[0m\u001b[0mplayer\u001b[0m\u001b[0;34m]\u001b[0m\u001b[0;34m[\u001b[0m\u001b[0;34m'loser_id'\u001b[0m\u001b[0;34m]\u001b[0m\u001b[0;34m]\u001b[0m\u001b[0;34m\u001b[0m\u001b[0;34m\u001b[0m\u001b[0m\n\u001b[1;32m    141\u001b[0m         \u001b[0;31m# get id of players they lost to\u001b[0m\u001b[0;34m\u001b[0m\u001b[0;34m\u001b[0m\u001b[0m\n\u001b[0;32m--> 142\u001b[0;31m         \u001b[0mlosses\u001b[0m \u001b[0;34m=\u001b[0m \u001b[0;34m[\u001b[0m\u001b[0mloser\u001b[0m \u001b[0;32mfor\u001b[0m \u001b[0mloser\u001b[0m \u001b[0;32min\u001b[0m \u001b[0mmatches\u001b[0m\u001b[0;34m[\u001b[0m\u001b[0mmatches\u001b[0m\u001b[0;34m[\u001b[0m\u001b[0;34m'loser_id'\u001b[0m\u001b[0;34m]\u001b[0m\u001b[0;34m==\u001b[0m \u001b[0mplayer\u001b[0m\u001b[0;34m]\u001b[0m\u001b[0;34m[\u001b[0m\u001b[0;34m'winner_id'\u001b[0m\u001b[0;34m]\u001b[0m\u001b[0;34m]\u001b[0m\u001b[0;34m\u001b[0m\u001b[0;34m\u001b[0m\u001b[0m\n\u001b[0m\u001b[1;32m    143\u001b[0m         \u001b[0;31m# get opponents' rating and rd\u001b[0m\u001b[0;34m\u001b[0m\u001b[0;34m\u001b[0m\u001b[0m\n\u001b[1;32m    144\u001b[0m         \u001b[0mlosses_rating\u001b[0m \u001b[0;34m=\u001b[0m \u001b[0;34m[\u001b[0m\u001b[0mplayers_dict\u001b[0m\u001b[0;34m[\u001b[0m\u001b[0mloss\u001b[0m\u001b[0;34m]\u001b[0m\u001b[0;34m.\u001b[0m\u001b[0mgetRating\u001b[0m\u001b[0;34m(\u001b[0m\u001b[0;34m)\u001b[0m \u001b[0;32mfor\u001b[0m \u001b[0mloss\u001b[0m \u001b[0;32min\u001b[0m \u001b[0mlosses\u001b[0m\u001b[0;34m]\u001b[0m\u001b[0;34m\u001b[0m\u001b[0;34m\u001b[0m\u001b[0m\n",
      "\u001b[0;32m~/opt/anaconda3/lib/python3.9/site-packages/pandas/core/frame.py\u001b[0m in \u001b[0;36m__getitem__\u001b[0;34m(self, key)\u001b[0m\n\u001b[1;32m   3494\u001b[0m         \u001b[0;31m# Do we have a (boolean) 1d indexer?\u001b[0m\u001b[0;34m\u001b[0m\u001b[0;34m\u001b[0m\u001b[0m\n\u001b[1;32m   3495\u001b[0m         \u001b[0;32mif\u001b[0m \u001b[0mcom\u001b[0m\u001b[0;34m.\u001b[0m\u001b[0mis_bool_indexer\u001b[0m\u001b[0;34m(\u001b[0m\u001b[0mkey\u001b[0m\u001b[0;34m)\u001b[0m\u001b[0;34m:\u001b[0m\u001b[0;34m\u001b[0m\u001b[0;34m\u001b[0m\u001b[0m\n\u001b[0;32m-> 3496\u001b[0;31m             \u001b[0;32mreturn\u001b[0m \u001b[0mself\u001b[0m\u001b[0;34m.\u001b[0m\u001b[0m_getitem_bool_array\u001b[0m\u001b[0;34m(\u001b[0m\u001b[0mkey\u001b[0m\u001b[0;34m)\u001b[0m\u001b[0;34m\u001b[0m\u001b[0;34m\u001b[0m\u001b[0m\n\u001b[0m\u001b[1;32m   3497\u001b[0m \u001b[0;34m\u001b[0m\u001b[0m\n\u001b[1;32m   3498\u001b[0m         \u001b[0;31m# We are left with two options: a single key, and a collection of keys,\u001b[0m\u001b[0;34m\u001b[0m\u001b[0;34m\u001b[0m\u001b[0m\n",
      "\u001b[0;32m~/opt/anaconda3/lib/python3.9/site-packages/pandas/core/frame.py\u001b[0m in \u001b[0;36m_getitem_bool_array\u001b[0;34m(self, key)\u001b[0m\n\u001b[1;32m   3547\u001b[0m         \u001b[0;31m# check_bool_indexer will throw exception if Series key cannot\u001b[0m\u001b[0;34m\u001b[0m\u001b[0;34m\u001b[0m\u001b[0m\n\u001b[1;32m   3548\u001b[0m         \u001b[0;31m# be reindexed to match DataFrame rows\u001b[0m\u001b[0;34m\u001b[0m\u001b[0;34m\u001b[0m\u001b[0m\n\u001b[0;32m-> 3549\u001b[0;31m         \u001b[0mkey\u001b[0m \u001b[0;34m=\u001b[0m \u001b[0mcheck_bool_indexer\u001b[0m\u001b[0;34m(\u001b[0m\u001b[0mself\u001b[0m\u001b[0;34m.\u001b[0m\u001b[0mindex\u001b[0m\u001b[0;34m,\u001b[0m \u001b[0mkey\u001b[0m\u001b[0;34m)\u001b[0m\u001b[0;34m\u001b[0m\u001b[0;34m\u001b[0m\u001b[0m\n\u001b[0m\u001b[1;32m   3550\u001b[0m         \u001b[0mindexer\u001b[0m \u001b[0;34m=\u001b[0m \u001b[0mkey\u001b[0m\u001b[0;34m.\u001b[0m\u001b[0mnonzero\u001b[0m\u001b[0;34m(\u001b[0m\u001b[0;34m)\u001b[0m\u001b[0;34m[\u001b[0m\u001b[0;36m0\u001b[0m\u001b[0;34m]\u001b[0m\u001b[0;34m\u001b[0m\u001b[0;34m\u001b[0m\u001b[0m\n\u001b[1;32m   3551\u001b[0m         \u001b[0;32mreturn\u001b[0m \u001b[0mself\u001b[0m\u001b[0;34m.\u001b[0m\u001b[0m_take_with_is_copy\u001b[0m\u001b[0;34m(\u001b[0m\u001b[0mindexer\u001b[0m\u001b[0;34m,\u001b[0m \u001b[0maxis\u001b[0m\u001b[0;34m=\u001b[0m\u001b[0;36m0\u001b[0m\u001b[0;34m)\u001b[0m\u001b[0;34m\u001b[0m\u001b[0;34m\u001b[0m\u001b[0m\n",
      "\u001b[0;32m~/opt/anaconda3/lib/python3.9/site-packages/pandas/core/indexing.py\u001b[0m in \u001b[0;36mcheck_bool_indexer\u001b[0;34m(index, key)\u001b[0m\n\u001b[1;32m   2399\u001b[0m         \u001b[0;31m# key may contain nan elements, check_array_indexer needs bool array\u001b[0m\u001b[0;34m\u001b[0m\u001b[0;34m\u001b[0m\u001b[0m\n\u001b[1;32m   2400\u001b[0m         \u001b[0mresult\u001b[0m \u001b[0;34m=\u001b[0m \u001b[0mpd_array\u001b[0m\u001b[0;34m(\u001b[0m\u001b[0mresult\u001b[0m\u001b[0;34m,\u001b[0m \u001b[0mdtype\u001b[0m\u001b[0;34m=\u001b[0m\u001b[0mbool\u001b[0m\u001b[0;34m)\u001b[0m\u001b[0;34m\u001b[0m\u001b[0;34m\u001b[0m\u001b[0m\n\u001b[0;32m-> 2401\u001b[0;31m     \u001b[0;32mreturn\u001b[0m \u001b[0mcheck_array_indexer\u001b[0m\u001b[0;34m(\u001b[0m\u001b[0mindex\u001b[0m\u001b[0;34m,\u001b[0m \u001b[0mresult\u001b[0m\u001b[0;34m)\u001b[0m\u001b[0;34m\u001b[0m\u001b[0;34m\u001b[0m\u001b[0m\n\u001b[0m\u001b[1;32m   2402\u001b[0m \u001b[0;34m\u001b[0m\u001b[0m\n\u001b[1;32m   2403\u001b[0m \u001b[0;34m\u001b[0m\u001b[0m\n",
      "\u001b[0;32m~/opt/anaconda3/lib/python3.9/site-packages/pandas/core/indexers/utils.py\u001b[0m in \u001b[0;36mcheck_array_indexer\u001b[0;34m(array, indexer)\u001b[0m\n\u001b[1;32m    549\u001b[0m     \u001b[0mIndexError\u001b[0m\u001b[0;34m:\u001b[0m \u001b[0marrays\u001b[0m \u001b[0mused\u001b[0m \u001b[0;32mas\u001b[0m \u001b[0mindices\u001b[0m \u001b[0mmust\u001b[0m \u001b[0mbe\u001b[0m \u001b[0mof\u001b[0m \u001b[0minteger\u001b[0m \u001b[0;32mor\u001b[0m \u001b[0mboolean\u001b[0m \u001b[0mtype\u001b[0m\u001b[0;34m\u001b[0m\u001b[0;34m\u001b[0m\u001b[0m\n\u001b[1;32m    550\u001b[0m     \"\"\"\n\u001b[0;32m--> 551\u001b[0;31m     \u001b[0;32mfrom\u001b[0m \u001b[0mpandas\u001b[0m\u001b[0;34m.\u001b[0m\u001b[0mcore\u001b[0m\u001b[0;34m.\u001b[0m\u001b[0mconstruction\u001b[0m \u001b[0;32mimport\u001b[0m \u001b[0marray\u001b[0m \u001b[0;32mas\u001b[0m \u001b[0mpd_array\u001b[0m\u001b[0;34m\u001b[0m\u001b[0;34m\u001b[0m\u001b[0m\n\u001b[0m\u001b[1;32m    552\u001b[0m \u001b[0;34m\u001b[0m\u001b[0m\n\u001b[1;32m    553\u001b[0m     \u001b[0;31m# whatever is not an array-like is returned as-is (possible valid array\u001b[0m\u001b[0;34m\u001b[0m\u001b[0;34m\u001b[0m\u001b[0m\n",
      "\u001b[0;31mKeyboardInterrupt\u001b[0m: "
     ]
    }
   ],
   "source": [
    "%%time\n",
    "players_dict,rh = epochsG(matches[b1[0]:b1[1]],players_dict,365)\n",
    "ratings_histories += [rh]"
   ]
  },
  {
   "cell_type": "code",
   "execution_count": null,
   "id": "135324b9-6d6e-4c9c-9494-bfc66ec1522a",
   "metadata": {},
   "outputs": [],
   "source": []
  },
  {
   "cell_type": "code",
   "execution_count": 24,
   "id": "e4c5c29d-f711-4698-8a42-53d5f9154812",
   "metadata": {},
   "outputs": [
    {
     "ename": "SyntaxError",
     "evalue": "invalid syntax (1425210009.py, line 1)",
     "output_type": "error",
     "traceback": [
      "\u001b[0;36m  File \u001b[0;32m\"/var/folders/7q/63cgxnn50sl5zwxkchv_j2cr0000gn/T/ipykernel_2568/1425210009.py\"\u001b[0;36m, line \u001b[0;32m1\u001b[0m\n\u001b[0;31m    players_dict,rh =\u001b[0m\n\u001b[0m                      ^\u001b[0m\n\u001b[0;31mSyntaxError\u001b[0m\u001b[0;31m:\u001b[0m invalid syntax\n"
     ]
    }
   ],
   "source": [
    "players_dict,rh = "
   ]
  },
  {
   "cell_type": "code",
   "execution_count": null,
   "id": "5db40940-51b2-4e36-81dd-289ce2e3f689",
   "metadata": {},
   "outputs": [],
   "source": []
  },
  {
   "cell_type": "code",
   "execution_count": null,
   "id": "3efcd352-4e92-4c4f-8f2f-d854dba7a373",
   "metadata": {
    "tags": []
   },
   "outputs": [],
   "source": [
    "%%time\n",
    "players_dict,rh = epochsG(matches[eg_batches_50[9][0]:eg_batches_50[9][1]],players_dict,365)\n",
    "ratings_histories += [rh]"
   ]
  },
  {
   "cell_type": "code",
   "execution_count": null,
   "id": "b4f7c2b1-f7ef-4bd4-85c5-3a0c26d3e5d1",
   "metadata": {},
   "outputs": [],
   "source": [
    "b = splitBatch(eg_batches_50[10],2); b0 = b[0]; b1 = b[1]\n",
    "b"
   ]
  },
  {
   "cell_type": "code",
   "execution_count": null,
   "id": "07285360-5968-447d-99c4-87c74106b018",
   "metadata": {},
   "outputs": [],
   "source": [
    "%%time\n",
    "players_dict,rh = epochsG(matches[b0[0]:b0[1]],players_dict,365)\n",
    "ratings_histories += [rh]"
   ]
  },
  {
   "cell_type": "code",
   "execution_count": null,
   "id": "c67267c5-6aac-4d48-9d48-f74f6daa9804",
   "metadata": {},
   "outputs": [],
   "source": [
    "%%time\n",
    "players_dict,rh = epochsG(matches[b1[0]:b1[1]],players_dict,365)\n",
    "ratings_histories += [rh]"
   ]
  },
  {
   "cell_type": "code",
   "execution_count": null,
   "id": "62505444-3ef4-4c29-b453-0f78387d34ce",
   "metadata": {},
   "outputs": [],
   "source": [
    "%%time\n",
    "players_dict,rh = epochsG(matches[eg_batches_50[11][0]:eg_batches_50[11][1]],players_dict,365)\n",
    "ratings_histories += [rh]"
   ]
  },
  {
   "cell_type": "code",
   "execution_count": null,
   "id": "e4147e21-99d0-4dff-b367-4b57f4208e08",
   "metadata": {},
   "outputs": [],
   "source": [
    "b = splitBatch(eg_batches_50[12],2); b0 = b[0]; b1 = b[1]\n",
    "b"
   ]
  },
  {
   "cell_type": "code",
   "execution_count": null,
   "id": "1c4a5e2c-64a4-4828-9699-ba9815454ad6",
   "metadata": {},
   "outputs": [],
   "source": [
    "%%time\n",
    "players_dict,rh = epochsG(matches[b0[0]:b0[1]],players_dict,365)\n",
    "ratings_histories += [rh]"
   ]
  },
  {
   "cell_type": "code",
   "execution_count": null,
   "id": "fd1a6366-afc4-4894-895a-0fbdeda95606",
   "metadata": {},
   "outputs": [],
   "source": [
    "%%time\n",
    "players_dict,rh = epochsG(matches[b1[0]:b1[1]],players_dict,365)\n",
    "ratings_histories += [rh]"
   ]
  },
  {
   "cell_type": "code",
   "execution_count": null,
   "id": "1c10de8f-d383-4dbb-93b2-65b688234fee",
   "metadata": {
    "tags": []
   },
   "outputs": [],
   "source": [
    "%%time\n",
    "players_dict,rh = epochsG(matches[eg_batches_50[13][0]:eg_batches_50[13][1]],players_dict,365)\n",
    "ratings_histories += [rh]"
   ]
  },
  {
   "cell_type": "code",
   "execution_count": null,
   "id": "af4ae5f3-62bb-4d0d-a269-857e15057d3b",
   "metadata": {},
   "outputs": [],
   "source": [
    "b = splitBatch(eg_batches_50[14],2); b0 = b[0]; b1 = b[1]\n",
    "b"
   ]
  },
  {
   "cell_type": "code",
   "execution_count": null,
   "id": "914da7d3-f638-4011-b41c-0dff98534f93",
   "metadata": {},
   "outputs": [],
   "source": [
    "%%time\n",
    "players_dict,rh = epochsG(matches[b0[0]:b0[1]],players_dict,365)\n",
    "ratings_histories += [rh]"
   ]
  },
  {
   "cell_type": "code",
   "execution_count": null,
   "id": "27c065f9-d84a-4d92-873c-ee8de144d712",
   "metadata": {},
   "outputs": [],
   "source": [
    "%%time\n",
    "players_dict,rh = epochsG(matches[b1[0]:b1[1]],players_dict,365)\n",
    "ratings_histories += [rh]"
   ]
  },
  {
   "cell_type": "code",
   "execution_count": null,
   "id": "005d026e-eb88-4d65-9b76-40fd0d23a659",
   "metadata": {},
   "outputs": [],
   "source": [
    "%%time\n",
    "players_dict,rh = epochsG(matches[eg_batches_50[15][0]:eg_batches_50[15][1]],players_dict,365)\n",
    "ratings_histories += [rh]"
   ]
  },
  {
   "cell_type": "code",
   "execution_count": null,
   "id": "1f05850c-f2b6-4765-a747-cd822f49afb4",
   "metadata": {},
   "outputs": [],
   "source": [
    "%%time\n",
    "players_dict,rh = epochsG(matches[eg_batches_50[16][0]:eg_batches_50[16][1]],players_dict,365)\n",
    "ratings_histories += [rh]"
   ]
  },
  {
   "cell_type": "code",
   "execution_count": null,
   "id": "d0157782-055b-42fd-ac6c-ef922881c706",
   "metadata": {},
   "outputs": [],
   "source": [
    "%%time\n",
    "players_dict,rh = epochsG(matches[eg_batches_50[17][0]:eg_batches_50[17][1]],players_dict,365)\n",
    "ratings_histories += [rh]"
   ]
  },
  {
   "cell_type": "code",
   "execution_count": null,
   "id": "f2ff04c8-2a0f-4c73-98ba-e487cee0b820",
   "metadata": {
    "tags": []
   },
   "outputs": [],
   "source": [
    "rh"
   ]
  }
 ],
 "metadata": {
  "kernelspec": {
   "display_name": "Python 3 (ipykernel)",
   "language": "python",
   "name": "python3"
  },
  "language_info": {
   "codemirror_mode": {
    "name": "ipython",
    "version": 3
   },
   "file_extension": ".py",
   "mimetype": "text/x-python",
   "name": "python",
   "nbconvert_exporter": "python",
   "pygments_lexer": "ipython3",
   "version": "3.9.13"
  }
 },
 "nbformat": 4,
 "nbformat_minor": 5
}
