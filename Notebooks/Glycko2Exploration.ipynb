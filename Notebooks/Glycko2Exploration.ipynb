{
 "cells": [
  {
   "cell_type": "code",
   "execution_count": 1,
   "id": "cf4b92fa-d27b-47e2-b481-ee6467d87a22",
   "metadata": {},
   "outputs": [],
   "source": [
    "import pandas as pd\n",
    "from functions import assembleDf, epochG, epochsG\n",
    "from datetime import datetime, timedelta\n",
    "import numpy as np\n",
    "import sys\n",
    "sys.path.append('..')\n",
    "from pyglicko2.glicko2_tests import exampleCase\n",
    "from pyglicko2.glicko2 import Player\n",
    "import glicko2\n",
    "import time\n"
   ]
  },
  {
   "cell_type": "code",
   "execution_count": 2,
   "id": "b2967aa4-0a53-4720-9eee-272a296b5dd1",
   "metadata": {},
   "outputs": [],
   "source": [
    "matches = pd.read_csv('../Data/matches_glicko2.csv',parse_dates = ['tourney_date'], \n",
    "                      infer_datetime_format = True)"
   ]
  },
  {
   "cell_type": "code",
   "execution_count": 3,
   "id": "d6ef85e9-4fc2-4203-a104-11c847e31a8d",
   "metadata": {},
   "outputs": [
    {
     "data": {
      "text/plain": [
       "({113953: <pyglicko2.glicko2.Player at 0x7fad727f8100>,\n",
       "  114146: <pyglicko2.glicko2.Player at 0x7fad727f80a0>,\n",
       "  113987: <pyglicko2.glicko2.Player at 0x7fad727f8040>,\n",
       "  114147: <pyglicko2.glicko2.Player at 0x7fad71cbc670>,\n",
       "  114149: <pyglicko2.glicko2.Player at 0x7fad71cbc310>,\n",
       "  114154: <pyglicko2.glicko2.Player at 0x7fad71cbc2e0>,\n",
       "  113963: <pyglicko2.glicko2.Player at 0x7fad71cbc640>,\n",
       "  114158: <pyglicko2.glicko2.Player at 0x7fad71cbc280>,\n",
       "  113999: <pyglicko2.glicko2.Player at 0x7fad71cbc040>,\n",
       "  113976: <pyglicko2.glicko2.Player at 0x7fad71cbc400>,\n",
       "  113982: <pyglicko2.glicko2.Player at 0x7fad71cbc430>},\n",
       " {(113987, Timestamp('1877-07-09 00:00:00')): (1799.6258356900184,\n",
       "   227.73541461924287),\n",
       "  (113963, Timestamp('1877-07-09 00:00:00')): (1599.8752635134226,\n",
       "   227.73539746084663),\n",
       "  (113999, Timestamp('1877-07-09 00:00:00')): (1599.8752635134226,\n",
       "   227.73539746084663),\n",
       "  (114158, Timestamp('1877-07-09 00:00:00')): (1500.0, 253.4045963894164),\n",
       "  (114149, Timestamp('1877-07-09 00:00:00')): (1662.3108949741131,\n",
       "   290.31896467295957),\n",
       "  (113953, Timestamp('1877-07-09 00:00:00')): (1337.6891050258869,\n",
       "   290.31896467295957),\n",
       "  (113976, Timestamp('1877-07-09 00:00:00')): (1337.6891050258869,\n",
       "   290.31896467295957),\n",
       "  (114154, Timestamp('1877-07-09 00:00:00')): (1337.6891050258869,\n",
       "   290.31896467295957),\n",
       "  (114147, Timestamp('1877-07-09 00:00:00')): (1337.6891050258869,\n",
       "   290.31896467295957),\n",
       "  (114146, Timestamp('1877-07-09 00:00:00')): (1337.6891050258869,\n",
       "   290.31896467295957),\n",
       "  (113982, Timestamp('1877-07-09 00:00:00')): (1337.6891050258869,\n",
       "   290.31896467295957)})"
      ]
     },
     "execution_count": 3,
     "metadata": {},
     "output_type": "execute_result"
    }
   ],
   "source": [
    "epochG(matches[1:10],{},matches.iloc[10]['tourney_date'])"
   ]
  },
  {
   "cell_type": "code",
   "execution_count": null,
   "id": "905c78de-1bb9-497e-b143-7cd00b7d0219",
   "metadata": {},
   "outputs": [],
   "source": []
  },
  {
   "cell_type": "markdown",
   "id": "631737b6-19e6-4df2-a533-428a43a2a03c",
   "metadata": {},
   "source": [
    "Because memory constraints limit the batch size in epochsG, I will need to process incrementally."
   ]
  },
  {
   "cell_type": "code",
   "execution_count": null,
   "id": "8cb98b48-a4ec-47ef-9ef4-d8f1ccaf7865",
   "metadata": {},
   "outputs": [],
   "source": []
  },
  {
   "cell_type": "code",
   "execution_count": null,
   "id": "fdb5f582-065c-43e6-aeba-b2d3ad2134b5",
   "metadata": {},
   "outputs": [],
   "source": [
    "matches.index"
   ]
  },
  {
   "cell_type": "code",
   "execution_count": null,
   "id": "a7cd4677-bfd1-4ecb-97a9-46e50ff9e847",
   "metadata": {},
   "outputs": [],
   "source": [
    "[1,2,3][0:3]"
   ]
  },
  {
   "cell_type": "code",
   "execution_count": null,
   "id": "39724dee-35f0-4fc0-857c-24b5d22f40c1",
   "metadata": {},
   "outputs": [],
   "source": []
  },
  {
   "cell_type": "code",
   "execution_count": null,
   "id": "e105fb1f-3d34-4ff0-96fe-c8de341e6304",
   "metadata": {},
   "outputs": [],
   "source": []
  },
  {
   "cell_type": "code",
   "execution_count": 6,
   "id": "599b976c-209c-47fb-9774-e1e2fa9e5e1c",
   "metadata": {},
   "outputs": [
    {
     "data": {
      "text/plain": [
       "[(0, 100000),\n",
       " (100000, 200000),\n",
       " (200000, 300000),\n",
       " (300000, 400000),\n",
       " (400000, 500000),\n",
       " (500000, 600000),\n",
       " (600000, 700000),\n",
       " (700000, 800000),\n",
       " (800000, 876979)]"
      ]
     },
     "execution_count": 6,
     "metadata": {},
     "output_type": "execute_result"
    }
   ],
   "source": [
    "eg_batches"
   ]
  },
  {
   "cell_type": "code",
   "execution_count": 9,
   "id": "8963c63d-1ae5-4182-8e11-6060ad3046f9",
   "metadata": {},
   "outputs": [
    {
     "data": {
      "text/plain": [
       "[(0, 50000), (50000, 100000), (100000, 150000)]"
      ]
     },
     "execution_count": 9,
     "metadata": {},
     "output_type": "execute_result"
    }
   ],
   "source": [
    "eg_batches = [(s,f) for s,f in zip(range(0, 776978,50_000),\n",
    "                      range(50_000, 876978,50_000))] + [(800_000,876979)]\n",
    "eg_batches[0:3]"
   ]
  },
  {
   "cell_type": "code",
   "execution_count": 19,
   "id": "1ab05c34-61ca-4f98-8603-f6c5ea489b3c",
   "metadata": {},
   "outputs": [
    {
     "data": {
      "text/plain": [
       "[(0, 100000),\n",
       " (100000, 200000),\n",
       " (200000, 300000),\n",
       " (300000, 400000),\n",
       " (400000, 500000),\n",
       " (500000, 600000),\n",
       " (600000, 700000),\n",
       " (700000, 800000),\n",
       " (800000, 876979)]"
      ]
     },
     "execution_count": 19,
     "metadata": {},
     "output_type": "execute_result"
    }
   ],
   "source": [
    "eg_batches = [(s,f) for s,f in zip(range(0, 776978,100_000),\n",
    "                      range(100_000, 876978,100_000))] + [(800_000,876979)]\n",
    "eg_batches"
   ]
  },
  {
   "cell_type": "code",
   "execution_count": 30,
   "id": "fffeba42-98f8-42fb-b272-7c02e748852b",
   "metadata": {},
   "outputs": [
    {
     "data": {
      "text/plain": [
       "[(0, 50000),\n",
       " (50000, 100000),\n",
       " (100000, 150000),\n",
       " (150000, 200000),\n",
       " (200000, 250000),\n",
       " (250000, 300000),\n",
       " (300000, 350000),\n",
       " (350000, 400000),\n",
       " (400000, 450000),\n",
       " (450000, 500000),\n",
       " (500000, 550000),\n",
       " (550000, 600000),\n",
       " (600000, 650000),\n",
       " (650000, 700000),\n",
       " (700000, 750000),\n",
       " (750000, 800000),\n",
       " (800000, 850000),\n",
       " (850000, 876979)]"
      ]
     },
     "execution_count": 30,
     "metadata": {},
     "output_type": "execute_result"
    }
   ],
   "source": [
    "eg_batches = [(s,f) for s,f in zip(range(0, 876_978-50_000,50_000),\n",
    "                      range(50_000, 876978,50_000))] + [(850_000,876979)]\n",
    "\n",
    "ratings_histories = []\n",
    "players_dict = {}\n",
    "eg_batches"
   ]
  },
  {
   "cell_type": "code",
   "execution_count": null,
   "id": "06f12a8f-8524-45eb-ab5c-b8089af23c38",
   "metadata": {},
   "outputs": [],
   "source": []
  },
  {
   "cell_type": "code",
   "execution_count": 31,
   "id": "af20da6a-1b3e-450d-a2ad-5ca55b5b747b",
   "metadata": {},
   "outputs": [
    {
     "ename": "KeyboardInterrupt",
     "evalue": "",
     "output_type": "error",
     "traceback": [
      "\u001b[0;31m---------------------------------------------------------------------------\u001b[0m",
      "\u001b[0;31mKeyboardInterrupt\u001b[0m                         Traceback (most recent call last)",
      "\u001b[0;32m<timed exec>\u001b[0m in \u001b[0;36m<module>\u001b[0;34m\u001b[0m\n",
      "\u001b[0;32m~/dsir/capstone/Notebooks/functions.py\u001b[0m in \u001b[0;36mepochsG\u001b[0;34m(match_history, players_dict, interval_length)\u001b[0m\n\u001b[1;32m    191\u001b[0m         \u001b[0;31m# If the rating period is empty, then adjust the rating deviation of the players.\u001b[0m\u001b[0;34m\u001b[0m\u001b[0;34m\u001b[0m\u001b[0m\n\u001b[1;32m    192\u001b[0m         \u001b[0;32mif\u001b[0m \u001b[0;32mnot\u001b[0m \u001b[0mrating_period\u001b[0m\u001b[0;34m.\u001b[0m\u001b[0mempty\u001b[0m\u001b[0;34m:\u001b[0m\u001b[0;34m\u001b[0m\u001b[0;34m\u001b[0m\u001b[0m\n\u001b[0;32m--> 193\u001b[0;31m             \u001b[0mplayers_dict\u001b[0m\u001b[0;34m,\u001b[0m\u001b[0mratings_timestamp\u001b[0m \u001b[0;34m=\u001b[0m \u001b[0mepochG\u001b[0m\u001b[0;34m(\u001b[0m\u001b[0mrating_period\u001b[0m\u001b[0;34m,\u001b[0m\u001b[0mplayers_dict\u001b[0m\u001b[0;34m,\u001b[0m\u001b[0mperiod\u001b[0m\u001b[0;34m[\u001b[0m\u001b[0;36m1\u001b[0m\u001b[0;34m]\u001b[0m\u001b[0;34m)\u001b[0m\u001b[0;34m\u001b[0m\u001b[0;34m\u001b[0m\u001b[0m\n\u001b[0m\u001b[1;32m    194\u001b[0m             \u001b[0mratings_history\u001b[0m\u001b[0;34m.\u001b[0m\u001b[0mupdate\u001b[0m\u001b[0;34m(\u001b[0m\u001b[0mratings_timestamp\u001b[0m\u001b[0;34m)\u001b[0m\u001b[0;34m\u001b[0m\u001b[0;34m\u001b[0m\u001b[0m\n\u001b[1;32m    195\u001b[0m         \u001b[0;32melse\u001b[0m\u001b[0;34m:\u001b[0m\u001b[0;34m\u001b[0m\u001b[0;34m\u001b[0m\u001b[0m\n",
      "\u001b[0;32m~/dsir/capstone/Notebooks/functions.py\u001b[0m in \u001b[0;36mepochG\u001b[0;34m(matches, players_dict, cutoff_date)\u001b[0m\n\u001b[1;32m    156\u001b[0m     \u001b[0;32mfor\u001b[0m \u001b[0mplayer\u001b[0m \u001b[0;32min\u001b[0m \u001b[0mlist\u001b[0m\u001b[0;34m(\u001b[0m\u001b[0mresults\u001b[0m\u001b[0;34m.\u001b[0m\u001b[0mkeys\u001b[0m\u001b[0;34m(\u001b[0m\u001b[0;34m)\u001b[0m\u001b[0;34m)\u001b[0m\u001b[0;34m:\u001b[0m\u001b[0;34m\u001b[0m\u001b[0;34m\u001b[0m\u001b[0m\n\u001b[1;32m    157\u001b[0m         \u001b[0;34m(\u001b[0m\u001b[0mrating_list\u001b[0m\u001b[0;34m,\u001b[0m \u001b[0mRD_list\u001b[0m\u001b[0;34m,\u001b[0m \u001b[0moutcome_list\u001b[0m\u001b[0;34m)\u001b[0m \u001b[0;34m=\u001b[0m \u001b[0mresults\u001b[0m\u001b[0;34m[\u001b[0m\u001b[0mplayer\u001b[0m\u001b[0;34m]\u001b[0m\u001b[0;34m\u001b[0m\u001b[0;34m\u001b[0m\u001b[0m\n\u001b[0;32m--> 158\u001b[0;31m         \u001b[0mplayers_dict\u001b[0m\u001b[0;34m[\u001b[0m\u001b[0mplayer\u001b[0m\u001b[0;34m]\u001b[0m\u001b[0;34m.\u001b[0m\u001b[0mupdate_player\u001b[0m\u001b[0;34m(\u001b[0m\u001b[0mrating_list\u001b[0m\u001b[0;34m,\u001b[0m \u001b[0mRD_list\u001b[0m\u001b[0;34m,\u001b[0m \u001b[0moutcome_list\u001b[0m\u001b[0;34m)\u001b[0m\u001b[0;34m\u001b[0m\u001b[0;34m\u001b[0m\u001b[0m\n\u001b[0m\u001b[1;32m    159\u001b[0m         \u001b[0mratings_timestamp\u001b[0m\u001b[0;34m[\u001b[0m\u001b[0;34m(\u001b[0m\u001b[0mplayer\u001b[0m\u001b[0;34m,\u001b[0m\u001b[0mcutoff_date\u001b[0m\u001b[0;34m)\u001b[0m\u001b[0;34m]\u001b[0m \u001b[0;34m=\u001b[0m \u001b[0;34m(\u001b[0m\u001b[0mplayers_dict\u001b[0m\u001b[0;34m[\u001b[0m\u001b[0mplayer\u001b[0m\u001b[0;34m]\u001b[0m\u001b[0;34m.\u001b[0m\u001b[0mgetRating\u001b[0m\u001b[0;34m(\u001b[0m\u001b[0;34m)\u001b[0m\u001b[0;34m,\u001b[0m \u001b[0mplayers_dict\u001b[0m\u001b[0;34m[\u001b[0m\u001b[0mplayer\u001b[0m\u001b[0;34m]\u001b[0m\u001b[0;34m.\u001b[0m\u001b[0mgetRd\u001b[0m\u001b[0;34m(\u001b[0m\u001b[0;34m)\u001b[0m\u001b[0;34m)\u001b[0m\u001b[0;34m\u001b[0m\u001b[0;34m\u001b[0m\u001b[0m\n\u001b[1;32m    160\u001b[0m \u001b[0;34m\u001b[0m\u001b[0m\n",
      "\u001b[0;32m~/dsir/capstone/Notebooks/../pyglicko2/glicko2.py\u001b[0m in \u001b[0;36mupdate_player\u001b[0;34m(self, rating_list, RD_list, outcome_list)\u001b[0m\n\u001b[1;32m     75\u001b[0m \u001b[0;34m\u001b[0m\u001b[0m\n\u001b[1;32m     76\u001b[0m         \u001b[0mv\u001b[0m \u001b[0;34m=\u001b[0m \u001b[0mself\u001b[0m\u001b[0;34m.\u001b[0m\u001b[0m_v\u001b[0m\u001b[0;34m(\u001b[0m\u001b[0mrating_list\u001b[0m\u001b[0;34m,\u001b[0m \u001b[0mRD_list\u001b[0m\u001b[0;34m)\u001b[0m\u001b[0;34m\u001b[0m\u001b[0;34m\u001b[0m\u001b[0m\n\u001b[0;32m---> 77\u001b[0;31m         \u001b[0mself\u001b[0m\u001b[0;34m.\u001b[0m\u001b[0mvol\u001b[0m \u001b[0;34m=\u001b[0m \u001b[0mself\u001b[0m\u001b[0;34m.\u001b[0m\u001b[0m_newVol\u001b[0m\u001b[0;34m(\u001b[0m\u001b[0mrating_list\u001b[0m\u001b[0;34m,\u001b[0m \u001b[0mRD_list\u001b[0m\u001b[0;34m,\u001b[0m \u001b[0moutcome_list\u001b[0m\u001b[0;34m,\u001b[0m \u001b[0mv\u001b[0m\u001b[0;34m)\u001b[0m\u001b[0;34m\u001b[0m\u001b[0;34m\u001b[0m\u001b[0m\n\u001b[0m\u001b[1;32m     78\u001b[0m         \u001b[0mself\u001b[0m\u001b[0;34m.\u001b[0m\u001b[0m_preRatingRD\u001b[0m\u001b[0;34m(\u001b[0m\u001b[0;34m)\u001b[0m\u001b[0;34m\u001b[0m\u001b[0;34m\u001b[0m\u001b[0m\n\u001b[1;32m     79\u001b[0m \u001b[0;34m\u001b[0m\u001b[0m\n",
      "\u001b[0;32m~/dsir/capstone/Notebooks/../pyglicko2/glicko2.py\u001b[0m in \u001b[0;36m_newVol\u001b[0;34m(self, rating_list, RD_list, outcome_list, v)\u001b[0m\n\u001b[1;32m    106\u001b[0m             \u001b[0mh1\u001b[0m \u001b[0;34m=\u001b[0m \u001b[0;34m-\u001b[0m\u001b[0;34m(\u001b[0m\u001b[0mx0\u001b[0m \u001b[0;34m-\u001b[0m \u001b[0ma\u001b[0m\u001b[0;34m)\u001b[0m \u001b[0;34m/\u001b[0m \u001b[0mmath\u001b[0m\u001b[0;34m.\u001b[0m\u001b[0mpow\u001b[0m\u001b[0;34m(\u001b[0m\u001b[0mtau\u001b[0m\u001b[0;34m,\u001b[0m \u001b[0;36m2\u001b[0m\u001b[0;34m)\u001b[0m \u001b[0;34m-\u001b[0m \u001b[0;36m0.5\u001b[0m \u001b[0;34m*\u001b[0m \u001b[0mmath\u001b[0m\u001b[0;34m.\u001b[0m\u001b[0mexp\u001b[0m\u001b[0;34m(\u001b[0m\u001b[0mx0\u001b[0m\u001b[0;34m)\u001b[0m\u001b[0;31m \u001b[0m\u001b[0;31m\\\u001b[0m\u001b[0;34m\u001b[0m\u001b[0;34m\u001b[0m\u001b[0m\n\u001b[1;32m    107\u001b[0m             \u001b[0;34m/\u001b[0m \u001b[0md\u001b[0m \u001b[0;34m+\u001b[0m \u001b[0;36m0.5\u001b[0m \u001b[0;34m*\u001b[0m \u001b[0mmath\u001b[0m\u001b[0;34m.\u001b[0m\u001b[0mexp\u001b[0m\u001b[0;34m(\u001b[0m\u001b[0mx0\u001b[0m\u001b[0;34m)\u001b[0m \u001b[0;34m*\u001b[0m \u001b[0mmath\u001b[0m\u001b[0;34m.\u001b[0m\u001b[0mpow\u001b[0m\u001b[0;34m(\u001b[0m\u001b[0mdelta\u001b[0m \u001b[0;34m/\u001b[0m \u001b[0md\u001b[0m\u001b[0;34m,\u001b[0m \u001b[0;36m2\u001b[0m\u001b[0;34m)\u001b[0m\u001b[0;34m\u001b[0m\u001b[0;34m\u001b[0m\u001b[0m\n\u001b[0;32m--> 108\u001b[0;31m             \u001b[0mh2\u001b[0m \u001b[0;34m=\u001b[0m \u001b[0;34m-\u001b[0m\u001b[0;36m1\u001b[0m \u001b[0;34m/\u001b[0m \u001b[0mmath\u001b[0m\u001b[0;34m.\u001b[0m\u001b[0mpow\u001b[0m\u001b[0;34m(\u001b[0m\u001b[0mtau\u001b[0m\u001b[0;34m,\u001b[0m \u001b[0;36m2\u001b[0m\u001b[0;34m)\u001b[0m \u001b[0;34m-\u001b[0m \u001b[0;36m0.5\u001b[0m \u001b[0;34m*\u001b[0m \u001b[0mmath\u001b[0m\u001b[0;34m.\u001b[0m\u001b[0mexp\u001b[0m\u001b[0;34m(\u001b[0m\u001b[0mx0\u001b[0m\u001b[0;34m)\u001b[0m \u001b[0;34m*\u001b[0m\u001b[0;31m \u001b[0m\u001b[0;31m\\\u001b[0m\u001b[0;34m\u001b[0m\u001b[0;34m\u001b[0m\u001b[0m\n\u001b[0m\u001b[1;32m    109\u001b[0m             \u001b[0;34m(\u001b[0m\u001b[0mmath\u001b[0m\u001b[0;34m.\u001b[0m\u001b[0mpow\u001b[0m\u001b[0;34m(\u001b[0m\u001b[0mself\u001b[0m\u001b[0;34m.\u001b[0m\u001b[0m__rating\u001b[0m\u001b[0;34m,\u001b[0m \u001b[0;36m2\u001b[0m\u001b[0;34m)\u001b[0m \u001b[0;34m+\u001b[0m \u001b[0mv\u001b[0m\u001b[0;34m)\u001b[0m\u001b[0;31m \u001b[0m\u001b[0;31m\\\u001b[0m\u001b[0;34m\u001b[0m\u001b[0;34m\u001b[0m\u001b[0m\n\u001b[1;32m    110\u001b[0m             \u001b[0;34m/\u001b[0m \u001b[0mmath\u001b[0m\u001b[0;34m.\u001b[0m\u001b[0mpow\u001b[0m\u001b[0;34m(\u001b[0m\u001b[0md\u001b[0m\u001b[0;34m,\u001b[0m \u001b[0;36m2\u001b[0m\u001b[0;34m)\u001b[0m \u001b[0;34m+\u001b[0m \u001b[0;36m0.5\u001b[0m \u001b[0;34m*\u001b[0m \u001b[0mmath\u001b[0m\u001b[0;34m.\u001b[0m\u001b[0mpow\u001b[0m\u001b[0;34m(\u001b[0m\u001b[0mdelta\u001b[0m\u001b[0;34m,\u001b[0m \u001b[0;36m2\u001b[0m\u001b[0;34m)\u001b[0m \u001b[0;34m*\u001b[0m \u001b[0mmath\u001b[0m\u001b[0;34m.\u001b[0m\u001b[0mexp\u001b[0m\u001b[0;34m(\u001b[0m\u001b[0mx0\u001b[0m\u001b[0;34m)\u001b[0m\u001b[0;31m \u001b[0m\u001b[0;31m\\\u001b[0m\u001b[0;34m\u001b[0m\u001b[0;34m\u001b[0m\u001b[0m\n",
      "\u001b[0;31mKeyboardInterrupt\u001b[0m: "
     ]
    }
   ],
   "source": [
    "%%time\n",
    "for batch in eg_batches[0:1]:\n",
    "    players_dict,rh = epochsG(matches[batch[0]:batch[1]],players_dict,180)\n",
    "    ratings_histories += [rh]"
   ]
  },
  {
   "cell_type": "code",
   "execution_count": null,
   "id": "610e790e-7921-4f03-8f24-f30e38fdac09",
   "metadata": {},
   "outputs": [],
   "source": []
  },
  {
   "cell_type": "code",
   "execution_count": null,
   "id": "6fcbf7e1-42c3-4c41-aadc-cb2812ea7bca",
   "metadata": {},
   "outputs": [],
   "source": []
  },
  {
   "cell_type": "code",
   "execution_count": null,
   "id": "19530633-ba60-4263-a31f-36be8100de24",
   "metadata": {},
   "outputs": [],
   "source": []
  },
  {
   "cell_type": "code",
   "execution_count": null,
   "id": "95861d7d",
   "metadata": {},
   "outputs": [],
   "source": [
    "for i in range"
   ]
  },
  {
   "cell_type": "code",
   "execution_count": null,
   "id": "9b9d0883-44b7-4122-9df5-0824da531feb",
   "metadata": {
    "tags": []
   },
   "outputs": [],
   "source": [
    "epochsG(matches[250_000:350_000],365)"
   ]
  },
  {
   "cell_type": "markdown",
   "id": "e4c6cf3c-f5be-4176-90e7-fd2365571853",
   "metadata": {},
   "source": [
    "note: it's not yet clear how to compute win probabilities from the glicko2 rating system."
   ]
  },
  {
   "cell_type": "code",
   "execution_count": null,
   "id": "343d3451-c0af-4cb5-bda4-eb518aa409ed",
   "metadata": {},
   "outputs": [],
   "source": [
    "range(0,max(matches.index),100)"
   ]
  },
  {
   "cell_type": "code",
   "execution_count": null,
   "id": "50aa1692-9fd6-4bf9-9c15-a42ddfbeef19",
   "metadata": {},
   "outputs": [],
   "source": [
    "%%time\n",
    "start = time.time()\n",
    "pd,rh = epochsG(matches[0:100_000],180)\n",
    "compute_time = time.time()-start\n",
    "print(compute_time)\n"
   ]
  },
  {
   "cell_type": "code",
   "execution_count": null,
   "id": "b2276937-358e-4ee0-bc5f-e1508b41a4b0",
   "metadata": {},
   "outputs": [],
   "source": [
    "rh"
   ]
  }
 ],
 "metadata": {
  "kernelspec": {
   "display_name": "Python 3 (ipykernel)",
   "language": "python",
   "name": "python3"
  },
  "language_info": {
   "codemirror_mode": {
    "name": "ipython",
    "version": 3
   },
   "file_extension": ".py",
   "mimetype": "text/x-python",
   "name": "python",
   "nbconvert_exporter": "python",
   "pygments_lexer": "ipython3",
   "version": "3.9.13"
  }
 },
 "nbformat": 4,
 "nbformat_minor": 5
}
