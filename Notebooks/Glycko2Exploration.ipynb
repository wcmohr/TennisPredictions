{
 "cells": [
  {
   "cell_type": "code",
   "execution_count": 1,
   "id": "cf4b92fa-d27b-47e2-b481-ee6467d87a22",
   "metadata": {},
   "outputs": [],
   "source": [
    "import pandas as pd\n",
    "from functions import assembleDf, epochG, epochsG\n",
    "from datetime import datetime, timedelta\n",
    "import numpy as np\n",
    "import sys\n",
    "sys.path.append('..')\n",
    "from pyglicko2.glicko2_tests import exampleCase\n",
    "from pyglicko2.glicko2 import Player\n",
    "import glicko2\n",
    "import time"
   ]
  },
  {
   "cell_type": "code",
   "execution_count": 2,
   "id": "b2967aa4-0a53-4720-9eee-272a296b5dd1",
   "metadata": {},
   "outputs": [],
   "source": [
    "matches = pd.read_csv('../Data/matches_glicko2.csv',parse_dates = ['tourney_date'], \n",
    "                      infer_datetime_format = True)"
   ]
  },
  {
   "cell_type": "code",
   "execution_count": 3,
   "id": "3ee27eaa-dd2f-417b-8a43-37ca29707b71",
   "metadata": {
    "tags": []
   },
   "outputs": [
    {
     "data": {
      "text/html": [
       "<div>\n",
       "<style scoped>\n",
       "    .dataframe tbody tr th:only-of-type {\n",
       "        vertical-align: middle;\n",
       "    }\n",
       "\n",
       "    .dataframe tbody tr th {\n",
       "        vertical-align: top;\n",
       "    }\n",
       "\n",
       "    .dataframe thead th {\n",
       "        text-align: right;\n",
       "    }\n",
       "</style>\n",
       "<table border=\"1\" class=\"dataframe\">\n",
       "  <thead>\n",
       "    <tr style=\"text-align: right;\">\n",
       "      <th></th>\n",
       "      <th>tourney_date</th>\n",
       "      <th>winner_id</th>\n",
       "      <th>loser_id</th>\n",
       "      <th>tourney_id</th>\n",
       "    </tr>\n",
       "  </thead>\n",
       "  <tbody>\n",
       "    <tr>\n",
       "      <th>0</th>\n",
       "      <td>1877-07-09</td>\n",
       "      <td>113987</td>\n",
       "      <td>114149</td>\n",
       "      <td>1877-540</td>\n",
       "    </tr>\n",
       "    <tr>\n",
       "      <th>1</th>\n",
       "      <td>1877-07-09</td>\n",
       "      <td>113987</td>\n",
       "      <td>113999</td>\n",
       "      <td>1877-540</td>\n",
       "    </tr>\n",
       "    <tr>\n",
       "      <th>2</th>\n",
       "      <td>1877-07-09</td>\n",
       "      <td>113987</td>\n",
       "      <td>113963</td>\n",
       "      <td>1877-540</td>\n",
       "    </tr>\n",
       "    <tr>\n",
       "      <th>3</th>\n",
       "      <td>1877-07-09</td>\n",
       "      <td>113963</td>\n",
       "      <td>114158</td>\n",
       "      <td>1877-540</td>\n",
       "    </tr>\n",
       "    <tr>\n",
       "      <th>4</th>\n",
       "      <td>1877-07-09</td>\n",
       "      <td>113999</td>\n",
       "      <td>113953</td>\n",
       "      <td>1877-540</td>\n",
       "    </tr>\n",
       "    <tr>\n",
       "      <th>...</th>\n",
       "      <td>...</td>\n",
       "      <td>...</td>\n",
       "      <td>...</td>\n",
       "      <td>...</td>\n",
       "    </tr>\n",
       "    <tr>\n",
       "      <th>876973</th>\n",
       "      <td>2022-12-26</td>\n",
       "      <td>207987</td>\n",
       "      <td>208519</td>\n",
       "      <td>2022-M-ITF-TUN-63A-2022</td>\n",
       "    </tr>\n",
       "    <tr>\n",
       "      <th>876974</th>\n",
       "      <td>2022-12-26</td>\n",
       "      <td>144932</td>\n",
       "      <td>209977</td>\n",
       "      <td>2022-M-ITF-TUN-63A-2022</td>\n",
       "    </tr>\n",
       "    <tr>\n",
       "      <th>876975</th>\n",
       "      <td>2022-12-26</td>\n",
       "      <td>209955</td>\n",
       "      <td>209942</td>\n",
       "      <td>2022-M-ITF-TUN-63A-2022</td>\n",
       "    </tr>\n",
       "    <tr>\n",
       "      <th>876976</th>\n",
       "      <td>2022-12-26</td>\n",
       "      <td>209079</td>\n",
       "      <td>210696</td>\n",
       "      <td>2022-M-ITF-TUN-63A-2022</td>\n",
       "    </tr>\n",
       "    <tr>\n",
       "      <th>876977</th>\n",
       "      <td>2022-12-26</td>\n",
       "      <td>200289</td>\n",
       "      <td>209360</td>\n",
       "      <td>2022-M-ITF-TUN-63A-2022</td>\n",
       "    </tr>\n",
       "  </tbody>\n",
       "</table>\n",
       "<p>876978 rows × 4 columns</p>\n",
       "</div>"
      ],
      "text/plain": [
       "       tourney_date  winner_id  loser_id               tourney_id\n",
       "0        1877-07-09     113987    114149                 1877-540\n",
       "1        1877-07-09     113987    113999                 1877-540\n",
       "2        1877-07-09     113987    113963                 1877-540\n",
       "3        1877-07-09     113963    114158                 1877-540\n",
       "4        1877-07-09     113999    113953                 1877-540\n",
       "...             ...        ...       ...                      ...\n",
       "876973   2022-12-26     207987    208519  2022-M-ITF-TUN-63A-2022\n",
       "876974   2022-12-26     144932    209977  2022-M-ITF-TUN-63A-2022\n",
       "876975   2022-12-26     209955    209942  2022-M-ITF-TUN-63A-2022\n",
       "876976   2022-12-26     209079    210696  2022-M-ITF-TUN-63A-2022\n",
       "876977   2022-12-26     200289    209360  2022-M-ITF-TUN-63A-2022\n",
       "\n",
       "[876978 rows x 4 columns]"
      ]
     },
     "execution_count": 3,
     "metadata": {},
     "output_type": "execute_result"
    }
   ],
   "source": [
    "matches"
   ]
  },
  {
   "cell_type": "code",
   "execution_count": 4,
   "id": "6cf64ef1-f95b-4a90-9977-4d70f640d4fc",
   "metadata": {},
   "outputs": [
    {
     "data": {
      "text/plain": [
       "32577"
      ]
     },
     "execution_count": 4,
     "metadata": {},
     "output_type": "execute_result"
    }
   ],
   "source": [
    "# 32577 unique player ids in the matches DataFrame\n",
    "len(set(list(matches['winner_id'].unique())+list(matches['loser_id'].unique())))"
   ]
  },
  {
   "cell_type": "markdown",
   "id": "631737b6-19e6-4df2-a533-428a43a2a03c",
   "metadata": {},
   "source": [
    "Because memory constraints limit the batch size in epochsG, I will need to process incrementally."
   ]
  },
  {
   "cell_type": "code",
   "execution_count": 5,
   "id": "fffeba42-98f8-42fb-b272-7c02e748852b",
   "metadata": {},
   "outputs": [],
   "source": [
    "# base batches.  can be further broken up by splitBatch\n",
    "eg_batches_50 = [(s,f) for s,f in zip(range(0, 876_978-50_000,50_000),\n",
    "                      range(50_000, 876978,50_000))] + [(850_000,876979)]\n",
    "eg_batches_100 = [(s,f) for s,f in zip(range(0, 876_978-100_000,100_000),\n",
    "                      range(100_000, 876978,100_000))] + [(800_000,876979)]\n",
    "\n",
    "ratings_histories = []\n",
    "players_dict = {}"
   ]
  },
  {
   "cell_type": "code",
   "execution_count": 6,
   "id": "f704d011-2b48-4d7b-b7f6-6fcfe88ec87e",
   "metadata": {},
   "outputs": [],
   "source": [
    "def ceildiv(a, b):\n",
    "    return -(a // -b)"
   ]
  },
  {
   "cell_type": "code",
   "execution_count": 7,
   "id": "e198bcc1-c413-49de-bfe2-69690dc13beb",
   "metadata": {
    "tags": []
   },
   "outputs": [],
   "source": [
    "def splitBatch(atuple, divisions):\n",
    "    '''Break up batches into smaller pieces to allow epochsG to run.'''\n",
    "    batch_size = ceildiv((atuple[1] - atuple[0]),divisions)\n",
    "    if batch_size < (atuple[1] - atuple[0]):\n",
    "        batches = [b for b in zip(range(atuple[0],atuple[1]-batch_size,batch_size),\n",
    "             range(atuple[0]+batch_size,atuple[1],batch_size))]\n",
    "        extra = [(batches[-1][1],atuple[1])]\n",
    "        return batches + extra\n",
    "    else:\n",
    "        return atuple"
   ]
  },
  {
   "cell_type": "markdown",
   "id": "512ac06f-9157-4628-94ba-7b9a4cdb939b",
   "metadata": {},
   "source": [
    "eg_batches_50[0:3] runs..."
   ]
  },
  {
   "cell_type": "code",
   "execution_count": 8,
   "id": "af20da6a-1b3e-450d-a2ad-5ca55b5b747b",
   "metadata": {
    "tags": []
   },
   "outputs": [
    {
     "name": "stdout",
     "output_type": "stream",
     "text": [
      "CPU times: user 19 s, sys: 302 ms, total: 19.3 s\n",
      "Wall time: 19.2 s\n"
     ]
    }
   ],
   "source": [
    "%%time\n",
    "for batch in eg_batches_50[0:3]:\n",
    "    players_dict,rh = epochsG(matches[batch[0]:batch[1]],players_dict,365)\n",
    "    ratings_histories += [rh]"
   ]
  },
  {
   "cell_type": "code",
   "execution_count": 9,
   "id": "f426d581-9f2d-40e5-90a1-ba263df96c37",
   "metadata": {},
   "outputs": [
    {
     "data": {
      "text/plain": [
       "(150000, 200000)"
      ]
     },
     "execution_count": 9,
     "metadata": {},
     "output_type": "execute_result"
    }
   ],
   "source": [
    "eg_batches_50[3]"
   ]
  },
  {
   "cell_type": "code",
   "execution_count": 10,
   "id": "2230a32e-5541-4fef-ab44-0d686cc928a1",
   "metadata": {},
   "outputs": [
    {
     "data": {
      "text/plain": [
       "[(150000, 175000), (175000, 200000)]"
      ]
     },
     "execution_count": 10,
     "metadata": {},
     "output_type": "execute_result"
    }
   ],
   "source": [
    "b = splitBatch(eg_batches_50[3],2); b0 = b[0]; b1 = b[1]\n",
    "b"
   ]
  },
  {
   "cell_type": "code",
   "execution_count": 11,
   "id": "6fcbf7e1-42c3-4c41-aadc-cb2812ea7bca",
   "metadata": {},
   "outputs": [
    {
     "name": "stdout",
     "output_type": "stream",
     "text": [
      "CPU times: user 2 s, sys: 34.5 ms, total: 2.03 s\n",
      "Wall time: 2.03 s\n"
     ]
    }
   ],
   "source": [
    "%%time\n",
    "players_dict,rh = epochsG(matches[b0[0]:b0[1]],players_dict,365)\n",
    "ratings_histories += [rh]"
   ]
  },
  {
   "cell_type": "code",
   "execution_count": 12,
   "id": "19bca57a-1a8f-4a12-9904-3389c83f7e2e",
   "metadata": {},
   "outputs": [
    {
     "name": "stdout",
     "output_type": "stream",
     "text": [
      "CPU times: user 2 s, sys: 16.3 ms, total: 2.01 s\n",
      "Wall time: 2.01 s\n"
     ]
    }
   ],
   "source": [
    "%%time\n",
    "players_dict,rh = epochsG(matches[b1[0]:b1[1]],players_dict,365)\n",
    "ratings_histories += [rh]"
   ]
  },
  {
   "cell_type": "code",
   "execution_count": 13,
   "id": "050ad11e-03ca-48db-9074-be7b0d026045",
   "metadata": {},
   "outputs": [
    {
     "data": {
      "text/plain": [
       "[(200000, 216667), (216667, 233334), (233334, 250000)]"
      ]
     },
     "execution_count": 13,
     "metadata": {},
     "output_type": "execute_result"
    }
   ],
   "source": [
    "splitBatch(eg_batches_50[4],3)"
   ]
  },
  {
   "cell_type": "code",
   "execution_count": 14,
   "id": "59bde9da-8f6b-45ca-9eda-f72e5331df66",
   "metadata": {},
   "outputs": [
    {
     "data": {
      "text/plain": [
       "[(200000, 212500), (212500, 225000), (225000, 237500), (237500, 250000)]"
      ]
     },
     "execution_count": 14,
     "metadata": {},
     "output_type": "execute_result"
    }
   ],
   "source": [
    "b = splitBatch(eg_batches_50[4],4); \n",
    "b0 = b[0]; b1 = b[1]; b2 = b[2]; b3=b[3]\n",
    "b"
   ]
  },
  {
   "cell_type": "code",
   "execution_count": 15,
   "id": "cfb0c928-c9de-4784-b281-64f95ea60431",
   "metadata": {},
   "outputs": [
    {
     "name": "stdout",
     "output_type": "stream",
     "text": [
      "CPU times: user 1.18 s, sys: 15.5 ms, total: 1.2 s\n",
      "Wall time: 1.21 s\n"
     ]
    }
   ],
   "source": [
    "%%time\n",
    "players_dict,rh = epochsG(matches[b0[0]:b0[1]],players_dict,365)\n",
    "ratings_histories += [rh]"
   ]
  },
  {
   "cell_type": "code",
   "execution_count": 16,
   "id": "230a9d81-edf0-41f8-9e29-c81b230d8c0c",
   "metadata": {},
   "outputs": [
    {
     "name": "stdout",
     "output_type": "stream",
     "text": [
      "CPU times: user 1.07 s, sys: 6.86 ms, total: 1.07 s\n",
      "Wall time: 1.08 s\n"
     ]
    }
   ],
   "source": [
    "%%time\n",
    "players_dict,rh = epochsG(matches[b1[0]:b1[1]],players_dict,365)\n",
    "ratings_histories += [rh]"
   ]
  },
  {
   "cell_type": "code",
   "execution_count": 17,
   "id": "983574f2-d9ab-4c07-bc36-5980c16c014e",
   "metadata": {
    "tags": []
   },
   "outputs": [
    {
     "name": "stdout",
     "output_type": "stream",
     "text": [
      "CPU times: user 1.08 s, sys: 10.8 ms, total: 1.09 s\n",
      "Wall time: 1.08 s\n"
     ]
    }
   ],
   "source": [
    "%%time\n",
    "players_dict,rh = epochsG(matches[b2[0]:b2[1]],players_dict,365)\n",
    "ratings_histories += [rh]"
   ]
  },
  {
   "cell_type": "code",
   "execution_count": 18,
   "id": "01a09cf6-72f4-4587-b7cb-5fe4f9a4eaa5",
   "metadata": {},
   "outputs": [
    {
     "name": "stdout",
     "output_type": "stream",
     "text": [
      "CPU times: user 1.14 s, sys: 10.2 ms, total: 1.15 s\n",
      "Wall time: 1.14 s\n"
     ]
    }
   ],
   "source": [
    "%%time\n",
    "players_dict,rh = epochsG(matches[b3[0]:b3[1]],players_dict,365)\n",
    "ratings_histories += [rh]"
   ]
  },
  {
   "cell_type": "code",
   "execution_count": 19,
   "id": "ba29ceee-6153-4739-bd22-e86418db5ba3",
   "metadata": {},
   "outputs": [
    {
     "name": "stdout",
     "output_type": "stream",
     "text": [
      "CPU times: user 3.85 s, sys: 28.2 ms, total: 3.88 s\n",
      "Wall time: 3.89 s\n"
     ]
    }
   ],
   "source": [
    "%%time\n",
    "players_dict,rh = epochsG(matches[eg_batches_50[5][0]:eg_batches_50[5][1]],players_dict,365)\n",
    "ratings_histories += [rh]"
   ]
  },
  {
   "cell_type": "markdown",
   "id": "146f873b-eae6-44cc-b79c-4521cbd82c67",
   "metadata": {
    "jupyter": {
     "outputs_hidden": true
    },
    "tags": []
   },
   "source": [
    "%%time\n",
    "players_dict,rh = epochsG(matches[eg_batches_50[6][0]:eg_batches_50[6][1]],players_dict,365)\n",
    "ratings_histories += [rh]"
   ]
  },
  {
   "cell_type": "code",
   "execution_count": 20,
   "id": "d152b9e4-17d2-4bfd-b08c-4454e34cea85",
   "metadata": {},
   "outputs": [
    {
     "data": {
      "text/plain": [
       "[(300000, 306250),\n",
       " (306250, 312500),\n",
       " (312500, 318750),\n",
       " (318750, 325000),\n",
       " (325000, 331250),\n",
       " (331250, 337500),\n",
       " (337500, 343750),\n",
       " (343750, 350000)]"
      ]
     },
     "execution_count": 20,
     "metadata": {},
     "output_type": "execute_result"
    }
   ],
   "source": [
    "b = splitBatch(eg_batches_50[6],8); \n",
    "b0 = b[0]; b1 = b[1]; b2 = b[2]; b3=b[3];\n",
    "b4 = b[0]; b5 = b[1]; b6 = b[2]; b7=b[3]\n",
    "b"
   ]
  },
  {
   "cell_type": "code",
   "execution_count": 21,
   "id": "e5b64d9e-4a97-45bd-b1af-c5cb53ef153c",
   "metadata": {
    "tags": []
   },
   "outputs": [
    {
     "name": "stdout",
     "output_type": "stream",
     "text": [
      "CPU times: user 820 ms, sys: 9.12 ms, total: 829 ms\n",
      "Wall time: 826 ms\n"
     ]
    }
   ],
   "source": [
    "%%time\n",
    "players_dict,rh = epochsG(matches[b0[0]:b0[1]],players_dict,365)\n",
    "ratings_histories += [rh]"
   ]
  },
  {
   "cell_type": "code",
   "execution_count": 22,
   "id": "8b9fe101-5e54-44d5-9449-77840ccd9391",
   "metadata": {
    "tags": []
   },
   "outputs": [
    {
     "name": "stdout",
     "output_type": "stream",
     "text": [
      "CPU times: user 881 ms, sys: 10.7 ms, total: 892 ms\n",
      "Wall time: 888 ms\n"
     ]
    }
   ],
   "source": [
    "%%time\n",
    "players_dict,rh = epochsG(matches[b1[0]:b1[1]],players_dict,365)\n",
    "ratings_histories += [rh]"
   ]
  },
  {
   "cell_type": "code",
   "execution_count": 23,
   "id": "9caebb0a-a09b-40cb-939d-bf59fabbf46d",
   "metadata": {
    "tags": []
   },
   "outputs": [
    {
     "name": "stdout",
     "output_type": "stream",
     "text": [
      "CPU times: user 760 ms, sys: 12 ms, total: 772 ms\n",
      "Wall time: 769 ms\n"
     ]
    }
   ],
   "source": [
    "%%time\n",
    "players_dict,rh = epochsG(matches[b2[0]:b2[1]],players_dict,365)\n",
    "ratings_histories += [rh]"
   ]
  },
  {
   "cell_type": "code",
   "execution_count": 24,
   "id": "ea7f7ab6-e25e-459c-ac3c-748a54e975dd",
   "metadata": {},
   "outputs": [
    {
     "name": "stdout",
     "output_type": "stream",
     "text": [
      "CPU times: user 843 ms, sys: 14 ms, total: 857 ms\n",
      "Wall time: 848 ms\n"
     ]
    }
   ],
   "source": [
    "%%time\n",
    "players_dict,rh = epochsG(matches[b3[0]:b3[1]],players_dict,365)\n",
    "ratings_histories += [rh]"
   ]
  },
  {
   "cell_type": "code",
   "execution_count": 25,
   "id": "efc422fc-8e20-4525-956b-940107256413",
   "metadata": {
    "tags": []
   },
   "outputs": [
    {
     "name": "stdout",
     "output_type": "stream",
     "text": [
      "CPU times: user 827 ms, sys: 14.3 ms, total: 841 ms\n",
      "Wall time: 832 ms\n"
     ]
    }
   ],
   "source": [
    "%%time\n",
    "players_dict,rh = epochsG(matches[b4[0]:b4[1]],players_dict,365)\n",
    "ratings_histories += [rh]"
   ]
  },
  {
   "cell_type": "code",
   "execution_count": 26,
   "id": "a41cc1d3-5c03-4da7-94d2-a538020d77fe",
   "metadata": {
    "tags": []
   },
   "outputs": [
    {
     "name": "stdout",
     "output_type": "stream",
     "text": [
      "CPU times: user 901 ms, sys: 8.03 ms, total: 909 ms\n",
      "Wall time: 908 ms\n"
     ]
    }
   ],
   "source": [
    "%%time\n",
    "players_dict,rh = epochsG(matches[b5[0]:b5[1]],players_dict,365)\n",
    "ratings_histories += [rh]"
   ]
  },
  {
   "cell_type": "code",
   "execution_count": 27,
   "id": "7fbf2aaf-01ae-45df-bc93-6bc01ba3bb31",
   "metadata": {
    "tags": []
   },
   "outputs": [
    {
     "name": "stdout",
     "output_type": "stream",
     "text": [
      "CPU times: user 747 ms, sys: 10.6 ms, total: 758 ms\n",
      "Wall time: 755 ms\n"
     ]
    }
   ],
   "source": [
    "%%time\n",
    "players_dict,rh = epochsG(matches[b6[0]:b6[1]],players_dict,365)\n",
    "ratings_histories += [rh]"
   ]
  },
  {
   "cell_type": "code",
   "execution_count": 28,
   "id": "2b063edd-aae7-473f-8276-6e9419a11615",
   "metadata": {},
   "outputs": [
    {
     "name": "stdout",
     "output_type": "stream",
     "text": [
      "CPU times: user 832 ms, sys: 10.5 ms, total: 842 ms\n",
      "Wall time: 839 ms\n"
     ]
    }
   ],
   "source": [
    "%%time\n",
    "players_dict,rh = epochsG(matches[b7[0]:b7[1]],players_dict,365)\n",
    "ratings_histories += [rh]"
   ]
  },
  {
   "cell_type": "markdown",
   "id": "43992388-7515-4114-8a25-b94292051a3d",
   "metadata": {},
   "source": [
    "%%time\n",
    "\n",
    "players_dict,rh = epochsG(matches[eg_batches_50[7][0]:eg_batches_50[7][1]],players_dict,365)\n",
    "ratings_histories += [rh]"
   ]
  },
  {
   "cell_type": "code",
   "execution_count": 29,
   "id": "d9cc3bd0-8741-426c-8f8a-f4e1de6e11fd",
   "metadata": {},
   "outputs": [],
   "source": [
    "b = splitBatch(eg_batches_50[7],7); \n",
    "b0 = b[0]; b1 = b[1]; b2 = b[2]; b3 = b[3]; b4 = b[4]; b5 = b[5];\n",
    "b6 = b[6]\n"
   ]
  },
  {
   "cell_type": "code",
   "execution_count": 30,
   "id": "651bb210-ae5e-42e5-b0cf-82fb2e8f2806",
   "metadata": {},
   "outputs": [
    {
     "name": "stdout",
     "output_type": "stream",
     "text": [
      "CPU times: user 890 ms, sys: 9.46 ms, total: 899 ms\n",
      "Wall time: 898 ms\n"
     ]
    }
   ],
   "source": [
    "%%time\n",
    "players_dict,rh = epochsG(matches[b0[0]:b0[1]],players_dict,365)\n",
    "ratings_histories += [rh]"
   ]
  },
  {
   "cell_type": "code",
   "execution_count": 31,
   "id": "8f87f868-9e0c-401b-90f6-ef31f3f819ba",
   "metadata": {
    "tags": []
   },
   "outputs": [
    {
     "name": "stdout",
     "output_type": "stream",
     "text": [
      "CPU times: user 855 ms, sys: 10.7 ms, total: 866 ms\n",
      "Wall time: 863 ms\n"
     ]
    }
   ],
   "source": [
    "%%time\n",
    "players_dict,rh = epochsG(matches[b1[0]:b1[1]],players_dict,365)\n",
    "ratings_histories += [rh]"
   ]
  },
  {
   "cell_type": "code",
   "execution_count": 32,
   "id": "358444a2-1366-4dbe-a188-2d3703bbd469",
   "metadata": {},
   "outputs": [
    {
     "name": "stdout",
     "output_type": "stream",
     "text": [
      "CPU times: user 940 ms, sys: 12.6 ms, total: 953 ms\n",
      "Wall time: 947 ms\n"
     ]
    }
   ],
   "source": [
    "%%time\n",
    "players_dict,rh = epochsG(matches[b2[0]:b2[1]],players_dict,365)\n",
    "ratings_histories += [rh]"
   ]
  },
  {
   "cell_type": "code",
   "execution_count": 33,
   "id": "a4630d52-f693-4c8c-98bf-8f51eb6b533c",
   "metadata": {},
   "outputs": [
    {
     "name": "stdout",
     "output_type": "stream",
     "text": [
      "CPU times: user 966 ms, sys: 12.7 ms, total: 979 ms\n",
      "Wall time: 974 ms\n"
     ]
    }
   ],
   "source": [
    "%%time\n",
    "players_dict,rh = epochsG(matches[b2[0]:b2[1]],players_dict,365)\n",
    "ratings_histories += [rh]"
   ]
  },
  {
   "cell_type": "code",
   "execution_count": 34,
   "id": "673c98c2-bc15-4d1b-9a65-302d656f8490",
   "metadata": {
    "tags": []
   },
   "outputs": [
    {
     "name": "stdout",
     "output_type": "stream",
     "text": [
      "CPU times: user 936 ms, sys: 8.23 ms, total: 944 ms\n",
      "Wall time: 941 ms\n"
     ]
    }
   ],
   "source": [
    "%%time\n",
    "players_dict,rh = epochsG(matches[b3[0]:b3[1]],players_dict,365)\n",
    "ratings_histories += [rh]"
   ]
  },
  {
   "cell_type": "code",
   "execution_count": 35,
   "id": "14387111-1685-41b5-b839-266bb2abaa97",
   "metadata": {},
   "outputs": [
    {
     "name": "stdout",
     "output_type": "stream",
     "text": [
      "CPU times: user 856 ms, sys: 13.9 ms, total: 870 ms\n",
      "Wall time: 862 ms\n"
     ]
    }
   ],
   "source": [
    "%%time\n",
    "players_dict,rh = epochsG(matches[b4[0]:b4[1]],players_dict,365)\n",
    "ratings_histories += [rh]"
   ]
  },
  {
   "cell_type": "code",
   "execution_count": 36,
   "id": "716738d1-aea3-472f-95ef-f95d19483006",
   "metadata": {},
   "outputs": [
    {
     "name": "stdout",
     "output_type": "stream",
     "text": [
      "CPU times: user 969 ms, sys: 11.3 ms, total: 980 ms\n",
      "Wall time: 974 ms\n"
     ]
    }
   ],
   "source": [
    "%%time\n",
    "players_dict,rh = epochsG(matches[b5[0]:b5[1]],players_dict,365)\n",
    "ratings_histories += [rh]"
   ]
  },
  {
   "cell_type": "code",
   "execution_count": 37,
   "id": "1c43096e-585f-4811-bac8-590c294abac6",
   "metadata": {},
   "outputs": [
    {
     "name": "stdout",
     "output_type": "stream",
     "text": [
      "CPU times: user 968 ms, sys: 11.1 ms, total: 979 ms\n",
      "Wall time: 977 ms\n"
     ]
    }
   ],
   "source": [
    "%%time\n",
    "players_dict,rh = epochsG(matches[b6[0]:b6[1]],players_dict,365)\n",
    "ratings_histories += [rh]"
   ]
  },
  {
   "cell_type": "code",
   "execution_count": 38,
   "id": "0e73704b-08db-4d7e-8053-badeea09f1cd",
   "metadata": {},
   "outputs": [
    {
     "data": {
      "text/plain": [
       "[(400000, 425000), (425000, 450000)]"
      ]
     },
     "execution_count": 38,
     "metadata": {},
     "output_type": "execute_result"
    }
   ],
   "source": [
    "b = splitBatch(eg_batches_50[8],2); b0 = b[0]; b1 = b[1]\n",
    "b"
   ]
  },
  {
   "cell_type": "code",
   "execution_count": 39,
   "id": "f5337919-fab7-4187-9265-03e48bf1695c",
   "metadata": {},
   "outputs": [
    {
     "name": "stdout",
     "output_type": "stream",
     "text": [
      "CPU times: user 2.09 s, sys: 15.3 ms, total: 2.11 s\n",
      "Wall time: 2.11 s\n"
     ]
    }
   ],
   "source": [
    "%%time\n",
    "players_dict,rh = epochsG(matches[b0[0]:b0[1]],players_dict,365)\n",
    "ratings_histories += [rh]"
   ]
  },
  {
   "cell_type": "code",
   "execution_count": 40,
   "id": "57823a6e-68ac-4c3e-8bfb-a7414c7120db",
   "metadata": {},
   "outputs": [
    {
     "name": "stdout",
     "output_type": "stream",
     "text": [
      "CPU times: user 1.91 s, sys: 15.4 ms, total: 1.92 s\n",
      "Wall time: 1.92 s\n"
     ]
    }
   ],
   "source": [
    "%%time\n",
    "players_dict,rh = epochsG(matches[b1[0]:b1[1]],players_dict,365)\n",
    "ratings_histories += [rh]"
   ]
  },
  {
   "cell_type": "code",
   "execution_count": 41,
   "id": "27dd6f4e-ed21-4045-a9e0-253ab1cd7d94",
   "metadata": {
    "tags": []
   },
   "outputs": [
    {
     "data": {
      "text/plain": [
       "[(450000, 456250),\n",
       " (456250, 462500),\n",
       " (462500, 468750),\n",
       " (468750, 475000),\n",
       " (475000, 481250),\n",
       " (481250, 487500),\n",
       " (487500, 493750),\n",
       " (493750, 500000)]"
      ]
     },
     "execution_count": 41,
     "metadata": {},
     "output_type": "execute_result"
    }
   ],
   "source": [
    "b = splitBatch(eg_batches_50[9],8); b0 = b[0]; b1 = b[1]; \n",
    "b2 = b[2];b3 = b[3];b4 =b[4]; b5 = b[5]; b6 = b[6]; b7 = b[7]\n",
    "b"
   ]
  },
  {
   "cell_type": "code",
   "execution_count": 42,
   "id": "63bb6137-a49c-474f-900d-260a2333853d",
   "metadata": {},
   "outputs": [
    {
     "name": "stdout",
     "output_type": "stream",
     "text": [
      "CPU times: user 851 ms, sys: 9.96 ms, total: 861 ms\n",
      "Wall time: 858 ms\n"
     ]
    }
   ],
   "source": [
    "%%time\n",
    "players_dict,rh = epochsG(matches[b0[0]:b0[1]],players_dict,365)\n",
    "ratings_histories += [rh]"
   ]
  },
  {
   "cell_type": "code",
   "execution_count": 43,
   "id": "20c2dbe8-8677-4122-9f86-e9b8f9a05b60",
   "metadata": {
    "tags": []
   },
   "outputs": [
    {
     "name": "stdout",
     "output_type": "stream",
     "text": [
      "CPU times: user 958 ms, sys: 20.8 ms, total: 979 ms\n",
      "Wall time: 967 ms\n"
     ]
    }
   ],
   "source": [
    "%%time\n",
    "players_dict,rh = epochsG(matches[b1[0]:b1[1]],players_dict,365)\n",
    "ratings_histories += [rh]"
   ]
  },
  {
   "cell_type": "code",
   "execution_count": 44,
   "id": "eb05dbb7-10f2-4c62-935b-ae501b72afd2",
   "metadata": {},
   "outputs": [],
   "source": [
    "b = splitBatch(b2,2)\n",
    "b2_0 = b[0]; b2_1 = b[1];"
   ]
  },
  {
   "cell_type": "code",
   "execution_count": 45,
   "id": "2cc18dbb-ba00-4e11-b15e-afd4337876e5",
   "metadata": {
    "tags": []
   },
   "outputs": [
    {
     "name": "stdout",
     "output_type": "stream",
     "text": [
      "CPU times: user 752 ms, sys: 21.8 ms, total: 774 ms\n",
      "Wall time: 765 ms\n"
     ]
    }
   ],
   "source": [
    "%%time\n",
    "players_dict,rh = epochsG(matches[b2_0[0]:b2_0[1]],players_dict,365)\n",
    "ratings_histories += [rh]"
   ]
  },
  {
   "cell_type": "code",
   "execution_count": 46,
   "id": "44afda25-7a05-4451-8ae5-bc47bf95be7b",
   "metadata": {},
   "outputs": [
    {
     "name": "stdout",
     "output_type": "stream",
     "text": [
      "CPU times: user 773 ms, sys: 28.3 ms, total: 802 ms\n",
      "Wall time: 787 ms\n"
     ]
    }
   ],
   "source": [
    "%%time\n",
    "players_dict,rh = epochsG(matches[b2_1[0]:b2_1[1]],players_dict,365)\n",
    "ratings_histories += [rh]"
   ]
  },
  {
   "cell_type": "code",
   "execution_count": 47,
   "id": "89c3b12d-4b0f-4315-b0ad-bf63690d2953",
   "metadata": {},
   "outputs": [
    {
     "name": "stdout",
     "output_type": "stream",
     "text": [
      "CPU times: user 903 ms, sys: 14.9 ms, total: 918 ms\n",
      "Wall time: 915 ms\n"
     ]
    }
   ],
   "source": [
    "%%time\n",
    "players_dict,rh = epochsG(matches[b3[0]:b3[1]],players_dict,365)\n",
    "ratings_histories += [rh]"
   ]
  },
  {
   "cell_type": "code",
   "execution_count": 48,
   "id": "0b172659-c6db-4796-ab36-a662509f7d32",
   "metadata": {},
   "outputs": [
    {
     "name": "stdout",
     "output_type": "stream",
     "text": [
      "CPU times: user 857 ms, sys: 15.8 ms, total: 872 ms\n",
      "Wall time: 869 ms\n"
     ]
    }
   ],
   "source": [
    "%%time\n",
    "players_dict,rh = epochsG(matches[b4[0]:b4[1]],players_dict,365)\n",
    "ratings_histories += [rh]"
   ]
  },
  {
   "cell_type": "code",
   "execution_count": 49,
   "id": "0451c265-fd8c-4dae-a903-d5a4e8c7638a",
   "metadata": {},
   "outputs": [
    {
     "name": "stdout",
     "output_type": "stream",
     "text": [
      "CPU times: user 988 ms, sys: 15.9 ms, total: 1 s\n",
      "Wall time: 995 ms\n"
     ]
    }
   ],
   "source": [
    "%%time\n",
    "players_dict,rh = epochsG(matches[b5[0]:b5[1]],players_dict,365)\n",
    "ratings_histories += [rh]"
   ]
  },
  {
   "cell_type": "code",
   "execution_count": 50,
   "id": "76a99fc2-77fb-4cd8-b94c-d4773897829f",
   "metadata": {},
   "outputs": [
    {
     "name": "stdout",
     "output_type": "stream",
     "text": [
      "CPU times: user 1.01 s, sys: 10.4 ms, total: 1.02 s\n",
      "Wall time: 1.02 s\n"
     ]
    }
   ],
   "source": [
    "%%time\n",
    "players_dict,rh = epochsG(matches[b6[0]:b6[1]],players_dict,365)\n",
    "ratings_histories += [rh]"
   ]
  },
  {
   "cell_type": "code",
   "execution_count": 51,
   "id": "b61fe68d-9a2a-4195-9eb0-303effdf20a0",
   "metadata": {},
   "outputs": [
    {
     "name": "stdout",
     "output_type": "stream",
     "text": [
      "CPU times: user 984 ms, sys: 10.9 ms, total: 995 ms\n",
      "Wall time: 991 ms\n"
     ]
    }
   ],
   "source": [
    "%%time\n",
    "players_dict,rh = epochsG(matches[b7[0]:b7[1]],players_dict,365)\n",
    "ratings_histories += [rh]"
   ]
  },
  {
   "cell_type": "code",
   "execution_count": null,
   "id": "fd12d67c-e4ad-4910-ac85-11f9be04bb49",
   "metadata": {},
   "outputs": [],
   "source": []
  },
  {
   "cell_type": "code",
   "execution_count": 52,
   "id": "b4f7c2b1-f7ef-4bd4-85c5-3a0c26d3e5d1",
   "metadata": {},
   "outputs": [
    {
     "data": {
      "text/plain": [
       "[(500000, 525000), (525000, 550000)]"
      ]
     },
     "execution_count": 52,
     "metadata": {},
     "output_type": "execute_result"
    }
   ],
   "source": [
    "b = splitBatch(eg_batches_50[10],2); b0 = b[0]; b1 = b[1]\n",
    "b"
   ]
  },
  {
   "cell_type": "code",
   "execution_count": 53,
   "id": "07285360-5968-447d-99c4-87c74106b018",
   "metadata": {},
   "outputs": [
    {
     "name": "stdout",
     "output_type": "stream",
     "text": [
      "CPU times: user 1.8 s, sys: 12.9 ms, total: 1.81 s\n",
      "Wall time: 1.81 s\n"
     ]
    }
   ],
   "source": [
    "%%time\n",
    "players_dict,rh = epochsG(matches[b0[0]:b0[1]],players_dict,365)\n",
    "ratings_histories += [rh]"
   ]
  },
  {
   "cell_type": "code",
   "execution_count": 54,
   "id": "c67267c5-6aac-4d48-9d48-f74f6daa9804",
   "metadata": {},
   "outputs": [
    {
     "name": "stdout",
     "output_type": "stream",
     "text": [
      "CPU times: user 1.89 s, sys: 16.2 ms, total: 1.91 s\n",
      "Wall time: 1.91 s\n"
     ]
    }
   ],
   "source": [
    "%%time\n",
    "players_dict,rh = epochsG(matches[b1[0]:b1[1]],players_dict,365)\n",
    "ratings_histories += [rh]"
   ]
  },
  {
   "cell_type": "code",
   "execution_count": 55,
   "id": "42f6f8ce-3ab7-4897-b050-cbac584ddc08",
   "metadata": {},
   "outputs": [
    {
     "data": {
      "text/plain": [
       "[(550000, 560000),\n",
       " (560000, 570000),\n",
       " (570000, 580000),\n",
       " (580000, 590000),\n",
       " (590000, 600000)]"
      ]
     },
     "execution_count": 55,
     "metadata": {},
     "output_type": "execute_result"
    }
   ],
   "source": [
    "b = splitBatch(eg_batches_50[11],5); b0 = b[0]; b1 = b[1];\n",
    "b2 = b[2]; b3 = b[3];b4 = b[4];\n",
    "b"
   ]
  },
  {
   "cell_type": "code",
   "execution_count": 56,
   "id": "3c5beb50-54ec-4af6-9eeb-a7c42d453d54",
   "metadata": {},
   "outputs": [
    {
     "name": "stdout",
     "output_type": "stream",
     "text": [
      "CPU times: user 1.13 s, sys: 14 ms, total: 1.15 s\n",
      "Wall time: 1.14 s\n"
     ]
    }
   ],
   "source": [
    "%%time\n",
    "players_dict,rh = epochsG(matches[b0[0]:b0[1]],players_dict,365)\n",
    "ratings_histories += [rh]"
   ]
  },
  {
   "cell_type": "code",
   "execution_count": 57,
   "id": "8d7a88a3-b215-4ecf-9bdf-781cb35fd16f",
   "metadata": {},
   "outputs": [],
   "source": [
    "b = splitBatch(b1,2)\n",
    "b1_0 = b[0]; b1_1 = b[1];"
   ]
  },
  {
   "cell_type": "code",
   "execution_count": 58,
   "id": "f8b8d82e-277c-499e-93d8-5472b973a57c",
   "metadata": {},
   "outputs": [
    {
     "name": "stdout",
     "output_type": "stream",
     "text": [
      "CPU times: user 961 ms, sys: 23.6 ms, total: 985 ms\n",
      "Wall time: 968 ms\n"
     ]
    }
   ],
   "source": [
    "%%time\n",
    "players_dict,rh = epochsG(matches[b1_0[0]:b1_0[1]],players_dict,365)\n",
    "ratings_histories += [rh]"
   ]
  },
  {
   "cell_type": "code",
   "execution_count": 59,
   "id": "b32e49b8-9993-4180-bb67-c2aa97fda835",
   "metadata": {},
   "outputs": [
    {
     "name": "stdout",
     "output_type": "stream",
     "text": [
      "CPU times: user 894 ms, sys: 27.1 ms, total: 922 ms\n",
      "Wall time: 904 ms\n"
     ]
    }
   ],
   "source": [
    "%%time\n",
    "players_dict,rh = epochsG(matches[b1_1[0]:b1_1[1]],players_dict,365)\n",
    "ratings_histories += [rh]"
   ]
  },
  {
   "cell_type": "code",
   "execution_count": 60,
   "id": "6524f486-53fb-4ae5-af59-f4c10874b9f9",
   "metadata": {},
   "outputs": [
    {
     "name": "stdout",
     "output_type": "stream",
     "text": [
      "CPU times: user 1.09 s, sys: 22.2 ms, total: 1.11 s\n",
      "Wall time: 1.11 s\n"
     ]
    }
   ],
   "source": [
    "%%time\n",
    "players_dict,rh = epochsG(matches[b2[0]:b2[1]],players_dict,365)\n",
    "ratings_histories += [rh]"
   ]
  },
  {
   "cell_type": "code",
   "execution_count": 61,
   "id": "62505444-3ef4-4c29-b453-0f78387d34ce",
   "metadata": {
    "tags": []
   },
   "outputs": [
    {
     "name": "stdout",
     "output_type": "stream",
     "text": [
      "CPU times: user 1.12 s, sys: 16.7 ms, total: 1.14 s\n",
      "Wall time: 1.14 s\n"
     ]
    }
   ],
   "source": [
    "%%time\n",
    "players_dict,rh = epochsG(matches[b3[0]:b3[1]],players_dict,365)\n",
    "ratings_histories += [rh]"
   ]
  },
  {
   "cell_type": "code",
   "execution_count": 62,
   "id": "1c4a5e2c-64a4-4828-9699-ba9815454ad6",
   "metadata": {
    "tags": []
   },
   "outputs": [
    {
     "name": "stdout",
     "output_type": "stream",
     "text": [
      "CPU times: user 1.16 s, sys: 5.13 ms, total: 1.17 s\n",
      "Wall time: 1.17 s\n"
     ]
    }
   ],
   "source": [
    "%%time\n",
    "players_dict,rh = epochsG(matches[b4[0]:b4[1]],players_dict,365)\n",
    "ratings_histories += [rh]"
   ]
  },
  {
   "cell_type": "code",
   "execution_count": 63,
   "id": "538078d9-e58f-4664-9528-5866072913cb",
   "metadata": {
    "tags": []
   },
   "outputs": [
    {
     "name": "stdout",
     "output_type": "stream",
     "text": [
      "CPU times: user 3.54 s, sys: 30.9 ms, total: 3.58 s\n",
      "Wall time: 3.57 s\n"
     ]
    }
   ],
   "source": [
    "%%time\n",
    "players_dict,rh = epochsG(matches[eg_batches_50[12][0]:eg_batches_50[12][1]],players_dict,365)\n",
    "ratings_histories += [rh]"
   ]
  },
  {
   "cell_type": "code",
   "execution_count": 64,
   "id": "1c10de8f-d383-4dbb-93b2-65b688234fee",
   "metadata": {
    "tags": []
   },
   "outputs": [
    {
     "name": "stdout",
     "output_type": "stream",
     "text": [
      "CPU times: user 3.59 s, sys: 31.2 ms, total: 3.62 s\n",
      "Wall time: 3.62 s\n"
     ]
    }
   ],
   "source": [
    "%%time\n",
    "players_dict,rh = epochsG(matches[eg_batches_50[13][0]:eg_batches_50[13][1]],players_dict,365)\n",
    "ratings_histories += [rh]"
   ]
  },
  {
   "cell_type": "code",
   "execution_count": 65,
   "id": "af4ae5f3-62bb-4d0d-a269-857e15057d3b",
   "metadata": {},
   "outputs": [
    {
     "data": {
      "text/plain": [
       "[(700000, 725000), (725000, 750000)]"
      ]
     },
     "execution_count": 65,
     "metadata": {},
     "output_type": "execute_result"
    }
   ],
   "source": [
    "b = splitBatch(eg_batches_50[14],2); b0 = b[0]; b1 = b[1]\n",
    "b"
   ]
  },
  {
   "cell_type": "code",
   "execution_count": 66,
   "id": "914da7d3-f638-4011-b41c-0dff98534f93",
   "metadata": {},
   "outputs": [
    {
     "name": "stdout",
     "output_type": "stream",
     "text": [
      "CPU times: user 1.8 s, sys: 22.6 ms, total: 1.82 s\n",
      "Wall time: 1.84 s\n"
     ]
    }
   ],
   "source": [
    "%%time\n",
    "players_dict,rh = epochsG(matches[b0[0]:b0[1]],players_dict,365)\n",
    "ratings_histories += [rh]"
   ]
  },
  {
   "cell_type": "code",
   "execution_count": 67,
   "id": "92feef71-fc3b-49da-becb-4c7c8475ac3f",
   "metadata": {},
   "outputs": [],
   "source": [
    "b_1 = splitBatch(b1,2)\n",
    "b_10=b_1[0];b_11=b_1[1]"
   ]
  },
  {
   "cell_type": "code",
   "execution_count": 68,
   "id": "27c065f9-d84a-4d92-873c-ee8de144d712",
   "metadata": {},
   "outputs": [
    {
     "name": "stdout",
     "output_type": "stream",
     "text": [
      "CPU times: user 1.37 s, sys: 12.8 ms, total: 1.38 s\n",
      "Wall time: 1.39 s\n"
     ]
    }
   ],
   "source": [
    "%%time\n",
    "players_dict,rh = epochsG(matches[b_10[0]:b_10[1]],players_dict,365)\n",
    "ratings_histories += [rh]"
   ]
  },
  {
   "cell_type": "code",
   "execution_count": 69,
   "id": "f666f6d2-2af9-4e0b-8d52-5b2a317140c7",
   "metadata": {},
   "outputs": [
    {
     "name": "stdout",
     "output_type": "stream",
     "text": [
      "CPU times: user 1.29 s, sys: 16.2 ms, total: 1.31 s\n",
      "Wall time: 1.3 s\n"
     ]
    }
   ],
   "source": [
    "%%time\n",
    "players_dict,rh = epochsG(matches[b_11[0]:b_11[1]],players_dict,365)\n",
    "ratings_histories += [rh]"
   ]
  },
  {
   "cell_type": "code",
   "execution_count": 70,
   "id": "a548efb1-4b34-4a22-b3f2-d57c74b3d0fe",
   "metadata": {},
   "outputs": [
    {
     "data": {
      "text/plain": [
       "[(700000, 725000), (725000, 750000)]"
      ]
     },
     "execution_count": 70,
     "metadata": {},
     "output_type": "execute_result"
    }
   ],
   "source": [
    "b = splitBatch(eg_batches_50[14],2); b0 = b[0]; b1 = b[1]\n",
    "b"
   ]
  },
  {
   "cell_type": "code",
   "execution_count": 71,
   "id": "005d026e-eb88-4d65-9b76-40fd0d23a659",
   "metadata": {},
   "outputs": [
    {
     "name": "stdout",
     "output_type": "stream",
     "text": [
      "CPU times: user 1.79 s, sys: 24.1 ms, total: 1.82 s\n",
      "Wall time: 1.81 s\n"
     ]
    }
   ],
   "source": [
    "%%time\n",
    "players_dict,rh = epochsG(matches[b0[0]:b0[1]],players_dict,365)\n",
    "ratings_histories += [rh]"
   ]
  },
  {
   "cell_type": "code",
   "execution_count": 72,
   "id": "13362734-d626-4002-a1b0-03235d5e6110",
   "metadata": {},
   "outputs": [
    {
     "name": "stdout",
     "output_type": "stream",
     "text": [
      "CPU times: user 1.84 s, sys: 16.8 ms, total: 1.85 s\n",
      "Wall time: 1.85 s\n"
     ]
    }
   ],
   "source": [
    "%%time\n",
    "players_dict,rh = epochsG(matches[b1[0]:b1[1]],players_dict,365)\n",
    "ratings_histories += [rh]"
   ]
  },
  {
   "cell_type": "code",
   "execution_count": 73,
   "id": "d956588b-4bf4-40d0-a3bb-0a0a1c9bb2b3",
   "metadata": {},
   "outputs": [],
   "source": [
    "b = splitBatch(eg_batches_50[15],4); b0 = b[0]; b1 = b[1];\n",
    "b2 = b[2]; b3 = b[3]\n"
   ]
  },
  {
   "cell_type": "code",
   "execution_count": 74,
   "id": "a322afbf-723a-47ef-85c4-992b0289017c",
   "metadata": {},
   "outputs": [
    {
     "name": "stdout",
     "output_type": "stream",
     "text": [
      "CPU times: user 1.24 s, sys: 17 ms, total: 1.26 s\n",
      "Wall time: 1.25 s\n"
     ]
    }
   ],
   "source": [
    "%%time\n",
    "players_dict,rh = epochsG(matches[b0[0]:b0[1]],players_dict,365)\n",
    "ratings_histories += [rh]"
   ]
  },
  {
   "cell_type": "code",
   "execution_count": 75,
   "id": "02099b1a-0bc6-4813-b75b-cac3625c0a7a",
   "metadata": {},
   "outputs": [
    {
     "name": "stdout",
     "output_type": "stream",
     "text": [
      "CPU times: user 1.32 s, sys: 19.5 ms, total: 1.34 s\n",
      "Wall time: 1.34 s\n"
     ]
    }
   ],
   "source": [
    "%%time\n",
    "players_dict,rh = epochsG(matches[b1[0]:b1[1]],players_dict,365)\n",
    "ratings_histories += [rh]"
   ]
  },
  {
   "cell_type": "code",
   "execution_count": 76,
   "id": "fef48fb4-28f6-4abd-a272-3db99a2b63ac",
   "metadata": {},
   "outputs": [
    {
     "name": "stdout",
     "output_type": "stream",
     "text": [
      "CPU times: user 1.3 s, sys: 27.3 ms, total: 1.33 s\n",
      "Wall time: 1.32 s\n"
     ]
    }
   ],
   "source": [
    "%%time\n",
    "players_dict,rh = epochsG(matches[b2[0]:b2[1]],players_dict,365)\n",
    "ratings_histories += [rh]"
   ]
  },
  {
   "cell_type": "code",
   "execution_count": 77,
   "id": "06dcf1fc-18ee-4c2a-9a2a-b995175fb2d0",
   "metadata": {},
   "outputs": [
    {
     "name": "stdout",
     "output_type": "stream",
     "text": [
      "CPU times: user 1.08 s, sys: 17.1 ms, total: 1.1 s\n",
      "Wall time: 1.1 s\n"
     ]
    }
   ],
   "source": [
    "%%time\n",
    "players_dict,rh = epochsG(matches[b3[0]:b3[1]],players_dict,365)\n",
    "ratings_histories += [rh]"
   ]
  },
  {
   "cell_type": "code",
   "execution_count": 78,
   "id": "1f05850c-f2b6-4765-a747-cd822f49afb4",
   "metadata": {
    "tags": []
   },
   "outputs": [
    {
     "name": "stdout",
     "output_type": "stream",
     "text": [
      "CPU times: user 3.69 s, sys: 69.1 ms, total: 3.76 s\n",
      "Wall time: 3.76 s\n"
     ]
    }
   ],
   "source": [
    "%%time\n",
    "players_dict,rh = epochsG(matches[eg_batches_50[16][0]:eg_batches_50[16][1]],players_dict,365)\n",
    "ratings_histories += [rh]"
   ]
  },
  {
   "cell_type": "code",
   "execution_count": 79,
   "id": "cf74c159-3957-4bd9-b773-525a77528c64",
   "metadata": {},
   "outputs": [
    {
     "data": {
      "text/plain": [
       "[(850000, 856745), (856745, 863490), (863490, 870235), (870235, 876979)]"
      ]
     },
     "execution_count": 79,
     "metadata": {},
     "output_type": "execute_result"
    }
   ],
   "source": [
    "b = splitBatch(eg_batches_50[17],4)\n",
    "b0 = b[0]; b1 = b[1]\n",
    "b"
   ]
  },
  {
   "cell_type": "code",
   "execution_count": 80,
   "id": "d0157782-055b-42fd-ac6c-ef922881c706",
   "metadata": {},
   "outputs": [
    {
     "name": "stdout",
     "output_type": "stream",
     "text": [
      "CPU times: user 847 ms, sys: 18.3 ms, total: 865 ms\n",
      "Wall time: 860 ms\n"
     ]
    }
   ],
   "source": [
    "%%time\n",
    "players_dict,rh = epochsG(matches[b0[0]:b0[1]],players_dict,365)\n",
    "ratings_histories += [rh]"
   ]
  },
  {
   "cell_type": "code",
   "execution_count": 81,
   "id": "707b29d6-f2e5-4729-918b-fbee64373867",
   "metadata": {
    "tags": []
   },
   "outputs": [
    {
     "data": {
      "text/html": [
       "<div>\n",
       "<style scoped>\n",
       "    .dataframe tbody tr th:only-of-type {\n",
       "        vertical-align: middle;\n",
       "    }\n",
       "\n",
       "    .dataframe tbody tr th {\n",
       "        vertical-align: top;\n",
       "    }\n",
       "\n",
       "    .dataframe thead th {\n",
       "        text-align: right;\n",
       "    }\n",
       "</style>\n",
       "<table border=\"1\" class=\"dataframe\">\n",
       "  <thead>\n",
       "    <tr style=\"text-align: right;\">\n",
       "      <th></th>\n",
       "      <th>tourney_date</th>\n",
       "      <th>winner_id</th>\n",
       "      <th>loser_id</th>\n",
       "      <th>tourney_id</th>\n",
       "    </tr>\n",
       "  </thead>\n",
       "  <tbody>\n",
       "    <tr>\n",
       "      <th>850000</th>\n",
       "      <td>2022-02-07</td>\n",
       "      <td>202400</td>\n",
       "      <td>202260</td>\n",
       "      <td>2022-M-ITF-GBR-04A-2022</td>\n",
       "    </tr>\n",
       "    <tr>\n",
       "      <th>850001</th>\n",
       "      <td>2022-02-07</td>\n",
       "      <td>202400</td>\n",
       "      <td>207784</td>\n",
       "      <td>2022-M-ITF-GBR-04A-2022</td>\n",
       "    </tr>\n",
       "    <tr>\n",
       "      <th>850002</th>\n",
       "      <td>2022-02-07</td>\n",
       "      <td>202260</td>\n",
       "      <td>208316</td>\n",
       "      <td>2022-M-ITF-GBR-04A-2022</td>\n",
       "    </tr>\n",
       "    <tr>\n",
       "      <th>850003</th>\n",
       "      <td>2022-02-07</td>\n",
       "      <td>105899</td>\n",
       "      <td>105181</td>\n",
       "      <td>2022-M-ITF-TUR-05A-2022</td>\n",
       "    </tr>\n",
       "    <tr>\n",
       "      <th>850004</th>\n",
       "      <td>2022-02-07</td>\n",
       "      <td>210472</td>\n",
       "      <td>208300</td>\n",
       "      <td>2022-M-ITF-GBR-04A-2022</td>\n",
       "    </tr>\n",
       "    <tr>\n",
       "      <th>...</th>\n",
       "      <td>...</td>\n",
       "      <td>...</td>\n",
       "      <td>...</td>\n",
       "      <td>...</td>\n",
       "    </tr>\n",
       "    <tr>\n",
       "      <th>856740</th>\n",
       "      <td>2022-05-09</td>\n",
       "      <td>133975</td>\n",
       "      <td>109699</td>\n",
       "      <td>2022-0460</td>\n",
       "    </tr>\n",
       "    <tr>\n",
       "      <th>856741</th>\n",
       "      <td>2022-05-09</td>\n",
       "      <td>200484</td>\n",
       "      <td>200095</td>\n",
       "      <td>2022-0460</td>\n",
       "    </tr>\n",
       "    <tr>\n",
       "      <th>856742</th>\n",
       "      <td>2022-05-09</td>\n",
       "      <td>106310</td>\n",
       "      <td>105430</td>\n",
       "      <td>2022-0460</td>\n",
       "    </tr>\n",
       "    <tr>\n",
       "      <th>856743</th>\n",
       "      <td>2022-05-09</td>\n",
       "      <td>105181</td>\n",
       "      <td>111576</td>\n",
       "      <td>2022-0460</td>\n",
       "    </tr>\n",
       "    <tr>\n",
       "      <th>856744</th>\n",
       "      <td>2022-05-09</td>\n",
       "      <td>207797</td>\n",
       "      <td>106216</td>\n",
       "      <td>2022-0460</td>\n",
       "    </tr>\n",
       "  </tbody>\n",
       "</table>\n",
       "<p>6745 rows × 4 columns</p>\n",
       "</div>"
      ],
      "text/plain": [
       "       tourney_date  winner_id  loser_id               tourney_id\n",
       "850000   2022-02-07     202400    202260  2022-M-ITF-GBR-04A-2022\n",
       "850001   2022-02-07     202400    207784  2022-M-ITF-GBR-04A-2022\n",
       "850002   2022-02-07     202260    208316  2022-M-ITF-GBR-04A-2022\n",
       "850003   2022-02-07     105899    105181  2022-M-ITF-TUR-05A-2022\n",
       "850004   2022-02-07     210472    208300  2022-M-ITF-GBR-04A-2022\n",
       "...             ...        ...       ...                      ...\n",
       "856740   2022-05-09     133975    109699                2022-0460\n",
       "856741   2022-05-09     200484    200095                2022-0460\n",
       "856742   2022-05-09     106310    105430                2022-0460\n",
       "856743   2022-05-09     105181    111576                2022-0460\n",
       "856744   2022-05-09     207797    106216                2022-0460\n",
       "\n",
       "[6745 rows x 4 columns]"
      ]
     },
     "execution_count": 81,
     "metadata": {},
     "output_type": "execute_result"
    }
   ],
   "source": [
    "matches[b0[0]:b0[1]]"
   ]
  },
  {
   "cell_type": "code",
   "execution_count": 82,
   "id": "b29a5af5-eddd-4af7-a8fa-0a0451f75dfe",
   "metadata": {},
   "outputs": [
    {
     "data": {
      "text/plain": [
       "[(850000, 856745), (856745, 863490), (863490, 870235), (870235, 876979)]"
      ]
     },
     "execution_count": 82,
     "metadata": {},
     "output_type": "execute_result"
    }
   ],
   "source": [
    "b = splitBatch(eg_batches_50[17],4)\n",
    "b0 = b[0]; b1 = b[1]; b2 = b[2]; b3 = b[3];\n",
    "b"
   ]
  },
  {
   "cell_type": "code",
   "execution_count": 83,
   "id": "6733ce61-a696-451d-9523-858d0d3a7dbd",
   "metadata": {},
   "outputs": [
    {
     "name": "stdout",
     "output_type": "stream",
     "text": [
      "CPU times: user 867 ms, sys: 27.7 ms, total: 895 ms\n",
      "Wall time: 880 ms\n"
     ]
    }
   ],
   "source": [
    "%%time\n",
    "players_dict,rh = epochsG(matches[b0[0]:b0[1]],players_dict,365)\n",
    "ratings_histories += [rh]"
   ]
  },
  {
   "cell_type": "code",
   "execution_count": 84,
   "id": "5e9276fe-1ecc-4c45-8a97-66ccd3125f90",
   "metadata": {},
   "outputs": [
    {
     "name": "stdout",
     "output_type": "stream",
     "text": [
      "CPU times: user 995 ms, sys: 17 ms, total: 1.01 s\n",
      "Wall time: 1.01 s\n"
     ]
    }
   ],
   "source": [
    "%%time\n",
    "players_dict,rh = epochsG(matches[b1[0]:b1[1]],players_dict,365)\n",
    "ratings_histories += [rh]"
   ]
  },
  {
   "cell_type": "code",
   "execution_count": 85,
   "id": "6dfe7f55-9ed4-46c3-b7fe-ba05e24ced48",
   "metadata": {},
   "outputs": [
    {
     "name": "stdout",
     "output_type": "stream",
     "text": [
      "CPU times: user 1.04 s, sys: 18 ms, total: 1.06 s\n",
      "Wall time: 1.06 s\n"
     ]
    }
   ],
   "source": [
    "%%time\n",
    "players_dict,rh = epochsG(matches[b2[0]:b2[1]],players_dict,365)\n",
    "ratings_histories += [rh]"
   ]
  },
  {
   "cell_type": "code",
   "execution_count": 86,
   "id": "9a7cb304-de69-45be-bfe0-74f5bb890e9b",
   "metadata": {},
   "outputs": [
    {
     "name": "stdout",
     "output_type": "stream",
     "text": [
      "CPU times: user 983 ms, sys: 17.1 ms, total: 1 s\n",
      "Wall time: 992 ms\n"
     ]
    }
   ],
   "source": [
    "%%time\n",
    "players_dict,rh = epochsG(matches[b3[0]:b3[1]],players_dict,365)\n",
    "ratings_histories += [rh]"
   ]
  },
  {
   "cell_type": "code",
   "execution_count": 87,
   "id": "3a1e4d3e-b812-4f66-a929-d78445c950a5",
   "metadata": {
    "tags": []
   },
   "outputs": [],
   "source": [
    "ratingsrdHistory = {}\n",
    "for rh in ratings_histories:\n",
    "    ratingsrdHistory.update(rh)"
   ]
  },
  {
   "cell_type": "code",
   "execution_count": 88,
   "id": "83d784eb-38ed-4c0c-a84a-7b3c5fdefff0",
   "metadata": {},
   "outputs": [],
   "source": [
    "rdHistory = {key: ratingsrdHistory[key][1] for key in ratingsrdHistory.keys()}\n",
    "ratingsHistory = {key: ratingsrdHistory[key][0] for key in ratingsrdHistory.keys()}"
   ]
  },
  {
   "cell_type": "code",
   "execution_count": 89,
   "id": "073901e2-0c55-474d-bd0c-fc9828148184",
   "metadata": {
    "tags": []
   },
   "outputs": [],
   "source": [
    "ratingsHistory_df = assembleDf(ratingsHistory)\n",
    "rdHistory_df = assembleDf(rdHistory)"
   ]
  },
  {
   "cell_type": "code",
   "execution_count": 90,
   "id": "10498cad-14aa-4356-8dfc-a0cde97e0ccc",
   "metadata": {
    "tags": []
   },
   "outputs": [],
   "source": [
    "padRow = pd.DataFrame({col: 1500 for col in ratingsHistory_df.columns}, \n",
    "                      index = [pd.Timestamp('1877-07-09T00')])\n",
    "padRowrd = pd.DataFrame({col: 350 for col in ratingsHistory_df.columns}, \n",
    "                      index = [pd.Timestamp('1877-07-09T00')])"
   ]
  },
  {
   "cell_type": "code",
   "execution_count": 91,
   "id": "ce3ae646-3ee7-4573-b11f-c0bedeb95c12",
   "metadata": {},
   "outputs": [],
   "source": [
    "ratingsHistory_df= pd.concat([padRow,ratingsHistory_df],axis=0)\n",
    "rdHistory_df = pd.concat([padRowrd,rdHistory_df],axis=0)"
   ]
  },
  {
   "cell_type": "code",
   "execution_count": 92,
   "id": "1beb151d-a6e5-461e-afba-d9250231d725",
   "metadata": {
    "tags": []
   },
   "outputs": [],
   "source": [
    "ratingsHistory_df = ratingsHistory_df.ffill(axis=0).fillna(1500)\n",
    "rdHistory_df = rdHistory_df.ffill(axis=0).fillna(350)"
   ]
  },
  {
   "cell_type": "code",
   "execution_count": 93,
   "id": "06fef102-2c6f-4775-a14d-f959681d5dac",
   "metadata": {},
   "outputs": [],
   "source": [
    "ratingsHistory_df.to_csv('./ratings_histories_glicko2.csv')\n",
    "rdHistory_df.to_csv('./rd_histories_glicko2.csv')"
   ]
  },
  {
   "cell_type": "code",
   "execution_count": 103,
   "id": "33e55b4f-42db-44a1-b035-6fc32b249a28",
   "metadata": {},
   "outputs": [
    {
     "data": {
      "text/plain": [
       "DatetimeIndex(['1877-07-09', '1878-07-09', '1879-07-09', '1880-07-08',\n",
       "               '1881-07-08', '1882-07-08', '1883-07-08', '1884-07-07',\n",
       "               '1885-07-07', '1886-07-07',\n",
       "               ...\n",
       "               '2018-07-16', '2018-12-03', '2019-06-10', '2020-06-09',\n",
       "               '2021-06-09', '2022-02-07', '2022-05-09', '2022-07-18',\n",
       "               '2022-09-26', '2022-12-26'],\n",
       "              dtype='datetime64[ns]', length=179, freq=None)"
      ]
     },
     "execution_count": 103,
     "metadata": {},
     "output_type": "execute_result"
    }
   ],
   "source": [
    "ratingsHistory_df.columns"
   ]
  },
  {
   "cell_type": "code",
   "execution_count": 100,
   "id": "8f21fbae-c9e3-4717-b16a-c3d0469a0f57",
   "metadata": {},
   "outputs": [],
   "source": [
    "id_keys = [key[0] for key in  ratingsHistory.keys()]"
   ]
  },
  {
   "cell_type": "code",
   "execution_count": 101,
   "id": "7b84c156-9836-4222-a85a-4ec718e015eb",
   "metadata": {},
   "outputs": [
    {
     "data": {
      "text/plain": [
       "False"
      ]
     },
     "execution_count": 101,
     "metadata": {},
     "output_type": "execute_result"
    }
   ],
   "source": [
    "131879 in id_keys"
   ]
  }
 ],
 "metadata": {
  "kernelspec": {
   "display_name": "Python 3 (ipykernel)",
   "language": "python",
   "name": "python3"
  },
  "language_info": {
   "codemirror_mode": {
    "name": "ipython",
    "version": 3
   },
   "file_extension": ".py",
   "mimetype": "text/x-python",
   "name": "python",
   "nbconvert_exporter": "python",
   "pygments_lexer": "ipython3",
   "version": "3.9.13"
  }
 },
 "nbformat": 4,
 "nbformat_minor": 5
}
