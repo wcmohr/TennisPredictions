{
 "cells": [
  {
   "cell_type": "code",
   "execution_count": 12,
   "id": "cf4b92fa-d27b-47e2-b481-ee6467d87a22",
   "metadata": {},
   "outputs": [],
   "source": [
    "import pandas as pd\n",
    "from functions import epoch, epochs, cutDf\n",
    "from datetime import datetime, timedelta\n",
    "import numpy as np\n",
    "import sys\n",
    "sys.path.append('..')\n",
    "from pyglicko2.glicko2_tests import exampleCase\n",
    "from pyglicko2.glicko2 import Player\n",
    "import glicko2\n",
    "import time\n"
   ]
  },
  {
   "cell_type": "code",
   "execution_count": 3,
   "id": "b2967aa4-0a53-4720-9eee-272a296b5dd1",
   "metadata": {},
   "outputs": [],
   "source": [
    "matches = pd.read_csv('../Data/matches_glicko2.csv')"
   ]
  },
  {
   "cell_type": "code",
   "execution_count": 4,
   "id": "c6334c00-ddf9-4e36-ad6a-349462753801",
   "metadata": {
    "tags": []
   },
   "outputs": [],
   "source": [
    "matches['tourney_date'] = matches['tourney_date'].apply(\n",
    "    lambda x: pd.to_datetime(str(x), format='%Y%m%d')) # convert the tourney_date to datetime"
   ]
  },
  {
   "cell_type": "code",
   "execution_count": 8,
   "id": "89725139-d8b1-4301-8b8d-791aa39d999a",
   "metadata": {},
   "outputs": [
    {
     "data": {
      "text/plain": [
       "6"
      ]
     },
     "execution_count": 8,
     "metadata": {},
     "output_type": "execute_result"
    }
   ],
   "source": [
    "np.sum([1,2,3])"
   ]
  },
  {
   "cell_type": "code",
   "execution_count": null,
   "id": "d10067f5-937a-4251-8e6b-5b3b715ffc67",
   "metadata": {},
   "outputs": [],
   "source": [
    "start = time.time()\n",
    "epochs(cutDf(matches_glicko2,756977,805977,'tourney_date'),365)\n",
    "compute_time = time.time()-start\n",
    "print(compute_time)"
   ]
  },
  {
   "cell_type": "code",
   "execution_count": 128,
   "id": "131c607c-8c6e-4472-b247-b2753f3385d0",
   "metadata": {},
   "outputs": [],
   "source": [
    "for x in []:\n",
    "    print(type(x))"
   ]
  },
  {
   "cell_type": "code",
   "execution_count": 122,
   "id": "197014f2-5d0f-4062-80c0-9f3a2e282418",
   "metadata": {},
   "outputs": [
    {
     "data": {
      "text/plain": [
       "{1: <pyglicko2.glicko2.Player at 0x7fe0b0226c70>}"
      ]
     },
     "execution_count": 122,
     "metadata": {},
     "output_type": "execute_result"
    }
   ],
   "source": [
    "players_to_instantiate = list(set([1,2]) - set([1,2]))\n",
    "new_players = {player: Player() for player in players_to_instantiate}"
   ]
  },
  {
   "cell_type": "code",
   "execution_count": 138,
   "id": "d1eae222-2149-4200-a85b-99030476bd5b",
   "metadata": {},
   "outputs": [],
   "source": [
    "def epoch(matches, players_dict):\n",
    "    '''Take in a dataframe with matches, a list of players, a dictionary of players with the elements\n",
    "    of player list as keys and an instance of the glicko2 class Player() as the value.\n",
    "    This function wll return the updated players_list and players_dict.'''\n",
    "    \n",
    "    players_list = list(players_dict.keys())\n",
    "    players = [p for p in np.append(matches['winner_id'].unique(),\\\n",
    "                                                matches['loser_id'].unique())]\n",
    "    # instantiate player class for players not yet instantiated\n",
    "    players_to_instantiate = list(set(players) - set(players_list))\n",
    "    \n",
    "    new_players = {player: Player() for player in players_to_instantiate}\n",
    "    # print(type(new_players))\n",
    "\n",
    "    # update list of instantiated players\n",
    "    players_list = list(set(players).union(set(players_list)))\n",
    "    # update dictionary of instantiated players\n",
    "    players_dict.update(new_players)\n",
    "    # print(type(players_dict))\n",
    "    # determine who competed and who didn't\n",
    "    players_dnc = list(set(players_list) - set(players))\n",
    "    players_compete = list(set(players_list)-set(players_dnc))\n",
    "    # print(f'{players_compete=}')\n",
    "    # update rating deviation for players who didn't compete\n",
    "    for player in players_dnc:\n",
    "        players_dict[player].did_not_compete()\n",
    "    # fill dictionary with (wins,losses), a tuple of list of opponents in wins and losses for each match\n",
    "    results = {}\n",
    "    # update players who did compete\n",
    "    for player in players_compete:\n",
    "        # get id of players they beat\n",
    "        wins = [winner for winner in matches[matches['winner_id']==player]['loser_id']]\n",
    "        # get id of players they lost to\n",
    "        losses = [loser for loser in matches[matches['loser_id']== player]['winner_id']]\n",
    "        # get opponents' rating and rd\n",
    "        losses_rating = [players_dict[loss].getRating() for loss in losses]\n",
    "        losses_rd = [players_dict[loss].getRd() for loss in losses]\n",
    "        wins_rating = [players_dict[win].getRating() for win in wins]\n",
    "        wins_rd = [players_dict[win].getRd() for win in wins]\n",
    "        outcomes = np.append(np.ones(len(wins)),np.zeros(len(losses)))\n",
    "        opponent_rating = wins_rating + losses_rating\n",
    "        # print(f'{opponent_rating=}')\n",
    "        opponent_rd = wins_rd + losses_rd\n",
    "        results[player] = (opponent_rating, opponent_rd, outcomes)\n",
    "        \n",
    "    # update players\n",
    "    for player in list(results.keys()):\n",
    "        (rating_list, RD_list, outcome_list) = results[player]\n",
    "        # print(f'{rating_list=}, {RD_list=}, {outcome_list=}')\n",
    "        players_dict[player].update_player(rating_list, RD_list, outcome_list)\n",
    "    return players_dict\n",
    "    # opponent_indices = matches[matches['loser_id'].str==player '']\n"
   ]
  },
  {
   "cell_type": "code",
   "execution_count": 140,
   "id": "79ebc073-7df5-476a-b3cc-a1a9e5b3e5b1",
   "metadata": {
    "collapsed": true,
    "jupyter": {
     "outputs_hidden": true
    },
    "tags": []
   },
   "outputs": [
    {
     "data": {
      "text/plain": [
       "{114688: <pyglicko2.glicko2.Player at 0x7fe0b00cae80>,\n",
       " 114689: <pyglicko2.glicko2.Player at 0x7fe0b00ca3d0>,\n",
       " 114690: <pyglicko2.glicko2.Player at 0x7fe0b00cae20>,\n",
       " 114692: <pyglicko2.glicko2.Player at 0x7fe0e15d4610>,\n",
       " 114693: <pyglicko2.glicko2.Player at 0x7fe0e15d4640>,\n",
       " 114695: <pyglicko2.glicko2.Player at 0x7fe0e15d46a0>,\n",
       " 114697: <pyglicko2.glicko2.Player at 0x7fe0e15d4700>,\n",
       " 114699: <pyglicko2.glicko2.Player at 0x7fe0e15d4760>,\n",
       " 114700: <pyglicko2.glicko2.Player at 0x7fe0e15d47c0>,\n",
       " 114701: <pyglicko2.glicko2.Player at 0x7fe0e15d4820>,\n",
       " 114702: <pyglicko2.glicko2.Player at 0x7fe0e15d4880>,\n",
       " 114703: <pyglicko2.glicko2.Player at 0x7fe0e15d48e0>,\n",
       " 114704: <pyglicko2.glicko2.Player at 0x7fe0e15d4940>,\n",
       " 114705: <pyglicko2.glicko2.Player at 0x7fe0e15d49a0>,\n",
       " 114706: <pyglicko2.glicko2.Player at 0x7fe0e15d4a00>,\n",
       " 114707: <pyglicko2.glicko2.Player at 0x7fe0e15d4a60>,\n",
       " 114708: <pyglicko2.glicko2.Player at 0x7fe0e15d4ac0>,\n",
       " 114709: <pyglicko2.glicko2.Player at 0x7fe0e15d4b20>,\n",
       " 114710: <pyglicko2.glicko2.Player at 0x7fe0e15d4b80>,\n",
       " 114711: <pyglicko2.glicko2.Player at 0x7fe0e15d4be0>,\n",
       " 114712: <pyglicko2.glicko2.Player at 0x7fe0e15d4c40>,\n",
       " 114713: <pyglicko2.glicko2.Player at 0x7fe0e15d4ca0>,\n",
       " 114714: <pyglicko2.glicko2.Player at 0x7fe0e15d4d00>,\n",
       " 114715: <pyglicko2.glicko2.Player at 0x7fe0e15d4d60>,\n",
       " 114716: <pyglicko2.glicko2.Player at 0x7fe0e15d4dc0>,\n",
       " 114717: <pyglicko2.glicko2.Player at 0x7fe0e15d4e20>,\n",
       " 114718: <pyglicko2.glicko2.Player at 0x7fe0e15d4e80>,\n",
       " 114719: <pyglicko2.glicko2.Player at 0x7fe0e15d4ee0>,\n",
       " 114720: <pyglicko2.glicko2.Player at 0x7fe0e15d4f40>,\n",
       " 114721: <pyglicko2.glicko2.Player at 0x7fe0e15d4fa0>,\n",
       " 114722: <pyglicko2.glicko2.Player at 0x7fe0e15eb040>,\n",
       " 114723: <pyglicko2.glicko2.Player at 0x7fe0e15eb0a0>,\n",
       " 114724: <pyglicko2.glicko2.Player at 0x7fe0e15eb100>,\n",
       " 114725: <pyglicko2.glicko2.Player at 0x7fe0e15eb160>,\n",
       " 114726: <pyglicko2.glicko2.Player at 0x7fe0e15eb1c0>,\n",
       " 114727: <pyglicko2.glicko2.Player at 0x7fe0e15eb220>,\n",
       " 114728: <pyglicko2.glicko2.Player at 0x7fe0e15eb280>,\n",
       " 114729: <pyglicko2.glicko2.Player at 0x7fe0e15eb2e0>,\n",
       " 114730: <pyglicko2.glicko2.Player at 0x7fe0e15eb340>,\n",
       " 114731: <pyglicko2.glicko2.Player at 0x7fe0e15eb3a0>,\n",
       " 114732: <pyglicko2.glicko2.Player at 0x7fe0e15eb400>,\n",
       " 114733: <pyglicko2.glicko2.Player at 0x7fe0e15eb460>,\n",
       " 114734: <pyglicko2.glicko2.Player at 0x7fe0e15eb4c0>,\n",
       " 113959: <pyglicko2.glicko2.Player at 0x7fe0e15eb520>,\n",
       " 113960: <pyglicko2.glicko2.Player at 0x7fe0e15eb580>,\n",
       " 113962: <pyglicko2.glicko2.Player at 0x7fe0e15eb5e0>,\n",
       " 113963: <pyglicko2.glicko2.Player at 0x7fe0e15eb640>,\n",
       " 113967: <pyglicko2.glicko2.Player at 0x7fe0e15eb6a0>,\n",
       " 113968: <pyglicko2.glicko2.Player at 0x7fe0e15eb700>,\n",
       " 113973: <pyglicko2.glicko2.Player at 0x7fe0e15eb760>,\n",
       " 113974: <pyglicko2.glicko2.Player at 0x7fe0e15eb7c0>,\n",
       " 113988: <pyglicko2.glicko2.Player at 0x7fe0e15eb820>,\n",
       " 113991: <pyglicko2.glicko2.Player at 0x7fe0e15eb880>,\n",
       " 113992: <pyglicko2.glicko2.Player at 0x7fe0e15eb8e0>,\n",
       " 113993: <pyglicko2.glicko2.Player at 0x7fe0e15eb940>,\n",
       " 113995: <pyglicko2.glicko2.Player at 0x7fe0e15eb9a0>,\n",
       " 113996: <pyglicko2.glicko2.Player at 0x7fe0e15eba00>,\n",
       " 113998: <pyglicko2.glicko2.Player at 0x7fe0e15eba60>,\n",
       " 113999: <pyglicko2.glicko2.Player at 0x7fe0e15ebac0>,\n",
       " 114000: <pyglicko2.glicko2.Player at 0x7fe0e15ebb20>,\n",
       " 114002: <pyglicko2.glicko2.Player at 0x7fe0e15ebb80>,\n",
       " 114004: <pyglicko2.glicko2.Player at 0x7fe0e15ebbe0>,\n",
       " 114010: <pyglicko2.glicko2.Player at 0x7fe0e15ebc40>,\n",
       " 114014: <pyglicko2.glicko2.Player at 0x7fe0e15ebca0>,\n",
       " 114015: <pyglicko2.glicko2.Player at 0x7fe0e15ebd00>,\n",
       " 114019: <pyglicko2.glicko2.Player at 0x7fe0e15ebd60>,\n",
       " 114022: <pyglicko2.glicko2.Player at 0x7fe0e15ebdc0>,\n",
       " 114564: <pyglicko2.glicko2.Player at 0x7fe0e15ebe20>,\n",
       " 114580: <pyglicko2.glicko2.Player at 0x7fe0e15ebe80>,\n",
       " 114589: <pyglicko2.glicko2.Player at 0x7fe0e15ebee0>,\n",
       " 114590: <pyglicko2.glicko2.Player at 0x7fe0e15ebf40>,\n",
       " 113957: <pyglicko2.glicko2.Player at 0x7fe0e15ebfa0>,\n",
       " 114634: <pyglicko2.glicko2.Player at 0x7fe0e15e5040>,\n",
       " 114637: <pyglicko2.glicko2.Player at 0x7fe0e15e50a0>,\n",
       " 114652: <pyglicko2.glicko2.Player at 0x7fe0e15e5100>,\n",
       " 114653: <pyglicko2.glicko2.Player at 0x7fe0e15e5160>,\n",
       " 114657: <pyglicko2.glicko2.Player at 0x7fe0e15e51c0>,\n",
       " 114146: <pyglicko2.glicko2.Player at 0x7fe0e15e5220>,\n",
       " 114673: <pyglicko2.glicko2.Player at 0x7fe0e15e5280>,\n",
       " 114677: <pyglicko2.glicko2.Player at 0x7fe0e15e52e0>,\n",
       " 114680: <pyglicko2.glicko2.Player at 0x7fe0e15e5340>,\n",
       " 114681: <pyglicko2.glicko2.Player at 0x7fe0e15e53a0>,\n",
       " 114684: <pyglicko2.glicko2.Player at 0x7fe0e15e5400>,\n",
       " 114685: <pyglicko2.glicko2.Player at 0x7fe0e15e5460>,\n",
       " 114686: <pyglicko2.glicko2.Player at 0x7fe0e15e54c0>,\n",
       " 114687: <pyglicko2.glicko2.Player at 0x7fe0e15e5520>}"
      ]
     },
     "execution_count": 140,
     "metadata": {},
     "output_type": "execute_result"
    }
   ],
   "source": [
    "epoch(matches[100: 200],{})"
   ]
  },
  {
   "cell_type": "code",
   "execution_count": null,
   "id": "2a05d30e-5aa2-4f7e-b778-fe6d73c14618",
   "metadata": {},
   "outputs": [],
   "source": []
  },
  {
   "cell_type": "code",
   "execution_count": 24,
   "id": "73609e30-0c1f-4b12-91de-ebdb62f61da0",
   "metadata": {},
   "outputs": [
    {
     "data": {
      "text/plain": [
       "125.28257142857143"
      ]
     },
     "execution_count": 24,
     "metadata": {},
     "output_type": "execute_result"
    }
   ],
   "source": [
    "matches.shape[0]/7000"
   ]
  },
  {
   "cell_type": "code",
   "execution_count": 102,
   "id": "90591c92-ab92-4083-8bb7-4d5525dcb9d8",
   "metadata": {},
   "outputs": [
    {
     "data": {
      "text/plain": [
       "(5197, 4)"
      ]
     },
     "execution_count": 102,
     "metadata": {},
     "output_type": "execute_result"
    }
   ],
   "source": [
    "matches[11800: 16997].shape"
   ]
  },
  {
   "cell_type": "code",
   "execution_count": 76,
   "id": "28be5410-3944-4f17-8889-8fb7622df673",
   "metadata": {},
   "outputs": [
    {
     "data": {
      "text/plain": [
       "(5347, 4)"
      ]
     },
     "execution_count": 76,
     "metadata": {},
     "output_type": "execute_result"
    }
   ],
   "source": [
    "matches[11650:16997].shape"
   ]
  },
  {
   "cell_type": "code",
   "execution_count": 131,
   "id": "1a40211e-99a0-4449-ba09-d26589775ee6",
   "metadata": {},
   "outputs": [
    {
     "ename": "KeyboardInterrupt",
     "evalue": "",
     "output_type": "error",
     "traceback": [
      "\u001b[0;31m---------------------------------------------------------------------------\u001b[0m",
      "\u001b[0;31mKeyboardInterrupt\u001b[0m                         Traceback (most recent call last)",
      "\u001b[0;32m/var/folders/7q/63cgxnn50sl5zwxkchv_j2cr0000gn/T/ipykernel_975/3163087637.py\u001b[0m in \u001b[0;36m<module>\u001b[0;34m\u001b[0m\n\u001b[1;32m      1\u001b[0m \u001b[0mstart\u001b[0m \u001b[0;34m=\u001b[0m \u001b[0mtime\u001b[0m\u001b[0;34m.\u001b[0m\u001b[0mtime\u001b[0m\u001b[0;34m(\u001b[0m\u001b[0;34m)\u001b[0m\u001b[0;34m\u001b[0m\u001b[0;34m\u001b[0m\u001b[0m\n\u001b[0;32m----> 2\u001b[0;31m \u001b[0mepoch\u001b[0m\u001b[0;34m(\u001b[0m\u001b[0mmatches\u001b[0m\u001b[0;34m[\u001b[0m\u001b[0;36m12837\u001b[0m\u001b[0;34m:\u001b[0m\u001b[0;36m17000\u001b[0m\u001b[0;34m]\u001b[0m\u001b[0;34m,\u001b[0m\u001b[0;34m{\u001b[0m\u001b[0;34m}\u001b[0m\u001b[0;34m)\u001b[0m\u001b[0;34m\u001b[0m\u001b[0;34m\u001b[0m\u001b[0m\n\u001b[0m\u001b[1;32m      3\u001b[0m \u001b[0mcompute_time\u001b[0m \u001b[0;34m=\u001b[0m \u001b[0mtime\u001b[0m\u001b[0;34m.\u001b[0m\u001b[0mtime\u001b[0m\u001b[0;34m(\u001b[0m\u001b[0;34m)\u001b[0m\u001b[0;34m-\u001b[0m\u001b[0mstart\u001b[0m\u001b[0;34m\u001b[0m\u001b[0;34m\u001b[0m\u001b[0m\n\u001b[1;32m      4\u001b[0m \u001b[0mprint\u001b[0m\u001b[0;34m(\u001b[0m\u001b[0mcompute_time\u001b[0m\u001b[0;34m)\u001b[0m\u001b[0;34m\u001b[0m\u001b[0;34m\u001b[0m\u001b[0m\n",
      "\u001b[0;32m~/dsir/capstone/Notebooks/functions.py\u001b[0m in \u001b[0;36mepoch\u001b[0;34m(matches, players_dict)\u001b[0m\n\u001b[1;32m     56\u001b[0m         \u001b[0;34m(\u001b[0m\u001b[0mrating_list\u001b[0m\u001b[0;34m,\u001b[0m \u001b[0mRD_list\u001b[0m\u001b[0;34m,\u001b[0m \u001b[0moutcome_list\u001b[0m\u001b[0;34m)\u001b[0m \u001b[0;34m=\u001b[0m \u001b[0mresults\u001b[0m\u001b[0;34m[\u001b[0m\u001b[0mplayer\u001b[0m\u001b[0;34m]\u001b[0m\u001b[0;34m\u001b[0m\u001b[0;34m\u001b[0m\u001b[0m\n\u001b[1;32m     57\u001b[0m         \u001b[0;31m# print(f'{rating_list=}, {RD_list=}, {outcome_list=}')\u001b[0m\u001b[0;34m\u001b[0m\u001b[0;34m\u001b[0m\u001b[0m\n\u001b[0;32m---> 58\u001b[0;31m         \u001b[0mplayers_dict\u001b[0m\u001b[0;34m[\u001b[0m\u001b[0mplayer\u001b[0m\u001b[0;34m]\u001b[0m\u001b[0;34m.\u001b[0m\u001b[0mupdate_player\u001b[0m\u001b[0;34m(\u001b[0m\u001b[0mrating_list\u001b[0m\u001b[0;34m,\u001b[0m \u001b[0mRD_list\u001b[0m\u001b[0;34m,\u001b[0m \u001b[0moutcome_list\u001b[0m\u001b[0;34m)\u001b[0m\u001b[0;34m\u001b[0m\u001b[0;34m\u001b[0m\u001b[0m\n\u001b[0m\u001b[1;32m     59\u001b[0m \u001b[0;34m\u001b[0m\u001b[0m\n\u001b[1;32m     60\u001b[0m     \u001b[0;32mreturn\u001b[0m \u001b[0mplayers_dict\u001b[0m\u001b[0;34m\u001b[0m\u001b[0;34m\u001b[0m\u001b[0m\n",
      "\u001b[0;32m~/dsir/capstone/Notebooks/../pyglicko2/glicko2.py\u001b[0m in \u001b[0;36mupdate_player\u001b[0;34m(self, rating_list, RD_list, outcome_list)\u001b[0m\n\u001b[1;32m     75\u001b[0m \u001b[0;34m\u001b[0m\u001b[0m\n\u001b[1;32m     76\u001b[0m         \u001b[0mv\u001b[0m \u001b[0;34m=\u001b[0m \u001b[0mself\u001b[0m\u001b[0;34m.\u001b[0m\u001b[0m_v\u001b[0m\u001b[0;34m(\u001b[0m\u001b[0mrating_list\u001b[0m\u001b[0;34m,\u001b[0m \u001b[0mRD_list\u001b[0m\u001b[0;34m)\u001b[0m\u001b[0;34m\u001b[0m\u001b[0;34m\u001b[0m\u001b[0m\n\u001b[0;32m---> 77\u001b[0;31m         \u001b[0mself\u001b[0m\u001b[0;34m.\u001b[0m\u001b[0mvol\u001b[0m \u001b[0;34m=\u001b[0m \u001b[0mself\u001b[0m\u001b[0;34m.\u001b[0m\u001b[0m_newVol\u001b[0m\u001b[0;34m(\u001b[0m\u001b[0mrating_list\u001b[0m\u001b[0;34m,\u001b[0m \u001b[0mRD_list\u001b[0m\u001b[0;34m,\u001b[0m \u001b[0moutcome_list\u001b[0m\u001b[0;34m,\u001b[0m \u001b[0mv\u001b[0m\u001b[0;34m)\u001b[0m\u001b[0;34m\u001b[0m\u001b[0;34m\u001b[0m\u001b[0m\n\u001b[0m\u001b[1;32m     78\u001b[0m         \u001b[0mself\u001b[0m\u001b[0;34m.\u001b[0m\u001b[0m_preRatingRD\u001b[0m\u001b[0;34m(\u001b[0m\u001b[0;34m)\u001b[0m\u001b[0;34m\u001b[0m\u001b[0;34m\u001b[0m\u001b[0m\n\u001b[1;32m     79\u001b[0m \u001b[0;34m\u001b[0m\u001b[0m\n",
      "\u001b[0;32m~/dsir/capstone/Notebooks/../pyglicko2/glicko2.py\u001b[0m in \u001b[0;36m_newVol\u001b[0;34m(self, rating_list, RD_list, outcome_list, v)\u001b[0m\n\u001b[1;32m    109\u001b[0m             \u001b[0;34m(\u001b[0m\u001b[0mmath\u001b[0m\u001b[0;34m.\u001b[0m\u001b[0mpow\u001b[0m\u001b[0;34m(\u001b[0m\u001b[0mself\u001b[0m\u001b[0;34m.\u001b[0m\u001b[0m__rating\u001b[0m\u001b[0;34m,\u001b[0m \u001b[0;36m2\u001b[0m\u001b[0;34m)\u001b[0m \u001b[0;34m+\u001b[0m \u001b[0mv\u001b[0m\u001b[0;34m)\u001b[0m\u001b[0;31m \u001b[0m\u001b[0;31m\\\u001b[0m\u001b[0;34m\u001b[0m\u001b[0;34m\u001b[0m\u001b[0m\n\u001b[1;32m    110\u001b[0m             \u001b[0;34m/\u001b[0m \u001b[0mmath\u001b[0m\u001b[0;34m.\u001b[0m\u001b[0mpow\u001b[0m\u001b[0;34m(\u001b[0m\u001b[0md\u001b[0m\u001b[0;34m,\u001b[0m \u001b[0;36m2\u001b[0m\u001b[0;34m)\u001b[0m \u001b[0;34m+\u001b[0m \u001b[0;36m0.5\u001b[0m \u001b[0;34m*\u001b[0m \u001b[0mmath\u001b[0m\u001b[0;34m.\u001b[0m\u001b[0mpow\u001b[0m\u001b[0;34m(\u001b[0m\u001b[0mdelta\u001b[0m\u001b[0;34m,\u001b[0m \u001b[0;36m2\u001b[0m\u001b[0;34m)\u001b[0m \u001b[0;34m*\u001b[0m \u001b[0mmath\u001b[0m\u001b[0;34m.\u001b[0m\u001b[0mexp\u001b[0m\u001b[0;34m(\u001b[0m\u001b[0mx0\u001b[0m\u001b[0;34m)\u001b[0m\u001b[0;31m \u001b[0m\u001b[0;31m\\\u001b[0m\u001b[0;34m\u001b[0m\u001b[0;34m\u001b[0m\u001b[0m\n\u001b[0;32m--> 111\u001b[0;31m             \u001b[0;34m*\u001b[0m \u001b[0;34m(\u001b[0m\u001b[0mmath\u001b[0m\u001b[0;34m.\u001b[0m\u001b[0mpow\u001b[0m\u001b[0;34m(\u001b[0m\u001b[0mself\u001b[0m\u001b[0;34m.\u001b[0m\u001b[0m__rating\u001b[0m\u001b[0;34m,\u001b[0m \u001b[0;36m2\u001b[0m\u001b[0;34m)\u001b[0m \u001b[0;34m+\u001b[0m \u001b[0mv\u001b[0m \u001b[0;34m-\u001b[0m \u001b[0mmath\u001b[0m\u001b[0;34m.\u001b[0m\u001b[0mexp\u001b[0m\u001b[0;34m(\u001b[0m\u001b[0mx0\u001b[0m\u001b[0;34m)\u001b[0m\u001b[0;34m)\u001b[0m \u001b[0;34m/\u001b[0m \u001b[0mmath\u001b[0m\u001b[0;34m.\u001b[0m\u001b[0mpow\u001b[0m\u001b[0;34m(\u001b[0m\u001b[0md\u001b[0m\u001b[0;34m,\u001b[0m \u001b[0;36m3\u001b[0m\u001b[0;34m)\u001b[0m\u001b[0;34m\u001b[0m\u001b[0;34m\u001b[0m\u001b[0m\n\u001b[0m\u001b[1;32m    112\u001b[0m             \u001b[0mx1\u001b[0m \u001b[0;34m=\u001b[0m \u001b[0mx0\u001b[0m \u001b[0;34m-\u001b[0m \u001b[0;34m(\u001b[0m\u001b[0mh1\u001b[0m \u001b[0;34m/\u001b[0m \u001b[0mh2\u001b[0m\u001b[0;34m)\u001b[0m\u001b[0;34m\u001b[0m\u001b[0;34m\u001b[0m\u001b[0m\n\u001b[1;32m    113\u001b[0m \u001b[0;34m\u001b[0m\u001b[0m\n",
      "\u001b[0;31mKeyboardInterrupt\u001b[0m: "
     ]
    }
   ],
   "source": [
    "start = time.time()\n",
    "epoch(matches[12837:17000],{})\n",
    "compute_time = time.time()-start\n",
    "print(compute_time)"
   ]
  },
  {
   "cell_type": "code",
   "execution_count": 137,
   "id": "0589f11b-2cad-4da8-ac4a-6b760d2d3301",
   "metadata": {},
   "outputs": [
    {
     "name": "stdout",
     "output_type": "stream",
     "text": [
      "0.21326708793640137\n"
     ]
    }
   ],
   "source": [
    "start = time.time()\n",
    "epoch(matches[12837:14000],{})\n",
    "compute_time = time.time()-start\n",
    "print(compute_time)"
   ]
  },
  {
   "cell_type": "code",
   "execution_count": 113,
   "id": "70c3b83b-5a93-41c1-a4ca-6550cf2ea387",
   "metadata": {},
   "outputs": [
    {
     "name": "stdout",
     "output_type": "stream",
     "text": [
      "0.41458582878112793\n"
     ]
    }
   ],
   "source": [
    "start = time.time()\n",
    "epoch(matches[12900: 17000],{})\n",
    "compute_time = time.time()-start\n",
    "print(compute_time)\n"
   ]
  },
  {
   "cell_type": "code",
   "execution_count": 4,
   "id": "1441c8d2-ca95-4b41-8403-4164d27554e8",
   "metadata": {},
   "outputs": [
    {
     "data": {
      "text/plain": [
       "[(1, 2), (2, 3), (3, 4)]"
      ]
     },
     "execution_count": 4,
     "metadata": {},
     "output_type": "execute_result"
    }
   ],
   "source": [
    "[x for x in zip([1,2,3],[2,3,4])]"
   ]
  },
  {
   "cell_type": "code",
   "execution_count": 5,
   "id": "3c0db333-ae3b-4ce2-9b62-b6e28b89b30f",
   "metadata": {},
   "outputs": [],
   "source": [
    "def epochs(match_history, interval_length = 365):\n",
    "    '''Calculate the ending rating for each player with the lengh of each epoch being\n",
    "    a funtion of the interval_length\n",
    "    \n",
    "    Next iterations: generate a rating history indicating the rating of each player each time that\n",
    "    the rating updates.\n",
    "    '''\n",
    "    # check if the match_history is empty, as if it is the function call will not complete.\n",
    "    if match_history.empty:\n",
    "        return \"Try again with a non-empty match history!\"\n",
    "    max_date = max(match_history['tourney_date']) # maximum date in the records\n",
    "    min_date = min(match_history['tourney_date']) # minimum date in the records\n",
    "    date_range = range(0,(max_date-min_date).days + 1,interval_length) # days from date of first\n",
    "    # match in increments of the interval (default 365).  This is the length of each epoch. \n",
    "    epoch_cutoffs = [min_date + timedelta(days = x) for x in date_range] # The times that\n",
    "    # divide the matches into each epoch.\n",
    "    epoch_ranges = zip(epoch_cutoffs[0:-2],epoch_cutoffs[1:-1]) # each epoch will include matches\n",
    "    # greater than or equal to the first element, less than the second element for the zip\n",
    "    # generator's respective item.\n",
    "    print([r for r in epoch_ranges])\n",
    "    players_dict = {} # instantiate the dictionary that will hold a Player() class for each player.\n",
    "\n",
    "    # iteratively re-update for each epoch\n",
    "    for period in epoch_ranges:\n",
    "        # rating_ period is the df of matches that fall within a given epoch\n",
    "        rating_period = match_history[(match_history['tourney_date']>=period[0])&(match_history['tourney_date']<period[1])]\n",
    "        # If the rating period is empty, then adjust the rating deviation of the players.\n",
    "        if not rating_period.empty:\n",
    "            players_dict = epoch(rating_period,players_dict)\n",
    "        else:\n",
    "            for player in players_dict:\n",
    "                players_dict[player].did_not_compete()\n",
    "    # get the final rating period updates (for matches in the final 365 to 729 days).\n",
    "    rating_period = match_history[match_history['tourney_date']>=epoch_cutoffs[-1]]\n",
    "    players_dict = epoch(rating_period,players_dict)\n",
    "    return players_dict"
   ]
  },
  {
   "cell_type": "code",
   "execution_count": 6,
   "id": "10e3f908-7ad8-48b2-ad13-7c191039afd4",
   "metadata": {},
   "outputs": [
    {
     "data": {
      "text/plain": [
       "pandas._libs.tslibs.timestamps.Timestamp"
      ]
     },
     "execution_count": 6,
     "metadata": {},
     "output_type": "execute_result"
    }
   ],
   "source": [
    "type(matches['tourney_date'][0])"
   ]
  },
  {
   "cell_type": "code",
   "execution_count": 11,
   "id": "0ee45ede-cd9c-4e90-b97d-b5091f5dcf4b",
   "metadata": {},
   "outputs": [
    {
     "ename": "NameError",
     "evalue": "name 'np' is not defined",
     "output_type": "error",
     "traceback": [
      "\u001b[0;31m---------------------------------------------------------------------------\u001b[0m",
      "\u001b[0;31mNameError\u001b[0m                                 Traceback (most recent call last)",
      "\u001b[0;32m/var/folders/7q/63cgxnn50sl5zwxkchv_j2cr0000gn/T/ipykernel_1564/1981644859.py\u001b[0m in \u001b[0;36m<module>\u001b[0;34m\u001b[0m\n\u001b[0;32m----> 1\u001b[0;31m \u001b[0mepoch\u001b[0m\u001b[0;34m(\u001b[0m\u001b[0mmatches\u001b[0m\u001b[0;34m[\u001b[0m\u001b[0mmatches\u001b[0m\u001b[0;34m[\u001b[0m\u001b[0;34m'tourney_date'\u001b[0m\u001b[0;34m]\u001b[0m \u001b[0;34m<=\u001b[0m \u001b[0;34m\"1879-07-09\"\u001b[0m\u001b[0;34m]\u001b[0m\u001b[0;34m,\u001b[0m\u001b[0;34m{\u001b[0m\u001b[0;34m}\u001b[0m\u001b[0;34m)\u001b[0m\u001b[0;34m\u001b[0m\u001b[0;34m\u001b[0m\u001b[0m\n\u001b[0m",
      "\u001b[0;32m~/dsir/capstone/Notebooks/functions.py\u001b[0m in \u001b[0;36mepoch\u001b[0;34m(matches, players_dict)\u001b[0m\n\u001b[1;32m     11\u001b[0m     \u001b[0mFuture\u001b[0m \u001b[0miterations\u001b[0m \u001b[0mof\u001b[0m \u001b[0mthis\u001b[0m \u001b[0mfunction\u001b[0m \u001b[0mshould\u001b[0m \u001b[0mdo\u001b[0m \u001b[0maway\u001b[0m \u001b[0;32mwith\u001b[0m \u001b[0mthe\u001b[0m \u001b[0mp_\u001b[0m \u001b[0;34m,\u001b[0m \u001b[0;32mand\u001b[0m \u001b[0monly\u001b[0m \u001b[0mshould\u001b[0m \u001b[0mneed\u001b[0m \u001b[0mthe\u001b[0m\u001b[0;34m\u001b[0m\u001b[0;34m\u001b[0m\u001b[0m\n\u001b[1;32m     12\u001b[0m     \u001b[0mplayers_dict\u001b[0m \u001b[0;32mwith\u001b[0m \u001b[0mthe\u001b[0m \u001b[0mkeys\u001b[0m \u001b[0;32mas\u001b[0m \u001b[0mintegers\u001b[0m \u001b[0mindicating\u001b[0m \u001b[0mthe\u001b[0m \u001b[0mplayer\u001b[0m \u001b[0mid\u001b[0m\u001b[0;34m.\u001b[0m\u001b[0;34m\u001b[0m\u001b[0;34m\u001b[0m\u001b[0m\n\u001b[0;32m---> 13\u001b[0;31m     '''\n\u001b[0m\u001b[1;32m     14\u001b[0m     \u001b[0mplayers_list\u001b[0m \u001b[0;34m=\u001b[0m \u001b[0mlist\u001b[0m\u001b[0;34m(\u001b[0m\u001b[0mplayers_dict\u001b[0m\u001b[0;34m.\u001b[0m\u001b[0mkeys\u001b[0m\u001b[0;34m(\u001b[0m\u001b[0;34m)\u001b[0m\u001b[0;34m)\u001b[0m\u001b[0;34m\u001b[0m\u001b[0;34m\u001b[0m\u001b[0m\n\u001b[1;32m     15\u001b[0m     players = [p for p in np.append(matches['winner_id'].unique(),\\\n",
      "\u001b[0;31mNameError\u001b[0m: name 'np' is not defined"
     ]
    }
   ],
   "source": [
    "epoch(matches[matches['tourney_date'] <= \"1879-07-09\"],{})"
   ]
  },
  {
   "cell_type": "code",
   "execution_count": null,
   "id": "75610bf4-c79e-4cc4-bbd4-b43171fdb25e",
   "metadata": {},
   "outputs": [],
   "source": [
    "matches[matches['tourney_date'] <= \"1879-07-09\"]"
   ]
  },
  {
   "cell_type": "code",
   "execution_count": null,
   "id": "a85ee25a-927b-406e-8bad-b8cf9627d29a",
   "metadata": {},
   "outputs": [],
   "source": []
  }
 ],
 "metadata": {
  "kernelspec": {
   "display_name": "Python 3 (ipykernel)",
   "language": "python",
   "name": "python3"
  },
  "language_info": {
   "codemirror_mode": {
    "name": "ipython",
    "version": 3
   },
   "file_extension": ".py",
   "mimetype": "text/x-python",
   "name": "python",
   "nbconvert_exporter": "python",
   "pygments_lexer": "ipython3",
   "version": "3.9.13"
  }
 },
 "nbformat": 4,
 "nbformat_minor": 5
}
