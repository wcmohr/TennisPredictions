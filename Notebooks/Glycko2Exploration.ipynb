{
 "cells": [
  {
   "cell_type": "code",
   "execution_count": 2,
   "id": "cf4b92fa-d27b-47e2-b481-ee6467d87a22",
   "metadata": {},
   "outputs": [],
   "source": [
    "import pandas as pd\n",
    "from functions import assembleDf\n",
    "from datetime import datetime, timedelta\n",
    "import numpy as np\n",
    "import sys\n",
    "sys.path.append('..')\n",
    "from pyglicko2.glicko2_tests import exampleCase\n",
    "from pyglicko2.glicko2 import Player\n",
    "import glicko2\n",
    "import time\n"
   ]
  },
  {
   "cell_type": "code",
   "execution_count": 106,
   "id": "b2967aa4-0a53-4720-9eee-272a296b5dd1",
   "metadata": {},
   "outputs": [],
   "source": [
    "matches = pd.read_csv('../Data/matches_glicko2.csv',parse_dates = ['tourney_date'], \n",
    "                      infer_datetime_format = True)"
   ]
  },
  {
   "cell_type": "code",
   "execution_count": 67,
   "id": "d6ef85e9-4fc2-4203-a104-11c847e31a8d",
   "metadata": {},
   "outputs": [
    {
     "data": {
      "text/plain": [
       "({113953: <pyglicko2.glicko2.Player at 0x7fc8a00089d0>,\n",
       "  114146: <pyglicko2.glicko2.Player at 0x7fc8a0008970>,\n",
       "  113987: <pyglicko2.glicko2.Player at 0x7fc8a0008850>,\n",
       "  114147: <pyglicko2.glicko2.Player at 0x7fc8a0008880>,\n",
       "  114149: <pyglicko2.glicko2.Player at 0x7fc8a00084c0>,\n",
       "  114154: <pyglicko2.glicko2.Player at 0x7fc8a00085e0>,\n",
       "  113963: <pyglicko2.glicko2.Player at 0x7fc8a0008430>,\n",
       "  114158: <pyglicko2.glicko2.Player at 0x7fc8a0008100>,\n",
       "  113999: <pyglicko2.glicko2.Player at 0x7fc8a0008250>,\n",
       "  113976: <pyglicko2.glicko2.Player at 0x7fc8a0008730>,\n",
       "  113982: <pyglicko2.glicko2.Player at 0x7fc8a00087f0>},\n",
       " {(113987, Timestamp('1877-07-09 00:00:00')): 1799.6258356900184,\n",
       "  (113963, Timestamp('1877-07-09 00:00:00')): 1599.8752635134226,\n",
       "  (113999, Timestamp('1877-07-09 00:00:00')): 1599.8752635134226,\n",
       "  (114158, Timestamp('1877-07-09 00:00:00')): 1500.0,\n",
       "  (114149, Timestamp('1877-07-09 00:00:00')): 1662.3108949741131,\n",
       "  (113953, Timestamp('1877-07-09 00:00:00')): 1337.6891050258869,\n",
       "  (113976, Timestamp('1877-07-09 00:00:00')): 1337.6891050258869,\n",
       "  (114154, Timestamp('1877-07-09 00:00:00')): 1337.6891050258869,\n",
       "  (114147, Timestamp('1877-07-09 00:00:00')): 1337.6891050258869,\n",
       "  (114146, Timestamp('1877-07-09 00:00:00')): 1337.6891050258869,\n",
       "  (113982, Timestamp('1877-07-09 00:00:00')): 1337.6891050258869})"
      ]
     },
     "execution_count": 67,
     "metadata": {},
     "output_type": "execute_result"
    }
   ],
   "source": [
    "epochG(matches[1:10],{},matches.iloc[10]['tourney_date'])"
   ]
  },
  {
   "cell_type": "code",
   "execution_count": 78,
   "id": "50aa1692-9fd6-4bf9-9c15-a42ddfbeef19",
   "metadata": {},
   "outputs": [
    {
     "name": "stdout",
     "output_type": "stream",
     "text": [
      "9.954494953155518\n",
      "CPU times: user 9.92 s, sys: 41.5 ms, total: 9.96 s\n",
      "Wall time: 9.95 s\n"
     ]
    }
   ],
   "source": [
    "%%time\n",
    "start = time.time()\n",
    "pd,rh = epochsG(matches[256_000:360_000],180)\n",
    "compute_time = time.time()-start\n",
    "print(compute_time)\n"
   ]
  }
 ],
 "metadata": {
  "kernelspec": {
   "display_name": "Python 3 (ipykernel)",
   "language": "python",
   "name": "python3"
  },
  "language_info": {
   "codemirror_mode": {
    "name": "ipython",
    "version": 3
   },
   "file_extension": ".py",
   "mimetype": "text/x-python",
   "name": "python",
   "nbconvert_exporter": "python",
   "pygments_lexer": "ipython3",
   "version": "3.9.13"
  }
 },
 "nbformat": 4,
 "nbformat_minor": 5
}
