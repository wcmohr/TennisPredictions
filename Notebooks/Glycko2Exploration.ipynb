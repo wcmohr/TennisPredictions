{
 "cells": [
  {
   "cell_type": "code",
   "execution_count": 1,
   "id": "cf4b92fa-d27b-47e2-b481-ee6467d87a22",
   "metadata": {},
   "outputs": [],
   "source": [
    "import pandas as pd\n",
    "# from functions import cutDf\n",
    "from datetime import datetime, timedelta\n",
    "import numpy as np\n",
    "import sys\n",
    "sys.path.append('..')\n",
    "from pyglicko2.glicko2_tests import exampleCase\n",
    "from pyglicko2.glicko2 import Player\n",
    "import glicko2\n",
    "import time\n"
   ]
  },
  {
   "cell_type": "code",
   "execution_count": 2,
   "id": "b2967aa4-0a53-4720-9eee-272a296b5dd1",
   "metadata": {},
   "outputs": [],
   "source": [
    "matches = pd.read_csv('../Data/matches_glicko2.csv',parse_dates = ['tourney_date'], \n",
    "                      infer_datetime_format = True)"
   ]
  },
  {
   "cell_type": "code",
   "execution_count": 3,
   "id": "c6334c00-ddf9-4e36-ad6a-349462753801",
   "metadata": {
    "tags": []
   },
   "outputs": [],
   "source": [
    "# matches['tourney_date'] = matches['tourney_date'].apply(\n",
    "#     lambda x: pd.to_datetime(str(x), format='%Y%m%d')) # convert the tourney_date to datetime"
   ]
  },
  {
   "cell_type": "code",
   "execution_count": null,
   "id": "d10067f5-937a-4251-8e6b-5b3b715ffc67",
   "metadata": {},
   "outputs": [],
   "source": []
  },
  {
   "cell_type": "code",
   "execution_count": 4,
   "id": "131c607c-8c6e-4472-b247-b2753f3385d0",
   "metadata": {},
   "outputs": [],
   "source": [
    "for x in []:\n",
    "    print(type(x))"
   ]
  },
  {
   "cell_type": "code",
   "execution_count": 5,
   "id": "197014f2-5d0f-4062-80c0-9f3a2e282418",
   "metadata": {},
   "outputs": [],
   "source": [
    "players_to_instantiate = list(set([1,2]) - set([1,2]))\n",
    "new_players = {player: Player() for player in players_to_instantiate}"
   ]
  },
  {
   "cell_type": "code",
   "execution_count": 6,
   "id": "d1eae222-2149-4200-a85b-99030476bd5b",
   "metadata": {},
   "outputs": [],
   "source": [
    "def epoch(matches, players_dict):\n",
    "    '''Take in a dataframe with matches, a list of players, a dictionary of players with the elements\n",
    "    of player list as keys and an instance of the glicko2 class Player() as the value.\n",
    "    This function wll return the updated players_list and players_dict.'''\n",
    "    \n",
    "    players_list = list(players_dict.keys())\n",
    "    players = [p for p in np.append(matches['winner_id'].unique(),\\\n",
    "                                                matches['loser_id'].unique())]\n",
    "    # instantiate player class for players not yet instantiated\n",
    "    players_to_instantiate = list(set(players) - set(players_list))\n",
    "    \n",
    "    new_players = {player: Player() for player in players_to_instantiate}\n",
    "    # print(type(new_players))\n",
    "    players_list = list(set(players).union(set(players_list)))\n",
    "\n",
    "    # update list of instantiated players\n",
    "    # update dictionary of instantiated players\n",
    "    players_dict.update(new_players)\n",
    "    # print(type(players_dict))\n",
    "    # determine who competed and who didn't\n",
    "    players_dnc = list(set(players_list) - set(players))\n",
    "    players_compete = players\n",
    "    # print(f'{players_compete=}')\n",
    "    # update rating deviation for players who didn't compete\n",
    "    for player in players_dnc:\n",
    "        players_dict[player].did_not_compete()\n",
    "    # fill dictionary with (wins,losses), a tuple of list of opponents in wins and losses for each match\n",
    "    results = {}\n",
    "    # update players who did compete\n",
    "    for player in players_compete:\n",
    "        # get id of players they beat\n",
    "        wins = [winner for winner in matches[matches['winner_id']==player]['loser_id']]\n",
    "        # get id of players they lost to\n",
    "        losses = [loser for loser in matches[matches['loser_id']== player]['winner_id']]\n",
    "        # get opponents' rating and rd\n",
    "        losses_rating = [players_dict[loss].getRating() for loss in losses]\n",
    "        losses_rd = [players_dict[loss].getRd() for loss in losses]\n",
    "        wins_rating = [players_dict[win].getRating() for win in wins]\n",
    "        wins_rd = [players_dict[win].getRd() for win in wins]\n",
    "        outcomes = np.append(np.ones(len(wins)),np.zeros(len(losses)))\n",
    "        opponent_rating = wins_rating + losses_rating\n",
    "        # print(f'{opponent_rating=}')\n",
    "        opponent_rd = wins_rd + losses_rd\n",
    "        results[player] = (opponent_rating, opponent_rd, outcomes)\n",
    "        \n",
    "    # update players\n",
    "    for player in list(results.keys()):\n",
    "        (rating_list, RD_list, outcome_list) = results[player]\n",
    "        # print(f'{rating_list=}, {RD_list=}, {outcome_list=}')\n",
    "        players_dict[player].update_player(rating_list, RD_list, outcome_list)\n",
    "    return players_dict\n",
    "    # opponent_indices = matches[matches['loser_id'].str==player '']\n"
   ]
  },
  {
   "cell_type": "code",
   "execution_count": 7,
   "id": "2e3cfe3e-e579-4e1e-89a1-7828ee01ba1f",
   "metadata": {
    "tags": []
   },
   "outputs": [
    {
     "data": {
      "text/html": [
       "<div>\n",
       "<style scoped>\n",
       "    .dataframe tbody tr th:only-of-type {\n",
       "        vertical-align: middle;\n",
       "    }\n",
       "\n",
       "    .dataframe tbody tr th {\n",
       "        vertical-align: top;\n",
       "    }\n",
       "\n",
       "    .dataframe thead th {\n",
       "        text-align: right;\n",
       "    }\n",
       "</style>\n",
       "<table border=\"1\" class=\"dataframe\">\n",
       "  <thead>\n",
       "    <tr style=\"text-align: right;\">\n",
       "      <th></th>\n",
       "      <th>tourney_date</th>\n",
       "      <th>winner_id</th>\n",
       "      <th>loser_id</th>\n",
       "      <th>tourney_id</th>\n",
       "    </tr>\n",
       "  </thead>\n",
       "  <tbody>\n",
       "    <tr>\n",
       "      <th>756977</th>\n",
       "      <td>2017-11-20</td>\n",
       "      <td>105302</td>\n",
       "      <td>111187</td>\n",
       "      <td>2017-7808</td>\n",
       "    </tr>\n",
       "    <tr>\n",
       "      <th>756978</th>\n",
       "      <td>2017-11-20</td>\n",
       "      <td>111200</td>\n",
       "      <td>122617</td>\n",
       "      <td>2017-7808</td>\n",
       "    </tr>\n",
       "    <tr>\n",
       "      <th>756979</th>\n",
       "      <td>2017-11-20</td>\n",
       "      <td>104873</td>\n",
       "      <td>106022</td>\n",
       "      <td>2017-7808</td>\n",
       "    </tr>\n",
       "    <tr>\n",
       "      <th>756980</th>\n",
       "      <td>2017-11-20</td>\n",
       "      <td>105938</td>\n",
       "      <td>144935</td>\n",
       "      <td>2017-7808</td>\n",
       "    </tr>\n",
       "    <tr>\n",
       "      <th>756981</th>\n",
       "      <td>2017-11-20</td>\n",
       "      <td>105738</td>\n",
       "      <td>126523</td>\n",
       "      <td>2017-7808</td>\n",
       "    </tr>\n",
       "    <tr>\n",
       "      <th>...</th>\n",
       "      <td>...</td>\n",
       "      <td>...</td>\n",
       "      <td>...</td>\n",
       "      <td>...</td>\n",
       "    </tr>\n",
       "    <tr>\n",
       "      <th>805972</th>\n",
       "      <td>2019-08-12</td>\n",
       "      <td>206157</td>\n",
       "      <td>208401</td>\n",
       "      <td>2019-M-ITF-TUN-32A-2019</td>\n",
       "    </tr>\n",
       "    <tr>\n",
       "      <th>805973</th>\n",
       "      <td>2019-08-12</td>\n",
       "      <td>124141</td>\n",
       "      <td>207603</td>\n",
       "      <td>2019-M-ITF-TUN-32A-2019</td>\n",
       "    </tr>\n",
       "    <tr>\n",
       "      <th>805974</th>\n",
       "      <td>2019-08-12</td>\n",
       "      <td>127954</td>\n",
       "      <td>208923</td>\n",
       "      <td>2019-M-ITF-BOL-02A-2019</td>\n",
       "    </tr>\n",
       "    <tr>\n",
       "      <th>805975</th>\n",
       "      <td>2019-08-12</td>\n",
       "      <td>202321</td>\n",
       "      <td>208040</td>\n",
       "      <td>2019-M-ITF-USA-26A-2019</td>\n",
       "    </tr>\n",
       "    <tr>\n",
       "      <th>805976</th>\n",
       "      <td>2019-08-12</td>\n",
       "      <td>105944</td>\n",
       "      <td>105156</td>\n",
       "      <td>2019-M-ITF-BOL-02A-2019</td>\n",
       "    </tr>\n",
       "  </tbody>\n",
       "</table>\n",
       "<p>49000 rows × 4 columns</p>\n",
       "</div>"
      ],
      "text/plain": [
       "       tourney_date  winner_id  loser_id               tourney_id\n",
       "756977   2017-11-20     105302    111187                2017-7808\n",
       "756978   2017-11-20     111200    122617                2017-7808\n",
       "756979   2017-11-20     104873    106022                2017-7808\n",
       "756980   2017-11-20     105938    144935                2017-7808\n",
       "756981   2017-11-20     105738    126523                2017-7808\n",
       "...             ...        ...       ...                      ...\n",
       "805972   2019-08-12     206157    208401  2019-M-ITF-TUN-32A-2019\n",
       "805973   2019-08-12     124141    207603  2019-M-ITF-TUN-32A-2019\n",
       "805974   2019-08-12     127954    208923  2019-M-ITF-BOL-02A-2019\n",
       "805975   2019-08-12     202321    208040  2019-M-ITF-USA-26A-2019\n",
       "805976   2019-08-12     105944    105156  2019-M-ITF-BOL-02A-2019\n",
       "\n",
       "[49000 rows x 4 columns]"
      ]
     },
     "execution_count": 7,
     "metadata": {},
     "output_type": "execute_result"
    }
   ],
   "source": [
    "matches[756977:805977]"
   ]
  },
  {
   "cell_type": "code",
   "execution_count": 8,
   "id": "1a40211e-99a0-4449-ba09-d26589775ee6",
   "metadata": {
    "tags": []
   },
   "outputs": [
    {
     "data": {
      "text/plain": [
       "Timestamp('1877-07-09 00:00:00')"
      ]
     },
     "execution_count": 8,
     "metadata": {},
     "output_type": "execute_result"
    }
   ],
   "source": [
    "matches['tourney_date'][0]"
   ]
  },
  {
   "cell_type": "code",
   "execution_count": 9,
   "id": "5aa7b4b6-c4c2-4862-8d9f-26cd798dccbb",
   "metadata": {},
   "outputs": [
    {
     "name": "stderr",
     "output_type": "stream",
     "text": [
      "/var/folders/7q/63cgxnn50sl5zwxkchv_j2cr0000gn/T/ipykernel_4958/2314019674.py:1: UserWarning: Boolean Series key will be reindexed to match DataFrame index.\n",
      "  matches[0:0][(matches[0:0]['tourney_date']>=matches['tourney_date'][0])&\n"
     ]
    },
    {
     "data": {
      "text/html": [
       "<div>\n",
       "<style scoped>\n",
       "    .dataframe tbody tr th:only-of-type {\n",
       "        vertical-align: middle;\n",
       "    }\n",
       "\n",
       "    .dataframe tbody tr th {\n",
       "        vertical-align: top;\n",
       "    }\n",
       "\n",
       "    .dataframe thead th {\n",
       "        text-align: right;\n",
       "    }\n",
       "</style>\n",
       "<table border=\"1\" class=\"dataframe\">\n",
       "  <thead>\n",
       "    <tr style=\"text-align: right;\">\n",
       "      <th></th>\n",
       "      <th>tourney_date</th>\n",
       "      <th>winner_id</th>\n",
       "      <th>loser_id</th>\n",
       "      <th>tourney_id</th>\n",
       "    </tr>\n",
       "  </thead>\n",
       "  <tbody>\n",
       "  </tbody>\n",
       "</table>\n",
       "</div>"
      ],
      "text/plain": [
       "Empty DataFrame\n",
       "Columns: [tourney_date, winner_id, loser_id, tourney_id]\n",
       "Index: []"
      ]
     },
     "execution_count": 9,
     "metadata": {},
     "output_type": "execute_result"
    }
   ],
   "source": [
    "matches[0:0][(matches[0:0]['tourney_date']>=matches['tourney_date'][0])&\n",
    "                                      (matches['tourney_date']<matches['tourney_date'][0])]"
   ]
  },
  {
   "cell_type": "code",
   "execution_count": 10,
   "id": "1441c8d2-ca95-4b41-8403-4164d27554e8",
   "metadata": {},
   "outputs": [
    {
     "data": {
      "text/plain": [
       "[(1, 2), (2, 3), (3, 4)]"
      ]
     },
     "execution_count": 10,
     "metadata": {},
     "output_type": "execute_result"
    }
   ],
   "source": [
    "[x for x in zip([1,2,3],[2,3,4])]"
   ]
  },
  {
   "cell_type": "code",
   "execution_count": 11,
   "id": "3c0db333-ae3b-4ce2-9b62-b6e28b89b30f",
   "metadata": {},
   "outputs": [],
   "source": [
    "def epochs(match_history, interval_length = 365):\n",
    "    '''Calculate the ending rating for each player with the lengh of each epoch being\n",
    "    a funtion of the interval_length\n",
    "    \n",
    "    Next iterations: generate a rating history indicating the rating of each player each time that\n",
    "    the rating updates.\n",
    "    '''\n",
    "    # check if the match_history is empty, as if it is the function call will not complete.\n",
    "    if match_history.empty:\n",
    "        return \"Try again with a non-empty match history!\"\n",
    "    max_date = max(match_history['tourney_date']) # maximum date in the records\n",
    "    min_date = min(match_history['tourney_date']) # minimum date in the records\n",
    "    date_range = range(0,(max_date-min_date).days + 1,interval_length) # days from date of first\n",
    "    # match in increments of the interval (default 365).  This is the length of each epoch. \n",
    "    epoch_cutoffs = [min_date + timedelta(days = x) for x in date_range] # The times that\n",
    "    # divide the matches into each epoch.\n",
    "    epoch_ranges = zip(epoch_cutoffs[0:-2],epoch_cutoffs[1:-1]) # each epoch will include matches\n",
    "    # greater than or equal to the first element, less than the second element for the zip\n",
    "    # generator's respective item.\n",
    "    # print([r for r in epoch_ranges])\n",
    "    players_dict = {} # instantiate the dictionary that will hold a Player() class for each player.\n",
    "\n",
    "    # iteratively re-update for each epoch\n",
    "    for period in epoch_ranges:\n",
    "        # rating_ period is the df of matches that fall within a given epoch\n",
    "        rating_period = match_history[(match_history['tourney_date']>=period[0])&\n",
    "                                      (match_history['tourney_date']<period[1])]\n",
    "        # If the rating period is empty, then adjust the rating deviation of the players.\n",
    "        if not rating_period.empty:\n",
    "            players_dict = epoch(rating_period,players_dict)\n",
    "        else:\n",
    "            for player in players_dict:\n",
    "                players_dict[player].did_not_compete()\n",
    "    # get the final rating period updates (for matches in the final 365 to 729 days).\n",
    "    rating_period = match_history[match_history['tourney_date']>=epoch_cutoffs[-1]]\n",
    "    players_dict = epoch(rating_period,players_dict)\n",
    "    return players_dict"
   ]
  },
  {
   "cell_type": "code",
   "execution_count": null,
   "id": "50aa1692-9fd6-4bf9-9c15-a42ddfbeef19",
   "metadata": {},
   "outputs": [],
   "source": [
    "%%time\n",
    "start = time.time()\n",
    "epochs(matches[200_000:400_000],90)\n",
    "compute_time = time.time()-start\n",
    "print(compute_time)\n"
   ]
  },
  {
   "cell_type": "code",
   "execution_count": 13,
   "id": "10e3f908-7ad8-48b2-ad13-7c191039afd4",
   "metadata": {},
   "outputs": [
    {
     "name": "stdout",
     "output_type": "stream",
     "text": [
      "CPU times: user 2 µs, sys: 1 µs, total: 3 µs\n",
      "Wall time: 3.1 µs\n"
     ]
    },
    {
     "data": {
      "text/plain": [
       "pandas._libs.tslibs.timestamps.Timestamp"
      ]
     },
     "execution_count": 13,
     "metadata": {},
     "output_type": "execute_result"
    }
   ],
   "source": [
    "%time\n",
    "type(matches['tourney_date'][0])"
   ]
  },
  {
   "cell_type": "code",
   "execution_count": 14,
   "id": "0ee45ede-cd9c-4e90-b97d-b5091f5dcf4b",
   "metadata": {},
   "outputs": [
    {
     "data": {
      "text/plain": [
       "{113953: <pyglicko2.glicko2.Player at 0x7fc8e348a2e0>,\n",
       " 113954: <pyglicko2.glicko2.Player at 0x7fc8e348a3a0>,\n",
       " 113955: <pyglicko2.glicko2.Player at 0x7fc8e348a370>,\n",
       " 113956: <pyglicko2.glicko2.Player at 0x7fc8e348a220>,\n",
       " 113957: <pyglicko2.glicko2.Player at 0x7fc8e348a1c0>,\n",
       " 113958: <pyglicko2.glicko2.Player at 0x7fc8e348a160>,\n",
       " 113959: <pyglicko2.glicko2.Player at 0x7fc8e348a100>,\n",
       " 113960: <pyglicko2.glicko2.Player at 0x7fc8e348a0a0>,\n",
       " 113961: <pyglicko2.glicko2.Player at 0x7fc8e348a310>,\n",
       " 113962: <pyglicko2.glicko2.Player at 0x7fc8e348a2b0>,\n",
       " 113963: <pyglicko2.glicko2.Player at 0x7fc8e348a460>,\n",
       " 113964: <pyglicko2.glicko2.Player at 0x7fc8e348a4c0>,\n",
       " 113965: <pyglicko2.glicko2.Player at 0x7fc8e348a520>,\n",
       " 113966: <pyglicko2.glicko2.Player at 0x7fc8e348a580>,\n",
       " 113967: <pyglicko2.glicko2.Player at 0x7fc8e348a5e0>,\n",
       " 113968: <pyglicko2.glicko2.Player at 0x7fc8e348a640>,\n",
       " 113969: <pyglicko2.glicko2.Player at 0x7fc8e348a6a0>,\n",
       " 113970: <pyglicko2.glicko2.Player at 0x7fc8e348a700>,\n",
       " 113971: <pyglicko2.glicko2.Player at 0x7fc8e348a760>,\n",
       " 113972: <pyglicko2.glicko2.Player at 0x7fc8e348a7c0>,\n",
       " 113973: <pyglicko2.glicko2.Player at 0x7fc8e348a820>,\n",
       " 113974: <pyglicko2.glicko2.Player at 0x7fc8e348a880>,\n",
       " 113975: <pyglicko2.glicko2.Player at 0x7fc8e348a8e0>,\n",
       " 113976: <pyglicko2.glicko2.Player at 0x7fc8e348a940>,\n",
       " 113977: <pyglicko2.glicko2.Player at 0x7fc8e348a9a0>,\n",
       " 113978: <pyglicko2.glicko2.Player at 0x7fc8e348aa00>,\n",
       " 113979: <pyglicko2.glicko2.Player at 0x7fc8e348aa60>,\n",
       " 113980: <pyglicko2.glicko2.Player at 0x7fc8e348aac0>,\n",
       " 113981: <pyglicko2.glicko2.Player at 0x7fc8e348ab20>,\n",
       " 113982: <pyglicko2.glicko2.Player at 0x7fc8e348ab80>,\n",
       " 113983: <pyglicko2.glicko2.Player at 0x7fc8e348abe0>,\n",
       " 113984: <pyglicko2.glicko2.Player at 0x7fc8e348ac40>,\n",
       " 113985: <pyglicko2.glicko2.Player at 0x7fc8e348aca0>,\n",
       " 113986: <pyglicko2.glicko2.Player at 0x7fc8e348ad00>,\n",
       " 113987: <pyglicko2.glicko2.Player at 0x7fc8e348ad60>,\n",
       " 113988: <pyglicko2.glicko2.Player at 0x7fc8e348adc0>,\n",
       " 113989: <pyglicko2.glicko2.Player at 0x7fc8e348ae20>,\n",
       " 113990: <pyglicko2.glicko2.Player at 0x7fc8e348ae80>,\n",
       " 113991: <pyglicko2.glicko2.Player at 0x7fc8e348aee0>,\n",
       " 113992: <pyglicko2.glicko2.Player at 0x7fc8e348af40>,\n",
       " 113993: <pyglicko2.glicko2.Player at 0x7fc8e348afa0>,\n",
       " 113994: <pyglicko2.glicko2.Player at 0x7fc8e3491040>,\n",
       " 113995: <pyglicko2.glicko2.Player at 0x7fc8e34910a0>,\n",
       " 113996: <pyglicko2.glicko2.Player at 0x7fc8e3491100>,\n",
       " 113997: <pyglicko2.glicko2.Player at 0x7fc8e3491160>,\n",
       " 113998: <pyglicko2.glicko2.Player at 0x7fc8e34911c0>,\n",
       " 113999: <pyglicko2.glicko2.Player at 0x7fc8e3491220>,\n",
       " 114000: <pyglicko2.glicko2.Player at 0x7fc8e3491280>,\n",
       " 114001: <pyglicko2.glicko2.Player at 0x7fc8e34912e0>,\n",
       " 114002: <pyglicko2.glicko2.Player at 0x7fc8e3491340>,\n",
       " 114003: <pyglicko2.glicko2.Player at 0x7fc8e34913a0>,\n",
       " 114004: <pyglicko2.glicko2.Player at 0x7fc8e3491400>,\n",
       " 114005: <pyglicko2.glicko2.Player at 0x7fc8e3491460>,\n",
       " 114006: <pyglicko2.glicko2.Player at 0x7fc8e34914c0>,\n",
       " 114007: <pyglicko2.glicko2.Player at 0x7fc8e3491520>,\n",
       " 114008: <pyglicko2.glicko2.Player at 0x7fc8e3491580>,\n",
       " 114009: <pyglicko2.glicko2.Player at 0x7fc8e34915e0>,\n",
       " 114010: <pyglicko2.glicko2.Player at 0x7fc8e3491640>,\n",
       " 114011: <pyglicko2.glicko2.Player at 0x7fc8e34916a0>,\n",
       " 114012: <pyglicko2.glicko2.Player at 0x7fc8e3491700>,\n",
       " 114013: <pyglicko2.glicko2.Player at 0x7fc8e3491760>,\n",
       " 114014: <pyglicko2.glicko2.Player at 0x7fc8e34917c0>,\n",
       " 114015: <pyglicko2.glicko2.Player at 0x7fc8e3491820>,\n",
       " 114016: <pyglicko2.glicko2.Player at 0x7fc8e3491880>,\n",
       " 114017: <pyglicko2.glicko2.Player at 0x7fc8e34918e0>,\n",
       " 114018: <pyglicko2.glicko2.Player at 0x7fc8e3491940>,\n",
       " 114019: <pyglicko2.glicko2.Player at 0x7fc8e34919a0>,\n",
       " 114020: <pyglicko2.glicko2.Player at 0x7fc8e3491a00>,\n",
       " 114021: <pyglicko2.glicko2.Player at 0x7fc8e3491a60>,\n",
       " 114022: <pyglicko2.glicko2.Player at 0x7fc8e3491ac0>,\n",
       " 114023: <pyglicko2.glicko2.Player at 0x7fc8e3491b20>,\n",
       " 114146: <pyglicko2.glicko2.Player at 0x7fc8e3491b80>,\n",
       " 114147: <pyglicko2.glicko2.Player at 0x7fc8e3491be0>,\n",
       " 114148: <pyglicko2.glicko2.Player at 0x7fc8e3491c40>,\n",
       " 114149: <pyglicko2.glicko2.Player at 0x7fc8e3491ca0>,\n",
       " 114150: <pyglicko2.glicko2.Player at 0x7fc8e3491d00>,\n",
       " 114151: <pyglicko2.glicko2.Player at 0x7fc8e3491d60>,\n",
       " 114152: <pyglicko2.glicko2.Player at 0x7fc8e3491dc0>,\n",
       " 114153: <pyglicko2.glicko2.Player at 0x7fc8e3491e20>,\n",
       " 114154: <pyglicko2.glicko2.Player at 0x7fc8e3491e80>,\n",
       " 114155: <pyglicko2.glicko2.Player at 0x7fc8e3491ee0>,\n",
       " 114156: <pyglicko2.glicko2.Player at 0x7fc8e3491f40>,\n",
       " 114157: <pyglicko2.glicko2.Player at 0x7fc8e3491fa0>,\n",
       " 114158: <pyglicko2.glicko2.Player at 0x7fc8e3494040>}"
      ]
     },
     "execution_count": 14,
     "metadata": {},
     "output_type": "execute_result"
    }
   ],
   "source": [
    "epoch(matches[matches['tourney_date'] <= \"1879-07-09\"],{})"
   ]
  },
  {
   "cell_type": "code",
   "execution_count": 15,
   "id": "75610bf4-c79e-4cc4-bbd4-b43171fdb25e",
   "metadata": {},
   "outputs": [
    {
     "data": {
      "text/html": [
       "<div>\n",
       "<style scoped>\n",
       "    .dataframe tbody tr th:only-of-type {\n",
       "        vertical-align: middle;\n",
       "    }\n",
       "\n",
       "    .dataframe tbody tr th {\n",
       "        vertical-align: top;\n",
       "    }\n",
       "\n",
       "    .dataframe thead th {\n",
       "        text-align: right;\n",
       "    }\n",
       "</style>\n",
       "<table border=\"1\" class=\"dataframe\">\n",
       "  <thead>\n",
       "    <tr style=\"text-align: right;\">\n",
       "      <th></th>\n",
       "      <th>tourney_date</th>\n",
       "      <th>winner_id</th>\n",
       "      <th>loser_id</th>\n",
       "      <th>tourney_id</th>\n",
       "    </tr>\n",
       "  </thead>\n",
       "  <tbody>\n",
       "    <tr>\n",
       "      <th>0</th>\n",
       "      <td>1877-07-09</td>\n",
       "      <td>113987</td>\n",
       "      <td>114149</td>\n",
       "      <td>1877-540</td>\n",
       "    </tr>\n",
       "    <tr>\n",
       "      <th>1</th>\n",
       "      <td>1877-07-09</td>\n",
       "      <td>113987</td>\n",
       "      <td>113999</td>\n",
       "      <td>1877-540</td>\n",
       "    </tr>\n",
       "    <tr>\n",
       "      <th>2</th>\n",
       "      <td>1877-07-09</td>\n",
       "      <td>113987</td>\n",
       "      <td>113963</td>\n",
       "      <td>1877-540</td>\n",
       "    </tr>\n",
       "    <tr>\n",
       "      <th>3</th>\n",
       "      <td>1877-07-09</td>\n",
       "      <td>113963</td>\n",
       "      <td>114158</td>\n",
       "      <td>1877-540</td>\n",
       "    </tr>\n",
       "    <tr>\n",
       "      <th>4</th>\n",
       "      <td>1877-07-09</td>\n",
       "      <td>113999</td>\n",
       "      <td>113953</td>\n",
       "      <td>1877-540</td>\n",
       "    </tr>\n",
       "    <tr>\n",
       "      <th>...</th>\n",
       "      <td>...</td>\n",
       "      <td>...</td>\n",
       "      <td>...</td>\n",
       "      <td>...</td>\n",
       "    </tr>\n",
       "    <tr>\n",
       "      <th>95</th>\n",
       "      <td>1879-07-07</td>\n",
       "      <td>114008</td>\n",
       "      <td>114009</td>\n",
       "      <td>1879-540</td>\n",
       "    </tr>\n",
       "    <tr>\n",
       "      <th>96</th>\n",
       "      <td>1879-07-07</td>\n",
       "      <td>113981</td>\n",
       "      <td>114010</td>\n",
       "      <td>1879-540</td>\n",
       "    </tr>\n",
       "    <tr>\n",
       "      <th>97</th>\n",
       "      <td>1879-07-07</td>\n",
       "      <td>114011</td>\n",
       "      <td>114012</td>\n",
       "      <td>1879-540</td>\n",
       "    </tr>\n",
       "    <tr>\n",
       "      <th>98</th>\n",
       "      <td>1879-07-07</td>\n",
       "      <td>114013</td>\n",
       "      <td>114014</td>\n",
       "      <td>1879-540</td>\n",
       "    </tr>\n",
       "    <tr>\n",
       "      <th>99</th>\n",
       "      <td>1879-07-07</td>\n",
       "      <td>114001</td>\n",
       "      <td>113959</td>\n",
       "      <td>1879-540</td>\n",
       "    </tr>\n",
       "  </tbody>\n",
       "</table>\n",
       "<p>100 rows × 4 columns</p>\n",
       "</div>"
      ],
      "text/plain": [
       "   tourney_date  winner_id  loser_id tourney_id\n",
       "0    1877-07-09     113987    114149   1877-540\n",
       "1    1877-07-09     113987    113999   1877-540\n",
       "2    1877-07-09     113987    113963   1877-540\n",
       "3    1877-07-09     113963    114158   1877-540\n",
       "4    1877-07-09     113999    113953   1877-540\n",
       "..          ...        ...       ...        ...\n",
       "95   1879-07-07     114008    114009   1879-540\n",
       "96   1879-07-07     113981    114010   1879-540\n",
       "97   1879-07-07     114011    114012   1879-540\n",
       "98   1879-07-07     114013    114014   1879-540\n",
       "99   1879-07-07     114001    113959   1879-540\n",
       "\n",
       "[100 rows x 4 columns]"
      ]
     },
     "execution_count": 15,
     "metadata": {},
     "output_type": "execute_result"
    }
   ],
   "source": [
    "matches[matches['tourney_date'] <= \"1879-07-09\"]"
   ]
  },
  {
   "cell_type": "code",
   "execution_count": null,
   "id": "a85ee25a-927b-406e-8bad-b8cf9627d29a",
   "metadata": {},
   "outputs": [],
   "source": []
  }
 ],
 "metadata": {
  "kernelspec": {
   "display_name": "Python 3 (ipykernel)",
   "language": "python",
   "name": "python3"
  },
  "language_info": {
   "codemirror_mode": {
    "name": "ipython",
    "version": 3
   },
   "file_extension": ".py",
   "mimetype": "text/x-python",
   "name": "python",
   "nbconvert_exporter": "python",
   "pygments_lexer": "ipython3",
   "version": "3.9.13"
  }
 },
 "nbformat": 4,
 "nbformat_minor": 5
}
