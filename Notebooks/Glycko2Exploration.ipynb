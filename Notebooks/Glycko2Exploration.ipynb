{
 "cells": [
  {
   "cell_type": "code",
   "execution_count": 1,
   "id": "cf4b92fa-d27b-47e2-b481-ee6467d87a22",
   "metadata": {},
   "outputs": [],
   "source": [
    "import pandas as pd\n",
    "from functions import assembleDf, epochG, epochsG\n",
    "from datetime import datetime, timedelta\n",
    "import numpy as np\n",
    "import sys\n",
    "sys.path.append('..')\n",
    "from pyglicko2.glicko2_tests import exampleCase\n",
    "from pyglicko2.glicko2 import Player\n",
    "import glicko2\n",
    "import time\n"
   ]
  },
  {
   "cell_type": "code",
   "execution_count": 2,
   "id": "b2967aa4-0a53-4720-9eee-272a296b5dd1",
   "metadata": {},
   "outputs": [],
   "source": [
    "matches = pd.read_csv('../Data/matches_glicko2.csv',parse_dates = ['tourney_date'], \n",
    "                      infer_datetime_format = True)"
   ]
  },
  {
   "cell_type": "markdown",
   "id": "631737b6-19e6-4df2-a533-428a43a2a03c",
   "metadata": {},
   "source": [
    "Because memory constraints limit the batch size in epochsG, I will need to process incrementally."
   ]
  },
  {
   "cell_type": "code",
   "execution_count": 3,
   "id": "fffeba42-98f8-42fb-b272-7c02e748852b",
   "metadata": {},
   "outputs": [],
   "source": [
    "# base batches.  can be further broken up by splitBatch\n",
    "eg_batches_50 = [(s,f) for s,f in zip(range(0, 876_978-50_000,50_000),\n",
    "                      range(50_000, 876978,50_000))] + [(850_000,876979)]\n",
    "eg_batches_100 = [(s,f) for s,f in zip(range(0, 876_978-100_000,100_000),\n",
    "                      range(100_000, 876978,100_000))] + [(800_000,876979)]\n",
    "\n",
    "ratings_histories = []\n",
    "players_dict = {}"
   ]
  },
  {
   "cell_type": "code",
   "execution_count": 4,
   "id": "f704d011-2b48-4d7b-b7f6-6fcfe88ec87e",
   "metadata": {},
   "outputs": [],
   "source": [
    "def ceildiv(a, b):\n",
    "    return -(a // -b)"
   ]
  },
  {
   "cell_type": "code",
   "execution_count": 5,
   "id": "e198bcc1-c413-49de-bfe2-69690dc13beb",
   "metadata": {
    "tags": []
   },
   "outputs": [],
   "source": [
    "def splitBatch(atuple, divisions):\n",
    "    '''Break up batches into smaller pieces to allow epochsG to run.'''\n",
    "    batch_size = ceildiv((atuple[1] - atuple[0]),divisions)\n",
    "    if batch_size < (atuple[1] - atuple[0]):\n",
    "        batches = [b for b in zip(range(atuple[0],atuple[1]-batch_size,batch_size),\n",
    "             range(atuple[0]+batch_size,atuple[1],batch_size))]\n",
    "        extra = [(batches[-1][1],atuple[1])]\n",
    "        return batches + extra\n",
    "    else:\n",
    "        return atuple"
   ]
  },
  {
   "cell_type": "code",
   "execution_count": 6,
   "id": "af20da6a-1b3e-450d-a2ad-5ca55b5b747b",
   "metadata": {},
   "outputs": [
    {
     "name": "stdout",
     "output_type": "stream",
     "text": [
      "CPU times: user 11.4 s, sys: 54.9 ms, total: 11.4 s\n",
      "Wall time: 11.4 s\n"
     ]
    }
   ],
   "source": [
    "%%time\n",
    "for batch in eg_batches_50[0:1]:\n",
    "    players_dict,rh = epochsG(matches[batch[0]:batch[1]],players_dict,365)\n",
    "    ratings_histories += [rh]"
   ]
  },
  {
   "cell_type": "code",
   "execution_count": 7,
   "id": "f1208104-05f2-4cfe-99a3-75a8d1fdb67c",
   "metadata": {
    "tags": []
   },
   "outputs": [
    {
     "name": "stdout",
     "output_type": "stream",
     "text": [
      "CPU times: user 4.28 s, sys: 21.6 ms, total: 4.3 s\n",
      "Wall time: 4.28 s\n"
     ]
    }
   ],
   "source": [
    "%%time\n",
    "\n",
    "for batch in eg_batches_50[1:2]:\n",
    "    players_dict,rh = epochsG(matches[batch[0]:batch[1]],players_dict,365)\n",
    "    ratings_histories += [rh]"
   ]
  },
  {
   "cell_type": "code",
   "execution_count": 8,
   "id": "610e790e-7921-4f03-8f24-f30e38fdac09",
   "metadata": {},
   "outputs": [
    {
     "name": "stdout",
     "output_type": "stream",
     "text": [
      "CPU times: user 4.4 s, sys: 19.2 ms, total: 4.42 s\n",
      "Wall time: 4.41 s\n"
     ]
    }
   ],
   "source": [
    "%%time\n",
    "\n",
    "for batch in eg_batches_50[2:3]:\n",
    "    players_dict,rh = epochsG(matches[batch[0]:batch[1]],players_dict,365)\n",
    "    ratings_histories += [rh]"
   ]
  },
  {
   "cell_type": "code",
   "execution_count": 9,
   "id": "e3bfedcd-5c11-421f-9077-135f4afaf71e",
   "metadata": {},
   "outputs": [
    {
     "data": {
      "text/plain": [
       "(150000, 200000)"
      ]
     },
     "execution_count": 9,
     "metadata": {},
     "output_type": "execute_result"
    }
   ],
   "source": [
    "eg_batches_50[3]"
   ]
  },
  {
   "cell_type": "code",
   "execution_count": 10,
   "id": "2230a32e-5541-4fef-ab44-0d686cc928a1",
   "metadata": {},
   "outputs": [
    {
     "data": {
      "text/plain": [
       "[(150000, 175000), (175000, 200000)]"
      ]
     },
     "execution_count": 10,
     "metadata": {},
     "output_type": "execute_result"
    }
   ],
   "source": [
    "b = splitBatch(eg_batches_50[3],2); b0 = b[0]; b1 = b[1]\n",
    "b"
   ]
  },
  {
   "cell_type": "code",
   "execution_count": 11,
   "id": "6fcbf7e1-42c3-4c41-aadc-cb2812ea7bca",
   "metadata": {},
   "outputs": [
    {
     "name": "stdout",
     "output_type": "stream",
     "text": [
      "CPU times: user 2.1 s, sys: 6.1 ms, total: 2.1 s\n",
      "Wall time: 2.1 s\n"
     ]
    }
   ],
   "source": [
    "%%time\n",
    "players_dict,rh = epochsG(matches[b0[0]:b0[1]],players_dict,365)\n",
    "ratings_histories += [rh]"
   ]
  },
  {
   "cell_type": "code",
   "execution_count": 12,
   "id": "19bca57a-1a8f-4a12-9904-3389c83f7e2e",
   "metadata": {},
   "outputs": [
    {
     "name": "stdout",
     "output_type": "stream",
     "text": [
      "CPU times: user 2.09 s, sys: 6.91 ms, total: 2.09 s\n",
      "Wall time: 2.09 s\n"
     ]
    }
   ],
   "source": [
    "%%time\n",
    "players_dict,rh = epochsG(matches[b1[0]:b1[1]],players_dict,365)\n",
    "ratings_histories += [rh]"
   ]
  },
  {
   "cell_type": "code",
   "execution_count": 13,
   "id": "050ad11e-03ca-48db-9074-be7b0d026045",
   "metadata": {},
   "outputs": [
    {
     "data": {
      "text/plain": [
       "[(200000, 216667), (216667, 233334), (233334, 250000)]"
      ]
     },
     "execution_count": 13,
     "metadata": {},
     "output_type": "execute_result"
    }
   ],
   "source": [
    "splitBatch(eg_batches_50[4],3)"
   ]
  },
  {
   "cell_type": "code",
   "execution_count": 14,
   "id": "59bde9da-8f6b-45ca-9eda-f72e5331df66",
   "metadata": {},
   "outputs": [
    {
     "data": {
      "text/plain": [
       "[(200000, 212500), (212500, 225000), (225000, 237500), (237500, 250000)]"
      ]
     },
     "execution_count": 14,
     "metadata": {},
     "output_type": "execute_result"
    }
   ],
   "source": [
    "b = splitBatch(eg_batches_50[4],4); \n",
    "b0 = b[0]; b1 = b[1]; b2 = b[2]; b3=b[3]\n",
    "b"
   ]
  },
  {
   "cell_type": "code",
   "execution_count": 15,
   "id": "cfb0c928-c9de-4784-b281-64f95ea60431",
   "metadata": {},
   "outputs": [
    {
     "name": "stdout",
     "output_type": "stream",
     "text": [
      "CPU times: user 1.14 s, sys: 6.02 ms, total: 1.15 s\n",
      "Wall time: 1.14 s\n"
     ]
    }
   ],
   "source": [
    "%%time\n",
    "players_dict,rh = epochsG(matches[b0[0]:b0[1]],players_dict,365)\n",
    "ratings_histories += [rh]"
   ]
  },
  {
   "cell_type": "code",
   "execution_count": 16,
   "id": "230a9d81-edf0-41f8-9e29-c81b230d8c0c",
   "metadata": {},
   "outputs": [
    {
     "name": "stdout",
     "output_type": "stream",
     "text": [
      "CPU times: user 1.07 s, sys: 5.73 ms, total: 1.07 s\n",
      "Wall time: 1.07 s\n"
     ]
    }
   ],
   "source": [
    "%%time\n",
    "players_dict,rh = epochsG(matches[b1[0]:b1[1]],players_dict,365)\n",
    "ratings_histories += [rh]"
   ]
  },
  {
   "cell_type": "code",
   "execution_count": 17,
   "id": "983574f2-d9ab-4c07-bc36-5980c16c014e",
   "metadata": {
    "tags": []
   },
   "outputs": [
    {
     "name": "stdout",
     "output_type": "stream",
     "text": [
      "CPU times: user 1.12 s, sys: 4.29 ms, total: 1.12 s\n",
      "Wall time: 1.12 s\n"
     ]
    }
   ],
   "source": [
    "%%time\n",
    "players_dict,rh = epochsG(matches[b2[0]:b2[1]],players_dict,365)\n",
    "ratings_histories += [rh]"
   ]
  },
  {
   "cell_type": "code",
   "execution_count": 18,
   "id": "01a09cf6-72f4-4587-b7cb-5fe4f9a4eaa5",
   "metadata": {},
   "outputs": [
    {
     "name": "stdout",
     "output_type": "stream",
     "text": [
      "CPU times: user 1.19 s, sys: 7.95 ms, total: 1.2 s\n",
      "Wall time: 1.19 s\n"
     ]
    }
   ],
   "source": [
    "%%time\n",
    "players_dict,rh = epochsG(matches[b3[0]:b3[1]],players_dict,365)\n",
    "ratings_histories += [rh]"
   ]
  },
  {
   "cell_type": "code",
   "execution_count": 19,
   "id": "ba29ceee-6153-4739-bd22-e86418db5ba3",
   "metadata": {},
   "outputs": [
    {
     "name": "stdout",
     "output_type": "stream",
     "text": [
      "CPU times: user 3.97 s, sys: 7.83 ms, total: 3.98 s\n",
      "Wall time: 3.98 s\n"
     ]
    }
   ],
   "source": [
    "%%time\n",
    "players_dict,rh = epochsG(matches[eg_batches_50[5][0]:eg_batches_50[5][1]],players_dict,365)\n",
    "ratings_histories += [rh]"
   ]
  },
  {
   "cell_type": "markdown",
   "id": "146f873b-eae6-44cc-b79c-4521cbd82c67",
   "metadata": {
    "jupyter": {
     "outputs_hidden": true
    },
    "tags": []
   },
   "source": [
    "%%time\n",
    "players_dict,rh = epochsG(matches[eg_batches_50[6][0]:eg_batches_50[6][1]],players_dict,365)\n",
    "ratings_histories += [rh]"
   ]
  },
  {
   "cell_type": "code",
   "execution_count": 20,
   "id": "d152b9e4-17d2-4bfd-b08c-4454e34cea85",
   "metadata": {},
   "outputs": [
    {
     "data": {
      "text/plain": [
       "[(300000, 306250),\n",
       " (306250, 312500),\n",
       " (312500, 318750),\n",
       " (318750, 325000),\n",
       " (325000, 331250),\n",
       " (331250, 337500),\n",
       " (337500, 343750),\n",
       " (343750, 350000)]"
      ]
     },
     "execution_count": 20,
     "metadata": {},
     "output_type": "execute_result"
    }
   ],
   "source": [
    "b = splitBatch(eg_batches_50[6],8); \n",
    "b0 = b[0]; b1 = b[1]; b2 = b[2]; b3=b[3];\n",
    "b4 = b[0]; b5 = b[1]; b6 = b[2]; b7=b[3]\n",
    "b"
   ]
  },
  {
   "cell_type": "code",
   "execution_count": 21,
   "id": "e5b64d9e-4a97-45bd-b1af-c5cb53ef153c",
   "metadata": {
    "tags": []
   },
   "outputs": [
    {
     "name": "stdout",
     "output_type": "stream",
     "text": [
      "CPU times: user 873 ms, sys: 5.61 ms, total: 879 ms\n",
      "Wall time: 877 ms\n"
     ]
    }
   ],
   "source": [
    "%%time\n",
    "players_dict,rh = epochsG(matches[b0[0]:b0[1]],players_dict,365)\n",
    "ratings_histories += [rh]"
   ]
  },
  {
   "cell_type": "code",
   "execution_count": 22,
   "id": "8b9fe101-5e54-44d5-9449-77840ccd9391",
   "metadata": {
    "tags": []
   },
   "outputs": [
    {
     "name": "stdout",
     "output_type": "stream",
     "text": [
      "CPU times: user 906 ms, sys: 7.07 ms, total: 913 ms\n",
      "Wall time: 911 ms\n"
     ]
    }
   ],
   "source": [
    "%%time\n",
    "players_dict,rh = epochsG(matches[b1[0]:b1[1]],players_dict,365)\n",
    "ratings_histories += [rh]"
   ]
  },
  {
   "cell_type": "code",
   "execution_count": 23,
   "id": "9caebb0a-a09b-40cb-939d-bf59fabbf46d",
   "metadata": {
    "tags": []
   },
   "outputs": [
    {
     "name": "stdout",
     "output_type": "stream",
     "text": [
      "CPU times: user 772 ms, sys: 2.82 ms, total: 775 ms\n",
      "Wall time: 774 ms\n"
     ]
    }
   ],
   "source": [
    "%%time\n",
    "players_dict,rh = epochsG(matches[b2[0]:b2[1]],players_dict,365)\n",
    "ratings_histories += [rh]"
   ]
  },
  {
   "cell_type": "code",
   "execution_count": 24,
   "id": "ea7f7ab6-e25e-459c-ac3c-748a54e975dd",
   "metadata": {},
   "outputs": [
    {
     "name": "stdout",
     "output_type": "stream",
     "text": [
      "CPU times: user 885 ms, sys: 3.55 ms, total: 889 ms\n",
      "Wall time: 889 ms\n"
     ]
    }
   ],
   "source": [
    "%%time\n",
    "players_dict,rh = epochsG(matches[b3[0]:b3[1]],players_dict,365)\n",
    "ratings_histories += [rh]"
   ]
  },
  {
   "cell_type": "code",
   "execution_count": 25,
   "id": "efc422fc-8e20-4525-956b-940107256413",
   "metadata": {
    "tags": []
   },
   "outputs": [
    {
     "name": "stdout",
     "output_type": "stream",
     "text": [
      "CPU times: user 875 ms, sys: 11.6 ms, total: 887 ms\n",
      "Wall time: 877 ms\n"
     ]
    }
   ],
   "source": [
    "%%time\n",
    "players_dict,rh = epochsG(matches[b4[0]:b4[1]],players_dict,365)\n",
    "ratings_histories += [rh]"
   ]
  },
  {
   "cell_type": "code",
   "execution_count": 26,
   "id": "a41cc1d3-5c03-4da7-94d2-a538020d77fe",
   "metadata": {
    "tags": []
   },
   "outputs": [
    {
     "name": "stdout",
     "output_type": "stream",
     "text": [
      "CPU times: user 930 ms, sys: 10.4 ms, total: 941 ms\n",
      "Wall time: 932 ms\n"
     ]
    }
   ],
   "source": [
    "%%time\n",
    "players_dict,rh = epochsG(matches[b5[0]:b5[1]],players_dict,365)\n",
    "ratings_histories += [rh]"
   ]
  },
  {
   "cell_type": "code",
   "execution_count": 27,
   "id": "7fbf2aaf-01ae-45df-bc93-6bc01ba3bb31",
   "metadata": {
    "tags": []
   },
   "outputs": [
    {
     "name": "stdout",
     "output_type": "stream",
     "text": [
      "CPU times: user 831 ms, sys: 13.7 ms, total: 845 ms\n",
      "Wall time: 832 ms\n"
     ]
    }
   ],
   "source": [
    "%%time\n",
    "players_dict,rh = epochsG(matches[b6[0]:b6[1]],players_dict,365)\n",
    "ratings_histories += [rh]"
   ]
  },
  {
   "cell_type": "code",
   "execution_count": 28,
   "id": "2b063edd-aae7-473f-8276-6e9419a11615",
   "metadata": {},
   "outputs": [
    {
     "name": "stdout",
     "output_type": "stream",
     "text": [
      "CPU times: user 879 ms, sys: 7.31 ms, total: 887 ms\n",
      "Wall time: 906 ms\n"
     ]
    }
   ],
   "source": [
    "%%time\n",
    "players_dict,rh = epochsG(matches[b7[0]:b7[1]],players_dict,365)\n",
    "ratings_histories += [rh]"
   ]
  },
  {
   "cell_type": "markdown",
   "id": "43992388-7515-4114-8a25-b94292051a3d",
   "metadata": {},
   "source": [
    "%%time\n",
    "\n",
    "players_dict,rh = epochsG(matches[eg_batches_50[7][0]:eg_batches_50[7][1]],players_dict,365)\n",
    "ratings_histories += [rh]"
   ]
  },
  {
   "cell_type": "code",
   "execution_count": 29,
   "id": "d9cc3bd0-8741-426c-8f8a-f4e1de6e11fd",
   "metadata": {},
   "outputs": [],
   "source": [
    "b = splitBatch(eg_batches_50[7],5); \n",
    "b0 = b[0]; b1 = b[1]; b2 = b[2]; b3 = b[3]; b4 = b[4];\n"
   ]
  },
  {
   "cell_type": "code",
   "execution_count": null,
   "id": "651bb210-ae5e-42e5-b0cf-82fb2e8f2806",
   "metadata": {},
   "outputs": [],
   "source": [
    "%%time\n",
    "players_dict,rh = epochsG(matches[b0[0]:b0[1]],players_dict,365)\n",
    "ratings_histories += [rh]"
   ]
  },
  {
   "cell_type": "code",
   "execution_count": null,
   "id": "8f87f868-9e0c-401b-90f6-ef31f3f819ba",
   "metadata": {
    "tags": []
   },
   "outputs": [],
   "source": [
    "%%time\n",
    "players_dict,rh = epochsG(matches[b1[0]:b1[1]],players_dict,365)\n",
    "ratings_histories += [rh]"
   ]
  },
  {
   "cell_type": "code",
   "execution_count": null,
   "id": "358444a2-1366-4dbe-a188-2d3703bbd469",
   "metadata": {},
   "outputs": [],
   "source": [
    "%%time\n",
    "players_dict,rh = epochsG(matches[b2[0]:b2[1]],players_dict,365)\n",
    "ratings_histories += [rh]"
   ]
  },
  {
   "cell_type": "code",
   "execution_count": null,
   "id": "a4630d52-f693-4c8c-98bf-8f51eb6b533c",
   "metadata": {},
   "outputs": [],
   "source": [
    "%%time\n",
    "players_dict,rh = epochsG(matches[b2[0]:b2[1]],players_dict,365)\n",
    "ratings_histories += [rh]"
   ]
  },
  {
   "cell_type": "code",
   "execution_count": null,
   "id": "673c98c2-bc15-4d1b-9a65-302d656f8490",
   "metadata": {
    "tags": []
   },
   "outputs": [],
   "source": [
    "%%time\n",
    "players_dict,rh = epochsG(matches[b3[0]:b3[1]],players_dict,365)\n",
    "ratings_histories += [rh]"
   ]
  },
  {
   "cell_type": "code",
   "execution_count": null,
   "id": "14387111-1685-41b5-b839-266bb2abaa97",
   "metadata": {},
   "outputs": [],
   "source": [
    "%%time\n",
    "players_dict,rh = epochsG(matches[b4[0]:b4[1]],players_dict,365)\n",
    "ratings_histories += [rh]"
   ]
  },
  {
   "cell_type": "code",
   "execution_count": null,
   "id": "0e73704b-08db-4d7e-8053-badeea09f1cd",
   "metadata": {},
   "outputs": [],
   "source": [
    "b = splitBatch(eg_batches_50[8],2); b0 = b[0]; b1 = b[1]\n",
    "b"
   ]
  },
  {
   "cell_type": "code",
   "execution_count": null,
   "id": "f5337919-fab7-4187-9265-03e48bf1695c",
   "metadata": {},
   "outputs": [],
   "source": [
    "%%time\n",
    "players_dict,rh = epochsG(matches[b0[0]:b0[1]],players_dict,365)\n",
    "ratings_histories += [rh]"
   ]
  },
  {
   "cell_type": "code",
   "execution_count": null,
   "id": "57823a6e-68ac-4c3e-8bfb-a7414c7120db",
   "metadata": {},
   "outputs": [],
   "source": [
    "%%time\n",
    "players_dict,rh = epochsG(matches[b1[0]:b1[1]],players_dict,365)\n",
    "ratings_histories += [rh]"
   ]
  },
  {
   "cell_type": "code",
   "execution_count": null,
   "id": "27dd6f4e-ed21-4045-a9e0-253ab1cd7d94",
   "metadata": {},
   "outputs": [],
   "source": [
    "b = splitBatch(eg_batches_50[9],3); b0 = b[0]; b1 = b[1]; \n",
    "b2 = b[2]\n",
    "b"
   ]
  },
  {
   "cell_type": "code",
   "execution_count": null,
   "id": "63bb6137-a49c-474f-900d-260a2333853d",
   "metadata": {},
   "outputs": [],
   "source": [
    "%%time\n",
    "players_dict,rh = epochsG(matches[b0[0]:b0[1]],players_dict,365)\n",
    "ratings_histories += [rh]"
   ]
  },
  {
   "cell_type": "code",
   "execution_count": null,
   "id": "20c2dbe8-8677-4122-9f86-e9b8f9a05b60",
   "metadata": {},
   "outputs": [],
   "source": [
    "%%time\n",
    "players_dict,rh = epochsG(matches[b1[0]:b1[1]],players_dict,365)\n",
    "ratings_histories += [rh]"
   ]
  },
  {
   "cell_type": "code",
   "execution_count": null,
   "id": "b4f7c2b1-f7ef-4bd4-85c5-3a0c26d3e5d1",
   "metadata": {},
   "outputs": [],
   "source": [
    "b = splitBatch(eg_batches_50[10],2); b0 = b[0]; b1 = b[1]\n",
    "b"
   ]
  },
  {
   "cell_type": "code",
   "execution_count": null,
   "id": "07285360-5968-447d-99c4-87c74106b018",
   "metadata": {},
   "outputs": [],
   "source": [
    "%%time\n",
    "players_dict,rh = epochsG(matches[b0[0]:b0[1]],players_dict,365)\n",
    "ratings_histories += [rh]"
   ]
  },
  {
   "cell_type": "code",
   "execution_count": null,
   "id": "c67267c5-6aac-4d48-9d48-f74f6daa9804",
   "metadata": {},
   "outputs": [],
   "source": [
    "%%time\n",
    "players_dict,rh = epochsG(matches[b1[0]:b1[1]],players_dict,365)\n",
    "ratings_histories += [rh]"
   ]
  },
  {
   "cell_type": "code",
   "execution_count": null,
   "id": "42f6f8ce-3ab7-4897-b050-cbac584ddc08",
   "metadata": {},
   "outputs": [],
   "source": [
    "b = splitBatch(eg_batches_50[11],4); b0 = b[0]; b1 = b[1];\n",
    "b2 = b[0]; b3 = b[1];\n",
    "b"
   ]
  },
  {
   "cell_type": "code",
   "execution_count": null,
   "id": "3c5beb50-54ec-4af6-9eeb-a7c42d453d54",
   "metadata": {},
   "outputs": [],
   "source": [
    "%%time\n",
    "players_dict,rh = epochsG(matches[b0[0]:b0[1]],players_dict,365)\n",
    "ratings_histories += [rh]"
   ]
  },
  {
   "cell_type": "code",
   "execution_count": null,
   "id": "f8b8d82e-277c-499e-93d8-5472b973a57c",
   "metadata": {},
   "outputs": [],
   "source": [
    "%%time\n",
    "players_dict,rh = epochsG(matches[b1[0]:b1[1]],players_dict,365)\n",
    "ratings_histories += [rh]"
   ]
  },
  {
   "cell_type": "code",
   "execution_count": null,
   "id": "62505444-3ef4-4c29-b453-0f78387d34ce",
   "metadata": {},
   "outputs": [],
   "source": [
    "%%time\n",
    "players_dict,rh = epochsG(matches[eg_batches_50[11][0]:eg_batches_50[11][1]],players_dict,365)\n",
    "ratings_histories += [rh]"
   ]
  },
  {
   "cell_type": "code",
   "execution_count": null,
   "id": "e4147e21-99d0-4dff-b367-4b57f4208e08",
   "metadata": {},
   "outputs": [],
   "source": [
    "b = splitBatch(eg_batches_50[12],2); b0 = b[0]; b1 = b[1]\n",
    "b"
   ]
  },
  {
   "cell_type": "code",
   "execution_count": null,
   "id": "1c4a5e2c-64a4-4828-9699-ba9815454ad6",
   "metadata": {},
   "outputs": [],
   "source": [
    "%%time\n",
    "players_dict,rh = epochsG(matches[b0[0]:b0[1]],players_dict,365)\n",
    "ratings_histories += [rh]"
   ]
  },
  {
   "cell_type": "code",
   "execution_count": null,
   "id": "fd1a6366-afc4-4894-895a-0fbdeda95606",
   "metadata": {},
   "outputs": [],
   "source": [
    "%%time\n",
    "players_dict,rh = epochsG(matches[b1[0]:b1[1]],players_dict,365)\n",
    "ratings_histories += [rh]"
   ]
  },
  {
   "cell_type": "code",
   "execution_count": null,
   "id": "1c10de8f-d383-4dbb-93b2-65b688234fee",
   "metadata": {
    "tags": []
   },
   "outputs": [],
   "source": [
    "%%time\n",
    "players_dict,rh = epochsG(matches[eg_batches_50[13][0]:eg_batches_50[13][1]],players_dict,365)\n",
    "ratings_histories += [rh]"
   ]
  },
  {
   "cell_type": "code",
   "execution_count": null,
   "id": "af4ae5f3-62bb-4d0d-a269-857e15057d3b",
   "metadata": {},
   "outputs": [],
   "source": [
    "b = splitBatch(eg_batches_50[14],2); b0 = b[0]; b1 = b[1]\n",
    "b"
   ]
  },
  {
   "cell_type": "code",
   "execution_count": null,
   "id": "914da7d3-f638-4011-b41c-0dff98534f93",
   "metadata": {},
   "outputs": [],
   "source": [
    "%%time\n",
    "players_dict,rh = epochsG(matches[b0[0]:b0[1]],players_dict,365)\n",
    "ratings_histories += [rh]"
   ]
  },
  {
   "cell_type": "code",
   "execution_count": null,
   "id": "27c065f9-d84a-4d92-873c-ee8de144d712",
   "metadata": {},
   "outputs": [],
   "source": [
    "%%time\n",
    "players_dict,rh = epochsG(matches[b1[0]:b1[1]],players_dict,365)\n",
    "ratings_histories += [rh]"
   ]
  },
  {
   "cell_type": "code",
   "execution_count": null,
   "id": "005d026e-eb88-4d65-9b76-40fd0d23a659",
   "metadata": {},
   "outputs": [],
   "source": [
    "%%time\n",
    "players_dict,rh = epochsG(matches[eg_batches_50[15][0]:eg_batches_50[15][1]],players_dict,365)\n",
    "ratings_histories += [rh]"
   ]
  },
  {
   "cell_type": "code",
   "execution_count": null,
   "id": "1f05850c-f2b6-4765-a747-cd822f49afb4",
   "metadata": {},
   "outputs": [],
   "source": [
    "%%time\n",
    "players_dict,rh = epochsG(matches[eg_batches_50[16][0]:eg_batches_50[16][1]],players_dict,365)\n",
    "ratings_histories += [rh]"
   ]
  },
  {
   "cell_type": "code",
   "execution_count": null,
   "id": "d0157782-055b-42fd-ac6c-ef922881c706",
   "metadata": {},
   "outputs": [],
   "source": [
    "%%time\n",
    "players_dict,rh = epochsG(matches[eg_batches_50[17][0]:eg_batches_50[17][1]],players_dict,365)\n",
    "ratings_histories += [rh]"
   ]
  },
  {
   "cell_type": "code",
   "execution_count": null,
   "id": "f2ff04c8-2a0f-4c73-98ba-e487cee0b820",
   "metadata": {
    "tags": []
   },
   "outputs": [],
   "source": [
    "rh"
   ]
  }
 ],
 "metadata": {
  "kernelspec": {
   "display_name": "Python 3 (ipykernel)",
   "language": "python",
   "name": "python3"
  },
  "language_info": {
   "codemirror_mode": {
    "name": "ipython",
    "version": 3
   },
   "file_extension": ".py",
   "mimetype": "text/x-python",
   "name": "python",
   "nbconvert_exporter": "python",
   "pygments_lexer": "ipython3",
   "version": "3.9.13"
  }
 },
 "nbformat": 4,
 "nbformat_minor": 5
}
