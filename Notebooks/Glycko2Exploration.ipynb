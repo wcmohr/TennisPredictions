{
 "cells": [
  {
   "cell_type": "code",
   "execution_count": 1,
   "id": "cf4b92fa-d27b-47e2-b481-ee6467d87a22",
   "metadata": {},
   "outputs": [],
   "source": [
    "import pandas as pd\n",
    "from functions import assembleDf, epochG, epochsG\n",
    "from datetime import datetime, timedelta\n",
    "import numpy as np\n",
    "import sys\n",
    "sys.path.append('..')\n",
    "from pyglicko2.glicko2_tests import exampleCase\n",
    "from pyglicko2.glicko2 import Player\n",
    "import glicko2\n",
    "import time\n"
   ]
  },
  {
   "cell_type": "code",
   "execution_count": 2,
   "id": "b2967aa4-0a53-4720-9eee-272a296b5dd1",
   "metadata": {},
   "outputs": [],
   "source": [
    "matches = pd.read_csv('../Data/matches_glicko2.csv',parse_dates = ['tourney_date'], \n",
    "                      infer_datetime_format = True)"
   ]
  },
  {
   "cell_type": "markdown",
   "id": "631737b6-19e6-4df2-a533-428a43a2a03c",
   "metadata": {},
   "source": [
    "Because memory constraints limit the batch size in epochsG, I will need to process incrementally."
   ]
  },
  {
   "cell_type": "code",
   "execution_count": 3,
   "id": "fffeba42-98f8-42fb-b272-7c02e748852b",
   "metadata": {},
   "outputs": [],
   "source": [
    "# base batches.  can be further broken up by splitBatch\n",
    "eg_batches_50 = [(s,f) for s,f in zip(range(0, 876_978-50_000,50_000),\n",
    "                      range(50_000, 876978,50_000))] + [(850_000,876979)]\n",
    "eg_batches_100 = [(s,f) for s,f in zip(range(0, 876_978-100_000,100_000),\n",
    "                      range(100_000, 876978,100_000))] + [(800_000,876979)]\n",
    "\n",
    "ratings_histories = []\n",
    "players_dict = {}"
   ]
  },
  {
   "cell_type": "code",
   "execution_count": 4,
   "id": "f704d011-2b48-4d7b-b7f6-6fcfe88ec87e",
   "metadata": {},
   "outputs": [],
   "source": [
    "def ceildiv(a, b):\n",
    "    return -(a // -b)"
   ]
  },
  {
   "cell_type": "code",
   "execution_count": 5,
   "id": "e198bcc1-c413-49de-bfe2-69690dc13beb",
   "metadata": {
    "tags": []
   },
   "outputs": [],
   "source": [
    "def splitBatch(atuple, divisions):\n",
    "    '''Break up batches into smaller pieces to allow epochsG to run.'''\n",
    "    batch_size = ceildiv((atuple[1] - atuple[0]),divisions)\n",
    "    if batch_size < (atuple[1] - atuple[0]):\n",
    "        batches = [b for b in zip(range(atuple[0],atuple[1]-batch_size,batch_size),\n",
    "             range(atuple[0]+batch_size,atuple[1],batch_size))]\n",
    "        extra = [(batches[-1][1],atuple[1])]\n",
    "        return batches + extra\n",
    "    else:\n",
    "        return atuple"
   ]
  },
  {
   "cell_type": "code",
   "execution_count": 6,
   "id": "af20da6a-1b3e-450d-a2ad-5ca55b5b747b",
   "metadata": {},
   "outputs": [
    {
     "name": "stdout",
     "output_type": "stream",
     "text": [
      "CPU times: user 19.6 s, sys: 125 ms, total: 19.8 s\n",
      "Wall time: 19.7 s\n"
     ]
    }
   ],
   "source": [
    "%%time\n",
    "for batch in eg_batches_50[0:1]:\n",
    "    players_dict,rh = epochsG(matches[batch[0]:batch[1]],players_dict,365)\n",
    "    ratings_histories += [rh]"
   ]
  },
  {
   "cell_type": "code",
   "execution_count": 7,
   "id": "f1208104-05f2-4cfe-99a3-75a8d1fdb67c",
   "metadata": {
    "tags": []
   },
   "outputs": [
    {
     "name": "stdout",
     "output_type": "stream",
     "text": [
      "CPU times: user 7.36 s, sys: 30.7 ms, total: 7.39 s\n",
      "Wall time: 7.38 s\n"
     ]
    }
   ],
   "source": [
    "%%time\n",
    "\n",
    "for batch in eg_batches_50[1:2]:\n",
    "    players_dict,rh = epochsG(matches[batch[0]:batch[1]],players_dict,365)\n",
    "    ratings_histories += [rh]"
   ]
  },
  {
   "cell_type": "code",
   "execution_count": 8,
   "id": "610e790e-7921-4f03-8f24-f30e38fdac09",
   "metadata": {},
   "outputs": [
    {
     "name": "stdout",
     "output_type": "stream",
     "text": [
      "CPU times: user 7.59 s, sys: 33.1 ms, total: 7.62 s\n",
      "Wall time: 7.61 s\n"
     ]
    }
   ],
   "source": [
    "%%time\n",
    "\n",
    "for batch in eg_batches_50[2:3]:\n",
    "    players_dict,rh = epochsG(matches[batch[0]:batch[1]],players_dict,365)\n",
    "    ratings_histories += [rh]"
   ]
  },
  {
   "cell_type": "code",
   "execution_count": 9,
   "id": "e3bfedcd-5c11-421f-9077-135f4afaf71e",
   "metadata": {},
   "outputs": [
    {
     "data": {
      "text/plain": [
       "(150000, 200000)"
      ]
     },
     "execution_count": 9,
     "metadata": {},
     "output_type": "execute_result"
    }
   ],
   "source": [
    "eg_batches_50[3]"
   ]
  },
  {
   "cell_type": "code",
   "execution_count": 10,
   "id": "2230a32e-5541-4fef-ab44-0d686cc928a1",
   "metadata": {},
   "outputs": [
    {
     "data": {
      "text/plain": [
       "[(150000, 175000), (175000, 200000)]"
      ]
     },
     "execution_count": 10,
     "metadata": {},
     "output_type": "execute_result"
    }
   ],
   "source": [
    "b = splitBatch(eg_batches_50[3],2); b0 = b[0]; b1 = b[1]\n",
    "b"
   ]
  },
  {
   "cell_type": "code",
   "execution_count": 11,
   "id": "6fcbf7e1-42c3-4c41-aadc-cb2812ea7bca",
   "metadata": {},
   "outputs": [
    {
     "name": "stdout",
     "output_type": "stream",
     "text": [
      "CPU times: user 3.61 s, sys: 11.7 ms, total: 3.63 s\n",
      "Wall time: 3.62 s\n"
     ]
    }
   ],
   "source": [
    "%%time\n",
    "players_dict,rh = epochsG(matches[b0[0]:b0[1]],players_dict,365)\n",
    "ratings_histories += [rh]"
   ]
  },
  {
   "cell_type": "code",
   "execution_count": 12,
   "id": "19bca57a-1a8f-4a12-9904-3389c83f7e2e",
   "metadata": {},
   "outputs": [
    {
     "name": "stdout",
     "output_type": "stream",
     "text": [
      "CPU times: user 3.56 s, sys: 16.5 ms, total: 3.58 s\n",
      "Wall time: 3.58 s\n"
     ]
    }
   ],
   "source": [
    "%%time\n",
    "players_dict,rh = epochsG(matches[b1[0]:b1[1]],players_dict,365)\n",
    "ratings_histories += [rh]"
   ]
  },
  {
   "cell_type": "code",
   "execution_count": 13,
   "id": "050ad11e-03ca-48db-9074-be7b0d026045",
   "metadata": {},
   "outputs": [
    {
     "data": {
      "text/plain": [
       "[(200000, 216667), (216667, 233334), (233334, 250000)]"
      ]
     },
     "execution_count": 13,
     "metadata": {},
     "output_type": "execute_result"
    }
   ],
   "source": [
    "splitBatch(eg_batches_50[4],3)"
   ]
  },
  {
   "cell_type": "code",
   "execution_count": 14,
   "id": "59bde9da-8f6b-45ca-9eda-f72e5331df66",
   "metadata": {},
   "outputs": [
    {
     "data": {
      "text/plain": [
       "[(200000, 212500), (212500, 225000), (225000, 237500), (237500, 250000)]"
      ]
     },
     "execution_count": 14,
     "metadata": {},
     "output_type": "execute_result"
    }
   ],
   "source": [
    "b = splitBatch(eg_batches_50[4],4); \n",
    "b0 = b[0]; b1 = b[1]; b2 = b[2]; b3=b[3]\n",
    "b"
   ]
  },
  {
   "cell_type": "code",
   "execution_count": 15,
   "id": "cfb0c928-c9de-4784-b281-64f95ea60431",
   "metadata": {},
   "outputs": [
    {
     "name": "stdout",
     "output_type": "stream",
     "text": [
      "CPU times: user 1.96 s, sys: 13.5 ms, total: 1.97 s\n",
      "Wall time: 1.97 s\n"
     ]
    }
   ],
   "source": [
    "%%time\n",
    "players_dict,rh = epochsG(matches[b0[0]:b0[1]],players_dict,365)\n",
    "ratings_histories += [rh]"
   ]
  },
  {
   "cell_type": "code",
   "execution_count": 16,
   "id": "230a9d81-edf0-41f8-9e29-c81b230d8c0c",
   "metadata": {},
   "outputs": [
    {
     "name": "stdout",
     "output_type": "stream",
     "text": [
      "CPU times: user 1.83 s, sys: 15.5 ms, total: 1.85 s\n",
      "Wall time: 1.84 s\n"
     ]
    }
   ],
   "source": [
    "%%time\n",
    "players_dict,rh = epochsG(matches[b1[0]:b1[1]],players_dict,365)\n",
    "ratings_histories += [rh]"
   ]
  },
  {
   "cell_type": "code",
   "execution_count": 17,
   "id": "983574f2-d9ab-4c07-bc36-5980c16c014e",
   "metadata": {
    "tags": []
   },
   "outputs": [
    {
     "name": "stdout",
     "output_type": "stream",
     "text": [
      "CPU times: user 1.91 s, sys: 15.2 ms, total: 1.93 s\n",
      "Wall time: 1.92 s\n"
     ]
    }
   ],
   "source": [
    "%%time\n",
    "players_dict,rh = epochsG(matches[b2[0]:b2[1]],players_dict,365)\n",
    "ratings_histories += [rh]"
   ]
  },
  {
   "cell_type": "code",
   "execution_count": 18,
   "id": "01a09cf6-72f4-4587-b7cb-5fe4f9a4eaa5",
   "metadata": {},
   "outputs": [
    {
     "name": "stdout",
     "output_type": "stream",
     "text": [
      "CPU times: user 2.05 s, sys: 14.9 ms, total: 2.07 s\n",
      "Wall time: 2.07 s\n"
     ]
    }
   ],
   "source": [
    "%%time\n",
    "players_dict,rh = epochsG(matches[b3[0]:b3[1]],players_dict,365)\n",
    "ratings_histories += [rh]"
   ]
  },
  {
   "cell_type": "code",
   "execution_count": 19,
   "id": "ba29ceee-6153-4739-bd22-e86418db5ba3",
   "metadata": {},
   "outputs": [
    {
     "name": "stdout",
     "output_type": "stream",
     "text": [
      "CPU times: user 6.88 s, sys: 40.7 ms, total: 6.92 s\n",
      "Wall time: 6.91 s\n"
     ]
    }
   ],
   "source": [
    "%%time\n",
    "players_dict,rh = epochsG(matches[eg_batches_50[5][0]:eg_batches_50[5][1]],players_dict,365)\n",
    "ratings_histories += [rh]"
   ]
  },
  {
   "cell_type": "markdown",
   "id": "146f873b-eae6-44cc-b79c-4521cbd82c67",
   "metadata": {
    "jupyter": {
     "outputs_hidden": true
    },
    "tags": []
   },
   "source": [
    "%%time\n",
    "players_dict,rh = epochsG(matches[eg_batches_50[6][0]:eg_batches_50[6][1]],players_dict,365)\n",
    "ratings_histories += [rh]"
   ]
  },
  {
   "cell_type": "code",
   "execution_count": 20,
   "id": "d152b9e4-17d2-4bfd-b08c-4454e34cea85",
   "metadata": {},
   "outputs": [
    {
     "data": {
      "text/plain": [
       "[(300000, 306250),\n",
       " (306250, 312500),\n",
       " (312500, 318750),\n",
       " (318750, 325000),\n",
       " (325000, 331250),\n",
       " (331250, 337500),\n",
       " (337500, 343750),\n",
       " (343750, 350000)]"
      ]
     },
     "execution_count": 20,
     "metadata": {},
     "output_type": "execute_result"
    }
   ],
   "source": [
    "b = splitBatch(eg_batches_50[6],8); \n",
    "b0 = b[0]; b1 = b[1]; b2 = b[2]; b3=b[3];\n",
    "b4 = b[0]; b5 = b[1]; b6 = b[2]; b7=b[3]\n",
    "b"
   ]
  },
  {
   "cell_type": "code",
   "execution_count": 21,
   "id": "e5b64d9e-4a97-45bd-b1af-c5cb53ef153c",
   "metadata": {
    "tags": []
   },
   "outputs": [
    {
     "name": "stdout",
     "output_type": "stream",
     "text": [
      "CPU times: user 1.46 s, sys: 12.4 ms, total: 1.48 s\n",
      "Wall time: 1.47 s\n"
     ]
    }
   ],
   "source": [
    "%%time\n",
    "players_dict,rh = epochsG(matches[b0[0]:b0[1]],players_dict,365)\n",
    "ratings_histories += [rh]"
   ]
  },
  {
   "cell_type": "code",
   "execution_count": 22,
   "id": "8b9fe101-5e54-44d5-9449-77840ccd9391",
   "metadata": {
    "tags": []
   },
   "outputs": [
    {
     "name": "stdout",
     "output_type": "stream",
     "text": [
      "CPU times: user 1.56 s, sys: 25.9 ms, total: 1.59 s\n",
      "Wall time: 1.57 s\n"
     ]
    }
   ],
   "source": [
    "%%time\n",
    "players_dict,rh = epochsG(matches[b1[0]:b1[1]],players_dict,365)\n",
    "ratings_histories += [rh]"
   ]
  },
  {
   "cell_type": "code",
   "execution_count": 23,
   "id": "9caebb0a-a09b-40cb-939d-bf59fabbf46d",
   "metadata": {
    "tags": []
   },
   "outputs": [
    {
     "name": "stdout",
     "output_type": "stream",
     "text": [
      "CPU times: user 1.33 s, sys: 9.24 ms, total: 1.34 s\n",
      "Wall time: 1.34 s\n"
     ]
    }
   ],
   "source": [
    "%%time\n",
    "players_dict,rh = epochsG(matches[b2[0]:b2[1]],players_dict,365)\n",
    "ratings_histories += [rh]"
   ]
  },
  {
   "cell_type": "code",
   "execution_count": 24,
   "id": "ea7f7ab6-e25e-459c-ac3c-748a54e975dd",
   "metadata": {},
   "outputs": [
    {
     "name": "stdout",
     "output_type": "stream",
     "text": [
      "CPU times: user 1.48 s, sys: 10.4 ms, total: 1.49 s\n",
      "Wall time: 1.49 s\n"
     ]
    }
   ],
   "source": [
    "%%time\n",
    "players_dict,rh = epochsG(matches[b3[0]:b3[1]],players_dict,365)\n",
    "ratings_histories += [rh]"
   ]
  },
  {
   "cell_type": "code",
   "execution_count": 25,
   "id": "efc422fc-8e20-4525-956b-940107256413",
   "metadata": {
    "tags": []
   },
   "outputs": [
    {
     "name": "stdout",
     "output_type": "stream",
     "text": [
      "CPU times: user 1.46 s, sys: 13 ms, total: 1.47 s\n",
      "Wall time: 1.47 s\n"
     ]
    }
   ],
   "source": [
    "%%time\n",
    "players_dict,rh = epochsG(matches[b4[0]:b4[1]],players_dict,365)\n",
    "ratings_histories += [rh]"
   ]
  },
  {
   "cell_type": "code",
   "execution_count": 26,
   "id": "a41cc1d3-5c03-4da7-94d2-a538020d77fe",
   "metadata": {
    "tags": []
   },
   "outputs": [
    {
     "name": "stdout",
     "output_type": "stream",
     "text": [
      "CPU times: user 1.56 s, sys: 11.5 ms, total: 1.57 s\n",
      "Wall time: 1.57 s\n"
     ]
    }
   ],
   "source": [
    "%%time\n",
    "players_dict,rh = epochsG(matches[b5[0]:b5[1]],players_dict,365)\n",
    "ratings_histories += [rh]"
   ]
  },
  {
   "cell_type": "code",
   "execution_count": 27,
   "id": "7fbf2aaf-01ae-45df-bc93-6bc01ba3bb31",
   "metadata": {
    "tags": []
   },
   "outputs": [
    {
     "name": "stdout",
     "output_type": "stream",
     "text": [
      "CPU times: user 1.38 s, sys: 26.7 ms, total: 1.41 s\n",
      "Wall time: 1.39 s\n"
     ]
    }
   ],
   "source": [
    "%%time\n",
    "players_dict,rh = epochsG(matches[b6[0]:b6[1]],players_dict,365)\n",
    "ratings_histories += [rh]"
   ]
  },
  {
   "cell_type": "code",
   "execution_count": 28,
   "id": "2b063edd-aae7-473f-8276-6e9419a11615",
   "metadata": {},
   "outputs": [
    {
     "name": "stdout",
     "output_type": "stream",
     "text": [
      "CPU times: user 1.48 s, sys: 17 ms, total: 1.5 s\n",
      "Wall time: 1.49 s\n"
     ]
    }
   ],
   "source": [
    "%%time\n",
    "players_dict,rh = epochsG(matches[b7[0]:b7[1]],players_dict,365)\n",
    "ratings_histories += [rh]"
   ]
  },
  {
   "cell_type": "markdown",
   "id": "43992388-7515-4114-8a25-b94292051a3d",
   "metadata": {},
   "source": [
    "%%time\n",
    "\n",
    "players_dict,rh = epochsG(matches[eg_batches_50[7][0]:eg_batches_50[7][1]],players_dict,365)\n",
    "ratings_histories += [rh]"
   ]
  },
  {
   "cell_type": "code",
   "execution_count": 29,
   "id": "d9cc3bd0-8741-426c-8f8a-f4e1de6e11fd",
   "metadata": {},
   "outputs": [],
   "source": [
    "b = splitBatch(eg_batches_50[7],7); \n",
    "b0 = b[0]; b1 = b[1]; b2 = b[2]; b3 = b[3]; b4 = b[4]; b5 = b[5];\n",
    "b6 = b[6]\n"
   ]
  },
  {
   "cell_type": "code",
   "execution_count": 30,
   "id": "651bb210-ae5e-42e5-b0cf-82fb2e8f2806",
   "metadata": {},
   "outputs": [
    {
     "name": "stdout",
     "output_type": "stream",
     "text": [
      "CPU times: user 1.61 s, sys: 15.4 ms, total: 1.62 s\n",
      "Wall time: 1.62 s\n"
     ]
    }
   ],
   "source": [
    "%%time\n",
    "players_dict,rh = epochsG(matches[b0[0]:b0[1]],players_dict,365)\n",
    "ratings_histories += [rh]"
   ]
  },
  {
   "cell_type": "code",
   "execution_count": 31,
   "id": "8f87f868-9e0c-401b-90f6-ef31f3f819ba",
   "metadata": {
    "tags": []
   },
   "outputs": [
    {
     "name": "stdout",
     "output_type": "stream",
     "text": [
      "CPU times: user 1.51 s, sys: 12.9 ms, total: 1.53 s\n",
      "Wall time: 1.52 s\n"
     ]
    }
   ],
   "source": [
    "%%time\n",
    "players_dict,rh = epochsG(matches[b1[0]:b1[1]],players_dict,365)\n",
    "ratings_histories += [rh]"
   ]
  },
  {
   "cell_type": "code",
   "execution_count": 32,
   "id": "358444a2-1366-4dbe-a188-2d3703bbd469",
   "metadata": {},
   "outputs": [
    {
     "name": "stdout",
     "output_type": "stream",
     "text": [
      "CPU times: user 1.68 s, sys: 18.4 ms, total: 1.7 s\n",
      "Wall time: 1.69 s\n"
     ]
    }
   ],
   "source": [
    "%%time\n",
    "players_dict,rh = epochsG(matches[b2[0]:b2[1]],players_dict,365)\n",
    "ratings_histories += [rh]"
   ]
  },
  {
   "cell_type": "code",
   "execution_count": 33,
   "id": "a4630d52-f693-4c8c-98bf-8f51eb6b533c",
   "metadata": {},
   "outputs": [
    {
     "name": "stdout",
     "output_type": "stream",
     "text": [
      "CPU times: user 1.68 s, sys: 10.1 ms, total: 1.69 s\n",
      "Wall time: 1.69 s\n"
     ]
    }
   ],
   "source": [
    "%%time\n",
    "players_dict,rh = epochsG(matches[b2[0]:b2[1]],players_dict,365)\n",
    "ratings_histories += [rh]"
   ]
  },
  {
   "cell_type": "code",
   "execution_count": 34,
   "id": "673c98c2-bc15-4d1b-9a65-302d656f8490",
   "metadata": {
    "tags": []
   },
   "outputs": [
    {
     "name": "stdout",
     "output_type": "stream",
     "text": [
      "CPU times: user 1.72 s, sys: 14.2 ms, total: 1.74 s\n",
      "Wall time: 1.73 s\n"
     ]
    }
   ],
   "source": [
    "%%time\n",
    "players_dict,rh = epochsG(matches[b3[0]:b3[1]],players_dict,365)\n",
    "ratings_histories += [rh]"
   ]
  },
  {
   "cell_type": "code",
   "execution_count": 35,
   "id": "14387111-1685-41b5-b839-266bb2abaa97",
   "metadata": {},
   "outputs": [
    {
     "name": "stdout",
     "output_type": "stream",
     "text": [
      "CPU times: user 1.52 s, sys: 13.8 ms, total: 1.53 s\n",
      "Wall time: 1.53 s\n"
     ]
    }
   ],
   "source": [
    "%%time\n",
    "players_dict,rh = epochsG(matches[b4[0]:b4[1]],players_dict,365)\n",
    "ratings_histories += [rh]"
   ]
  },
  {
   "cell_type": "code",
   "execution_count": 36,
   "id": "716738d1-aea3-472f-95ef-f95d19483006",
   "metadata": {},
   "outputs": [
    {
     "name": "stdout",
     "output_type": "stream",
     "text": [
      "CPU times: user 1.74 s, sys: 16.9 ms, total: 1.75 s\n",
      "Wall time: 1.74 s\n"
     ]
    }
   ],
   "source": [
    "%%time\n",
    "players_dict,rh = epochsG(matches[b5[0]:b5[1]],players_dict,365)\n",
    "ratings_histories += [rh]"
   ]
  },
  {
   "cell_type": "code",
   "execution_count": 37,
   "id": "1c43096e-585f-4811-bac8-590c294abac6",
   "metadata": {},
   "outputs": [
    {
     "name": "stdout",
     "output_type": "stream",
     "text": [
      "CPU times: user 1.72 s, sys: 13.8 ms, total: 1.74 s\n",
      "Wall time: 1.73 s\n"
     ]
    }
   ],
   "source": [
    "%%time\n",
    "players_dict,rh = epochsG(matches[b6[0]:b6[1]],players_dict,365)\n",
    "ratings_histories += [rh]"
   ]
  },
  {
   "cell_type": "code",
   "execution_count": 38,
   "id": "0e73704b-08db-4d7e-8053-badeea09f1cd",
   "metadata": {},
   "outputs": [
    {
     "data": {
      "text/plain": [
       "[(400000, 425000), (425000, 450000)]"
      ]
     },
     "execution_count": 38,
     "metadata": {},
     "output_type": "execute_result"
    }
   ],
   "source": [
    "b = splitBatch(eg_batches_50[8],2); b0 = b[0]; b1 = b[1]\n",
    "b"
   ]
  },
  {
   "cell_type": "code",
   "execution_count": 39,
   "id": "f5337919-fab7-4187-9265-03e48bf1695c",
   "metadata": {},
   "outputs": [
    {
     "name": "stdout",
     "output_type": "stream",
     "text": [
      "CPU times: user 3.72 s, sys: 27.6 ms, total: 3.75 s\n",
      "Wall time: 3.74 s\n"
     ]
    }
   ],
   "source": [
    "%%time\n",
    "players_dict,rh = epochsG(matches[b0[0]:b0[1]],players_dict,365)\n",
    "ratings_histories += [rh]"
   ]
  },
  {
   "cell_type": "code",
   "execution_count": 40,
   "id": "57823a6e-68ac-4c3e-8bfb-a7414c7120db",
   "metadata": {},
   "outputs": [
    {
     "name": "stdout",
     "output_type": "stream",
     "text": [
      "CPU times: user 3.41 s, sys: 19.7 ms, total: 3.43 s\n",
      "Wall time: 3.43 s\n"
     ]
    }
   ],
   "source": [
    "%%time\n",
    "players_dict,rh = epochsG(matches[b1[0]:b1[1]],players_dict,365)\n",
    "ratings_histories += [rh]"
   ]
  },
  {
   "cell_type": "code",
   "execution_count": 41,
   "id": "27dd6f4e-ed21-4045-a9e0-253ab1cd7d94",
   "metadata": {
    "tags": []
   },
   "outputs": [
    {
     "data": {
      "text/plain": [
       "[(450000, 456250),\n",
       " (456250, 462500),\n",
       " (462500, 468750),\n",
       " (468750, 475000),\n",
       " (475000, 481250),\n",
       " (481250, 487500),\n",
       " (487500, 493750),\n",
       " (493750, 500000)]"
      ]
     },
     "execution_count": 41,
     "metadata": {},
     "output_type": "execute_result"
    }
   ],
   "source": [
    "b = splitBatch(eg_batches_50[9],8); b0 = b[0]; b1 = b[1]; \n",
    "b2 = b[2];b3 = b[3];b4 =b[4]; b5 = b[5]; b6 = b[6]; b7 = b[7]\n",
    "b"
   ]
  },
  {
   "cell_type": "code",
   "execution_count": 42,
   "id": "63bb6137-a49c-474f-900d-260a2333853d",
   "metadata": {},
   "outputs": [
    {
     "name": "stdout",
     "output_type": "stream",
     "text": [
      "CPU times: user 1.53 s, sys: 14.4 ms, total: 1.54 s\n",
      "Wall time: 1.54 s\n"
     ]
    }
   ],
   "source": [
    "%%time\n",
    "players_dict,rh = epochsG(matches[b0[0]:b0[1]],players_dict,365)\n",
    "ratings_histories += [rh]"
   ]
  },
  {
   "cell_type": "code",
   "execution_count": 43,
   "id": "20c2dbe8-8677-4122-9f86-e9b8f9a05b60",
   "metadata": {
    "tags": []
   },
   "outputs": [
    {
     "name": "stdout",
     "output_type": "stream",
     "text": [
      "CPU times: user 1.7 s, sys: 10.6 ms, total: 1.71 s\n",
      "Wall time: 1.7 s\n"
     ]
    }
   ],
   "source": [
    "%%time\n",
    "players_dict,rh = epochsG(matches[b1[0]:b1[1]],players_dict,365)\n",
    "ratings_histories += [rh]"
   ]
  },
  {
   "cell_type": "code",
   "execution_count": null,
   "id": "2cc18dbb-ba00-4e11-b15e-afd4337876e5",
   "metadata": {},
   "outputs": [],
   "source": [
    "%%time\n",
    "players_dict,rh = epochsG(matches[b2[0]:b2[1]],players_dict,365)\n",
    "ratings_histories += [rh]"
   ]
  },
  {
   "cell_type": "code",
   "execution_count": null,
   "id": "89c3b12d-4b0f-4315-b0ad-bf63690d2953",
   "metadata": {},
   "outputs": [],
   "source": [
    "%%time\n",
    "players_dict,rh = epochsG(matches[b3[0]:b3[1]],players_dict,365)\n",
    "ratings_histories += [rh]"
   ]
  },
  {
   "cell_type": "code",
   "execution_count": null,
   "id": "0b172659-c6db-4796-ab36-a662509f7d32",
   "metadata": {},
   "outputs": [],
   "source": [
    "%%time\n",
    "players_dict,rh = epochsG(matches[b4[0]:b4[1]],players_dict,365)\n",
    "ratings_histories += [rh]"
   ]
  },
  {
   "cell_type": "code",
   "execution_count": null,
   "id": "0451c265-fd8c-4dae-a903-d5a4e8c7638a",
   "metadata": {},
   "outputs": [],
   "source": [
    "%%time\n",
    "players_dict,rh = epochsG(matches[b5[0]:b5[1]],players_dict,365)\n",
    "ratings_histories += [rh]"
   ]
  },
  {
   "cell_type": "code",
   "execution_count": null,
   "id": "76a99fc2-77fb-4cd8-b94c-d4773897829f",
   "metadata": {},
   "outputs": [],
   "source": [
    "%%time\n",
    "players_dict,rh = epochsG(matches[b6[0]:b6[1]],players_dict,365)\n",
    "ratings_histories += [rh]"
   ]
  },
  {
   "cell_type": "code",
   "execution_count": null,
   "id": "b61fe68d-9a2a-4195-9eb0-303effdf20a0",
   "metadata": {},
   "outputs": [],
   "source": [
    "%%time\n",
    "players_dict,rh = epochsG(matches[b7[0]:b7[1]],players_dict,365)\n",
    "ratings_histories += [rh]"
   ]
  },
  {
   "cell_type": "code",
   "execution_count": null,
   "id": "b4f7c2b1-f7ef-4bd4-85c5-3a0c26d3e5d1",
   "metadata": {},
   "outputs": [],
   "source": [
    "b = splitBatch(eg_batches_50[10],2); b0 = b[0]; b1 = b[1]\n",
    "b"
   ]
  },
  {
   "cell_type": "code",
   "execution_count": null,
   "id": "07285360-5968-447d-99c4-87c74106b018",
   "metadata": {},
   "outputs": [],
   "source": [
    "%%time\n",
    "players_dict,rh = epochsG(matches[b0[0]:b0[1]],players_dict,365)\n",
    "ratings_histories += [rh]"
   ]
  },
  {
   "cell_type": "code",
   "execution_count": null,
   "id": "c67267c5-6aac-4d48-9d48-f74f6daa9804",
   "metadata": {},
   "outputs": [],
   "source": [
    "%%time\n",
    "players_dict,rh = epochsG(matches[b1[0]:b1[1]],players_dict,365)\n",
    "ratings_histories += [rh]"
   ]
  },
  {
   "cell_type": "code",
   "execution_count": null,
   "id": "42f6f8ce-3ab7-4897-b050-cbac584ddc08",
   "metadata": {},
   "outputs": [],
   "source": [
    "b = splitBatch(eg_batches_50[11],5); b0 = b[0]; b1 = b[1];\n",
    "b2 = b[2]; b3 = b[3];b4 = b[4];\n",
    "b"
   ]
  },
  {
   "cell_type": "code",
   "execution_count": null,
   "id": "3c5beb50-54ec-4af6-9eeb-a7c42d453d54",
   "metadata": {},
   "outputs": [],
   "source": [
    "%%time\n",
    "players_dict,rh = epochsG(matches[b0[0]:b0[1]],players_dict,365)\n",
    "ratings_histories += [rh]"
   ]
  },
  {
   "cell_type": "code",
   "execution_count": 66,
   "id": "f8b8d82e-277c-499e-93d8-5472b973a57c",
   "metadata": {},
   "outputs": [
    {
     "ename": "ZeroDivisionError",
     "evalue": "float division by zero",
     "output_type": "error",
     "traceback": [
      "\u001b[0;31m---------------------------------------------------------------------------\u001b[0m",
      "\u001b[0;31mZeroDivisionError\u001b[0m                         Traceback (most recent call last)",
      "\u001b[0;32m<timed exec>\u001b[0m in \u001b[0;36m<module>\u001b[0;34m\u001b[0m\n",
      "\u001b[0;32m~/dsir/capstone/Notebooks/functions.py\u001b[0m in \u001b[0;36mepochsG\u001b[0;34m(match_history, players_dict, interval_length)\u001b[0m\n\u001b[1;32m    201\u001b[0m             \u001b[0;32mfor\u001b[0m \u001b[0mplayer\u001b[0m \u001b[0;32min\u001b[0m \u001b[0mplayers_dict\u001b[0m\u001b[0;34m:\u001b[0m\u001b[0;34m\u001b[0m\u001b[0;34m\u001b[0m\u001b[0m\n\u001b[1;32m    202\u001b[0m                 \u001b[0mplayers_dict\u001b[0m\u001b[0;34m[\u001b[0m\u001b[0mplayer\u001b[0m\u001b[0;34m]\u001b[0m\u001b[0;34m.\u001b[0m\u001b[0mdid_not_compete\u001b[0m\u001b[0;34m(\u001b[0m\u001b[0;34m)\u001b[0m\u001b[0;34m\u001b[0m\u001b[0;34m\u001b[0m\u001b[0m\n\u001b[0;32m--> 203\u001b[0;31m     \u001b[0;31m# get the final rating period updates (for matches in the final 365 to 729 days).\u001b[0m\u001b[0;34m\u001b[0m\u001b[0;34m\u001b[0m\u001b[0m\n\u001b[0m\u001b[1;32m    204\u001b[0m     \u001b[0mrating_period\u001b[0m \u001b[0;34m=\u001b[0m \u001b[0mmatch_history\u001b[0m\u001b[0;34m[\u001b[0m\u001b[0mmatch_history\u001b[0m\u001b[0;34m[\u001b[0m\u001b[0;34m'tourney_date'\u001b[0m\u001b[0;34m]\u001b[0m\u001b[0;34m>=\u001b[0m\u001b[0mepoch_cutoffs\u001b[0m\u001b[0;34m[\u001b[0m\u001b[0;34m-\u001b[0m\u001b[0;36m1\u001b[0m\u001b[0;34m]\u001b[0m\u001b[0;34m]\u001b[0m\u001b[0;34m\u001b[0m\u001b[0;34m\u001b[0m\u001b[0m\n\u001b[1;32m    205\u001b[0m \u001b[0;34m\u001b[0m\u001b[0m\n",
      "\u001b[0;32m~/dsir/capstone/Notebooks/functions.py\u001b[0m in \u001b[0;36mepochG\u001b[0;34m(matches, players_dict, cutoff_date)\u001b[0m\n\u001b[1;32m    159\u001b[0m \u001b[0;34m\u001b[0m\u001b[0m\n\u001b[1;32m    160\u001b[0m     \u001b[0mratings_timestamp\u001b[0m \u001b[0;34m=\u001b[0m \u001b[0;34m{\u001b[0m\u001b[0;34m}\u001b[0m\u001b[0;34m\u001b[0m\u001b[0;34m\u001b[0m\u001b[0m\n\u001b[0;32m--> 161\u001b[0;31m     \u001b[0;31m# update players\u001b[0m\u001b[0;34m\u001b[0m\u001b[0;34m\u001b[0m\u001b[0m\n\u001b[0m\u001b[1;32m    162\u001b[0m     \u001b[0;32mfor\u001b[0m \u001b[0mplayer\u001b[0m \u001b[0;32min\u001b[0m \u001b[0mlist\u001b[0m\u001b[0;34m(\u001b[0m\u001b[0mresults\u001b[0m\u001b[0;34m.\u001b[0m\u001b[0mkeys\u001b[0m\u001b[0;34m(\u001b[0m\u001b[0;34m)\u001b[0m\u001b[0;34m)\u001b[0m\u001b[0;34m:\u001b[0m\u001b[0;34m\u001b[0m\u001b[0;34m\u001b[0m\u001b[0m\n\u001b[1;32m    163\u001b[0m         \u001b[0;34m(\u001b[0m\u001b[0mrating_list\u001b[0m\u001b[0;34m,\u001b[0m \u001b[0mRD_list\u001b[0m\u001b[0;34m,\u001b[0m \u001b[0moutcome_list\u001b[0m\u001b[0;34m)\u001b[0m \u001b[0;34m=\u001b[0m \u001b[0mresults\u001b[0m\u001b[0;34m[\u001b[0m\u001b[0mplayer\u001b[0m\u001b[0;34m]\u001b[0m\u001b[0;34m\u001b[0m\u001b[0;34m\u001b[0m\u001b[0m\n",
      "\u001b[0;32m~/dsir/capstone/Notebooks/../pyglicko2/glicko2.py\u001b[0m in \u001b[0;36mupdate_player\u001b[0;34m(self, rating_list, RD_list, outcome_list)\u001b[0m\n\u001b[1;32m     74\u001b[0m         \u001b[0mRD_list\u001b[0m \u001b[0;34m=\u001b[0m \u001b[0;34m[\u001b[0m\u001b[0mx\u001b[0m \u001b[0;34m/\u001b[0m \u001b[0;36m173.7178\u001b[0m \u001b[0;32mfor\u001b[0m \u001b[0mx\u001b[0m \u001b[0;32min\u001b[0m \u001b[0mRD_list\u001b[0m\u001b[0;34m]\u001b[0m\u001b[0;34m\u001b[0m\u001b[0;34m\u001b[0m\u001b[0m\n\u001b[1;32m     75\u001b[0m \u001b[0;34m\u001b[0m\u001b[0m\n\u001b[0;32m---> 76\u001b[0;31m         \u001b[0mv\u001b[0m \u001b[0;34m=\u001b[0m \u001b[0mself\u001b[0m\u001b[0;34m.\u001b[0m\u001b[0m_v\u001b[0m\u001b[0;34m(\u001b[0m\u001b[0mrating_list\u001b[0m\u001b[0;34m,\u001b[0m \u001b[0mRD_list\u001b[0m\u001b[0;34m)\u001b[0m\u001b[0;34m\u001b[0m\u001b[0;34m\u001b[0m\u001b[0m\n\u001b[0m\u001b[1;32m     77\u001b[0m         \u001b[0mself\u001b[0m\u001b[0;34m.\u001b[0m\u001b[0mvol\u001b[0m \u001b[0;34m=\u001b[0m \u001b[0mself\u001b[0m\u001b[0;34m.\u001b[0m\u001b[0m_newVol\u001b[0m\u001b[0;34m(\u001b[0m\u001b[0mrating_list\u001b[0m\u001b[0;34m,\u001b[0m \u001b[0mRD_list\u001b[0m\u001b[0;34m,\u001b[0m \u001b[0moutcome_list\u001b[0m\u001b[0;34m,\u001b[0m \u001b[0mv\u001b[0m\u001b[0;34m)\u001b[0m\u001b[0;34m\u001b[0m\u001b[0;34m\u001b[0m\u001b[0m\n\u001b[1;32m     78\u001b[0m         \u001b[0mself\u001b[0m\u001b[0;34m.\u001b[0m\u001b[0m_preRatingRD\u001b[0m\u001b[0;34m(\u001b[0m\u001b[0;34m)\u001b[0m\u001b[0;34m\u001b[0m\u001b[0;34m\u001b[0m\u001b[0m\n",
      "\u001b[0;32m~/dsir/capstone/Notebooks/../pyglicko2/glicko2.py\u001b[0m in \u001b[0;36m_v\u001b[0;34m(self, rating_list, RD_list)\u001b[0m\n\u001b[1;32m    135\u001b[0m             \u001b[0mtempE\u001b[0m \u001b[0;34m=\u001b[0m \u001b[0mself\u001b[0m\u001b[0;34m.\u001b[0m\u001b[0m_E\u001b[0m\u001b[0;34m(\u001b[0m\u001b[0mrating_list\u001b[0m\u001b[0;34m[\u001b[0m\u001b[0mi\u001b[0m\u001b[0;34m]\u001b[0m\u001b[0;34m,\u001b[0m \u001b[0mRD_list\u001b[0m\u001b[0;34m[\u001b[0m\u001b[0mi\u001b[0m\u001b[0;34m]\u001b[0m\u001b[0;34m)\u001b[0m\u001b[0;34m\u001b[0m\u001b[0;34m\u001b[0m\u001b[0m\n\u001b[1;32m    136\u001b[0m             \u001b[0mtempSum\u001b[0m \u001b[0;34m+=\u001b[0m \u001b[0mmath\u001b[0m\u001b[0;34m.\u001b[0m\u001b[0mpow\u001b[0m\u001b[0;34m(\u001b[0m\u001b[0mself\u001b[0m\u001b[0;34m.\u001b[0m\u001b[0m_g\u001b[0m\u001b[0;34m(\u001b[0m\u001b[0mRD_list\u001b[0m\u001b[0;34m[\u001b[0m\u001b[0mi\u001b[0m\u001b[0;34m]\u001b[0m\u001b[0;34m)\u001b[0m\u001b[0;34m,\u001b[0m \u001b[0;36m2\u001b[0m\u001b[0;34m)\u001b[0m \u001b[0;34m*\u001b[0m \u001b[0mtempE\u001b[0m \u001b[0;34m*\u001b[0m \u001b[0;34m(\u001b[0m\u001b[0;36m1\u001b[0m \u001b[0;34m-\u001b[0m \u001b[0mtempE\u001b[0m\u001b[0;34m)\u001b[0m\u001b[0;34m\u001b[0m\u001b[0;34m\u001b[0m\u001b[0m\n\u001b[0;32m--> 137\u001b[0;31m         \u001b[0;32mreturn\u001b[0m \u001b[0;36m1\u001b[0m \u001b[0;34m/\u001b[0m \u001b[0mtempSum\u001b[0m\u001b[0;34m\u001b[0m\u001b[0;34m\u001b[0m\u001b[0m\n\u001b[0m\u001b[1;32m    138\u001b[0m \u001b[0;34m\u001b[0m\u001b[0m\n\u001b[1;32m    139\u001b[0m     \u001b[0;32mdef\u001b[0m \u001b[0m_E\u001b[0m\u001b[0;34m(\u001b[0m\u001b[0mself\u001b[0m\u001b[0;34m,\u001b[0m \u001b[0mp2rating\u001b[0m\u001b[0;34m,\u001b[0m \u001b[0mp2RD\u001b[0m\u001b[0;34m)\u001b[0m\u001b[0;34m:\u001b[0m\u001b[0;34m\u001b[0m\u001b[0;34m\u001b[0m\u001b[0m\n",
      "\u001b[0;31mZeroDivisionError\u001b[0m: float division by zero"
     ]
    }
   ],
   "source": [
    "%%time\n",
    "players_dict,rh = epochsG(matches[b1[0]:b1[1]],players_dict,365)\n",
    "ratings_histories += [rh]"
   ]
  },
  {
   "cell_type": "code",
   "execution_count": 67,
   "id": "62505444-3ef4-4c29-b453-0f78387d34ce",
   "metadata": {},
   "outputs": [
    {
     "ename": "ZeroDivisionError",
     "evalue": "float division by zero",
     "output_type": "error",
     "traceback": [
      "\u001b[0;31m---------------------------------------------------------------------------\u001b[0m",
      "\u001b[0;31mZeroDivisionError\u001b[0m                         Traceback (most recent call last)",
      "\u001b[0;32m<timed exec>\u001b[0m in \u001b[0;36m<module>\u001b[0;34m\u001b[0m\n",
      "\u001b[0;32m~/dsir/capstone/Notebooks/functions.py\u001b[0m in \u001b[0;36mepochsG\u001b[0;34m(match_history, players_dict, interval_length)\u001b[0m\n\u001b[1;32m    193\u001b[0m         \u001b[0;31m# rating_ period is the df of matches that fall within a given epoch\u001b[0m\u001b[0;34m\u001b[0m\u001b[0;34m\u001b[0m\u001b[0m\n\u001b[1;32m    194\u001b[0m         rating_period = match_history[(match_history['tourney_date']>=period[0])&\n\u001b[0;32m--> 195\u001b[0;31m                                       (match_history['tourney_date']<period[1])]\n\u001b[0m\u001b[1;32m    196\u001b[0m         \u001b[0;31m# If the rating period is empty, then adjust the rating deviation of the players.\u001b[0m\u001b[0;34m\u001b[0m\u001b[0;34m\u001b[0m\u001b[0m\n\u001b[1;32m    197\u001b[0m         \u001b[0;32mif\u001b[0m \u001b[0;32mnot\u001b[0m \u001b[0mrating_period\u001b[0m\u001b[0;34m.\u001b[0m\u001b[0mempty\u001b[0m\u001b[0;34m:\u001b[0m\u001b[0;34m\u001b[0m\u001b[0;34m\u001b[0m\u001b[0m\n",
      "\u001b[0;32m~/dsir/capstone/Notebooks/functions.py\u001b[0m in \u001b[0;36mepochG\u001b[0;34m(matches, players_dict, cutoff_date)\u001b[0m\n\u001b[1;32m    159\u001b[0m \u001b[0;34m\u001b[0m\u001b[0m\n\u001b[1;32m    160\u001b[0m     \u001b[0mratings_timestamp\u001b[0m \u001b[0;34m=\u001b[0m \u001b[0;34m{\u001b[0m\u001b[0;34m}\u001b[0m\u001b[0;34m\u001b[0m\u001b[0;34m\u001b[0m\u001b[0m\n\u001b[0;32m--> 161\u001b[0;31m     \u001b[0;31m# update players\u001b[0m\u001b[0;34m\u001b[0m\u001b[0;34m\u001b[0m\u001b[0m\n\u001b[0m\u001b[1;32m    162\u001b[0m     \u001b[0;32mfor\u001b[0m \u001b[0mplayer\u001b[0m \u001b[0;32min\u001b[0m \u001b[0mlist\u001b[0m\u001b[0;34m(\u001b[0m\u001b[0mresults\u001b[0m\u001b[0;34m.\u001b[0m\u001b[0mkeys\u001b[0m\u001b[0;34m(\u001b[0m\u001b[0;34m)\u001b[0m\u001b[0;34m)\u001b[0m\u001b[0;34m:\u001b[0m\u001b[0;34m\u001b[0m\u001b[0;34m\u001b[0m\u001b[0m\n\u001b[1;32m    163\u001b[0m         \u001b[0;34m(\u001b[0m\u001b[0mrating_list\u001b[0m\u001b[0;34m,\u001b[0m \u001b[0mRD_list\u001b[0m\u001b[0;34m,\u001b[0m \u001b[0moutcome_list\u001b[0m\u001b[0;34m)\u001b[0m \u001b[0;34m=\u001b[0m \u001b[0mresults\u001b[0m\u001b[0;34m[\u001b[0m\u001b[0mplayer\u001b[0m\u001b[0;34m]\u001b[0m\u001b[0;34m\u001b[0m\u001b[0;34m\u001b[0m\u001b[0m\n",
      "\u001b[0;32m~/dsir/capstone/Notebooks/../pyglicko2/glicko2.py\u001b[0m in \u001b[0;36mupdate_player\u001b[0;34m(self, rating_list, RD_list, outcome_list)\u001b[0m\n\u001b[1;32m     74\u001b[0m         \u001b[0mRD_list\u001b[0m \u001b[0;34m=\u001b[0m \u001b[0;34m[\u001b[0m\u001b[0mx\u001b[0m \u001b[0;34m/\u001b[0m \u001b[0;36m173.7178\u001b[0m \u001b[0;32mfor\u001b[0m \u001b[0mx\u001b[0m \u001b[0;32min\u001b[0m \u001b[0mRD_list\u001b[0m\u001b[0;34m]\u001b[0m\u001b[0;34m\u001b[0m\u001b[0;34m\u001b[0m\u001b[0m\n\u001b[1;32m     75\u001b[0m \u001b[0;34m\u001b[0m\u001b[0m\n\u001b[0;32m---> 76\u001b[0;31m         \u001b[0mv\u001b[0m \u001b[0;34m=\u001b[0m \u001b[0mself\u001b[0m\u001b[0;34m.\u001b[0m\u001b[0m_v\u001b[0m\u001b[0;34m(\u001b[0m\u001b[0mrating_list\u001b[0m\u001b[0;34m,\u001b[0m \u001b[0mRD_list\u001b[0m\u001b[0;34m)\u001b[0m\u001b[0;34m\u001b[0m\u001b[0;34m\u001b[0m\u001b[0m\n\u001b[0m\u001b[1;32m     77\u001b[0m         \u001b[0mself\u001b[0m\u001b[0;34m.\u001b[0m\u001b[0mvol\u001b[0m \u001b[0;34m=\u001b[0m \u001b[0mself\u001b[0m\u001b[0;34m.\u001b[0m\u001b[0m_newVol\u001b[0m\u001b[0;34m(\u001b[0m\u001b[0mrating_list\u001b[0m\u001b[0;34m,\u001b[0m \u001b[0mRD_list\u001b[0m\u001b[0;34m,\u001b[0m \u001b[0moutcome_list\u001b[0m\u001b[0;34m,\u001b[0m \u001b[0mv\u001b[0m\u001b[0;34m)\u001b[0m\u001b[0;34m\u001b[0m\u001b[0;34m\u001b[0m\u001b[0m\n\u001b[1;32m     78\u001b[0m         \u001b[0mself\u001b[0m\u001b[0;34m.\u001b[0m\u001b[0m_preRatingRD\u001b[0m\u001b[0;34m(\u001b[0m\u001b[0;34m)\u001b[0m\u001b[0;34m\u001b[0m\u001b[0;34m\u001b[0m\u001b[0m\n",
      "\u001b[0;32m~/dsir/capstone/Notebooks/../pyglicko2/glicko2.py\u001b[0m in \u001b[0;36m_v\u001b[0;34m(self, rating_list, RD_list)\u001b[0m\n\u001b[1;32m    135\u001b[0m             \u001b[0mtempE\u001b[0m \u001b[0;34m=\u001b[0m \u001b[0mself\u001b[0m\u001b[0;34m.\u001b[0m\u001b[0m_E\u001b[0m\u001b[0;34m(\u001b[0m\u001b[0mrating_list\u001b[0m\u001b[0;34m[\u001b[0m\u001b[0mi\u001b[0m\u001b[0;34m]\u001b[0m\u001b[0;34m,\u001b[0m \u001b[0mRD_list\u001b[0m\u001b[0;34m[\u001b[0m\u001b[0mi\u001b[0m\u001b[0;34m]\u001b[0m\u001b[0;34m)\u001b[0m\u001b[0;34m\u001b[0m\u001b[0;34m\u001b[0m\u001b[0m\n\u001b[1;32m    136\u001b[0m             \u001b[0mtempSum\u001b[0m \u001b[0;34m+=\u001b[0m \u001b[0mmath\u001b[0m\u001b[0;34m.\u001b[0m\u001b[0mpow\u001b[0m\u001b[0;34m(\u001b[0m\u001b[0mself\u001b[0m\u001b[0;34m.\u001b[0m\u001b[0m_g\u001b[0m\u001b[0;34m(\u001b[0m\u001b[0mRD_list\u001b[0m\u001b[0;34m[\u001b[0m\u001b[0mi\u001b[0m\u001b[0;34m]\u001b[0m\u001b[0;34m)\u001b[0m\u001b[0;34m,\u001b[0m \u001b[0;36m2\u001b[0m\u001b[0;34m)\u001b[0m \u001b[0;34m*\u001b[0m \u001b[0mtempE\u001b[0m \u001b[0;34m*\u001b[0m \u001b[0;34m(\u001b[0m\u001b[0;36m1\u001b[0m \u001b[0;34m-\u001b[0m \u001b[0mtempE\u001b[0m\u001b[0;34m)\u001b[0m\u001b[0;34m\u001b[0m\u001b[0;34m\u001b[0m\u001b[0m\n\u001b[0;32m--> 137\u001b[0;31m         \u001b[0;32mreturn\u001b[0m \u001b[0;36m1\u001b[0m \u001b[0;34m/\u001b[0m \u001b[0mtempSum\u001b[0m\u001b[0;34m\u001b[0m\u001b[0;34m\u001b[0m\u001b[0m\n\u001b[0m\u001b[1;32m    138\u001b[0m \u001b[0;34m\u001b[0m\u001b[0m\n\u001b[1;32m    139\u001b[0m     \u001b[0;32mdef\u001b[0m \u001b[0m_E\u001b[0m\u001b[0;34m(\u001b[0m\u001b[0mself\u001b[0m\u001b[0;34m,\u001b[0m \u001b[0mp2rating\u001b[0m\u001b[0;34m,\u001b[0m \u001b[0mp2RD\u001b[0m\u001b[0;34m)\u001b[0m\u001b[0;34m:\u001b[0m\u001b[0;34m\u001b[0m\u001b[0;34m\u001b[0m\u001b[0m\n",
      "\u001b[0;31mZeroDivisionError\u001b[0m: float division by zero"
     ]
    }
   ],
   "source": [
    "%%time\n",
    "players_dict,rh = epochsG(matches[eg_batches_50[11][0]:eg_batches_50[11][1]],players_dict,365)\n",
    "ratings_histories += [rh]"
   ]
  },
  {
   "cell_type": "code",
   "execution_count": null,
   "id": "e4147e21-99d0-4dff-b367-4b57f4208e08",
   "metadata": {},
   "outputs": [],
   "source": [
    "b = splitBatch(eg_batches_50[12],2); b0 = b[0]; b1 = b[1]\n",
    "b"
   ]
  },
  {
   "cell_type": "code",
   "execution_count": null,
   "id": "1c4a5e2c-64a4-4828-9699-ba9815454ad6",
   "metadata": {},
   "outputs": [],
   "source": [
    "%%time\n",
    "players_dict,rh = epochsG(matches[b0[0]:b0[1]],players_dict,365)\n",
    "ratings_histories += [rh]"
   ]
  },
  {
   "cell_type": "code",
   "execution_count": null,
   "id": "fd1a6366-afc4-4894-895a-0fbdeda95606",
   "metadata": {},
   "outputs": [],
   "source": [
    "%%time\n",
    "players_dict,rh = epochsG(matches[b1[0]:b1[1]],players_dict,365)\n",
    "ratings_histories += [rh]"
   ]
  },
  {
   "cell_type": "code",
   "execution_count": null,
   "id": "1c10de8f-d383-4dbb-93b2-65b688234fee",
   "metadata": {
    "tags": []
   },
   "outputs": [],
   "source": [
    "%%time\n",
    "players_dict,rh = epochsG(matches[eg_batches_50[13][0]:eg_batches_50[13][1]],players_dict,365)\n",
    "ratings_histories += [rh]"
   ]
  },
  {
   "cell_type": "code",
   "execution_count": null,
   "id": "af4ae5f3-62bb-4d0d-a269-857e15057d3b",
   "metadata": {},
   "outputs": [],
   "source": [
    "b = splitBatch(eg_batches_50[14],2); b0 = b[0]; b1 = b[1]\n",
    "b"
   ]
  },
  {
   "cell_type": "code",
   "execution_count": null,
   "id": "914da7d3-f638-4011-b41c-0dff98534f93",
   "metadata": {},
   "outputs": [],
   "source": [
    "%%time\n",
    "players_dict,rh = epochsG(matches[b0[0]:b0[1]],players_dict,365)\n",
    "ratings_histories += [rh]"
   ]
  },
  {
   "cell_type": "code",
   "execution_count": null,
   "id": "27c065f9-d84a-4d92-873c-ee8de144d712",
   "metadata": {},
   "outputs": [],
   "source": [
    "%%time\n",
    "players_dict,rh = epochsG(matches[b1[0]:b1[1]],players_dict,365)\n",
    "ratings_histories += [rh]"
   ]
  },
  {
   "cell_type": "code",
   "execution_count": null,
   "id": "005d026e-eb88-4d65-9b76-40fd0d23a659",
   "metadata": {},
   "outputs": [],
   "source": [
    "%%time\n",
    "players_dict,rh = epochsG(matches[eg_batches_50[15][0]:eg_batches_50[15][1]],players_dict,365)\n",
    "ratings_histories += [rh]"
   ]
  },
  {
   "cell_type": "code",
   "execution_count": null,
   "id": "1f05850c-f2b6-4765-a747-cd822f49afb4",
   "metadata": {},
   "outputs": [],
   "source": [
    "%%time\n",
    "players_dict,rh = epochsG(matches[eg_batches_50[16][0]:eg_batches_50[16][1]],players_dict,365)\n",
    "ratings_histories += [rh]"
   ]
  },
  {
   "cell_type": "code",
   "execution_count": null,
   "id": "d0157782-055b-42fd-ac6c-ef922881c706",
   "metadata": {},
   "outputs": [],
   "source": [
    "%%time\n",
    "players_dict,rh = epochsG(matches[eg_batches_50[17][0]:eg_batches_50[17][1]],players_dict,365)\n",
    "ratings_histories += [rh]"
   ]
  },
  {
   "cell_type": "code",
   "execution_count": null,
   "id": "f2ff04c8-2a0f-4c73-98ba-e487cee0b820",
   "metadata": {
    "tags": []
   },
   "outputs": [],
   "source": [
    "rh"
   ]
  }
 ],
 "metadata": {
  "kernelspec": {
   "display_name": "Python 3 (ipykernel)",
   "language": "python",
   "name": "python3"
  },
  "language_info": {
   "codemirror_mode": {
    "name": "ipython",
    "version": 3
   },
   "file_extension": ".py",
   "mimetype": "text/x-python",
   "name": "python",
   "nbconvert_exporter": "python",
   "pygments_lexer": "ipython3",
   "version": "3.9.13"
  }
 },
 "nbformat": 4,
 "nbformat_minor": 5
}
