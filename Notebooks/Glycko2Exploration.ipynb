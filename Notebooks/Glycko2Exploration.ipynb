{
 "cells": [
  {
   "cell_type": "code",
   "execution_count": 6,
   "id": "cf4b92fa-d27b-47e2-b481-ee6467d87a22",
   "metadata": {},
   "outputs": [],
   "source": [
    "import pandas as pd\n",
    "from functions import assembleDf, epochG, epochsG\n",
    "from datetime import datetime, timedelta\n",
    "import numpy as np\n",
    "import sys\n",
    "sys.path.append('..')\n",
    "from pyglicko2.glicko2_tests import exampleCase\n",
    "from pyglicko2.glicko2 import Player\n",
    "import glicko2\n",
    "import time\n"
   ]
  },
  {
   "cell_type": "code",
   "execution_count": 4,
   "id": "b2967aa4-0a53-4720-9eee-272a296b5dd1",
   "metadata": {},
   "outputs": [],
   "source": [
    "matches = pd.read_csv('../Data/matches_glicko2.csv',parse_dates = ['tourney_date'], \n",
    "                      infer_datetime_format = True)"
   ]
  },
  {
   "cell_type": "code",
   "execution_count": 7,
   "id": "d6ef85e9-4fc2-4203-a104-11c847e31a8d",
   "metadata": {},
   "outputs": [
    {
     "data": {
      "text/plain": [
       "({113953: <pyglicko2.glicko2.Player at 0x7fe3b0e2e820>,\n",
       "  114146: <pyglicko2.glicko2.Player at 0x7fe3b0e2e790>,\n",
       "  113987: <pyglicko2.glicko2.Player at 0x7fe381cdc8b0>,\n",
       "  114147: <pyglicko2.glicko2.Player at 0x7fe381cdc490>,\n",
       "  114149: <pyglicko2.glicko2.Player at 0x7fe381cdc520>,\n",
       "  114154: <pyglicko2.glicko2.Player at 0x7fe381cdc2b0>,\n",
       "  113963: <pyglicko2.glicko2.Player at 0x7fe381cdcbb0>,\n",
       "  114158: <pyglicko2.glicko2.Player at 0x7fe381cdc2e0>,\n",
       "  113999: <pyglicko2.glicko2.Player at 0x7fe381cdcf70>,\n",
       "  113976: <pyglicko2.glicko2.Player at 0x7fe381cdcb80>,\n",
       "  113982: <pyglicko2.glicko2.Player at 0x7fe381cdc130>},\n",
       " {(113987, Timestamp('1877-07-09 00:00:00')): (1799.6258356900184,\n",
       "   227.73541461924287),\n",
       "  (113963, Timestamp('1877-07-09 00:00:00')): (1599.8752635134226,\n",
       "   227.73539746084663),\n",
       "  (113999, Timestamp('1877-07-09 00:00:00')): (1599.8752635134226,\n",
       "   227.73539746084663),\n",
       "  (114158, Timestamp('1877-07-09 00:00:00')): (1500.0, 253.4045963894164),\n",
       "  (114149, Timestamp('1877-07-09 00:00:00')): (1662.3108949741131,\n",
       "   290.31896467295957),\n",
       "  (113953, Timestamp('1877-07-09 00:00:00')): (1337.6891050258869,\n",
       "   290.31896467295957),\n",
       "  (113976, Timestamp('1877-07-09 00:00:00')): (1337.6891050258869,\n",
       "   290.31896467295957),\n",
       "  (114154, Timestamp('1877-07-09 00:00:00')): (1337.6891050258869,\n",
       "   290.31896467295957),\n",
       "  (114147, Timestamp('1877-07-09 00:00:00')): (1337.6891050258869,\n",
       "   290.31896467295957),\n",
       "  (114146, Timestamp('1877-07-09 00:00:00')): (1337.6891050258869,\n",
       "   290.31896467295957),\n",
       "  (113982, Timestamp('1877-07-09 00:00:00')): (1337.6891050258869,\n",
       "   290.31896467295957)})"
      ]
     },
     "execution_count": 7,
     "metadata": {},
     "output_type": "execute_result"
    }
   ],
   "source": [
    "epochG(matches[1:10],{},matches.iloc[10]['tourney_date'])"
   ]
  },
  {
   "cell_type": "code",
   "execution_count": null,
   "id": "9b9d0883-44b7-4122-9df5-0824da531feb",
   "metadata": {},
   "outputs": [],
   "source": [
    "epochsG(matches[250_000:400_000],365)"
   ]
  },
  {
   "cell_type": "markdown",
   "id": "e4c6cf3c-f5be-4176-90e7-fd2365571853",
   "metadata": {},
   "source": [
    "note: it's not yet clear how to compute win probabilities from the glicko2 rating system."
   ]
  },
  {
   "cell_type": "code",
   "execution_count": null,
   "id": "343d3451-c0af-4cb5-bda4-eb518aa409ed",
   "metadata": {},
   "outputs": [],
   "source": [
    "range(0,max(matches.index),100)"
   ]
  },
  {
   "cell_type": "code",
   "execution_count": 78,
   "id": "50aa1692-9fd6-4bf9-9c15-a42ddfbeef19",
   "metadata": {},
   "outputs": [
    {
     "name": "stdout",
     "output_type": "stream",
     "text": [
      "9.954494953155518\n",
      "CPU times: user 9.92 s, sys: 41.5 ms, total: 9.96 s\n",
      "Wall time: 9.95 s\n"
     ]
    }
   ],
   "source": [
    "%%time\n",
    "start = time.time()\n",
    "pd,rh = epochsG(matches[0:100_000],180)\n",
    "compute_time = time.time()-start\n",
    "print(compute_time)\n"
   ]
  },
  {
   "cell_type": "code",
   "execution_count": 1,
   "id": "b2276937-358e-4ee0-bc5f-e1508b41a4b0",
   "metadata": {},
   "outputs": [
    {
     "ename": "NameError",
     "evalue": "name 'rh' is not defined",
     "output_type": "error",
     "traceback": [
      "\u001b[0;31m---------------------------------------------------------------------------\u001b[0m",
      "\u001b[0;31mNameError\u001b[0m                                 Traceback (most recent call last)",
      "\u001b[0;32m/var/folders/7q/63cgxnn50sl5zwxkchv_j2cr0000gn/T/ipykernel_4243/3556584019.py\u001b[0m in \u001b[0;36m<module>\u001b[0;34m\u001b[0m\n\u001b[0;32m----> 1\u001b[0;31m \u001b[0mrh\u001b[0m\u001b[0;34m\u001b[0m\u001b[0;34m\u001b[0m\u001b[0m\n\u001b[0m",
      "\u001b[0;31mNameError\u001b[0m: name 'rh' is not defined"
     ]
    }
   ],
   "source": [
    "rh"
   ]
  }
 ],
 "metadata": {
  "kernelspec": {
   "display_name": "Python 3 (ipykernel)",
   "language": "python",
   "name": "python3"
  },
  "language_info": {
   "codemirror_mode": {
    "name": "ipython",
    "version": 3
   },
   "file_extension": ".py",
   "mimetype": "text/x-python",
   "name": "python",
   "nbconvert_exporter": "python",
   "pygments_lexer": "ipython3",
   "version": "3.9.13"
  }
 },
 "nbformat": 4,
 "nbformat_minor": 5
}
