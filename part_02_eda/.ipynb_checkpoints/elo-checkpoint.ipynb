{
 "cells": [
  {
   "cell_type": "markdown",
   "id": "ee36794d-7a06-4442-a62d-a1f2a685cc16",
   "metadata": {
    "jp-MarkdownHeadingCollapsed": true,
    "tags": []
   },
   "source": [
    "[elo-from-scratch-source-Matt_Mazzola](https://mattmazzola.medium.com/implementing-the-elo-rating-system-a085f178e065)"
   ]
  },
  {
   "cell_type": "markdown",
   "id": "7bb8b4b7-a5c1-4857-adca-327bb3604b90",
   "metadata": {},
   "source": [
    "[player class source](https://towardsdatascience.com/rating-sports-teams-elo-vs-win-loss-d46ee57c1314)"
   ]
  },
  {
   "cell_type": "code",
   "execution_count": null,
   "id": "2de33b75-d409-4b47-a34f-edaccb7da88e",
   "metadata": {},
   "outputs": [],
   "source": []
  },
  {
   "cell_type": "code",
   "execution_count": null,
   "id": "f9f9d964-23d1-4091-988b-0617172174b7",
   "metadata": {},
   "outputs": [],
   "source": [
    "class Player(object):\n",
    "    \"\"\"Player Object\"\"\"\n",
    "    def __init__(self, name, rtg, elo, nudge):\n",
    "        super(Player, self).__init__()\n",
    "        self.name = name\n",
    "        # true rating\n",
    "        self.rtg = rtg\n",
    "        # elo rating\n",
    "        self.elo = elo\n",
    "        # wins, losses, ties\n",
    "        self.wins = 0\n",
    "        self.losses = 0\n",
    "        self.ties = 0\n",
    "        self.games_played = 0\n",
    "        # how much to nudge ratings\n",
    "        self.nudge = nudge\n",
    "    def nudge_rating(self):\n",
    "        # decide to nudge up or down\n",
    "        direction = random.randint(0,1)\n",
    "        if direction == 0:\n",
    "            self.rtg += self.nudge\n",
    "        else:\n",
    "            self.rtg -= self.nudge\n",
    "    def add_win(self):\n",
    "        self.wins += 1\n",
    "    def add_loss(self):\n",
    "        self.losses += 1\n",
    "    def add_tie(self):\n",
    "        self.ties += 1\n",
    "    def played_game(self):\n",
    "        self.games_played += 1"
   ]
  },
  {
   "cell_type": "markdown",
   "id": "60578127-6614-4f5e-bb58-90c5b5048e9a",
   "metadata": {},
   "source": [
    "###### self-made player class"
   ]
  },
  {
   "cell_type": "markdown",
   "id": "2644ffa9-aa8d-4af4-94f4-24b93fa8736e",
   "metadata": {},
   "source": [
    "I will attempt to create a bare-bones class with all the necessary elements for generating an elo rating."
   ]
  },
  {
   "cell_type": "code",
   "execution_count": null,
   "id": "274c8f11-fcc6-4f53-a46d-3a99b040d70b",
   "metadata": {},
   "outputs": [],
   "source": [
    "# class tennis_history"
   ]
  },
  {
   "cell_type": "code",
   "execution_count": null,
   "id": "3bc06fae-8107-4472-862e-40ca12ae0899",
   "metadata": {},
   "outputs": [],
   "source": [
    "# class tournament"
   ]
  },
  {
   "cell_type": "code",
   "execution_count": null,
   "id": "8c96e644-0ba4-4a4c-a2db-916ca71cfbd9",
   "metadata": {},
   "outputs": [],
   "source": [
    "# class match(competitor1, competitor2):"
   ]
  },
  {
   "cell_type": "code",
   "execution_count": null,
   "id": "c829aed8-1314-45c3-89d5-8abb0b9c5a89",
   "metadata": {},
   "outputs": [],
   "source": [
    "class Competitor(object)\n",
    "    def __init__(self,player_id,elo_rtg\n",
    "                )"
   ]
  },
  {
   "cell_type": "markdown",
   "id": "02207e31-3f5c-4e68-8a78-46596399e643",
   "metadata": {},
   "source": [
    "[explanation of logistic from normal](https://stats.stackexchange.com/questions/459166/where-does-the-logistic-function-come-from/467427#467427)\n",
    "\n",
    "@MISC {467427,\n",
    "    TITLE = {Where does the logistic function come from?},\n",
    "    AUTHOR = {Igor F. (https://stats.stackexchange.com/users/169343/igor-f)},\n",
    "    HOWPUBLISHED = {Cross Validated},\n",
    "    NOTE = {URL:https://stats.stackexchange.com/q/467427 (version: 2020-05-21)},\n",
    "    EPRINT = {https://stats.stackexchange.com/q/467427},\n",
    "    URL = {https://stats.stackexchange.com/q/467427}\n",
    "}"
   ]
  }
 ],
 "metadata": {
  "kernelspec": {
   "display_name": "Python 3 (ipykernel)",
   "language": "python",
   "name": "python3"
  },
  "language_info": {
   "codemirror_mode": {
    "name": "ipython",
    "version": 3
   },
   "file_extension": ".py",
   "mimetype": "text/x-python",
   "name": "python",
   "nbconvert_exporter": "python",
   "pygments_lexer": "ipython3",
   "version": "3.9.13"
  }
 },
 "nbformat": 4,
 "nbformat_minor": 5
}
