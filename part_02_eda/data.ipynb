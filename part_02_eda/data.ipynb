{
 "cells": [
  {
   "cell_type": "markdown",
   "id": "c21f4a58-767c-4b09-baf5-fe65e18d998d",
   "metadata": {},
   "source": [
    "###### Imports"
   ]
  },
  {
   "cell_type": "code",
   "execution_count": 2,
   "id": "bdfbc4b8-2d57-4c55-bfbe-d5d54b21ea90",
   "metadata": {},
   "outputs": [],
   "source": [
    "import pandas as pd\n",
    "import glob"
   ]
  },
  {
   "cell_type": "markdown",
   "id": "eb53e13f-d7ed-4632-8233-787db2d6c28c",
   "metadata": {},
   "source": [
    "[data source](<a rel=\"license\" href=\"http://creativecommons.org/licenses/by-nc-sa/4.0/\"><img alt=\"Creative Commons License\" style=\"border-width:0\" src=\"https://i.creativecommons.org/l/by-nc-sa/4.0/88x31.png\" /></a><br /><span xmlns:dct=\"http://purl.org/dc/terms/\" href=\"http://purl.org/dc/dcmitype/Dataset\" property=\"dct:title\" rel=\"dct:type\">Tennis databases, files, and algorithms</span> by <a xmlns:cc=\"http://creativecommons.org/ns#\" href=\"http://www.tennisabstract.com/\" property=\"cc:attributionName\" rel=\"cc:attributionURL\">Jeff Sackmann / Tennis Abstract</a> is licensed under a <a rel=\"license\" href=\"http://creativecommons.org/licenses/by-nc-sa/4.0/\">Creative Commons Attribution-NonCommercial-ShareAlike 4.0 International License</a>.<br />Based on a work at <a xmlns:dct=\"http://purl.org/dc/terms/\" href=\"https://github.com/JeffSackmann\" rel=\"dct:source\">https://github.com/JeffSackmann</a>)"
   ]
  },
  {
   "cell_type": "markdown",
   "id": "6a774b3b-d3b8-4614-8af3-3933c4a4fab6",
   "metadata": {},
   "source": [
    "Since the data license is non-commercial, this is a proof-of-concept project and cannot be immediately applied to commercial use."
   ]
  },
  {
   "cell_type": "code",
   "execution_count": 3,
   "id": "0c2ee5db-4bef-4eab-b45f-4cf1617a3b72",
   "metadata": {
    "tags": []
   },
   "outputs": [],
   "source": [
    "matches_1968 = pd.read_csv('../tennis_atp/atp_matches_1968.csv')"
   ]
  },
  {
   "cell_type": "code",
   "execution_count": 4,
   "id": "8b035db5-2d2f-4f6f-8fa7-907064121b1a",
   "metadata": {},
   "outputs": [],
   "source": [
    "atp_matches = glob.glob('../tennis_atp/atp_matches*.csv')"
   ]
  },
  {
   "cell_type": "code",
   "execution_count": 5,
   "id": "453b5e25-e72d-4901-b2eb-48a51ceb90ee",
   "metadata": {},
   "outputs": [],
   "source": [
    "atp_matches_regular = [file for file in atp_matches if \n",
    "                       len(file)== len('../tennis_atp/atp_matches_2019.csv')]\n",
    "atp_matches_regular.sort()\n"
   ]
  },
  {
   "cell_type": "code",
   "execution_count": 6,
   "id": "c26713d5-0c58-4b32-a3f5-0602ed7fad60",
   "metadata": {},
   "outputs": [],
   "source": [
    "matches = pd.read_csv(atp_matches_regular[0])\n",
    "for file in atp_matches_regular[1:]:\n",
    "    matches = pd.concat([matches,pd.read_csv(file)])"
   ]
  },
  {
   "cell_type": "code",
   "execution_count": 7,
   "id": "4f4f80f8-4098-46ac-9138-01740e8de237",
   "metadata": {},
   "outputs": [],
   "source": [
    "players = pd.read_csv('../tennis_atp/atp_players.csv')"
   ]
  },
  {
   "cell_type": "code",
   "execution_count": 8,
   "id": "0426c781-4b9f-4701-a5a8-d230955a5408",
   "metadata": {},
   "outputs": [
    {
     "data": {
      "text/html": [
       "<div>\n",
       "<style scoped>\n",
       "    .dataframe tbody tr th:only-of-type {\n",
       "        vertical-align: middle;\n",
       "    }\n",
       "\n",
       "    .dataframe tbody tr th {\n",
       "        vertical-align: top;\n",
       "    }\n",
       "\n",
       "    .dataframe thead th {\n",
       "        text-align: right;\n",
       "    }\n",
       "</style>\n",
       "<table border=\"1\" class=\"dataframe\">\n",
       "  <thead>\n",
       "    <tr style=\"text-align: right;\">\n",
       "      <th></th>\n",
       "      <th>player_id</th>\n",
       "      <th>name_first</th>\n",
       "      <th>name_last</th>\n",
       "      <th>hand</th>\n",
       "      <th>dob</th>\n",
       "      <th>ioc</th>\n",
       "      <th>height</th>\n",
       "      <th>wikidata_id</th>\n",
       "    </tr>\n",
       "  </thead>\n",
       "  <tbody>\n",
       "    <tr>\n",
       "      <th>0</th>\n",
       "      <td>100001</td>\n",
       "      <td>Gardnar</td>\n",
       "      <td>Mulloy</td>\n",
       "      <td>R</td>\n",
       "      <td>19131122</td>\n",
       "      <td>USA</td>\n",
       "      <td>185.0</td>\n",
       "      <td>Q54544</td>\n",
       "    </tr>\n",
       "    <tr>\n",
       "      <th>1</th>\n",
       "      <td>100002</td>\n",
       "      <td>Pancho</td>\n",
       "      <td>Segura</td>\n",
       "      <td>R</td>\n",
       "      <td>19210620</td>\n",
       "      <td>ECU</td>\n",
       "      <td>168.0</td>\n",
       "      <td>Q54581</td>\n",
       "    </tr>\n",
       "    <tr>\n",
       "      <th>2</th>\n",
       "      <td>100003</td>\n",
       "      <td>Frank</td>\n",
       "      <td>Sedgman</td>\n",
       "      <td>R</td>\n",
       "      <td>19271002</td>\n",
       "      <td>AUS</td>\n",
       "      <td>180.0</td>\n",
       "      <td>Q962049</td>\n",
       "    </tr>\n",
       "    <tr>\n",
       "      <th>3</th>\n",
       "      <td>100004</td>\n",
       "      <td>Giuseppe</td>\n",
       "      <td>Merlo</td>\n",
       "      <td>R</td>\n",
       "      <td>19271011</td>\n",
       "      <td>ITA</td>\n",
       "      <td>NaN</td>\n",
       "      <td>Q1258752</td>\n",
       "    </tr>\n",
       "    <tr>\n",
       "      <th>4</th>\n",
       "      <td>100005</td>\n",
       "      <td>Richard</td>\n",
       "      <td>Gonzalez</td>\n",
       "      <td>R</td>\n",
       "      <td>19280509</td>\n",
       "      <td>USA</td>\n",
       "      <td>188.0</td>\n",
       "      <td>Q53554</td>\n",
       "    </tr>\n",
       "    <tr>\n",
       "      <th>...</th>\n",
       "      <td>...</td>\n",
       "      <td>...</td>\n",
       "      <td>...</td>\n",
       "      <td>...</td>\n",
       "      <td>...</td>\n",
       "      <td>...</td>\n",
       "      <td>...</td>\n",
       "      <td>...</td>\n",
       "    </tr>\n",
       "    <tr>\n",
       "      <th>56802</th>\n",
       "      <td>211770</td>\n",
       "      <td>Venedikt</td>\n",
       "      <td>Tsirikidze</td>\n",
       "      <td>U</td>\n",
       "      <td>NaN</td>\n",
       "      <td>RUS</td>\n",
       "      <td>NaN</td>\n",
       "      <td>NaN</td>\n",
       "    </tr>\n",
       "    <tr>\n",
       "      <th>56803</th>\n",
       "      <td>211771</td>\n",
       "      <td>Caelan</td>\n",
       "      <td>Potts</td>\n",
       "      <td>U</td>\n",
       "      <td>NaN</td>\n",
       "      <td>NZL</td>\n",
       "      <td>NaN</td>\n",
       "      <td>NaN</td>\n",
       "    </tr>\n",
       "    <tr>\n",
       "      <th>56804</th>\n",
       "      <td>211772</td>\n",
       "      <td>Tiago</td>\n",
       "      <td>Pires</td>\n",
       "      <td>U</td>\n",
       "      <td>NaN</td>\n",
       "      <td>FRA</td>\n",
       "      <td>NaN</td>\n",
       "      <td>NaN</td>\n",
       "    </tr>\n",
       "    <tr>\n",
       "      <th>56805</th>\n",
       "      <td>211773</td>\n",
       "      <td>Mohamed El Hafedh</td>\n",
       "      <td>Said</td>\n",
       "      <td>U</td>\n",
       "      <td>NaN</td>\n",
       "      <td>MRT</td>\n",
       "      <td>NaN</td>\n",
       "      <td>NaN</td>\n",
       "    </tr>\n",
       "    <tr>\n",
       "      <th>56806</th>\n",
       "      <td>211774</td>\n",
       "      <td>Ryotaro</td>\n",
       "      <td>Taguchi</td>\n",
       "      <td>U</td>\n",
       "      <td>NaN</td>\n",
       "      <td>JPN</td>\n",
       "      <td>NaN</td>\n",
       "      <td>NaN</td>\n",
       "    </tr>\n",
       "  </tbody>\n",
       "</table>\n",
       "<p>56807 rows × 8 columns</p>\n",
       "</div>"
      ],
      "text/plain": [
       "       player_id         name_first   name_last hand       dob  ioc  height  \\\n",
       "0         100001            Gardnar      Mulloy    R  19131122  USA   185.0   \n",
       "1         100002             Pancho      Segura    R  19210620  ECU   168.0   \n",
       "2         100003              Frank     Sedgman    R  19271002  AUS   180.0   \n",
       "3         100004           Giuseppe       Merlo    R  19271011  ITA     NaN   \n",
       "4         100005            Richard    Gonzalez    R  19280509  USA   188.0   \n",
       "...          ...                ...         ...  ...       ...  ...     ...   \n",
       "56802     211770           Venedikt  Tsirikidze    U       NaN  RUS     NaN   \n",
       "56803     211771             Caelan       Potts    U       NaN  NZL     NaN   \n",
       "56804     211772              Tiago       Pires    U       NaN  FRA     NaN   \n",
       "56805     211773  Mohamed El Hafedh        Said    U       NaN  MRT     NaN   \n",
       "56806     211774            Ryotaro     Taguchi    U       NaN  JPN     NaN   \n",
       "\n",
       "      wikidata_id  \n",
       "0          Q54544  \n",
       "1          Q54581  \n",
       "2         Q962049  \n",
       "3        Q1258752  \n",
       "4          Q53554  \n",
       "...           ...  \n",
       "56802         NaN  \n",
       "56803         NaN  \n",
       "56804         NaN  \n",
       "56805         NaN  \n",
       "56806         NaN  \n",
       "\n",
       "[56807 rows x 8 columns]"
      ]
     },
     "execution_count": 8,
     "metadata": {},
     "output_type": "execute_result"
    }
   ],
   "source": [
    "players"
   ]
  },
  {
   "cell_type": "code",
   "execution_count": 9,
   "id": "d19c507f-8e6b-42d8-a48e-14f7339b114c",
   "metadata": {},
   "outputs": [
    {
     "data": {
      "text/plain": [
       "player_id          0\n",
       "name_first       175\n",
       "name_last         42\n",
       "hand             243\n",
       "dob            11863\n",
       "ioc               54\n",
       "height         54024\n",
       "wikidata_id    51915\n",
       "dtype: int64"
      ]
     },
     "execution_count": 9,
     "metadata": {},
     "output_type": "execute_result"
    }
   ],
   "source": [
    "players.isna().sum()"
   ]
  },
  {
   "cell_type": "code",
   "execution_count": 10,
   "id": "8010b113-4714-4cac-b03a-d549744570c6",
   "metadata": {},
   "outputs": [
    {
     "data": {
      "text/plain": [
       "(188167, 49)"
      ]
     },
     "execution_count": 10,
     "metadata": {},
     "output_type": "execute_result"
    }
   ],
   "source": [
    "matches.shape"
   ]
  },
  {
   "cell_type": "code",
   "execution_count": 11,
   "id": "f576dd6a-2f16-4620-91e7-833f49dc99ba",
   "metadata": {
    "tags": []
   },
   "outputs": [
    {
     "data": {
      "text/plain": [
       "tourney_id                 0\n",
       "tourney_name               0\n",
       "surface                 2317\n",
       "draw_size                  0\n",
       "tourney_level              0\n",
       "tourney_date               0\n",
       "match_num                  0\n",
       "winner_id                  0\n",
       "winner_seed           118457\n",
       "winner_entry          171897\n",
       "winner_name                0\n",
       "winner_hand               16\n",
       "winner_ht              16301\n",
       "winner_ioc                10\n",
       "winner_age              1489\n",
       "loser_id                   0\n",
       "loser_seed            152823\n",
       "loser_entry           160439\n",
       "loser_name                 0\n",
       "loser_hand                62\n",
       "loser_ht               28768\n",
       "loser_ioc                 66\n",
       "loser_age               5138\n",
       "score                      8\n",
       "best_of                    0\n",
       "round                      0\n",
       "minutes                98657\n",
       "w_ace                  95948\n",
       "w_df                   95949\n",
       "w_svpt                 95949\n",
       "w_1stIn                95949\n",
       "w_1stWon               95949\n",
       "w_2ndWon               95949\n",
       "w_SvGms                95948\n",
       "w_bpSaved              95949\n",
       "w_bpFaced              95949\n",
       "l_ace                  95949\n",
       "l_df                   95948\n",
       "l_svpt                 95949\n",
       "l_1stIn                95949\n",
       "l_1stWon               95949\n",
       "l_2ndWon               95949\n",
       "l_SvGms                95948\n",
       "l_bpSaved              95949\n",
       "l_bpFaced              95949\n",
       "winner_rank            34912\n",
       "winner_rank_points     82113\n",
       "loser_rank             43244\n",
       "loser_rank_points      83697\n",
       "dtype: int64"
      ]
     },
     "execution_count": 11,
     "metadata": {},
     "output_type": "execute_result"
    }
   ],
   "source": [
    "matches.isna().sum()"
   ]
  },
  {
   "cell_type": "markdown",
   "id": "57b9fd06-1a84-4731-bf9d-9c20b5485291",
   "metadata": {},
   "source": [
    "All matches have a winner and loser id, which indicates that all the datapoints can be used for determining the elo ranking.  There is a good amount of standing rank data, suggesting that this data can be used for testing the relative strength of standard ranking vs elo rating in predicting outcomes."
   ]
  },
  {
   "cell_type": "code",
   "execution_count": 12,
   "id": "146b129a-fc0e-4c02-b5ed-6869240b9df4",
   "metadata": {},
   "outputs": [
    {
     "data": {
      "text/plain": [
       "(188167, 49)"
      ]
     },
     "execution_count": 12,
     "metadata": {},
     "output_type": "execute_result"
    }
   ],
   "source": [
    "matches.shape"
   ]
  },
  {
   "cell_type": "markdown",
   "id": "9e4b41c1-edf5-47ad-b390-8164c2fa81d9",
   "metadata": {},
   "source": [
    "Idea: map real rankings to expected elo"
   ]
  },
  {
   "cell_type": "code",
   "execution_count": null,
   "id": "10011698-82e1-4eb4-a8e3-f48aafd19985",
   "metadata": {},
   "outputs": [],
   "source": []
  },
  {
   "cell_type": "code",
   "execution_count": null,
   "id": "8cf6447e-98e9-4cb9-b151-0fbc32e723b3",
   "metadata": {},
   "outputs": [],
   "source": []
  }
 ],
 "metadata": {
  "kernelspec": {
   "display_name": "Python 3 (ipykernel)",
   "language": "python",
   "name": "python3"
  },
  "language_info": {
   "codemirror_mode": {
    "name": "ipython",
    "version": 3
   },
   "file_extension": ".py",
   "mimetype": "text/x-python",
   "name": "python",
   "nbconvert_exporter": "python",
   "pygments_lexer": "ipython3",
   "version": "3.9.13"
  }
 },
 "nbformat": 4,
 "nbformat_minor": 5
}
